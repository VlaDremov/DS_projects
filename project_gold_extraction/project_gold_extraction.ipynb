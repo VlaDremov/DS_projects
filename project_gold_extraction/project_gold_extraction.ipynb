{
 "cells": [
  {
   "cell_type": "markdown",
   "metadata": {
    "toc": true
   },
   "source": [
    "<h1>Содержание<span class=\"tocSkip\"></span></h1>\n",
    "<div class=\"toc\"><ul class=\"toc-item\"><li><span><a href=\"#Подготовка-данных\" data-toc-modified-id=\"Подготовка-данных-1\"><span class=\"toc-item-num\">1&nbsp;&nbsp;</span>Подготовка данных</a></span></li><li><span><a href=\"#Анализ-данных\" data-toc-modified-id=\"Анализ-данных-2\"><span class=\"toc-item-num\">2&nbsp;&nbsp;</span>Анализ данных</a></span></li><li><span><a href=\"#Модель\" data-toc-modified-id=\"Модель-3\"><span class=\"toc-item-num\">3&nbsp;&nbsp;</span>Модель</a></span></li></ul></div>"
   ]
  },
  {
   "cell_type": "markdown",
   "metadata": {},
   "source": [
    "# Восстановление золота из руды"
   ]
  },
  {
   "cell_type": "markdown",
   "metadata": {},
   "source": [
    "Подготовьте прототип модели машинного обучения для «Цифры». Компания разрабатывает решения для эффективной работы промышленных предприятий.\n",
    "\n",
    "Модель должна предсказать коэффициент восстановления золота из золотосодержащей руды. Используйте данные с параметрами добычи и очистки. \n",
    "\n",
    "Модель поможет оптимизировать производство, чтобы не запускать предприятие с убыточными характеристиками.\n",
    "\n",
    "Вам нужно:\n",
    "\n",
    "1. Подготовить данные;\n",
    "2. Провести исследовательский анализ данных;\n",
    "3. Построить и обучить модель.\n",
    "\n",
    "Чтобы выполнить проект, обращайтесь к библиотекам *pandas*, *matplotlib* и *sklearn.* Вам поможет их документация."
   ]
  },
  {
   "cell_type": "markdown",
   "metadata": {},
   "source": [
    "## Подготовка данных"
   ]
  },
  {
   "cell_type": "code",
   "execution_count": 1,
   "metadata": {
    "scrolled": true
   },
   "outputs": [
    {
     "name": "stdout",
     "output_type": "stream",
     "text": [
      "shape df train: (16860, 87)\n",
      "shape df test: (5856, 53)\n",
      "shape df full: (22716, 87)\n",
      "<class 'pandas.core.frame.DataFrame'>\n",
      "RangeIndex: 16860 entries, 0 to 16859\n",
      "Data columns (total 87 columns):\n",
      "date                                                  16860 non-null object\n",
      "final.output.concentrate_ag                           16788 non-null float64\n",
      "final.output.concentrate_pb                           16788 non-null float64\n",
      "final.output.concentrate_sol                          16490 non-null float64\n",
      "final.output.concentrate_au                           16789 non-null float64\n",
      "final.output.recovery                                 15339 non-null float64\n",
      "final.output.tail_ag                                  16794 non-null float64\n",
      "final.output.tail_pb                                  16677 non-null float64\n",
      "final.output.tail_sol                                 16715 non-null float64\n",
      "final.output.tail_au                                  16794 non-null float64\n",
      "primary_cleaner.input.sulfate                         15553 non-null float64\n",
      "primary_cleaner.input.depressant                      15598 non-null float64\n",
      "primary_cleaner.input.feed_size                       16860 non-null float64\n",
      "primary_cleaner.input.xanthate                        15875 non-null float64\n",
      "primary_cleaner.output.concentrate_ag                 16778 non-null float64\n",
      "primary_cleaner.output.concentrate_pb                 16502 non-null float64\n",
      "primary_cleaner.output.concentrate_sol                16224 non-null float64\n",
      "primary_cleaner.output.concentrate_au                 16778 non-null float64\n",
      "primary_cleaner.output.tail_ag                        16777 non-null float64\n",
      "primary_cleaner.output.tail_pb                        16761 non-null float64\n",
      "primary_cleaner.output.tail_sol                       16579 non-null float64\n",
      "primary_cleaner.output.tail_au                        16777 non-null float64\n",
      "primary_cleaner.state.floatbank8_a_air                16820 non-null float64\n",
      "primary_cleaner.state.floatbank8_a_level              16827 non-null float64\n",
      "primary_cleaner.state.floatbank8_b_air                16820 non-null float64\n",
      "primary_cleaner.state.floatbank8_b_level              16833 non-null float64\n",
      "primary_cleaner.state.floatbank8_c_air                16822 non-null float64\n",
      "primary_cleaner.state.floatbank8_c_level              16833 non-null float64\n",
      "primary_cleaner.state.floatbank8_d_air                16821 non-null float64\n",
      "primary_cleaner.state.floatbank8_d_level              16833 non-null float64\n",
      "rougher.calculation.sulfate_to_au_concentrate         16833 non-null float64\n",
      "rougher.calculation.floatbank10_sulfate_to_au_feed    16833 non-null float64\n",
      "rougher.calculation.floatbank11_sulfate_to_au_feed    16833 non-null float64\n",
      "rougher.calculation.au_pb_ratio                       15618 non-null float64\n",
      "rougher.input.feed_ag                                 16778 non-null float64\n",
      "rougher.input.feed_pb                                 16632 non-null float64\n",
      "rougher.input.feed_rate                               16347 non-null float64\n",
      "rougher.input.feed_size                               16443 non-null float64\n",
      "rougher.input.feed_sol                                16568 non-null float64\n",
      "rougher.input.feed_au                                 16777 non-null float64\n",
      "rougher.input.floatbank10_sulfate                     15816 non-null float64\n",
      "rougher.input.floatbank10_xanthate                    16514 non-null float64\n",
      "rougher.input.floatbank11_sulfate                     16237 non-null float64\n",
      "rougher.input.floatbank11_xanthate                    14956 non-null float64\n",
      "rougher.output.concentrate_ag                         16778 non-null float64\n",
      "rougher.output.concentrate_pb                         16778 non-null float64\n",
      "rougher.output.concentrate_sol                        16698 non-null float64\n",
      "rougher.output.concentrate_au                         16778 non-null float64\n",
      "rougher.output.recovery                               14287 non-null float64\n",
      "rougher.output.tail_ag                                14610 non-null float64\n",
      "rougher.output.tail_pb                                16778 non-null float64\n",
      "rougher.output.tail_sol                               14611 non-null float64\n",
      "rougher.output.tail_au                                14611 non-null float64\n",
      "rougher.state.floatbank10_a_air                       16807 non-null float64\n",
      "rougher.state.floatbank10_a_level                     16807 non-null float64\n",
      "rougher.state.floatbank10_b_air                       16807 non-null float64\n",
      "rougher.state.floatbank10_b_level                     16807 non-null float64\n",
      "rougher.state.floatbank10_c_air                       16807 non-null float64\n",
      "rougher.state.floatbank10_c_level                     16814 non-null float64\n",
      "rougher.state.floatbank10_d_air                       16802 non-null float64\n",
      "rougher.state.floatbank10_d_level                     16809 non-null float64\n",
      "rougher.state.floatbank10_e_air                       16257 non-null float64\n",
      "rougher.state.floatbank10_e_level                     16809 non-null float64\n",
      "rougher.state.floatbank10_f_air                       16802 non-null float64\n",
      "rougher.state.floatbank10_f_level                     16802 non-null float64\n",
      "secondary_cleaner.output.tail_ag                      16776 non-null float64\n",
      "secondary_cleaner.output.tail_pb                      16764 non-null float64\n",
      "secondary_cleaner.output.tail_sol                     14874 non-null float64\n",
      "secondary_cleaner.output.tail_au                      16778 non-null float64\n",
      "secondary_cleaner.state.floatbank2_a_air              16497 non-null float64\n",
      "secondary_cleaner.state.floatbank2_a_level            16751 non-null float64\n",
      "secondary_cleaner.state.floatbank2_b_air              16705 non-null float64\n",
      "secondary_cleaner.state.floatbank2_b_level            16748 non-null float64\n",
      "secondary_cleaner.state.floatbank3_a_air              16763 non-null float64\n",
      "secondary_cleaner.state.floatbank3_a_level            16747 non-null float64\n",
      "secondary_cleaner.state.floatbank3_b_air              16752 non-null float64\n",
      "secondary_cleaner.state.floatbank3_b_level            16750 non-null float64\n",
      "secondary_cleaner.state.floatbank4_a_air              16731 non-null float64\n",
      "secondary_cleaner.state.floatbank4_a_level            16747 non-null float64\n",
      "secondary_cleaner.state.floatbank4_b_air              16768 non-null float64\n",
      "secondary_cleaner.state.floatbank4_b_level            16767 non-null float64\n",
      "secondary_cleaner.state.floatbank5_a_air              16775 non-null float64\n",
      "secondary_cleaner.state.floatbank5_a_level            16775 non-null float64\n",
      "secondary_cleaner.state.floatbank5_b_air              16775 non-null float64\n",
      "secondary_cleaner.state.floatbank5_b_level            16776 non-null float64\n",
      "secondary_cleaner.state.floatbank6_a_air              16757 non-null float64\n",
      "secondary_cleaner.state.floatbank6_a_level            16775 non-null float64\n",
      "dtypes: float64(86), object(1)\n",
      "memory usage: 11.2+ MB\n"
     ]
    },
    {
     "data": {
      "text/plain": [
       "None"
      ]
     },
     "metadata": {},
     "output_type": "display_data"
    },
    {
     "name": "stdout",
     "output_type": "stream",
     "text": [
      "<class 'pandas.core.frame.DataFrame'>\n",
      "RangeIndex: 5856 entries, 0 to 5855\n",
      "Data columns (total 53 columns):\n",
      "date                                          5856 non-null object\n",
      "primary_cleaner.input.sulfate                 5554 non-null float64\n",
      "primary_cleaner.input.depressant              5572 non-null float64\n",
      "primary_cleaner.input.feed_size               5856 non-null float64\n",
      "primary_cleaner.input.xanthate                5690 non-null float64\n",
      "primary_cleaner.state.floatbank8_a_air        5840 non-null float64\n",
      "primary_cleaner.state.floatbank8_a_level      5840 non-null float64\n",
      "primary_cleaner.state.floatbank8_b_air        5840 non-null float64\n",
      "primary_cleaner.state.floatbank8_b_level      5840 non-null float64\n",
      "primary_cleaner.state.floatbank8_c_air        5840 non-null float64\n",
      "primary_cleaner.state.floatbank8_c_level      5840 non-null float64\n",
      "primary_cleaner.state.floatbank8_d_air        5840 non-null float64\n",
      "primary_cleaner.state.floatbank8_d_level      5840 non-null float64\n",
      "rougher.input.feed_ag                         5840 non-null float64\n",
      "rougher.input.feed_pb                         5840 non-null float64\n",
      "rougher.input.feed_rate                       5816 non-null float64\n",
      "rougher.input.feed_size                       5834 non-null float64\n",
      "rougher.input.feed_sol                        5789 non-null float64\n",
      "rougher.input.feed_au                         5840 non-null float64\n",
      "rougher.input.floatbank10_sulfate             5599 non-null float64\n",
      "rougher.input.floatbank10_xanthate            5733 non-null float64\n",
      "rougher.input.floatbank11_sulfate             5801 non-null float64\n",
      "rougher.input.floatbank11_xanthate            5503 non-null float64\n",
      "rougher.state.floatbank10_a_air               5839 non-null float64\n",
      "rougher.state.floatbank10_a_level             5840 non-null float64\n",
      "rougher.state.floatbank10_b_air               5839 non-null float64\n",
      "rougher.state.floatbank10_b_level             5840 non-null float64\n",
      "rougher.state.floatbank10_c_air               5839 non-null float64\n",
      "rougher.state.floatbank10_c_level             5840 non-null float64\n",
      "rougher.state.floatbank10_d_air               5839 non-null float64\n",
      "rougher.state.floatbank10_d_level             5840 non-null float64\n",
      "rougher.state.floatbank10_e_air               5839 non-null float64\n",
      "rougher.state.floatbank10_e_level             5840 non-null float64\n",
      "rougher.state.floatbank10_f_air               5839 non-null float64\n",
      "rougher.state.floatbank10_f_level             5840 non-null float64\n",
      "secondary_cleaner.state.floatbank2_a_air      5836 non-null float64\n",
      "secondary_cleaner.state.floatbank2_a_level    5840 non-null float64\n",
      "secondary_cleaner.state.floatbank2_b_air      5833 non-null float64\n",
      "secondary_cleaner.state.floatbank2_b_level    5840 non-null float64\n",
      "secondary_cleaner.state.floatbank3_a_air      5822 non-null float64\n",
      "secondary_cleaner.state.floatbank3_a_level    5840 non-null float64\n",
      "secondary_cleaner.state.floatbank3_b_air      5840 non-null float64\n",
      "secondary_cleaner.state.floatbank3_b_level    5840 non-null float64\n",
      "secondary_cleaner.state.floatbank4_a_air      5840 non-null float64\n",
      "secondary_cleaner.state.floatbank4_a_level    5840 non-null float64\n",
      "secondary_cleaner.state.floatbank4_b_air      5840 non-null float64\n",
      "secondary_cleaner.state.floatbank4_b_level    5840 non-null float64\n",
      "secondary_cleaner.state.floatbank5_a_air      5840 non-null float64\n",
      "secondary_cleaner.state.floatbank5_a_level    5840 non-null float64\n",
      "secondary_cleaner.state.floatbank5_b_air      5840 non-null float64\n",
      "secondary_cleaner.state.floatbank5_b_level    5840 non-null float64\n",
      "secondary_cleaner.state.floatbank6_a_air      5840 non-null float64\n",
      "secondary_cleaner.state.floatbank6_a_level    5840 non-null float64\n",
      "dtypes: float64(52), object(1)\n",
      "memory usage: 2.4+ MB\n"
     ]
    },
    {
     "data": {
      "text/plain": [
       "None"
      ]
     },
     "metadata": {},
     "output_type": "display_data"
    },
    {
     "name": "stdout",
     "output_type": "stream",
     "text": [
      "<class 'pandas.core.frame.DataFrame'>\n",
      "RangeIndex: 22716 entries, 0 to 22715\n",
      "Data columns (total 87 columns):\n",
      "date                                                  22716 non-null object\n",
      "final.output.concentrate_ag                           22627 non-null float64\n",
      "final.output.concentrate_pb                           22629 non-null float64\n",
      "final.output.concentrate_sol                          22331 non-null float64\n",
      "final.output.concentrate_au                           22630 non-null float64\n",
      "final.output.recovery                                 20753 non-null float64\n",
      "final.output.tail_ag                                  22633 non-null float64\n",
      "final.output.tail_pb                                  22516 non-null float64\n",
      "final.output.tail_sol                                 22445 non-null float64\n",
      "final.output.tail_au                                  22635 non-null float64\n",
      "primary_cleaner.input.sulfate                         21107 non-null float64\n",
      "primary_cleaner.input.depressant                      21170 non-null float64\n",
      "primary_cleaner.input.feed_size                       22716 non-null float64\n",
      "primary_cleaner.input.xanthate                        21565 non-null float64\n",
      "primary_cleaner.output.concentrate_ag                 22618 non-null float64\n",
      "primary_cleaner.output.concentrate_pb                 22268 non-null float64\n",
      "primary_cleaner.output.concentrate_sol                21918 non-null float64\n",
      "primary_cleaner.output.concentrate_au                 22618 non-null float64\n",
      "primary_cleaner.output.tail_ag                        22614 non-null float64\n",
      "primary_cleaner.output.tail_pb                        22594 non-null float64\n",
      "primary_cleaner.output.tail_sol                       22365 non-null float64\n",
      "primary_cleaner.output.tail_au                        22617 non-null float64\n",
      "primary_cleaner.state.floatbank8_a_air                22660 non-null float64\n",
      "primary_cleaner.state.floatbank8_a_level              22667 non-null float64\n",
      "primary_cleaner.state.floatbank8_b_air                22660 non-null float64\n",
      "primary_cleaner.state.floatbank8_b_level              22673 non-null float64\n",
      "primary_cleaner.state.floatbank8_c_air                22662 non-null float64\n",
      "primary_cleaner.state.floatbank8_c_level              22673 non-null float64\n",
      "primary_cleaner.state.floatbank8_d_air                22661 non-null float64\n",
      "primary_cleaner.state.floatbank8_d_level              22673 non-null float64\n",
      "rougher.calculation.sulfate_to_au_concentrate         22672 non-null float64\n",
      "rougher.calculation.floatbank10_sulfate_to_au_feed    22672 non-null float64\n",
      "rougher.calculation.floatbank11_sulfate_to_au_feed    22672 non-null float64\n",
      "rougher.calculation.au_pb_ratio                       21089 non-null float64\n",
      "rougher.input.feed_ag                                 22618 non-null float64\n",
      "rougher.input.feed_pb                                 22472 non-null float64\n",
      "rougher.input.feed_rate                               22163 non-null float64\n",
      "rougher.input.feed_size                               22277 non-null float64\n",
      "rougher.input.feed_sol                                22357 non-null float64\n",
      "rougher.input.feed_au                                 22617 non-null float64\n",
      "rougher.input.floatbank10_sulfate                     21415 non-null float64\n",
      "rougher.input.floatbank10_xanthate                    22247 non-null float64\n",
      "rougher.input.floatbank11_sulfate                     22038 non-null float64\n",
      "rougher.input.floatbank11_xanthate                    20459 non-null float64\n",
      "rougher.output.concentrate_ag                         22618 non-null float64\n",
      "rougher.output.concentrate_pb                         22618 non-null float64\n",
      "rougher.output.concentrate_sol                        22526 non-null float64\n",
      "rougher.output.concentrate_au                         22618 non-null float64\n",
      "rougher.output.recovery                               19597 non-null float64\n",
      "rougher.output.tail_ag                                19979 non-null float64\n",
      "rougher.output.tail_pb                                22618 non-null float64\n",
      "rougher.output.tail_sol                               19980 non-null float64\n",
      "rougher.output.tail_au                                19980 non-null float64\n",
      "rougher.state.floatbank10_a_air                       22646 non-null float64\n",
      "rougher.state.floatbank10_a_level                     22647 non-null float64\n",
      "rougher.state.floatbank10_b_air                       22646 non-null float64\n",
      "rougher.state.floatbank10_b_level                     22647 non-null float64\n",
      "rougher.state.floatbank10_c_air                       22646 non-null float64\n",
      "rougher.state.floatbank10_c_level                     22654 non-null float64\n",
      "rougher.state.floatbank10_d_air                       22641 non-null float64\n",
      "rougher.state.floatbank10_d_level                     22649 non-null float64\n",
      "rougher.state.floatbank10_e_air                       22096 non-null float64\n",
      "rougher.state.floatbank10_e_level                     22649 non-null float64\n",
      "rougher.state.floatbank10_f_air                       22641 non-null float64\n",
      "rougher.state.floatbank10_f_level                     22642 non-null float64\n",
      "secondary_cleaner.output.tail_ag                      22616 non-null float64\n",
      "secondary_cleaner.output.tail_pb                      22600 non-null float64\n",
      "secondary_cleaner.output.tail_sol                     20501 non-null float64\n",
      "secondary_cleaner.output.tail_au                      22618 non-null float64\n",
      "secondary_cleaner.state.floatbank2_a_air              22333 non-null float64\n",
      "secondary_cleaner.state.floatbank2_a_level            22591 non-null float64\n",
      "secondary_cleaner.state.floatbank2_b_air              22538 non-null float64\n",
      "secondary_cleaner.state.floatbank2_b_level            22588 non-null float64\n",
      "secondary_cleaner.state.floatbank3_a_air              22585 non-null float64\n",
      "secondary_cleaner.state.floatbank3_a_level            22587 non-null float64\n",
      "secondary_cleaner.state.floatbank3_b_air              22592 non-null float64\n",
      "secondary_cleaner.state.floatbank3_b_level            22590 non-null float64\n",
      "secondary_cleaner.state.floatbank4_a_air              22571 non-null float64\n",
      "secondary_cleaner.state.floatbank4_a_level            22587 non-null float64\n",
      "secondary_cleaner.state.floatbank4_b_air              22608 non-null float64\n",
      "secondary_cleaner.state.floatbank4_b_level            22607 non-null float64\n",
      "secondary_cleaner.state.floatbank5_a_air              22615 non-null float64\n",
      "secondary_cleaner.state.floatbank5_a_level            22615 non-null float64\n",
      "secondary_cleaner.state.floatbank5_b_air              22615 non-null float64\n",
      "secondary_cleaner.state.floatbank5_b_level            22616 non-null float64\n",
      "secondary_cleaner.state.floatbank6_a_air              22597 non-null float64\n",
      "secondary_cleaner.state.floatbank6_a_level            22615 non-null float64\n",
      "dtypes: float64(86), object(1)\n",
      "memory usage: 15.1+ MB\n"
     ]
    },
    {
     "data": {
      "text/plain": [
       "None"
      ]
     },
     "metadata": {},
     "output_type": "display_data"
    }
   ],
   "source": [
    "import pandas as pd\n",
    "import numpy as np\n",
    "import matplotlib.pyplot as plt\n",
    "from sklearn.linear_model import LinearRegression\n",
    "from sklearn.tree import DecisionTreeRegressor\n",
    "from sklearn.ensemble import RandomForestRegressor\n",
    "import catboost as cb\n",
    "from sklearn.metrics import mean_squared_error\n",
    "from sklearn.metrics import r2_score\n",
    "from sklearn.metrics import mean_absolute_error\n",
    "from sklearn.model_selection import cross_val_score\n",
    "import warnings\n",
    "warnings.filterwarnings('ignore')\n",
    "\n",
    "df_train = pd.read_csv('/datasets/gold_recovery_train.csv')\n",
    "df_test = pd.read_csv('/datasets/gold_recovery_test.csv')\n",
    "df_full = pd.read_csv('/datasets/gold_recovery_full.csv')\n",
    "\n",
    "print('shape df train:',df_train.shape)\n",
    "print('shape df test:',df_test.shape)\n",
    "print('shape df full:',df_full.shape)\n",
    "\n",
    "display(df_train.info())\n",
    "display(df_test.info())\n",
    "display(df_full.info())\n"
   ]
  },
  {
   "cell_type": "markdown",
   "metadata": {},
   "source": [
    "Колонок в таблице впечатляще много,  почти везде имеются пропуски. Почти все колонки имеют тип float. Даты приведем к соотвествующему формату.\n",
    "\n",
    "Посмотрим на данные по эффективности обогащения, с которыми нужно сравнить расчеты, и данные столбцов, по которым расчеты будут производиться.  "
   ]
  },
  {
   "cell_type": "code",
   "execution_count": 2,
   "metadata": {
    "scrolled": false
   },
   "outputs": [
    {
     "data": {
      "text/html": [
       "<div>\n",
       "<style scoped>\n",
       "    .dataframe tbody tr th:only-of-type {\n",
       "        vertical-align: middle;\n",
       "    }\n",
       "\n",
       "    .dataframe tbody tr th {\n",
       "        vertical-align: top;\n",
       "    }\n",
       "\n",
       "    .dataframe thead th {\n",
       "        text-align: right;\n",
       "    }\n",
       "</style>\n",
       "<table border=\"1\" class=\"dataframe\">\n",
       "  <thead>\n",
       "    <tr style=\"text-align: right;\">\n",
       "      <th></th>\n",
       "      <th>rougher.output.recovery</th>\n",
       "      <th>rougher.output.tail_au</th>\n",
       "      <th>rougher.output.concentrate_au</th>\n",
       "      <th>rougher.input.feed_au</th>\n",
       "    </tr>\n",
       "  </thead>\n",
       "  <tbody>\n",
       "    <tr>\n",
       "      <td>0</td>\n",
       "      <td>87.107763</td>\n",
       "      <td>1.170244</td>\n",
       "      <td>19.793808</td>\n",
       "      <td>6.486150</td>\n",
       "    </tr>\n",
       "    <tr>\n",
       "      <td>1</td>\n",
       "      <td>86.843261</td>\n",
       "      <td>1.184827</td>\n",
       "      <td>20.050975</td>\n",
       "      <td>6.478583</td>\n",
       "    </tr>\n",
       "    <tr>\n",
       "      <td>2</td>\n",
       "      <td>86.842308</td>\n",
       "      <td>1.162562</td>\n",
       "      <td>19.737170</td>\n",
       "      <td>6.362222</td>\n",
       "    </tr>\n",
       "    <tr>\n",
       "      <td>3</td>\n",
       "      <td>87.226430</td>\n",
       "      <td>1.079755</td>\n",
       "      <td>19.320810</td>\n",
       "      <td>6.118189</td>\n",
       "    </tr>\n",
       "    <tr>\n",
       "      <td>4</td>\n",
       "      <td>86.688794</td>\n",
       "      <td>1.012642</td>\n",
       "      <td>19.216101</td>\n",
       "      <td>5.663707</td>\n",
       "    </tr>\n",
       "    <tr>\n",
       "      <td>...</td>\n",
       "      <td>...</td>\n",
       "      <td>...</td>\n",
       "      <td>...</td>\n",
       "      <td>...</td>\n",
       "    </tr>\n",
       "    <tr>\n",
       "      <td>16855</td>\n",
       "      <td>89.574376</td>\n",
       "      <td>0.748633</td>\n",
       "      <td>18.603550</td>\n",
       "      <td>5.335862</td>\n",
       "    </tr>\n",
       "    <tr>\n",
       "      <td>16856</td>\n",
       "      <td>87.724007</td>\n",
       "      <td>0.771582</td>\n",
       "      <td>18.441436</td>\n",
       "      <td>4.838619</td>\n",
       "    </tr>\n",
       "    <tr>\n",
       "      <td>16857</td>\n",
       "      <td>88.890579</td>\n",
       "      <td>0.685059</td>\n",
       "      <td>15.111231</td>\n",
       "      <td>4.525061</td>\n",
       "    </tr>\n",
       "    <tr>\n",
       "      <td>16858</td>\n",
       "      <td>89.858126</td>\n",
       "      <td>0.567130</td>\n",
       "      <td>17.834772</td>\n",
       "      <td>4.362781</td>\n",
       "    </tr>\n",
       "    <tr>\n",
       "      <td>16859</td>\n",
       "      <td>89.514960</td>\n",
       "      <td>0.586439</td>\n",
       "      <td>17.804134</td>\n",
       "      <td>4.365491</td>\n",
       "    </tr>\n",
       "  </tbody>\n",
       "</table>\n",
       "<p>16860 rows × 4 columns</p>\n",
       "</div>"
      ],
      "text/plain": [
       "       rougher.output.recovery  rougher.output.tail_au  \\\n",
       "0                    87.107763                1.170244   \n",
       "1                    86.843261                1.184827   \n",
       "2                    86.842308                1.162562   \n",
       "3                    87.226430                1.079755   \n",
       "4                    86.688794                1.012642   \n",
       "...                        ...                     ...   \n",
       "16855                89.574376                0.748633   \n",
       "16856                87.724007                0.771582   \n",
       "16857                88.890579                0.685059   \n",
       "16858                89.858126                0.567130   \n",
       "16859                89.514960                0.586439   \n",
       "\n",
       "       rougher.output.concentrate_au  rougher.input.feed_au  \n",
       "0                          19.793808               6.486150  \n",
       "1                          20.050975               6.478583  \n",
       "2                          19.737170               6.362222  \n",
       "3                          19.320810               6.118189  \n",
       "4                          19.216101               5.663707  \n",
       "...                              ...                    ...  \n",
       "16855                      18.603550               5.335862  \n",
       "16856                      18.441436               4.838619  \n",
       "16857                      15.111231               4.525061  \n",
       "16858                      17.834772               4.362781  \n",
       "16859                      17.804134               4.365491  \n",
       "\n",
       "[16860 rows x 4 columns]"
      ]
     },
     "metadata": {},
     "output_type": "display_data"
    }
   ],
   "source": [
    "display(df_train[['rougher.output.recovery', 'rougher.output.tail_au', 'rougher.output.concentrate_au', 'rougher.input.feed_au']])"
   ]
  },
  {
   "cell_type": "code",
   "execution_count": 3,
   "metadata": {
    "scrolled": true
   },
   "outputs": [
    {
     "name": "stdout",
     "output_type": "stream",
     "text": [
      "<class 'pandas.core.frame.DataFrame'>\n",
      "RangeIndex: 16860 entries, 0 to 16859\n",
      "Data columns (total 2 columns):\n",
      "rougher.output.recovery_synth    14577 non-null float64\n",
      "rougher.output.recovery          14287 non-null float64\n",
      "dtypes: float64(2)\n",
      "memory usage: 263.6 KB\n",
      "None\n"
     ]
    }
   ],
   "source": [
    "df_train['rougher.output.recovery_synth'] = (df_train['rougher.output.concentrate_au'] * (df_train['rougher.input.feed_au'] -df_train['rougher.output.tail_au']))/ \\\n",
    "(df_train['rougher.input.feed_au'] * (df_train['rougher.output.concentrate_au'] - df_train['rougher.output.tail_au'])) * 100\n",
    "print(df_train[['rougher.output.recovery_synth', 'rougher.output.recovery']].info())"
   ]
  },
  {
   "cell_type": "markdown",
   "metadata": {},
   "source": [
    "В расчитанном вручную столбце оказалось немного больше значений, при расчете MAE удалим всё лишнее."
   ]
  },
  {
   "cell_type": "code",
   "execution_count": 4,
   "metadata": {},
   "outputs": [
    {
     "name": "stdout",
     "output_type": "stream",
     "text": [
      "9.444891926100695e-15\n"
     ]
    }
   ],
   "source": [
    "series_test = pd.Series(abs(df_train['rougher.output.recovery_synth']- df_train['rougher.output.recovery']))\n",
    "series_test.dropna(inplace=True)\n",
    "print(series_test.sum()/len(series_test))"
   ]
  },
  {
   "cell_type": "markdown",
   "metadata": {},
   "source": [
    "Можно уверенно говорить о верном расчете столбца rougher.output.recovery, ошибка с расчитанным вручную столбцом получилась в пределах погрешности."
   ]
  },
  {
   "cell_type": "markdown",
   "metadata": {},
   "source": [
    "В тестовой выборке отсутствуют 33 столбца, имеющиеся в тренировочной и полной выборках. В частности, нет данных с финальными характеристиками ([final..]), а также параметров продукта после флотации, а также первичной и вторичной очистки ([rougher.output.], [primary_cleaner.output.],[secondary_cleaner.output.]). На этапе вторичной очистки нет входных параметров сырья ([secondary_cleaner.input.]).\n",
    "\n",
    "В датафреймах приведем даты к соответствующему формату."
   ]
  },
  {
   "cell_type": "code",
   "execution_count": 5,
   "metadata": {},
   "outputs": [
    {
     "name": "stdout",
     "output_type": "stream",
     "text": [
      "0       2016-01-15 00:00:00\n",
      "1       2016-01-15 01:00:00\n",
      "2       2016-01-15 02:00:00\n",
      "3       2016-01-15 03:00:00\n",
      "4       2016-01-15 04:00:00\n",
      "                ...        \n",
      "22711   2018-08-18 06:59:59\n",
      "22712   2018-08-18 07:59:59\n",
      "22713   2018-08-18 08:59:59\n",
      "22714   2018-08-18 09:59:59\n",
      "22715   2018-08-18 10:59:59\n",
      "Name: date, Length: 22716, dtype: datetime64[ns]\n"
     ]
    }
   ],
   "source": [
    "df_train['date'] = pd.to_datetime(df_train['date'], format='%Y-%m-%d %H:%M:%S')\n",
    "df_test['date'] = pd.to_datetime(df_test['date'], format='%Y-%m-%d %H:%M:%S')\n",
    "df_full['date'] = pd.to_datetime(df_full['date'], format='%Y-%m-%d %H:%M:%S')\n",
    "print(df_full['date'])"
   ]
  },
  {
   "cell_type": "markdown",
   "metadata": {},
   "source": [
    "## Анализ данных"
   ]
  },
  {
   "cell_type": "markdown",
   "metadata": {},
   "source": [
    "На полной выборке отследим изменение концентрации металлов."
   ]
  },
  {
   "cell_type": "code",
   "execution_count": 6,
   "metadata": {},
   "outputs": [
    {
     "name": "stdout",
     "output_type": "stream",
     "text": [
      "Концентрация золота: \n",
      " После флотации: 17.88 \n",
      " После первичой очистки 29.21 \n",
      " Изменение по сравнению с предыдущей стадией: 63.38% \n",
      " После вторичной очистки 40.00 \n",
      " Изменение по сравнению с предыдущей стадией: 36.93% \n",
      "\n",
      "Концентрация серебра: \n",
      " После флотации: 10.87 \n",
      " После первичой очистки 7.69 \n",
      " Изменение по сравнению с предыдущей стадией: -29.27% \n",
      " После вторичной очистки 4.78 \n",
      " Изменение по сравнению с предыдущей стадией: -37.83% \n",
      "\n",
      "Концентрация свинца: \n",
      " После флотации: 6.90 \n",
      " После первичой очистки 8.92 \n",
      " Изменение по сравнению с предыдущей стадией: 29.28% \n",
      " После вторичной очистки 9.10 \n",
      " Изменение по сравнению с предыдущей стадией: 1.95% \n",
      "\n"
     ]
    }
   ],
   "source": [
    "au_concent = df_full[['rougher.output.concentrate_au', 'primary_cleaner.output.concentrate_au', 'final.output.concentrate_au']]\n",
    "ag_concent = df_full[['rougher.output.concentrate_ag', 'primary_cleaner.output.concentrate_ag', 'final.output.concentrate_ag']]\n",
    "pb_concent = df_full[['rougher.output.concentrate_pb', 'primary_cleaner.output.concentrate_pb', 'final.output.concentrate_pb']]\n",
    "\n",
    "print('Концентрация золота: \\n',\n",
    "      'После флотации:', \"{:.2f}\".format(au_concent['rougher.output.concentrate_au'].mean()), \n",
    "      '\\n После первичой очистки', \"{:.2f}\".format(au_concent['primary_cleaner.output.concentrate_au'].mean()), \n",
    "      '\\n Изменение по сравнению с предыдущей стадией:', \n",
    "      \"{:.2%}\".format((au_concent['primary_cleaner.output.concentrate_au'].mean() / au_concent['rougher.output.concentrate_au'].mean() - 1)),\n",
    "      '\\n После вторичной очистки',\"{:.2f}\".format(au_concent['final.output.concentrate_au'].mean()),\n",
    "     '\\n Изменение по сравнению с предыдущей стадией:', \n",
    "      \"{:.2%}\".format((au_concent['final.output.concentrate_au'].mean() /au_concent['primary_cleaner.output.concentrate_au'].mean() - 1)),'\\n'\n",
    "     )\n",
    "\n",
    "print('Концентрация серебра: \\n',\n",
    "      'После флотации:', \"{:.2f}\".format(ag_concent['rougher.output.concentrate_ag'].mean()), \n",
    "      '\\n После первичой очистки', \"{:.2f}\".format(ag_concent['primary_cleaner.output.concentrate_ag'].mean()), \n",
    "      '\\n Изменение по сравнению с предыдущей стадией:', \n",
    "      \"{:.2%}\".format((ag_concent['primary_cleaner.output.concentrate_ag'].mean() / ag_concent['rougher.output.concentrate_ag'].mean() - 1)),\n",
    "      '\\n После вторичной очистки',\"{:.2f}\".format(ag_concent['final.output.concentrate_ag'].mean()),\n",
    "     '\\n Изменение по сравнению с предыдущей стадией:', \n",
    "      \"{:.2%}\".format((ag_concent['final.output.concentrate_ag'].mean() /ag_concent['primary_cleaner.output.concentrate_ag'].mean() - 1)), '\\n'\n",
    "     )\n",
    "\n",
    "print('Концентрация свинца: \\n',\n",
    "      'После флотации:', \"{:.2f}\".format(pb_concent['rougher.output.concentrate_pb'].mean()), \n",
    "      '\\n После первичой очистки', \"{:.2f}\".format(pb_concent['primary_cleaner.output.concentrate_pb'].mean()), \n",
    "      '\\n Изменение по сравнению с предыдущей стадией:', \n",
    "      \"{:.2%}\".format((pb_concent['primary_cleaner.output.concentrate_pb'].mean() / pb_concent['rougher.output.concentrate_pb'].mean() - 1)),\n",
    "      '\\n После вторичной очистки',\"{:.2f}\".format(pb_concent['final.output.concentrate_pb'].mean()),\n",
    "     '\\n Изменение по сравнению с предыдущей стадией:', \n",
    "      \"{:.2%}\".format((pb_concent['final.output.concentrate_pb'].mean() /pb_concent['primary_cleaner.output.concentrate_pb'].mean() - 1)),'\\n'\n",
    "     )\n"
   ]
  },
  {
   "cell_type": "markdown",
   "metadata": {},
   "source": [
    "У золота и свинца концентрация с течением очистки растёт: у золота разница в концентрации после флотации и после вторичной очистки более чем в два раза, а у свинца около 30%. Интересно, что при этом концентрация серебра по мере очистки падает. За все стадии более чем в два раза."
   ]
  },
  {
   "cell_type": "code",
   "execution_count": 7,
   "metadata": {
    "scrolled": true
   },
   "outputs": [
    {
     "data": {
      "image/png": "[encoded data removed]",
      "text/plain": [
       "<Figure size 432x288 with 1 Axes>"
      ]
     },
     "metadata": {
      "needs_background": "light"
     },
     "output_type": "display_data"
    },
    {
     "data": {
      "image/png": "[encoded data removed]",
      "text/plain": [
       "<Figure size 432x288 with 1 Axes>"
      ]
     },
     "metadata": {
      "needs_background": "light"
     },
     "output_type": "display_data"
    },
    {
     "data": {
      "image/png": "[encoded data removed]",
      "text/plain": [
       "<Figure size 432x288 with 1 Axes>"
      ]
     },
     "metadata": {
      "needs_background": "light"
     },
     "output_type": "display_data"
    }
   ],
   "source": [
    "bar1 = plt.figure()\n",
    "au_concent.columns = ['флотация', 'первичная обработка', 'вторичная обработка']\n",
    "bar1 = au_concent.mean().plot(kind ='bar',title = 'Концентрация золота в зависимости от этапа')\n",
    "\n",
    "bar2 = plt.figure()\n",
    "ag_concent.columns = ['флотация', 'первичная обработка', 'вторичная обработка']\n",
    "bar2 = ag_concent.mean().plot(kind ='bar',title = 'Концентрация серебра в зависимости от этапа')\n",
    "\n",
    "bar3 = plt.figure()\n",
    "pb_concent.columns = ['флотация', 'первичная обработка', 'вторичная обработка']\n",
    "bar3 = pb_concent.mean().plot(kind ='bar',title = 'Концентрация свинца в зависимости от этапа')\n"
   ]
  },
  {
   "cell_type": "markdown",
   "metadata": {},
   "source": [
    "Сравним распределения оценок гранул сырья на обучающей и тестовой выборках."
   ]
  },
  {
   "cell_type": "code",
   "execution_count": 8,
   "metadata": {
    "scrolled": false
   },
   "outputs": [
    {
     "data": {
      "image/png": "[encoded data removed]",
      "text/plain": [
       "<Figure size 432x288 with 1 Axes>"
      ]
     },
     "metadata": {
      "needs_background": "light"
     },
     "output_type": "display_data"
    },
    {
     "data": {
      "image/png": "[encoded data removed]",
      "text/plain": [
       "<Figure size 432x288 with 1 Axes>"
      ]
     },
     "metadata": {
      "needs_background": "light"
     },
     "output_type": "display_data"
    }
   ],
   "source": [
    "train_feed_sizes = df_train[['primary_cleaner.input.feed_size', 'rougher.input.feed_size']]\n",
    "test_feed_sizes = df_test[['primary_cleaner.input.feed_size', 'rougher.input.feed_size']]\n",
    "\n",
    "hist1 = plt.figure()\n",
    "hist1 = train_feed_sizes['primary_cleaner.input.feed_size'].plot(kind ='hist',title = 'Распределение размера гранул при первичной очистке',label = 'тренировочная выборка', bins = 100)\n",
    "hist1 = test_feed_sizes['primary_cleaner.input.feed_size'].plot(kind ='hist', bins = 100, label = 'тестовая выборка')\n",
    "plt.legend()\n",
    "\n",
    "hist2 = plt.figure()\n",
    "hist2 = train_feed_sizes['rougher.input.feed_size'].plot(kind ='hist',title = 'Распределение размера гранул при флотации', label = 'тренировочная выборка', bins = 100)\n",
    "hist2 = test_feed_sizes['rougher.input.feed_size'].plot(kind ='hist', bins = 100, label = 'тестовая выборка')\n",
    "plt.legend()\n",
    "\n",
    "plt.show()\n"
   ]
  },
  {
   "cell_type": "markdown",
   "metadata": {},
   "source": [
    "Распределения по выборкам для двух этапов похожи. Сделаем двойную проверку на числах."
   ]
  },
  {
   "cell_type": "code",
   "execution_count": 9,
   "metadata": {},
   "outputs": [
    {
     "data": {
      "text/html": [
       "<div>\n",
       "<style scoped>\n",
       "    .dataframe tbody tr th:only-of-type {\n",
       "        vertical-align: middle;\n",
       "    }\n",
       "\n",
       "    .dataframe tbody tr th {\n",
       "        vertical-align: top;\n",
       "    }\n",
       "\n",
       "    .dataframe thead th {\n",
       "        text-align: right;\n",
       "    }\n",
       "</style>\n",
       "<table border=\"1\" class=\"dataframe\">\n",
       "  <thead>\n",
       "    <tr style=\"text-align: right;\">\n",
       "      <th></th>\n",
       "      <th>primary_cleaner.input.feed_size</th>\n",
       "      <th>rougher.input.feed_size</th>\n",
       "    </tr>\n",
       "  </thead>\n",
       "  <tbody>\n",
       "    <tr>\n",
       "      <td>count</td>\n",
       "      <td>16860.000000</td>\n",
       "      <td>16443.000000</td>\n",
       "    </tr>\n",
       "    <tr>\n",
       "      <td>mean</td>\n",
       "      <td>7.297285</td>\n",
       "      <td>58.676444</td>\n",
       "    </tr>\n",
       "    <tr>\n",
       "      <td>std</td>\n",
       "      <td>0.619166</td>\n",
       "      <td>23.922591</td>\n",
       "    </tr>\n",
       "    <tr>\n",
       "      <td>min</td>\n",
       "      <td>1.080000</td>\n",
       "      <td>9.659576</td>\n",
       "    </tr>\n",
       "    <tr>\n",
       "      <td>25%</td>\n",
       "      <td>6.940000</td>\n",
       "      <td>47.575879</td>\n",
       "    </tr>\n",
       "    <tr>\n",
       "      <td>50%</td>\n",
       "      <td>7.285000</td>\n",
       "      <td>54.104257</td>\n",
       "    </tr>\n",
       "    <tr>\n",
       "      <td>75%</td>\n",
       "      <td>7.700000</td>\n",
       "      <td>65.051064</td>\n",
       "    </tr>\n",
       "    <tr>\n",
       "      <td>max</td>\n",
       "      <td>10.470000</td>\n",
       "      <td>484.967466</td>\n",
       "    </tr>\n",
       "  </tbody>\n",
       "</table>\n",
       "</div>"
      ],
      "text/plain": [
       "       primary_cleaner.input.feed_size  rougher.input.feed_size\n",
       "count                     16860.000000             16443.000000\n",
       "mean                          7.297285                58.676444\n",
       "std                           0.619166                23.922591\n",
       "min                           1.080000                 9.659576\n",
       "25%                           6.940000                47.575879\n",
       "50%                           7.285000                54.104257\n",
       "75%                           7.700000                65.051064\n",
       "max                          10.470000               484.967466"
      ]
     },
     "metadata": {},
     "output_type": "display_data"
    },
    {
     "data": {
      "text/html": [
       "<div>\n",
       "<style scoped>\n",
       "    .dataframe tbody tr th:only-of-type {\n",
       "        vertical-align: middle;\n",
       "    }\n",
       "\n",
       "    .dataframe tbody tr th {\n",
       "        vertical-align: top;\n",
       "    }\n",
       "\n",
       "    .dataframe thead th {\n",
       "        text-align: right;\n",
       "    }\n",
       "</style>\n",
       "<table border=\"1\" class=\"dataframe\">\n",
       "  <thead>\n",
       "    <tr style=\"text-align: right;\">\n",
       "      <th></th>\n",
       "      <th>primary_cleaner.input.feed_size</th>\n",
       "      <th>rougher.input.feed_size</th>\n",
       "    </tr>\n",
       "  </thead>\n",
       "  <tbody>\n",
       "    <tr>\n",
       "      <td>count</td>\n",
       "      <td>5856.000000</td>\n",
       "      <td>5834.000000</td>\n",
       "    </tr>\n",
       "    <tr>\n",
       "      <td>mean</td>\n",
       "      <td>7.264651</td>\n",
       "      <td>55.937535</td>\n",
       "    </tr>\n",
       "    <tr>\n",
       "      <td>std</td>\n",
       "      <td>0.611526</td>\n",
       "      <td>22.724254</td>\n",
       "    </tr>\n",
       "    <tr>\n",
       "      <td>min</td>\n",
       "      <td>5.650000</td>\n",
       "      <td>0.046369</td>\n",
       "    </tr>\n",
       "    <tr>\n",
       "      <td>25%</td>\n",
       "      <td>6.885625</td>\n",
       "      <td>43.890852</td>\n",
       "    </tr>\n",
       "    <tr>\n",
       "      <td>50%</td>\n",
       "      <td>7.259333</td>\n",
       "      <td>50.002004</td>\n",
       "    </tr>\n",
       "    <tr>\n",
       "      <td>75%</td>\n",
       "      <td>7.650000</td>\n",
       "      <td>61.638434</td>\n",
       "    </tr>\n",
       "    <tr>\n",
       "      <td>max</td>\n",
       "      <td>15.500000</td>\n",
       "      <td>477.445473</td>\n",
       "    </tr>\n",
       "  </tbody>\n",
       "</table>\n",
       "</div>"
      ],
      "text/plain": [
       "       primary_cleaner.input.feed_size  rougher.input.feed_size\n",
       "count                      5856.000000              5834.000000\n",
       "mean                          7.264651                55.937535\n",
       "std                           0.611526                22.724254\n",
       "min                           5.650000                 0.046369\n",
       "25%                           6.885625                43.890852\n",
       "50%                           7.259333                50.002004\n",
       "75%                           7.650000                61.638434\n",
       "max                          15.500000               477.445473"
      ]
     },
     "metadata": {},
     "output_type": "display_data"
    }
   ],
   "source": [
    "display(train_feed_sizes.describe(), test_feed_sizes.describe())"
   ]
  },
  {
   "cell_type": "markdown",
   "metadata": {},
   "source": [
    "Видно, что как для тестовой выборки, так и для тренировочной, средние близки, стандартные отклонения почти не отличаются, квартили очень похожи."
   ]
  },
  {
   "cell_type": "markdown",
   "metadata": {},
   "source": [
    "Соберем значения концентраций на полной выборке. При нахождении аномалий рассмотрим по отдельность тестовую и тренировочную."
   ]
  },
  {
   "cell_type": "code",
   "execution_count": 10,
   "metadata": {},
   "outputs": [
    {
     "data": {
      "image/png": "[encoded data removed]",
      "text/plain": [
       "<Figure size 432x288 with 1 Axes>"
      ]
     },
     "metadata": {
      "needs_background": "light"
     },
     "output_type": "display_data"
    },
    {
     "data": {
      "image/png": "[encoded data removed]",
      "text/plain": [
       "<Figure size 432x288 with 1 Axes>"
      ]
     },
     "metadata": {
      "needs_background": "light"
     },
     "output_type": "display_data"
    },
    {
     "data": {
      "image/png": "[encoded data removed]",
      "text/plain": [
       "<Figure size 432x288 with 1 Axes>"
      ]
     },
     "metadata": {
      "needs_background": "light"
     },
     "output_type": "display_data"
    },
    {
     "data": {
      "image/png": "[encoded data removed]",
      "text/plain": [
       "<Figure size 432x288 with 1 Axes>"
      ]
     },
     "metadata": {
      "needs_background": "light"
     },
     "output_type": "display_data"
    }
   ],
   "source": [
    "feed_concent = df_full['rougher.input.feed_ag'] +  df_full['rougher.input.feed_pb'] + df_full['rougher.input.feed_au'] + df_full['rougher.input.feed_sol']\n",
    "rougher_concent = df_full['rougher.output.concentrate_ag'] +  df_full['rougher.output.concentrate_pb'] + df_full['rougher.output.concentrate_sol'] + df_full['rougher.output.concentrate_au']\n",
    "primary_concent = df_full['primary_cleaner.output.concentrate_ag'] +  df_full['primary_cleaner.output.concentrate_pb'] + df_full['primary_cleaner.output.concentrate_sol'] + df_full['primary_cleaner.output.concentrate_au']\n",
    "final_concent = df_full['final.output.concentrate_ag'] +  df_full['final.output.concentrate_pb'] + df_full['final.output.concentrate_sol'] + df_full['final.output.concentrate_au']\n",
    "\n",
    "\n",
    "hist3 = plt.figure()\n",
    "hist3 = feed_concent.plot(kind ='hist',title = 'Распределение концентрата веществ в сырье',label = 'суммарная концентрация', bins = 100)\n",
    "plt.legend()\n",
    "hist4 = plt.figure()\n",
    "hist4 = rougher_concent.plot(kind ='hist',title = 'Распределение концентрата веществ после флотации',label = 'суммарная концентрация', bins = 100)\n",
    "plt.legend()\n",
    "hist5 = plt.figure()\n",
    "hist5 = primary_concent.plot(kind ='hist',title = 'Распределение концентрата веществ после первичной очистки',label = 'суммарная концентрация', bins = 100)\n",
    "plt.legend()\n",
    "hist6 = plt.figure()\n",
    "hist6 = final_concent.plot(kind ='hist',title = 'Распределение концентрата веществ после вторичной очистки',label = 'суммарная концентрация', bins = 100)\n",
    "plt.legend()\n",
    "plt.show()"
   ]
  },
  {
   "cell_type": "markdown",
   "metadata": {},
   "source": [
    "Странным кажется то, что пик гистограммы в финальных значениях концентрата сместился к 70. Хотя, в целом, это логично, ведь концентрация по мере фильтрации должна увеличиваться. Сделаем аналогичные проверки для  тренировочной выборки."
   ]
  },
  {
   "cell_type": "code",
   "execution_count": 11,
   "metadata": {
    "scrolled": true
   },
   "outputs": [
    {
     "data": {
      "image/png": "[encoded data removed]",
      "text/plain": [
       "<Figure size 432x288 with 1 Axes>"
      ]
     },
     "metadata": {
      "needs_background": "light"
     },
     "output_type": "display_data"
    },
    {
     "data": {
      "image/png": "[encoded data removed]",
      "text/plain": [
       "<Figure size 432x288 with 1 Axes>"
      ]
     },
     "metadata": {
      "needs_background": "light"
     },
     "output_type": "display_data"
    },
    {
     "data": {
      "image/png": "[encoded data removed]",
      "text/plain": [
       "<Figure size 432x288 with 1 Axes>"
      ]
     },
     "metadata": {
      "needs_background": "light"
     },
     "output_type": "display_data"
    },
    {
     "data": {
      "image/png": "[encoded data removed]",
      "text/plain": [
       "<Figure size 432x288 with 1 Axes>"
      ]
     },
     "metadata": {
      "needs_background": "light"
     },
     "output_type": "display_data"
    }
   ],
   "source": [
    "feed_concent_train = df_train['rougher.input.feed_ag'] +  df_train['rougher.input.feed_pb'] + df_train['rougher.input.feed_au'] + df_train['rougher.input.feed_sol']\n",
    "rougher_concent_train = df_train['rougher.output.concentrate_ag'] +  df_train['rougher.output.concentrate_pb'] + df_train['rougher.output.concentrate_sol'] + df_train['rougher.output.concentrate_au']\n",
    "primary_concent_train = df_train['primary_cleaner.output.concentrate_ag'] +  df_train['primary_cleaner.output.concentrate_pb'] + df_train['primary_cleaner.output.concentrate_sol'] + df_train['primary_cleaner.output.concentrate_au']\n",
    "final_concent_train = df_train['final.output.concentrate_ag'] +  df_train['final.output.concentrate_pb'] + df_train['final.output.concentrate_sol'] + df_train['final.output.concentrate_au']\n",
    "\n",
    "\n",
    "hist7 = plt.figure()\n",
    "hist7 = feed_concent_train.plot(kind ='hist',title = 'Распределение концентрата веществ в сырье',label = 'суммарная концентрация', bins = 100)\n",
    "plt.legend()\n",
    "hist8 = plt.figure()\n",
    "hist8 = rougher_concent_train.plot(kind ='hist',title = 'Распределение концентрата веществ после флотации',label = 'суммарная концентрация', bins = 100)\n",
    "plt.legend()\n",
    "hist9 = plt.figure()\n",
    "hist9 = primary_concent_train.plot(kind ='hist',title = 'Распределение концентрата веществ после первичной очистки',label = 'суммарная концентрация', bins = 100)\n",
    "plt.legend()\n",
    "hist10 = plt.figure()\n",
    "hist10 = final_concent_train.plot(kind ='hist',title = 'Распределение концентрата веществ после вторичной очистки',label = 'суммарная концентрация', bins = 100)\n",
    "plt.legend()\n",
    "plt.show()"
   ]
  },
  {
   "cell_type": "markdown",
   "metadata": {},
   "source": [
    "Результаты очень похожи на полную выборку. Что для тестовой, что для тренировочной выборки встречаются нулевые значения суммарной концентрации. В целом, это можно принять за аномалии, потому что по техпроцессу руда должна быть золотосодержащей, чтобы было что извлекать. Если концентрации металлов не найдено совсем, то эта руда и не нужна. Удалим значения с нулевой суммарной концентрацией элементов."
   ]
  },
  {
   "cell_type": "code",
   "execution_count": 12,
   "metadata": {},
   "outputs": [
    {
     "data": {
      "text/plain": [
       "0.000000     1263\n",
       "0.010000      398\n",
       "42.417690      19\n",
       "37.336849      11\n",
       "44.528214       8\n",
       "             ... \n",
       "44.218390       1\n",
       "44.100914       1\n",
       "40.834250       1\n",
       "44.515789       1\n",
       "48.495295       1\n",
       "Name: final.output.concentrate_au, Length: 15081, dtype: int64"
      ]
     },
     "execution_count": 12,
     "metadata": {},
     "output_type": "execute_result"
    }
   ],
   "source": [
    "df_train['final.output.concentrate_au'].value_counts()"
   ]
  },
  {
   "cell_type": "markdown",
   "metadata": {},
   "source": [
    "<b>Также для всех металлов попадаются синтетические значения концентраций 0.01. </b> Лучше будет удалить и их тоже, вместе с нулями. Как в тестовой, так и в тренировочной выборке."
   ]
  },
  {
   "cell_type": "code",
   "execution_count": 13,
   "metadata": {},
   "outputs": [],
   "source": [
    "df_train = df_train[(df_train['rougher.input.feed_ag'] >= 0.01) & (df_train['rougher.input.feed_au']>= 0.01) & (df_train['rougher.input.feed_sol']>= 0.01) & (df_train['rougher.input.feed_pb']>= 0.01)]\n",
    "df_train = df_train[(df_train['rougher.output.concentrate_au']>= 0.01) & (df_train['rougher.output.concentrate_ag']>= 0.01) & (df_train['rougher.output.concentrate_sol']>= 0.01) & (df_train['rougher.output.concentrate_pb']>= 0.01)]\n",
    "df_train = df_train[(df_train['primary_cleaner.output.concentrate_ag']>= 0.01) & (df_train['primary_cleaner.output.concentrate_au']>= 0.01) & (df_train['primary_cleaner.output.concentrate_sol']>= 0.01) & (df_train['primary_cleaner.output.concentrate_pb']>= 0.01)]\n",
    "df_train = df_train[(df_train['final.output.concentrate_ag']>= 0.01) & (df_train['final.output.concentrate_au']>= 0.01) & (df_train['final.output.concentrate_pb']>= 0.01) & (df_train['final.output.concentrate_sol']>= 0.01)]\n",
    "\n",
    "df_test = df_test[(df_test['rougher.input.feed_ag'] >= 0.01) & (df_test['rougher.input.feed_au']>= 0.01) & (df_test['rougher.input.feed_sol']>= 0.01) & (df_test['rougher.input.feed_pb']>= 0.01)]"
   ]
  },
  {
   "cell_type": "markdown",
   "metadata": {},
   "source": [
    "Удалим все пропущенные значения в тренировочной выборке для успешной тренировки моделей."
   ]
  },
  {
   "cell_type": "code",
   "execution_count": 14,
   "metadata": {},
   "outputs": [
    {
     "name": "stdout",
     "output_type": "stream",
     "text": [
      "(13613, 88)\n",
      "(10676, 88)\n"
     ]
    }
   ],
   "source": [
    "print(df_train.shape)\n",
    "df_train= df_train.dropna()\n",
    "print(df_train.shape)"
   ]
  },
  {
   "cell_type": "markdown",
   "metadata": {},
   "source": [
    "Посмотрим на распределение значений в тренировочной выборке еще раз, после удаления лишнего:"
   ]
  },
  {
   "cell_type": "code",
   "execution_count": 15,
   "metadata": {
    "scrolled": true
   },
   "outputs": [
    {
     "data": {
      "image/png": "[encoded data removed]",
      "text/plain": [
       "<Figure size 432x288 with 1 Axes>"
      ]
     },
     "metadata": {
      "needs_background": "light"
     },
     "output_type": "display_data"
    },
    {
     "data": {
      "image/png": "[encoded data removed]",
      "text/plain": [
       "<Figure size 432x288 with 1 Axes>"
      ]
     },
     "metadata": {
      "needs_background": "light"
     },
     "output_type": "display_data"
    },
    {
     "data": {
      "image/png": "[encoded data removed]",
      "text/plain": [
       "<Figure size 432x288 with 1 Axes>"
      ]
     },
     "metadata": {
      "needs_background": "light"
     },
     "output_type": "display_data"
    },
    {
     "data": {
      "image/png": "[encoded data removed]",
      "text/plain": [
       "<Figure size 432x288 with 1 Axes>"
      ]
     },
     "metadata": {
      "needs_background": "light"
     },
     "output_type": "display_data"
    }
   ],
   "source": [
    "feed_concent_train = df_train['rougher.input.feed_ag'] +  df_train['rougher.input.feed_pb'] + df_train['rougher.input.feed_au'] + df_train['rougher.input.feed_sol']\n",
    "rougher_concent_train = df_train['rougher.output.concentrate_ag'] +  df_train['rougher.output.concentrate_pb'] + df_train['rougher.output.concentrate_sol'] + df_train['rougher.output.concentrate_au']\n",
    "primary_concent_train = df_train['primary_cleaner.output.concentrate_ag'] +  df_train['primary_cleaner.output.concentrate_pb'] + df_train['primary_cleaner.output.concentrate_sol'] + df_train['primary_cleaner.output.concentrate_au']\n",
    "final_concent_train = df_train['final.output.concentrate_ag'] +  df_train['final.output.concentrate_pb'] + df_train['final.output.concentrate_sol'] + df_train['final.output.concentrate_au']\n",
    "\n",
    "\n",
    "hist7 = plt.figure()\n",
    "hist7 = feed_concent_train.plot(kind ='hist',title = 'Распределение концентрата веществ в сырье',label = 'суммарная концентрация', bins = 100)\n",
    "plt.legend()\n",
    "hist8 = plt.figure()\n",
    "hist8 = rougher_concent_train.plot(kind ='hist',title = 'Распределение концентрата веществ после флотации',label = 'суммарная концентрация', bins = 100)\n",
    "plt.legend()\n",
    "hist9 = plt.figure()\n",
    "hist9 = primary_concent_train.plot(kind ='hist',title = 'Распределение концентрата веществ после первичной очистки',label = 'суммарная концентрация', bins = 100)\n",
    "plt.legend()\n",
    "hist10 = plt.figure()\n",
    "hist10 = final_concent_train.plot(kind ='hist',title = 'Распределение концентрата веществ после вторичной очистки',label = 'суммарная концентрация', bins = 100)\n",
    "plt.legend()\n",
    "plt.show()"
   ]
  },
  {
   "cell_type": "markdown",
   "metadata": {},
   "source": [
    "Нерелевантные значения удалены. Перейдем к моделированию."
   ]
  },
  {
   "cell_type": "markdown",
   "metadata": {},
   "source": [
    "<b> Вывод: </b>\n",
    "<br>\n",
    "По мере прохождения этапов очистки суммарная концентрация элементов сильнее собирается у значений 70 вместо ~60 на этапе получения сырья (что обусловлено техпроцессом), при этом разброс значений уменьшается, хвосты распределения становятся менее тяжелыми.\n"
   ]
  },
  {
   "cell_type": "markdown",
   "metadata": {},
   "source": [
    "## Модель"
   ]
  },
  {
   "cell_type": "markdown",
   "metadata": {},
   "source": [
    "Напишем функцию расчета итоговой sMAPE исходя из данных формул. В функции также сброшены индексы столбца таргетов для корректных операций вычитания и сложения колонок. Первая колонка в датафреймах прогноза и таргета относится к recovery на этапе флотации, вторая - к recovery в финале."
   ]
  },
  {
   "cell_type": "code",
   "execution_count": 16,
   "metadata": {},
   "outputs": [],
   "source": [
    "def smape(target, prediction):\n",
    "    prediction = pd.DataFrame(data = prediction, columns = ['rougher.output.recovery.pred', 'final.output.recovery.pred'])\n",
    "    target.reset_index(drop = True, inplace = True)\n",
    "    enum_rough = (abs(target[target.columns[0]] - prediction[prediction.columns[0]]))\n",
    "    denom_rough = ((abs(target[target.columns[0]]) + abs(prediction[prediction.columns[0]]))/2)\n",
    "    enum_final = (abs(target[target.columns[1]] - prediction[prediction.columns[1]]))\n",
    "    denom_final = ((abs(target[target.columns[1]]) + abs(prediction[prediction.columns[1]]))/2)\n",
    "    smape_rough = ((enum_rough / denom_rough).sum())/len(enum_rough) * 100\n",
    "    smape_final = ((enum_final / denom_final).sum())/len(enum_final) * 100\n",
    "    return smape_rough * 0.25 + smape_final * 0.75"
   ]
  },
  {
   "cell_type": "code",
   "execution_count": 25,
   "metadata": {},
   "outputs": [],
   "source": [
    "#print(df_full[(df_test.columns)])\n",
    "df_full.set_index('date')\n",
    "df_test.set_index('date')\n",
    "df_train.set_index('date')\n",
    "df_test['rougher.output.recovery'] = df_full.loc[df_test.index,'rougher.output.recovery']\n",
    "df_test['final.output.recovery'] = df_full.loc[df_test.index,'final.output.recovery']\n",
    "df_train = df_train[(df_test.columns)]\n",
    "df_test = df_test.reset_index(drop = True)\n",
    "df_train = df_train.reset_index(drop = True)"
   ]
  },
  {
   "cell_type": "code",
   "execution_count": 18,
   "metadata": {},
   "outputs": [],
   "source": [
    "features_train = df_train.drop(['rougher.output.recovery', 'final.output.recovery', 'date'], axis = 1)\n",
    "target_train = df_train[['rougher.output.recovery', 'final.output.recovery']]"
   ]
  },
  {
   "cell_type": "code",
   "execution_count": 19,
   "metadata": {},
   "outputs": [
    {
     "name": "stdout",
     "output_type": "stream",
     "text": [
      "R2 на кросс-валидации: -1.707561753297658\n"
     ]
    }
   ],
   "source": [
    "model = DecisionTreeRegressor(random_state = 42)\n",
    "model.fit(features_train, target_train)\n",
    "result_tree =  cross_val_score(model, features_train, target_train, cv = 5, scoring = 'r2')\n",
    "print('R2 на кросс-валидации:', pd.Series(result_tree).mean())"
   ]
  },
  {
   "cell_type": "code",
   "execution_count": 20,
   "metadata": {},
   "outputs": [
    {
     "name": "stdout",
     "output_type": "stream",
     "text": [
      "R2 на кросс-валидации: -0.27797330789399044\n"
     ]
    }
   ],
   "source": [
    "model = LinearRegression()\n",
    "model.fit(features_train, target_train)\n",
    "result_regression =  cross_val_score(model, features_train, target_train, cv = 5)\n",
    "print('R2 на кросс-валидации:',pd.Series(result_regression).mean())"
   ]
  },
  {
   "cell_type": "code",
   "execution_count": 21,
   "metadata": {},
   "outputs": [
    {
     "name": "stdout",
     "output_type": "stream",
     "text": [
      "R2 на кросс-валидации: -0.1843466836656103\n"
     ]
    }
   ],
   "source": [
    "model = RandomForestRegressor(random_state=42, n_estimators=100, max_depth = 11)\n",
    "model.fit(features_train, target_train)\n",
    "result_forest = cross_val_score(model, features_train, target_train, cv = 5)\n",
    "print('R2 на кросс-валидации:',pd.Series(result_forest).mean())"
   ]
  },
  {
   "cell_type": "markdown",
   "metadata": {},
   "source": [
    "В целом, из-за малого количества релевантных переменных модели не отличаются качеством. Немного лучше остальных показала себя модель случайного леса. Линейная регрессия также близка по показателю R2. Хуже всего показала себя модель решающего дерева."
   ]
  },
  {
   "cell_type": "markdown",
   "metadata": {},
   "source": [
    "Проверим данные на тестовой выборке, предварительно вытянув данные из общей выборки по датам для получения значений целевых переменных."
   ]
  },
  {
   "cell_type": "code",
   "execution_count": 22,
   "metadata": {},
   "outputs": [],
   "source": [
    "#df_test_new = df_full.merge(df_test, on='date', how='inner', suffixes=('_left', ''))\n",
    "#df_test_new = df_test_new[df_test_new.columns[87:], 'rougher.output.recovery_left', 'final.output.recovery_left']\n",
    "#print(df_test_new)\n",
    "#df_test_new= df_test_new.dropna()\n",
    "df_test= df_test.dropna()"
   ]
  },
  {
   "cell_type": "code",
   "execution_count": 23,
   "metadata": {},
   "outputs": [],
   "source": [
    "features_test = df_test.drop(['date', 'rougher.output.recovery', 'final.output.recovery'], axis = 1)\n",
    "target_test = df_test[['rougher.output.recovery', 'final.output.recovery']]\n",
    "prediction = model.predict(features_test) "
   ]
  },
  {
   "cell_type": "code",
   "execution_count": 24,
   "metadata": {},
   "outputs": [
    {
     "name": "stdout",
     "output_type": "stream",
     "text": [
      "RMSE: 13.62448182355689\n",
      "R2: -0.2544312258841266\n",
      "MAE: 8.12000150726871\n",
      "sMAPE: 12.32%\n"
     ]
    }
   ],
   "source": [
    "print('RMSE:', mean_squared_error(target_test, prediction)**0.5)\n",
    "print('R2:', r2_score(target_test, prediction))\n",
    "print('MAE:', mean_absolute_error(target_test, prediction))\n",
    "print('sMAPE:',\"{0:.2f}%\".format(smape(target_test, prediction )))"
   ]
  },
  {
   "cell_type": "markdown",
   "metadata": {},
   "source": [
    "Отработка модели на тестовой выборке удовлетворительная. sMAPE чуть более12%, MAE чуть больше 8 - данные прогнозируются достаточно точно. Модель допустима к применению в продакшене."
   ]
  }
 ],
 "metadata": {
  "kernelspec": {
   "display_name": "Python 3",
   "language": "python",
   "name": "python3"
  },
  "language_info": {
   "codemirror_mode": {
    "name": "ipython",
    "version": 3
   },
   "file_extension": ".py",
   "mimetype": "text/x-python",
   "name": "python",
   "nbconvert_exporter": "python",
   "pygments_lexer": "ipython3",
   "version": "3.8.5"
  },
  "toc": {
   "base_numbering": 1,
   "nav_menu": {},
   "number_sections": true,
   "sideBar": true,
   "skip_h1_title": true,
   "title_cell": "Содержание",
   "title_sidebar": "Contents",
   "toc_cell": true,
   "toc_position": {
    "height": "calc(100% - 180px)",
    "left": "10px",
    "top": "150px",
    "width": "235.6px"
   },
   "toc_section_display": true,
   "toc_window_display": false
  }
 },
 "nbformat": 4,
 "nbformat_minor": 2
}
