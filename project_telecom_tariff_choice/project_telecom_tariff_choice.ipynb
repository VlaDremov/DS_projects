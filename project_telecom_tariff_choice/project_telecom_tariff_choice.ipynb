{
 "cells": [
  {
   "cell_type": "markdown",
   "metadata": {},
   "source": [
    "# Определение перспективного тарифа для телеком компании\n",
    "\n",
    "Вы аналитик компании «Мегалайн» — федерального оператора сотовой связи. Клиентам предлагают два тарифных плана: «Смарт» и «Ультра». Чтобы скорректировать рекламный бюджет, коммерческий департамент хочет понять, какой тариф приносит больше денег.\n",
    "\n",
    "Вам предстоит сделать предварительный анализ тарифов на небольшой выборке клиентов. В вашем распоряжении данные 500 пользователей «Мегалайна»: кто они, откуда, каким тарифом пользуются, сколько звонков и сообщений каждый отправил за 2018 год. Нужно проанализировать поведение клиентов и сделать вывод — какой тариф лучше.\n",
    "\n",
    "\n",
    "<b>Описание тарифов </b> <br>\n",
    "<b> 1. Тариф «Смарт» </b>\n",
    "* Ежемесячная плата: 550 рублей\n",
    "* Включено 500 минут разговора, 50 сообщений и 15 Гб интернет-трафика\n",
    "* Стоимость услуг сверх тарифного пакета:\n",
    "* минута разговора: 3 рубля\n",
    "* сообщение: 3 рубля\n",
    "* 1 Гб интернет-трафика: 200 рублей <br>\n",
    "\n",
    "<b> 2. Тариф «Ультра» </b>\n",
    "* Ежемесячная плата: 1950 рублей\n",
    "* Включено 3000 минут разговора, 1000 сообщений и 30 Гб интернет-трафика\n",
    "* Стоимость услуг сверх тарифного пакета:\n",
    "* минута разговора: 1 рубль\n",
    "* сообщение: 1 рубль\n",
    "* 1 Гб интернет-трафика: 150 рублей\n",
    "\n",
    "<br>В качестве исходных данных получено 5 таблиц с информацией о клиентах и тем, какими услугами и как они пользуются. Ниже приведена информация о полях таблиц.\n",
    "\n",
    "<br><b>1. Таблица users (информация о пользователях):</b>\n",
    "<br>user_id — уникальный идентификатор пользователя\n",
    "<br>first_name — имя пользователя\n",
    "<br>last_name — фамилия пользователя\n",
    "<br>age — возраст пользователя (годы)\n",
    "<br>reg_date — дата подключения тарифа (день, месяц, год)\n",
    "<br>churn_date — дата прекращения пользования тарифом (если значение пропущено, то тариф ещё действовал на момент выгрузки данных)\n",
    "<br>city — город проживания пользователя\n",
    "<br>tariff — название тарифного плана\n",
    "\n",
    "<br><b>2. Таблица calls (информация о звонках):</b>\n",
    "<br>id — уникальный номер звонка\n",
    "<br>call_date — дата звонка\n",
    "<br>duration — длительность звонка в минутах\n",
    "<br>user_id — идентификатор пользователя, сделавшего звонок\n",
    "\n",
    "<br><b>3. Таблица messages (информация о сообщениях):</b>\n",
    "<br>id — уникальный номер сообщения\n",
    "<br>message_date — дата сообщения\n",
    "<br>user_id — идентификатор пользователя, отправившего сообщение\n",
    "\n",
    "<br><b>4. Таблица internet (информация об интернет-сессиях): </b>\n",
    "<br>id — уникальный номер сессии\n",
    "<br>mb_used — объём потраченного за сессию интернет-трафика (в мегабайтах)\n",
    "<br>session_date — дата интернет-сессии\n",
    "<br>user_id — идентификатор пользователя\n",
    "\n",
    "\n",
    "<br><b>5. Таблица tariffs (информация о тарифах):  </b>\n",
    "<br>tariff_name — название тарифа\n",
    "<br>rub_monthly_fee — ежемесячная абонентская плата в рублях\n",
    "<br>minutes_included — количество минут разговора в месяц, включённых в абонентскую плату\n",
    "<br>messages_included — количество сообщений в месяц, включённых в абонентскую плату\n",
    "<br>mb_per_month_included — объём интернет-трафика, включённого в абонентскую плату (в мегабайтах)\n",
    "<br>rub_per_minute — стоимость минуты разговора сверх тарифного пакета (например, если в тарифе 100 минут разговора в месяц, то со 101 минуты будет взиматься плата)\n",
    "<br>rub_per_message — стоимость отправки сообщения сверх тарифного пакета\n",
    "<br>rub_per_gb — стоимость дополнительного гигабайта интернет-трафика сверх тарифного пакета (1 гигабайт = 1024 мегабайта)\n",
    "\n",
    "\n",
    "Исследование разделено на несколько частей:\n",
    "\n",
    "<b> Данное исследование разделим на несколько частей.\n",
    "\n",
    "<b> Часть 1. Изучение общей информации:\n",
    "* [1. Изучение файлов с данными, получение общей информации, загрузка библиотек.](#ch_1_1)\n",
    "\n",
    "<b> Часть 2. Предобработка данных:\n",
    "* [1. Приведение данных к нужным типам.](#ch_2_1)\n",
    "* [2. Нахождение и ликвидация ошибок в данных.](#ch_2_2)\n",
    "* [3. Расчет и добавление данных в датафрейм.](#ch_2_3)    \n",
    "\n",
    "<b> Часть 3. Проведение анализа выборок:\n",
    "* [1. Описание поведения клиентов в зависимости от тарифа.](#ch_3_1)\n",
    "\n",
    "<b> Часть 4. Проверка статистических гипотез:\n",
    "* [1. Гипотеза об отличии средней выручки пользователей тарифов.](#ch_4_1)\n",
    "* [2. Гипотеза об отличии средней выручки жителей Москвы от всех остальных.](#ch_4_2)\n",
    "\n",
    "<b> Часть 5. Выводы:\n",
    "* [1. Выводы.](#ch_5_1)"
   ]
  },
  {
   "cell_type": "markdown",
   "metadata": {},
   "source": [
    "## Открытие файлов с данными и изучение общей информации <a id='ch_1_1'></a>"
   ]
  },
  {
   "cell_type": "code",
   "execution_count": 1,
   "metadata": {},
   "outputs": [
    {
     "name": "stdout",
     "output_type": "stream",
     "text": [
      "<class 'pandas.core.frame.DataFrame'>\n",
      "RangeIndex: 149396 entries, 0 to 149395\n",
      "Data columns (total 5 columns):\n",
      "Unnamed: 0      149396 non-null int64\n",
      "id              149396 non-null object\n",
      "mb_used         149396 non-null float64\n",
      "session_date    149396 non-null object\n",
      "user_id         149396 non-null int64\n",
      "dtypes: float64(1), int64(2), object(2)\n",
      "memory usage: 5.7+ MB\n"
     ]
    },
    {
     "data": {
      "text/html": [
       "<div>\n",
       "<style scoped>\n",
       "    .dataframe tbody tr th:only-of-type {\n",
       "        vertical-align: middle;\n",
       "    }\n",
       "\n",
       "    .dataframe tbody tr th {\n",
       "        vertical-align: top;\n",
       "    }\n",
       "\n",
       "    .dataframe thead th {\n",
       "        text-align: right;\n",
       "    }\n",
       "</style>\n",
       "<table border=\"1\" class=\"dataframe\">\n",
       "  <thead>\n",
       "    <tr style=\"text-align: right;\">\n",
       "      <th></th>\n",
       "      <th>Unnamed: 0</th>\n",
       "      <th>id</th>\n",
       "      <th>mb_used</th>\n",
       "      <th>session_date</th>\n",
       "      <th>user_id</th>\n",
       "    </tr>\n",
       "  </thead>\n",
       "  <tbody>\n",
       "    <tr>\n",
       "      <td>0</td>\n",
       "      <td>0</td>\n",
       "      <td>1000_0</td>\n",
       "      <td>112.95</td>\n",
       "      <td>2018-11-25</td>\n",
       "      <td>1000</td>\n",
       "    </tr>\n",
       "    <tr>\n",
       "      <td>1</td>\n",
       "      <td>1</td>\n",
       "      <td>1000_1</td>\n",
       "      <td>1052.81</td>\n",
       "      <td>2018-09-07</td>\n",
       "      <td>1000</td>\n",
       "    </tr>\n",
       "    <tr>\n",
       "      <td>2</td>\n",
       "      <td>2</td>\n",
       "      <td>1000_2</td>\n",
       "      <td>1197.26</td>\n",
       "      <td>2018-06-25</td>\n",
       "      <td>1000</td>\n",
       "    </tr>\n",
       "    <tr>\n",
       "      <td>3</td>\n",
       "      <td>3</td>\n",
       "      <td>1000_3</td>\n",
       "      <td>550.27</td>\n",
       "      <td>2018-08-22</td>\n",
       "      <td>1000</td>\n",
       "    </tr>\n",
       "    <tr>\n",
       "      <td>4</td>\n",
       "      <td>4</td>\n",
       "      <td>1000_4</td>\n",
       "      <td>302.56</td>\n",
       "      <td>2018-09-24</td>\n",
       "      <td>1000</td>\n",
       "    </tr>\n",
       "  </tbody>\n",
       "</table>\n",
       "</div>"
      ],
      "text/plain": [
       "   Unnamed: 0      id  mb_used session_date  user_id\n",
       "0           0  1000_0   112.95   2018-11-25     1000\n",
       "1           1  1000_1  1052.81   2018-09-07     1000\n",
       "2           2  1000_2  1197.26   2018-06-25     1000\n",
       "3           3  1000_3   550.27   2018-08-22     1000\n",
       "4           4  1000_4   302.56   2018-09-24     1000"
      ]
     },
     "execution_count": 1,
     "metadata": {},
     "output_type": "execute_result"
    }
   ],
   "source": [
    "import pandas as pd\n",
    "import numpy as np\n",
    "from scipy import stats as st\n",
    "import math as mt\n",
    "\n",
    "users = pd.read_csv('/datasets/users.csv')\n",
    "internet = pd.read_csv('/datasets/internet.csv')\n",
    "calls = pd.read_csv('/datasets/calls.csv')\n",
    "tariffs = pd.read_csv('/datasets/tariffs.csv')\n",
    "messages = pd.read_csv('/datasets/messages.csv')\n",
    "\n",
    "\n",
    "internet.info()\n",
    "internet.head(5)"
   ]
  },
  {
   "cell_type": "markdown",
   "metadata": {},
   "source": [
    "<b> Выводы </b>\n",
    "<br>\n",
    "На первый взгляд всё неплохо. \n",
    "В датафрейме internet один лишний столбец, все даты в формате object. Пустых значений нет. Дубликатов тоже нет."
   ]
  },
  {
   "cell_type": "markdown",
   "metadata": {},
   "source": [
    "## Предобработка данных "
   ]
  },
  {
   "cell_type": "markdown",
   "metadata": {},
   "source": [
    "### Приведение данных к нужным типам <a id='ch_2_1'></a>"
   ]
  },
  {
   "cell_type": "code",
   "execution_count": 2,
   "metadata": {},
   "outputs": [],
   "source": [
    "users['reg_date'] = pd.to_datetime(users['reg_date'], format= '%Y-%m-%d')\n",
    "users['churn_date'] = pd.to_datetime(users['churn_date'], format= '%Y-%m-%d')\n",
    "internet['session_date'] = pd.to_datetime(internet['session_date'], format= '%Y-%m-%d')\n",
    "calls['call_date'] = pd.to_datetime(calls['call_date'], format= '%Y-%m-%d')\n",
    "messages['message_date'] = pd.to_datetime(messages['message_date'], format= '%Y-%m-%d')"
   ]
  },
  {
   "cell_type": "markdown",
   "metadata": {},
   "source": [
    "Все столбцы с датами приведены к соответствующему формату."
   ]
  },
  {
   "cell_type": "markdown",
   "metadata": {},
   "source": [
    "### Нахождение и ликвидация ошибок в данных <a id='ch_2_2'></a>"
   ]
  },
  {
   "cell_type": "code",
   "execution_count": 3,
   "metadata": {},
   "outputs": [
    {
     "data": {
      "text/plain": [
       "<matplotlib.axes._subplots.AxesSubplot at 0x7f26e82e2f90>"
      ]
     },
     "execution_count": 3,
     "metadata": {},
     "output_type": "execute_result"
    },
    {
     "data": {
      "image/png": "[encoded data removed]",
      "text/plain": [
       "<Figure size 432x288 with 1 Axes>"
      ]
     },
     "metadata": {
      "needs_background": "light"
     },
     "output_type": "display_data"
    }
   ],
   "source": [
    "internet = internet.drop('Unnamed: 0', axis = 1)\n",
    "internet['mb_used'].hist(bins = 50)"
   ]
  },
  {
   "cell_type": "code",
   "execution_count": 4,
   "metadata": {},
   "outputs": [
    {
     "name": "stdout",
     "output_type": "stream",
     "text": [
      "<class 'pandas.core.frame.DataFrame'>\n",
      "RangeIndex: 202607 entries, 0 to 202606\n",
      "Data columns (total 5 columns):\n",
      "id               202607 non-null object\n",
      "call_date        202607 non-null datetime64[ns]\n",
      "duration         202607 non-null float64\n",
      "user_id          202607 non-null int64\n",
      "nonzeroesamnt    202607 non-null int64\n",
      "dtypes: datetime64[ns](1), float64(1), int64(2), object(1)\n",
      "memory usage: 7.7+ MB\n",
      "AxesSubplot(0.125,0.125;0.775x0.755)\n"
     ]
    },
    {
     "data": {
      "image/png": "[encoded data removed]",
      "text/plain": [
       "<Figure size 432x288 with 1 Axes>"
      ]
     },
     "metadata": {
      "needs_background": "light"
     },
     "output_type": "display_data"
    }
   ],
   "source": [
    "internet = internet.query( 'mb_used != 0')\n",
    "callscut = calls.query('duration != 0')\n",
    "callszero = calls.query('duration == 0')\n",
    "\n",
    "calls['nonzeroesamnt'] = np.where(calls['duration']!=0, 1, 0)\n",
    "calls.info()\n",
    "\n",
    "pvt = calls.pivot_table(index = 'user_id', values = 'nonzeroesamnt', aggfunc = ['sum', 'count'])\n",
    "pvt.columns = ['sum', 'cnt']\n",
    "pvt['avg'] = pvt['sum'] / pvt['cnt']\n",
    "pvt['qnt'] = pvt['cnt'] - pvt ['sum']\n",
    "print(pvt['avg'].hist(bins = 100))\n",
    "calls = calls.drop('nonzeroesamnt', axis = 1)"
   ]
  },
  {
   "cell_type": "markdown",
   "metadata": {},
   "source": [
    "Данные с нулевым интернет траффиком удалены, за выход в интернет такое посчитать нельзя, да и смысловой нагрузки эти значения не несут. \n",
    "А вот звонки с нулевым временем разговора решено оставить. И хотя доля ненулевых по длине разговоров сконцентрирована возле 0.8, И гистаграммы с разбитием по user_id для общего df, df только с нулевыми значениями и без них выглядят похоже, это не кажется достаточно убедительными причинами для удаления данных. Нулевое время разговора может быть как для входящих звонков, так и для исходящих."
   ]
  },
  {
   "cell_type": "markdown",
   "metadata": {},
   "source": [
    "### Расчет и добавление данных в датафрейм <a id='ch_2_3'></a>"
   ]
  },
  {
   "cell_type": "code",
   "execution_count": 5,
   "metadata": {},
   "outputs": [
    {
     "name": "stdout",
     "output_type": "stream",
     "text": [
      "Кол-во звонков и сумма минут по месяцам:         sum                                                        ... count  \\\n",
      "month    1   2   3   4      5      6      7      8      9      10  ...    3    \n",
      "user_id                                                            ...         \n",
      "1000    NaN NaN NaN NaN  159.0  172.0  340.0  408.0  466.0  350.0  ...   NaN   \n",
      "1001    NaN NaN NaN NaN    NaN    NaN    NaN    NaN    NaN    NaN  ...   NaN   \n",
      "1002    NaN NaN NaN NaN    NaN  117.0  214.0  289.0  206.0  212.0  ...   NaN   \n",
      "1003    NaN NaN NaN NaN    NaN    NaN    NaN  380.0  961.0  855.0  ...   NaN   \n",
      "1004    NaN NaN NaN NaN   35.0  171.0  135.0  137.0  117.0  145.0  ...   NaN   \n",
      "\n",
      "                                                                 \n",
      "month    4     5     6     7     8      9      10     11     12  \n",
      "user_id                                                          \n",
      "1000    NaN  22.0  43.0  47.0  52.0   58.0   57.0   43.0   46.0  \n",
      "1001    NaN   NaN   NaN   NaN   NaN    NaN    NaN   59.0   63.0  \n",
      "1002    NaN   NaN  15.0  26.0  42.0   36.0   33.0   32.0   33.0  \n",
      "1003    NaN   NaN   NaN   NaN  55.0  134.0  108.0  115.0  108.0  \n",
      "1004    NaN   9.0  31.0  22.0  19.0   26.0   29.0   19.0   21.0  \n",
      "\n",
      "[5 rows x 24 columns]\n",
      "Траффик по месяцам:         sum                                                                    \\\n",
      "month    1   2   3   4        5        6        7        8        9        10   \n",
      "user_id                                                                         \n",
      "1000    NaN NaN NaN NaN   2256.0  23257.0  14016.0  14070.0  14581.0  14717.0   \n",
      "1001    NaN NaN NaN NaN      NaN      NaN      NaN      NaN      NaN      NaN   \n",
      "1002    NaN NaN NaN NaN      NaN  10871.0  17601.0  20347.0  16712.0  13905.0   \n",
      "1003    NaN NaN NaN NaN      NaN      NaN      NaN   8571.0  12479.0  14779.0   \n",
      "1004    NaN NaN NaN NaN  13415.0  17619.0  22243.0  28607.0  15125.0  18494.0   \n",
      "\n",
      "                           \n",
      "month         11       12  \n",
      "user_id                    \n",
      "1000     14768.0   9827.0  \n",
      "1001     18452.0  14053.0  \n",
      "1002     18610.0  18137.0  \n",
      "1003     11368.0  10132.0  \n",
      "1004     15631.0  18038.0  \n",
      "Кол-во сообщений по месяцам:         count                                                             \\\n",
      "month      1     2     3     4     5      6      7      8      9      10   \n",
      "user_id                                                                    \n",
      "1000      NaN   NaN   NaN   NaN  22.0   60.0   75.0   81.0   57.0   73.0   \n",
      "1002      NaN   NaN   NaN   NaN   NaN    4.0   11.0   13.0    4.0   10.0   \n",
      "1003      NaN   NaN   NaN   NaN   NaN    NaN    NaN   37.0   91.0   83.0   \n",
      "1004      NaN   NaN   NaN   NaN  95.0  134.0  181.0  151.0  146.0  165.0   \n",
      "1005      7.0  38.0  56.0  41.0  42.0   47.0   56.0   64.0   52.0   44.0   \n",
      "\n",
      "                       \n",
      "month       11     12  \n",
      "user_id                \n",
      "1000      58.0   70.0  \n",
      "1002      16.0   12.0  \n",
      "1003      94.0   75.0  \n",
      "1004     158.0  162.0  \n",
      "1005      51.0   54.0  \n"
     ]
    }
   ],
   "source": [
    "callsmerged = users.merge(calls, on = 'user_id')\n",
    "callsmerged['month'] = pd.DatetimeIndex(callsmerged['call_date']).month\n",
    "\n",
    "internetmerged = users.merge(internet, on = 'user_id')\n",
    "internetmerged['month'] = pd.DatetimeIndex(internetmerged['session_date']).month\n",
    "\n",
    "messagesmerged = users.merge(messages, on = 'user_id')\n",
    "messagesmerged['month'] = pd.DatetimeIndex(messagesmerged['message_date']).month\n",
    "\n",
    "#окгрулгяем данные согласно условию\n",
    "callsmerged['duration'] = callsmerged['duration'].apply(np.ceil)\n",
    "internetmerged['mb_used'] = internetmerged['mb_used'].apply(np.ceil)\n",
    "\n",
    "callspivot = callsmerged.pivot_table(index = 'user_id', values = 'duration', columns = 'month', aggfunc = ['sum', 'count'])\n",
    "internetpivot = internetmerged.pivot_table(index = 'user_id', values = 'mb_used', columns = 'month', aggfunc = ['sum'])\n",
    "messagespivot = messagesmerged.pivot_table(index = 'user_id', values = 'id', columns = 'month', aggfunc = ['count'])\n",
    "\n",
    "print('Кол-во звонков и сумма минут по месяцам:', callspivot.head())\n",
    "print('Траффик по месяцам:', internetpivot.head())\n",
    "print('Кол-во сообщений по месяцам:', messagespivot.head())"
   ]
  },
  {
   "cell_type": "markdown",
   "metadata": {},
   "source": [
    "Произведено объединение таблиц по user_id, сводные таблицы для звонков, сообщений, интернет-траффика с помесячной разбивкой построены."
   ]
  },
  {
   "cell_type": "code",
   "execution_count": 6,
   "metadata": {},
   "outputs": [
    {
     "name": "stdout",
     "output_type": "stream",
     "text": [
      "   user_id  month  calls_duration  calls_cnt  messages_cnt  mb_used  \\\n",
      "0     1005    1.0            95.0       15.0           7.0   2730.0   \n",
      "1     1005    2.0           456.0       69.0          38.0   7394.0   \n",
      "2     1005    3.0           606.0       77.0          56.0  11117.0   \n",
      "3     1005    4.0           712.0      101.0          41.0   9365.0   \n",
      "4     1005    5.0           595.0       73.0          42.0   7877.0   \n",
      "\n",
      "  tariff_name              city  messages_included  mb_per_month_included  \\\n",
      "0       smart  Набережные Челны                 50                  15360   \n",
      "1       smart  Набережные Челны                 50                  15360   \n",
      "2       smart  Набережные Челны                 50                  15360   \n",
      "3       smart  Набережные Челны                 50                  15360   \n",
      "4       smart  Набережные Челны                 50                  15360   \n",
      "\n",
      "   minutes_included  rub_monthly_fee  rub_per_gb  rub_per_message  \\\n",
      "0               500              550         200                3   \n",
      "1               500              550         200                3   \n",
      "2               500              550         200                3   \n",
      "3               500              550         200                3   \n",
      "4               500              550         200                3   \n",
      "\n",
      "   rub_per_minute  messages_debt  minutes_debt  gbs_debt  fee_total  \n",
      "0               3            0.0           0.0       0.0      550.0  \n",
      "1               3            0.0           0.0       0.0      550.0  \n",
      "2               3           18.0         318.0       0.0      886.0  \n",
      "3               3            0.0         636.0       0.0     1186.0  \n",
      "4               3            0.0         285.0       0.0      835.0  \n"
     ]
    }
   ],
   "source": [
    "#группируем таблицы по смс, звонкам, траффику отдельно\n",
    "callsgrouped = callsmerged.groupby(['month','user_id'])['duration'].agg(['sum', 'count'])\n",
    "messagesgrouped = messagesmerged.groupby(['month', 'user_id'])['id'].agg(['count'])\n",
    "internetgrouped = internetmerged.groupby(['month', 'user_id'])['mb_used'] .agg(['sum'])\n",
    "#соединяем три таблицы, сбрасываем индекс номера месяца, подтягиваем название тарифа\n",
    "tottable = callsgrouped.merge(messagesgrouped, on = ['user_id', 'month'], how = 'outer')\\\n",
    "                       .merge(internetgrouped, on = ['user_id', 'month'], how = 'outer')\\\n",
    "                       .reset_index(level = 'month')\\\n",
    "                       .merge(users[['user_id', 'tariff', 'city']], on = ['user_id'], how = 'outer')\n",
    "#подтягиваем информацию о тарифе\n",
    "tottable.columns = ['user_id', 'month', 'calls_duration', 'calls_cnt', 'messages_cnt', 'mb_used', 'tariff_name', 'city']\n",
    "tottable = tottable.merge(tariffs, on = ['tariff_name'], how = 'outer')\n",
    "#рассчитываем задолженность по каждому типу услуги, рассчитываем общую задолженность\n",
    "tottable['messages_debt'] = np.where(tottable['messages_included'] - tottable['messages_cnt'] < 0,\\\n",
    "                                     (tottable['messages_cnt'] - tottable['messages_included'])\\\n",
    "                                     * tottable['rub_per_message'], 0)  \n",
    "tottable['minutes_debt'] = np.where(tottable['minutes_included'] - tottable['calls_duration'] < 0,\\\n",
    "                                   (tottable['calls_duration'] - tottable['minutes_included']).apply(np.ceil)\\\n",
    "                                    * tottable['rub_per_minute'], 0)\n",
    "tottable['gbs_debt'] = np.where(tottable['mb_per_month_included'] - tottable['mb_used'] < 0,\\\n",
    "                                ((tottable['mb_used'] - tottable['mb_per_month_included'])/ 1024).apply(np.ceil)\\\n",
    "                                * tottable['rub_per_gb'], 0) \n",
    "tottable['fee_total'] = tottable['messages_debt'] + tottable['minutes_debt'] + tottable['gbs_debt']+\\\n",
    "                           tottable['rub_monthly_fee']\n",
    "    \n",
    "print(tottable.head())\n"
   ]
  },
  {
   "cell_type": "markdown",
   "metadata": {},
   "source": [
    "<b> Вывод </b>\n",
    "<br>\n",
    "Предварительно сгруппированные таблицы с информацией о звонках, смс, интернет-траффике объединены между собой. К ним присоединена информация о соответсвующем тарифе, произведен расчет суммарного платежа за тариф помесячно."
   ]
  },
  {
   "cell_type": "markdown",
   "metadata": {},
   "source": [
    "## Анализ данных"
   ]
  },
  {
   "cell_type": "markdown",
   "metadata": {},
   "source": [
    "### Описание поведения клиентов в зависимости от тарифа"
   ]
  },
  {
   "cell_type": "code",
   "execution_count": 7,
   "metadata": {},
   "outputs": [
    {
     "data": {
      "text/html": [
       "<div>\n",
       "<style scoped>\n",
       "    .dataframe tbody tr th:only-of-type {\n",
       "        vertical-align: middle;\n",
       "    }\n",
       "\n",
       "    .dataframe tbody tr th {\n",
       "        vertical-align: top;\n",
       "    }\n",
       "\n",
       "    .dataframe thead th {\n",
       "        text-align: right;\n",
       "    }\n",
       "</style>\n",
       "<table border=\"1\" class=\"dataframe\">\n",
       "  <thead>\n",
       "    <tr style=\"text-align: right;\">\n",
       "      <th></th>\n",
       "      <th>user_id</th>\n",
       "      <th>month</th>\n",
       "      <th>calls_duration</th>\n",
       "      <th>calls_cnt</th>\n",
       "      <th>messages_cnt</th>\n",
       "      <th>mb_used</th>\n",
       "      <th>messages_included</th>\n",
       "      <th>mb_per_month_included</th>\n",
       "      <th>minutes_included</th>\n",
       "      <th>rub_monthly_fee</th>\n",
       "      <th>rub_per_gb</th>\n",
       "      <th>rub_per_message</th>\n",
       "      <th>rub_per_minute</th>\n",
       "      <th>messages_debt</th>\n",
       "      <th>minutes_debt</th>\n",
       "      <th>gbs_debt</th>\n",
       "      <th>fee_total</th>\n",
       "    </tr>\n",
       "  </thead>\n",
       "  <tbody>\n",
       "    <tr>\n",
       "      <td>count</td>\n",
       "      <td>3216.000000</td>\n",
       "      <td>3214.000000</td>\n",
       "      <td>3174.000000</td>\n",
       "      <td>3174.000000</td>\n",
       "      <td>2717.000000</td>\n",
       "      <td>3201.000000</td>\n",
       "      <td>3216.000000</td>\n",
       "      <td>3216.000000</td>\n",
       "      <td>3216.000000</td>\n",
       "      <td>3216.000000</td>\n",
       "      <td>3216.000000</td>\n",
       "      <td>3216.000000</td>\n",
       "      <td>3216.000000</td>\n",
       "      <td>3216.000000</td>\n",
       "      <td>3216.000000</td>\n",
       "      <td>3216.000000</td>\n",
       "      <td>3216.000000</td>\n",
       "    </tr>\n",
       "    <tr>\n",
       "      <td>mean</td>\n",
       "      <td>1251.588930</td>\n",
       "      <td>8.317362</td>\n",
       "      <td>456.931632</td>\n",
       "      <td>63.833333</td>\n",
       "      <td>45.283769</td>\n",
       "      <td>17297.550453</td>\n",
       "      <td>341.262438</td>\n",
       "      <td>20069.253731</td>\n",
       "      <td>1266.480100</td>\n",
       "      <td>979.228856</td>\n",
       "      <td>184.670398</td>\n",
       "      <td>2.386816</td>\n",
       "      <td>2.386816</td>\n",
       "      <td>12.059701</td>\n",
       "      <td>86.510261</td>\n",
       "      <td>454.617537</td>\n",
       "      <td>1532.416356</td>\n",
       "    </tr>\n",
       "    <tr>\n",
       "      <td>std</td>\n",
       "      <td>144.645928</td>\n",
       "      <td>2.905413</td>\n",
       "      <td>238.031270</td>\n",
       "      <td>32.678036</td>\n",
       "      <td>35.051363</td>\n",
       "      <td>7513.504652</td>\n",
       "      <td>438.092669</td>\n",
       "      <td>7083.266729</td>\n",
       "      <td>1152.875444</td>\n",
       "      <td>645.610249</td>\n",
       "      <td>23.057509</td>\n",
       "      <td>0.922300</td>\n",
       "      <td>0.922300</td>\n",
       "      <td>34.517318</td>\n",
       "      <td>219.173942</td>\n",
       "      <td>687.158128</td>\n",
       "      <td>799.624368</td>\n",
       "    </tr>\n",
       "    <tr>\n",
       "      <td>min</td>\n",
       "      <td>1000.000000</td>\n",
       "      <td>1.000000</td>\n",
       "      <td>0.000000</td>\n",
       "      <td>1.000000</td>\n",
       "      <td>1.000000</td>\n",
       "      <td>202.000000</td>\n",
       "      <td>50.000000</td>\n",
       "      <td>15360.000000</td>\n",
       "      <td>500.000000</td>\n",
       "      <td>550.000000</td>\n",
       "      <td>150.000000</td>\n",
       "      <td>1.000000</td>\n",
       "      <td>1.000000</td>\n",
       "      <td>0.000000</td>\n",
       "      <td>0.000000</td>\n",
       "      <td>0.000000</td>\n",
       "      <td>550.000000</td>\n",
       "    </tr>\n",
       "    <tr>\n",
       "      <td>25%</td>\n",
       "      <td>1125.000000</td>\n",
       "      <td>6.000000</td>\n",
       "      <td>290.000000</td>\n",
       "      <td>41.000000</td>\n",
       "      <td>19.000000</td>\n",
       "      <td>12567.000000</td>\n",
       "      <td>50.000000</td>\n",
       "      <td>15360.000000</td>\n",
       "      <td>500.000000</td>\n",
       "      <td>550.000000</td>\n",
       "      <td>150.000000</td>\n",
       "      <td>1.000000</td>\n",
       "      <td>1.000000</td>\n",
       "      <td>0.000000</td>\n",
       "      <td>0.000000</td>\n",
       "      <td>0.000000</td>\n",
       "      <td>750.000000</td>\n",
       "    </tr>\n",
       "    <tr>\n",
       "      <td>50%</td>\n",
       "      <td>1253.000000</td>\n",
       "      <td>9.000000</td>\n",
       "      <td>447.000000</td>\n",
       "      <td>63.000000</td>\n",
       "      <td>38.000000</td>\n",
       "      <td>16986.000000</td>\n",
       "      <td>50.000000</td>\n",
       "      <td>15360.000000</td>\n",
       "      <td>500.000000</td>\n",
       "      <td>550.000000</td>\n",
       "      <td>200.000000</td>\n",
       "      <td>3.000000</td>\n",
       "      <td>3.000000</td>\n",
       "      <td>0.000000</td>\n",
       "      <td>0.000000</td>\n",
       "      <td>0.000000</td>\n",
       "      <td>1667.500000</td>\n",
       "    </tr>\n",
       "    <tr>\n",
       "      <td>75%</td>\n",
       "      <td>1378.250000</td>\n",
       "      <td>11.000000</td>\n",
       "      <td>592.000000</td>\n",
       "      <td>83.000000</td>\n",
       "      <td>63.000000</td>\n",
       "      <td>21458.000000</td>\n",
       "      <td>1000.000000</td>\n",
       "      <td>30720.000000</td>\n",
       "      <td>3000.000000</td>\n",
       "      <td>1950.000000</td>\n",
       "      <td>200.000000</td>\n",
       "      <td>3.000000</td>\n",
       "      <td>3.000000</td>\n",
       "      <td>0.000000</td>\n",
       "      <td>0.000000</td>\n",
       "      <td>800.000000</td>\n",
       "      <td>1950.000000</td>\n",
       "    </tr>\n",
       "    <tr>\n",
       "      <td>max</td>\n",
       "      <td>1499.000000</td>\n",
       "      <td>12.000000</td>\n",
       "      <td>1673.000000</td>\n",
       "      <td>244.000000</td>\n",
       "      <td>224.000000</td>\n",
       "      <td>49789.000000</td>\n",
       "      <td>1000.000000</td>\n",
       "      <td>30720.000000</td>\n",
       "      <td>3000.000000</td>\n",
       "      <td>1950.000000</td>\n",
       "      <td>200.000000</td>\n",
       "      <td>3.000000</td>\n",
       "      <td>3.000000</td>\n",
       "      <td>279.000000</td>\n",
       "      <td>2805.000000</td>\n",
       "      <td>4600.000000</td>\n",
       "      <td>6770.000000</td>\n",
       "    </tr>\n",
       "  </tbody>\n",
       "</table>\n",
       "</div>"
      ],
      "text/plain": [
       "           user_id        month  calls_duration    calls_cnt  messages_cnt  \\\n",
       "count  3216.000000  3214.000000     3174.000000  3174.000000   2717.000000   \n",
       "mean   1251.588930     8.317362      456.931632    63.833333     45.283769   \n",
       "std     144.645928     2.905413      238.031270    32.678036     35.051363   \n",
       "min    1000.000000     1.000000        0.000000     1.000000      1.000000   \n",
       "25%    1125.000000     6.000000      290.000000    41.000000     19.000000   \n",
       "50%    1253.000000     9.000000      447.000000    63.000000     38.000000   \n",
       "75%    1378.250000    11.000000      592.000000    83.000000     63.000000   \n",
       "max    1499.000000    12.000000     1673.000000   244.000000    224.000000   \n",
       "\n",
       "            mb_used  messages_included  mb_per_month_included  \\\n",
       "count   3201.000000        3216.000000            3216.000000   \n",
       "mean   17297.550453         341.262438           20069.253731   \n",
       "std     7513.504652         438.092669            7083.266729   \n",
       "min      202.000000          50.000000           15360.000000   \n",
       "25%    12567.000000          50.000000           15360.000000   \n",
       "50%    16986.000000          50.000000           15360.000000   \n",
       "75%    21458.000000        1000.000000           30720.000000   \n",
       "max    49789.000000        1000.000000           30720.000000   \n",
       "\n",
       "       minutes_included  rub_monthly_fee   rub_per_gb  rub_per_message  \\\n",
       "count       3216.000000      3216.000000  3216.000000      3216.000000   \n",
       "mean        1266.480100       979.228856   184.670398         2.386816   \n",
       "std         1152.875444       645.610249    23.057509         0.922300   \n",
       "min          500.000000       550.000000   150.000000         1.000000   \n",
       "25%          500.000000       550.000000   150.000000         1.000000   \n",
       "50%          500.000000       550.000000   200.000000         3.000000   \n",
       "75%         3000.000000      1950.000000   200.000000         3.000000   \n",
       "max         3000.000000      1950.000000   200.000000         3.000000   \n",
       "\n",
       "       rub_per_minute  messages_debt  minutes_debt     gbs_debt    fee_total  \n",
       "count     3216.000000    3216.000000   3216.000000  3216.000000  3216.000000  \n",
       "mean         2.386816      12.059701     86.510261   454.617537  1532.416356  \n",
       "std          0.922300      34.517318    219.173942   687.158128   799.624368  \n",
       "min          1.000000       0.000000      0.000000     0.000000   550.000000  \n",
       "25%          1.000000       0.000000      0.000000     0.000000   750.000000  \n",
       "50%          3.000000       0.000000      0.000000     0.000000  1667.500000  \n",
       "75%          3.000000       0.000000      0.000000   800.000000  1950.000000  \n",
       "max          3.000000     279.000000   2805.000000  4600.000000  6770.000000  "
      ]
     },
     "execution_count": 7,
     "metadata": {},
     "output_type": "execute_result"
    }
   ],
   "source": [
    "tottable.describe()"
   ]
  },
  {
   "cell_type": "code",
   "execution_count": 8,
   "metadata": {},
   "outputs": [
    {
     "name": "stdout",
     "output_type": "stream",
     "text": [
      "Средние значения помесячно: \n",
      "                    calls_duration       mb_used  messages_cnt\n",
      "tariff_name month                                            \n",
      "smart       1.0        203.852941   8524.441176     20.000000\n",
      "            2.0        298.689655  11611.396552     27.940000\n",
      "            3.0        390.051948  15123.857143     35.550725\n",
      "            4.0        367.133929  13479.482143     35.864583\n",
      "            5.0        387.361702  15825.198582     39.032787\n",
      "            6.0        398.067485  15814.768293     38.577465\n",
      "            7.0        408.353234  15763.512438     38.988506\n",
      "            8.0        423.269231  16703.252137     38.750000\n",
      "            9.0        430.266409  16324.526923     39.219731\n",
      "            10.0       427.590444  16835.829352     39.082677\n",
      "            11.0       436.647619  16917.531646     39.881481\n",
      "            12.0       479.985119  18136.833828     42.264808\n",
      "ultra       1.0        428.111111  13153.555556     43.428571\n",
      "            2.0        297.125000  12858.500000     32.937500\n",
      "            3.0        489.648649  17551.972973     47.800000\n",
      "            4.0        475.301887  16843.800000     44.512821\n",
      "            5.0        534.250000  19977.538462     48.769231\n",
      "            6.0        497.469136  19170.457831     52.313433\n",
      "            7.0        564.397727  20742.588889     62.136986\n",
      "            8.0        530.611650  19778.915094     58.897727\n",
      "            9.0        558.882883  19390.824561     63.294737\n",
      "            10.0       581.728814  20228.327869     69.776699\n",
      "            11.0       562.364341  19954.225564     66.159292\n",
      "            12.0       614.925373  21971.659420     72.008547\n",
      "Дисперсии помесячно: \n",
      "                    calls_duration       mb_used  messages_cnt\n",
      "tariff_name month                                            \n",
      "smart       1.0      23787.341355  4.162621e+07    252.133333\n",
      "            2.0      36412.287961  3.911935e+07    440.465714\n",
      "            3.0      36823.155161  3.405260e+07    669.780477\n",
      "            4.0      34778.207127  3.254736e+07    517.865680\n",
      "            5.0      34820.061094  3.582236e+07    638.775776\n",
      "            6.0      29960.520109  3.361642e+07    731.635801\n",
      "            7.0      32250.269602  3.486110e+07    719.352468\n",
      "            8.0      34177.270551  3.030580e+07    767.213054\n",
      "            9.0      32950.529526  2.706215e+07    702.505555\n",
      "            10.0     34889.530319  3.356758e+07    736.503019\n",
      "            11.0     31100.611101  2.858852e+07    711.361366\n",
      "            12.0     39131.447539  3.114083e+07    832.447114\n",
      "ultra       1.0      72769.361111  4.722641e+07    765.285714\n",
      "            2.0      87919.679348  1.098915e+08    713.395833\n",
      "            3.0     111384.900901  1.201640e+08   1826.666667\n",
      "            4.0      66036.830189  9.462393e+07   1408.256410\n",
      "            5.0      74881.015873  9.217600e+07   1559.553544\n",
      "            6.0      86019.652160  8.314920e+07   1935.672999\n",
      "            7.0      86952.587121  9.783655e+07   2190.730974\n",
      "            8.0      91169.553588  1.073123e+08   2022.966432\n",
      "            9.0      98597.904341  8.764804e+07   1906.763270\n",
      "            10.0     97140.336086  9.371314e+07   2426.606511\n",
      "            11.0     88449.624031  9.609150e+07   2249.295828\n",
      "            12.0    107981.031983  1.051943e+08   2362.870616\n",
      "Cтандартные отклонения помесячно: \n",
      "                    calls_duration       mb_used  messages_cnt\n",
      "tariff_name month                                            \n",
      "smart       1.0        154.231454   6451.837940     15.878707\n",
      "            2.0        190.820041   6254.546293     20.987275\n",
      "            3.0        191.893604   5835.460138     25.880117\n",
      "            4.0        186.489161   5705.029114     22.756662\n",
      "            5.0        186.601343   5985.177978     25.274014\n",
      "            6.0        173.091075   5797.966469     27.048767\n",
      "            7.0        179.583601   5904.328642     26.820747\n",
      "            8.0        184.870956   5505.070456     27.698611\n",
      "            9.0        181.522807   5202.129029     26.504821\n",
      "            10.0       186.787393   5793.753397     27.138589\n",
      "            11.0       176.353653   5346.823769     26.671359\n",
      "            12.0       197.816702   5580.397230     28.852160\n",
      "ultra       1.0        269.757968   6872.147046     27.663798\n",
      "            2.0        296.512528  10482.912471     26.709471\n",
      "            3.0        333.743765  10961.936316     42.739521\n",
      "            4.0        256.976322   9727.483304     37.526743\n",
      "            5.0        273.643958   9600.833462     39.491183\n",
      "            6.0        293.291071   9118.618095     43.996284\n",
      "            7.0        294.877241   9891.235899     46.805245\n",
      "            8.0        301.942964  10359.164436     44.977399\n",
      "            9.0        314.003032   9362.053368     43.666501\n",
      "            10.0       311.673445   9680.554593     49.260598\n",
      "            11.0       297.404815   9802.627285     47.426742\n",
      "            12.0       328.604674  10256.429423     48.609368\n"
     ]
    }
   ],
   "source": [
    "pivavgs_mnth = tottable.pivot_table(index = ['tariff_name', 'month'], values = ['calls_duration',  'messages_cnt','mb_used'], aggfunc = 'mean')\n",
    "print('Средние значения помесячно: \\n', pivavgs_mnth)\n",
    "variances_mnth = tottable.groupby(['tariff_name', 'month'])['calls_duration', 'mb_used', 'messages_cnt'].var()\n",
    "print('Дисперсии помесячно: \\n', variances_mnth)\n",
    "stdevs_mnth = tottable.groupby(['tariff_name', 'month'])['calls_duration', 'mb_used', 'messages_cnt'].std()\n",
    "print('Cтандартные отклонения помесячно: \\n',stdevs_mnth)"
   ]
  },
  {
   "cell_type": "markdown",
   "metadata": {},
   "source": [
    "Явно видно, что у тарифа ultra существенно выше и средние значения, и дисперсия (а значит, и Ст. отклонение). Чтобы не теряться в данных, уберем группировку по месяцам, выведя общие данные по тарифам."
   ]
  },
  {
   "cell_type": "code",
   "execution_count": 9,
   "metadata": {},
   "outputs": [
    {
     "name": "stdout",
     "output_type": "stream",
     "text": [
      "Средние значения: \n",
      "              calls_duration       mb_used  messages_cnt\n",
      "tariff_name                                            \n",
      "smart            419.062978  16243.763359     38.716441\n",
      "ultra            545.451104  19706.979466     61.161006\n",
      "Дисперсии: \n",
      "              calls_duration       mb_used  messages_cnt\n",
      "tariff_name                                            \n",
      "smart          35844.189551  3.434009e+07    717.594201\n",
      "ultra          94203.418396  9.874650e+07   2109.659183\n",
      "Cтандартные отклонения: \n",
      "              calls_duration      mb_used  messages_cnt\n",
      "tariff_name                                           \n",
      "smart            189.325618  5860.041941     26.787949\n",
      "ultra            306.925754  9937.127298     45.931026\n"
     ]
    }
   ],
   "source": [
    "pivavgs = tottable.pivot_table(index = 'tariff_name', values = ['calls_duration',  'messages_cnt','mb_used'], aggfunc = 'mean')\n",
    "print('Средние значения: \\n', pivavgs)\n",
    "variances = tottable.groupby('tariff_name')['calls_duration', 'mb_used', 'messages_cnt'].var()\n",
    "print('Дисперсии: \\n', variances)\n",
    "stdevs = tottable.groupby('tariff_name')['calls_duration', 'mb_used', 'messages_cnt'].std()\n",
    "print('Cтандартные отклонения: \\n',stdevs)"
   ]
  },
  {
   "cell_type": "markdown",
   "metadata": {},
   "source": [
    "И если по средним разница не так велика, то стандартное отклонение по всем трём параметрам выше почти в два раза! Большая разница в разбросе!"
   ]
  },
  {
   "cell_type": "code",
   "execution_count": 10,
   "metadata": {},
   "outputs": [
    {
     "data": {
      "text/plain": [
       "array([<matplotlib.axes._subplots.AxesSubplot object at 0x7f26ddaf9990>,\n",
       "       <matplotlib.axes._subplots.AxesSubplot object at 0x7f26ddaad510>],\n",
       "      dtype=object)"
      ]
     },
     "execution_count": 10,
     "metadata": {},
     "output_type": "execute_result"
    },
    {
     "data": {
      "image/png": "[encoded data removed]",
      "text/plain": [
       "<Figure size 432x288 with 2 Axes>"
      ]
     },
     "metadata": {
      "needs_background": "light"
     },
     "output_type": "display_data"
    },
    {
     "data": {
      "image/png": "[encoded data removed]",
      "text/plain": [
       "<Figure size 432x288 with 2 Axes>"
      ]
     },
     "metadata": {
      "needs_background": "light"
     },
     "output_type": "display_data"
    },
    {
     "data": {
      "image/png": "[encoded data removed]",
      "text/plain": [
       "<Figure size 432x288 with 2 Axes>"
      ]
     },
     "metadata": {
      "needs_background": "light"
     },
     "output_type": "display_data"
    }
   ],
   "source": [
    "#tottable['']\n",
    "#['calls_duration'], 'mb_used', 'messages_cnt')\n",
    "#tottable['calls_duration'].hist(by = tottable['tariff_name'], bins = 100)\n",
    "tottable.hist(by = tottable['tariff_name'], bins = 100, column = 'calls_duration')\n",
    "tottable.hist(by = tottable['tariff_name'], bins = 100, column = 'mb_used')\n",
    "tottable.hist(by = tottable['tariff_name'], bins = 100, column = 'messages_cnt')\n",
    "#tottable.plot(kind = 'hist', grid = True, bins = 100, y = 'tariff_name',)"
   ]
  },
  {
   "cell_type": "markdown",
   "metadata": {},
   "source": [
    "<b> Вывод </b>\n",
    "<br>\n",
    "Более высокие значения стандартного отклонения подтверждаются гистограммами: для всех трех параметров данные тарифа ultra скошены вправо сильнее, чем у тарифа smart. \n",
    "<br>По продолжительности звонка у тарифа smart наблюдается небольшая скошенность влево, большинство значений собраны в пределах 1000. У тарифа ultra значения разбросаны сильнее и имеют более длинный хвост.\n",
    "<br>По расходу интернет траффика в тарифе smart распределение близко к нормальному. У тарифа ultra имеется небольшой скос вправо, распределение по значениям в целом равномерное.\n",
    "<br>По количеству сообщений значения тарифа ultra немного более скошены вправо за счет бОльшего разброса значений."
   ]
  },
  {
   "cell_type": "markdown",
   "metadata": {},
   "source": [
    "## Проверка гипотез"
   ]
  },
  {
   "cell_type": "markdown",
   "metadata": {},
   "source": [
    "### Гипотеза об отличии средней выручки пользователей тарифов."
   ]
  },
  {
   "cell_type": "code",
   "execution_count": 11,
   "metadata": {},
   "outputs": [
    {
     "name": "stdout",
     "output_type": "stream",
     "text": [
      "Средняя выручки в зависимости от тарифа: \n",
      " tariff_name\n",
      "smart    1294.305381\n",
      "ultra    2070.943205\n",
      "Name: fee_total, dtype: float64\n",
      "Дисперсии выручки в зависимости от тарифа: \n",
      " tariff_name\n",
      "smart    673877.623614\n",
      "ultra    143360.429258\n",
      "Name: fee_total, dtype: float64\n"
     ]
    }
   ],
   "source": [
    "avg_check = tottable.groupby('tariff_name')['fee_total'].mean()\n",
    "print('Средняя выручки в зависимости от тарифа: \\n', avg_check)\n",
    "\n",
    "variances_check = tottable.groupby('tariff_name')['fee_total'].var()\n",
    "print('Дисперсии выручки в зависимости от тарифа: \\n', variances_check)"
   ]
  },
  {
   "cell_type": "markdown",
   "metadata": {},
   "source": [
    "Средняя выручка у тарифа ultra выше почти в 2 раза! Проверим это с помощью теста. Разброс дисперсий значительный - у тарифа smart в 4+ раза больше."
   ]
  },
  {
   "cell_type": "code",
   "execution_count": 12,
   "metadata": {},
   "outputs": [
    {
     "name": "stdout",
     "output_type": "stream",
     "text": [
      "p-значение: 5.26252224448908e-59\n",
      "Отвергаем нулевую гипотезу\n"
     ]
    }
   ],
   "source": [
    "smart_fees = tottable.query('tariff_name == \"smart\"').groupby('user_id')['fee_total'].mean()\n",
    "ultra_fees = tottable.query('tariff_name == \"ultra\"').groupby('user_id')['fee_total'].mean()\n",
    "\n",
    "alpha = 0.05\n",
    "results = st.ttest_ind(smart_fees, ultra_fees, equal_var = False)\n",
    "print('p-значение:', results.pvalue)\n",
    "\n",
    "if results.pvalue < alpha:\n",
    "      print(\"Отвергаем нулевую гипотезу\")\n",
    "else:\n",
    "      print(\"Не получилось отвергнуть нулевую гипотезу\")"
   ]
  },
  {
   "cell_type": "markdown",
   "metadata": {},
   "source": [
    "<b> Вывод </b>\n",
    "<br>\n",
    "Нулевая гипотеза сформирована как \"Средняя выручка для тарифов smart и ultra равна\".\n",
    "<br>Альтернативная гипотеза - \"Средняя выручка для тарифов smart и ultra не равна\"\n",
    "\n",
    "Есть возможность рассмотреть весь датасет для каждого из тарифов, поэтомиу уместно применять метод для проверки гипотез двух генеральных совокупностей. Среди параметров важно указать equal_var = False, т.к. в зависимости от тарифов дисперсии совокупностей значительно отличаются. \n",
    "\n",
    "По результатам теста нулевая гипотеза отвергается, а значит, средняя выручка в зависимости от тарифа значимо различна."
   ]
  },
  {
   "cell_type": "markdown",
   "metadata": {},
   "source": [
    "### Гипотеза об отличии средней выручки жителей Москвы от всех остальных."
   ]
  },
  {
   "cell_type": "code",
   "execution_count": 13,
   "metadata": {},
   "outputs": [
    {
     "name": "stdout",
     "output_type": "stream",
     "text": [
      "Средние выручки в зависимости от города: \n",
      " moscow_or_not\n",
      "Moscow      1550.805237\n",
      "province    1528.103263\n",
      "Name: fee_total, dtype: float64\n",
      "Дисперсии выручки в зависимости от города: \n",
      " moscow_or_not\n",
      "Moscow      566183.029218\n",
      "province    656697.958227\n",
      "Name: fee_total, dtype: float64\n"
     ]
    }
   ],
   "source": [
    "tottable['moscow_or_not'] = np.where(tottable['city'] == 'Москва', 'Moscow', 'province')\n",
    "mean_city = tottable.groupby('moscow_or_not')['fee_total'].mean()\n",
    "print('Средние выручки в зависимости от города: \\n', mean_city)\n",
    "\n",
    "variances_city = tottable.groupby('moscow_or_not')['fee_total'].var()\n",
    "print('Дисперсии выручки в зависимости от города: \\n', variances_city)"
   ]
  },
  {
   "cell_type": "markdown",
   "metadata": {},
   "source": [
    "Видно, что фактические средние выручки практически не отличаются в зависимости от того, из Москвы клиент или нет. Дисперсии немного отличаются. Перепроверим это статистическим тестом."
   ]
  },
  {
   "cell_type": "code",
   "execution_count": 14,
   "metadata": {},
   "outputs": [
    {
     "name": "stdout",
     "output_type": "stream",
     "text": [
      "p-значение: 0.36837479573900667\n",
      "Не получилось отвергнуть нулевую гипотезу\n"
     ]
    }
   ],
   "source": [
    "moscow_fees = tottable.query('city == \"Москва\"').groupby('user_id')['fee_total'].mean()\n",
    "regions_fees = tottable.query('city != \"Москва\"').groupby('user_id')['fee_total'].mean()\n",
    "\n",
    "alpha = 0.05\n",
    "results = st.ttest_ind(moscow_fees, regions_fees, equal_var = False)\n",
    "print('p-значение:', results.pvalue)\n",
    "\n",
    "if results.pvalue < alpha:\n",
    "      print(\"Отвергаем нулевую гипотезу\")\n",
    "else:\n",
    "      print(\"Не получилось отвергнуть нулевую гипотезу\")"
   ]
  },
  {
   "cell_type": "markdown",
   "metadata": {},
   "source": [
    "<b> Вывод </b>\n",
    "<br>\n",
    "Нулевая гипотеза сформирована как \"Средняя выручка для клиентов из Москвы и регионов равна\".\n",
    "<br>Альтернативная гипотеза - \"Средняя выручка для клиентов из Москвы и регионов не равна\".\n",
    "\n",
    "Есть возможность рассмотреть весь датасет для каждого из городов, поэтому уместно применять метод для проверки гипотез двух генеральных совокупностей. Среди параметров нужно указать equal_var = False, т.к. в зависимости от городов дисперсии совокупностей отличаются. \n",
    "\n",
    "По результатам теста нулевую гипотезу отвергнуть нельзя. Хоть средние выручки неодинаковы, но с вероятностью в почти 37% такое или бОльшее различие можно получить случайно. Такая вероятность слишком велика, чтобы делать вывод о значимом различии между средними выручками клиентов из Москвы и регионов.  "
   ]
  },
  {
   "cell_type": "markdown",
   "metadata": {},
   "source": [
    "## Общий вывод"
   ]
  },
  {
   "cell_type": "markdown",
   "metadata": {},
   "source": [
    "После проведения расчетов и статистических тестов, можно сказать, что тариф ultra является более выгодным для компании. Средняя выручка по нему выше с почти в два раза, что значительно. \n",
    "\n",
    "Также можно сказать, что тариф ultra выбирают в среднем более требовательные пользователи: количество совершенных звонков, отправленных сообщений, использованных мегабайт трафика у них в среднем выше. \n",
    "\n",
    "В частности,  пользователи тарифа ultra разговаривают в среднем 545 минут против 419 у пользователей тарифа smart. В расходе трафика лидерство также за пользователями тарифа ultra: почти 20 Гб трафика против 16 Гб. А по количеству сообщений разница и того больше, более чем в полтора раза: 39 сообщений на smart и 61 на ultra.\n",
    " \n",
    "\n",
    "Впрочем, выше также и дисперсии по этим показателям для этого тарифа, что значит, что выдающихся в ту или иную сторону от среднего значения клиентов довольно много. \n",
    "\n",
    "На первый взгляд, эти повышенные дисперсии по частоте пользования услугами могут ввести в сомнения касательно внедрения тарифа ultra, но тут важно приметить ценообразование тарифа: за счёт высокой ежемесячной платы и лимитов, и низкой стоимости услуг вне пакета, разброс по выручке по сравнению с тарифом smart очень мал. Это значит, что приток денег с тарифа будет постоянен от месяца к месяцу при прочих равных. Однозначно хорошо!"
   ]
  }
 ],
 "metadata": {
  "kernelspec": {
   "display_name": "Python 3",
   "language": "python",
   "name": "python3"
  },
  "language_info": {
   "codemirror_mode": {
    "name": "ipython",
    "version": 3
   },
   "file_extension": ".py",
   "mimetype": "text/x-python",
   "name": "python",
   "nbconvert_exporter": "python",
   "pygments_lexer": "ipython3",
   "version": "3.8.5"
  },
  "toc": {
   "base_numbering": 1,
   "nav_menu": {},
   "number_sections": true,
   "sideBar": true,
   "skip_h1_title": true,
   "title_cell": "Table of Contents",
   "title_sidebar": "Contents",
   "toc_cell": false,
   "toc_position": {},
   "toc_section_display": true,
   "toc_window_display": false
  }
 },
 "nbformat": 4,
 "nbformat_minor": 2
}
