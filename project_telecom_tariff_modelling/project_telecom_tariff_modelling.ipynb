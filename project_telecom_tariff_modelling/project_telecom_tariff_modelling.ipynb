{
 "cells": [
  {
   "cell_type": "markdown",
   "metadata": {},
   "source": [
    "# Рекомендация тарифов"
   ]
  },
  {
   "cell_type": "markdown",
   "metadata": {},
   "source": [
    "В вашем распоряжении данные о поведении клиентов, которые уже перешли на эти тарифы (из проекта курса «Статистический анализ данных»). Нужно построить модель для задачи классификации, которая выберет подходящий тариф. Предобработка данных не понадобится — вы её уже сделали.\n",
    "\n",
    "Постройте модель с максимально большим значением *accuracy*. Чтобы сдать проект успешно, нужно довести долю правильных ответов по крайней мере до 0.75. Проверьте *accuracy* на тестовой выборке самостоятельно.\n",
    "\n",
    "<br>В качестве исходных данных получена 1 таблица с информацией о том, в каком объеме клиенты пользуются услугами оператора связи и какой у них тариф. \n",
    "\n",
    "<b> Поля таблиц:</b>\n",
    "<br>сalls — количество звонков,\n",
    "<br>minutes — суммарная длительность звонков в минутах,\n",
    "<br>messages — количество sms-сообщений,\n",
    "<br>mb_used — израсходованный интернет-трафик в Мб,\n",
    "<br>is_ultra — каким тарифом пользовался в течение месяца («Ультра» — 1, «Смарт» — 0).\n",
    "\n",
    "\n",
    "<b> Исследование разделим на несколько частей.\n",
    "\n",
    "<b> Часть 1. Изучение общей информации:\n",
    "* [1. Изучение файлов с данными, получение общей информации, загрузка библиотек.](#ch_1_1)\n",
    "\n",
    "<b> Часть 2. Разбивка данных на выборки:\n",
    "* [1. Разбивка данных на обучающую, тестовую, валидационную выборки.](#ch_2_1)\n",
    "  \n",
    "<b> Часть 3. Сравнительный анализ моделей:\n",
    "* [1. Исследование качетсва моделей в зависимости от гиперпараметров.](#ch_3_1)\n",
    "\n",
    "<b> Часть 4. Проверка качества моделей:\n",
    "* [1. Проверка качества моделей на тестовой выборке.](#ch_4_1)\n",
    "\n",
    "<b> Часть 5. Проверка моделей на вменяемость:\n",
    "* [1. Проверка моделей на вменяемость.](#ch_5_1)\n",
    "    \n",
    "<b> Часть 6. Выводы:\n",
    "* [1. Выводы.](#ch_6_1)"
   ]
  },
  {
   "cell_type": "markdown",
   "metadata": {},
   "source": [
    "## Откройте и изучите файл <a id='ch_1_1'></a>"
   ]
  },
  {
   "cell_type": "code",
   "execution_count": 1,
   "metadata": {
    "scrolled": true
   },
   "outputs": [
    {
     "name": "stdout",
     "output_type": "stream",
     "text": [
      "<class 'pandas.core.frame.DataFrame'>\n",
      "RangeIndex: 3214 entries, 0 to 3213\n",
      "Data columns (total 5 columns):\n",
      "calls       3214 non-null float64\n",
      "minutes     3214 non-null float64\n",
      "messages    3214 non-null float64\n",
      "mb_used     3214 non-null float64\n",
      "is_ultra    3214 non-null int64\n",
      "dtypes: float64(4), int64(1)\n",
      "memory usage: 125.7 KB\n",
      "None\n",
      "             calls   minutes  messages   mb_used  is_ultra\n",
      "calls     1.000000  0.982083  0.177385  0.286442  0.207122\n",
      "minutes   0.982083  1.000000  0.173110  0.280967  0.206955\n",
      "messages  0.177385  0.173110  1.000000  0.195721  0.203830\n",
      "mb_used   0.286442  0.280967  0.195721  1.000000  0.198568\n",
      "is_ultra  0.207122  0.206955  0.203830  0.198568  1.000000\n"
     ]
    }
   ],
   "source": [
    "import pandas as pd\n",
    "import numpy as np\n",
    "from sklearn.model_selection import train_test_split\n",
    "from sklearn.tree import DecisionTreeClassifier\n",
    "from sklearn.metrics import accuracy_score\n",
    "from sklearn.ensemble import RandomForestClassifier\n",
    "from sklearn.dummy import DummyClassifier\n",
    "from sklearn.linear_model import LogisticRegression\n",
    "import warnings\n",
    "warnings.filterwarnings('ignore')\n",
    "df = pd.read_csv('/datasets/users_behavior.csv')\n",
    "#display(df)\n",
    "print(df.info())\n",
    "print(df.corr())\n",
    "df = df.drop('minutes', axis = 1)"
   ]
  },
  {
   "cell_type": "markdown",
   "metadata": {},
   "source": [
    "## Разбейте данные на выборки <a id='ch_2_1'></a>"
   ]
  },
  {
   "cell_type": "code",
   "execution_count": 2,
   "metadata": {},
   "outputs": [
    {
     "name": "stdout",
     "output_type": "stream",
     "text": [
      "Размер тренировочной выборки: (1928, 3) (1928,)\n",
      "Размер тестовой выборки: (643, 3) (643,)\n",
      "Размер валидационной выборки: (643, 3) (643,)\n"
     ]
    }
   ],
   "source": [
    "features = df.drop('is_ultra', axis = 1)\n",
    "target = df['is_ultra']\n",
    "features_train, features_toslpit, target_train, target_tosplit = train_test_split(features, target, test_size = 0.4, random_state = 42)\n",
    "features_test, features_valid, target_test, target_valid = train_test_split(features_toslpit, target_tosplit, test_size = 0.5, random_state = 42)\n",
    "print('Размер тренировочной выборки:', features_train.shape,target_train.shape)\n",
    "print('Размер тестовой выборки:',features_test.shape,target_test.shape)\n",
    "print('Размер валидационной выборки:',features_valid.shape,target_valid.shape)"
   ]
  },
  {
   "cell_type": "markdown",
   "metadata": {},
   "source": [
    "Разбито в пропорции 60/20/20."
   ]
  },
  {
   "cell_type": "markdown",
   "metadata": {},
   "source": [
    "## Исследуйте модели <a id='ch_3_1'></a>"
   ]
  },
  {
   "cell_type": "markdown",
   "metadata": {},
   "source": [
    "Переберем значения гиперпараметров в цикле, чтобы найти наилучшую модель."
   ]
  },
  {
   "cell_type": "code",
   "execution_count": 3,
   "metadata": {},
   "outputs": [
    {
     "name": "stdout",
     "output_type": "stream",
     "text": [
      "Accuracy лучшей модели дерева решений на валидационной выборке: 0.8087091757387247 Глубина дерева: 3\n"
     ]
    }
   ],
   "source": [
    "best_tree_model = None\n",
    "best_tree_result = 0\n",
    "best_tree_depth = 0\n",
    "for depth in range(1, 10):\n",
    "    model_tree = DecisionTreeClassifier(random_state=42, max_depth=depth)\n",
    "    model_tree.fit(features_train, target_train)\n",
    "    result = model_tree.score(features_valid, target_valid)\n",
    "    if result > best_tree_result:\n",
    "        best_tree_model = model_tree\n",
    "        best_tree_result = result\n",
    "        best_tree_depth = depth\n",
    "        \n",
    "print(\"Accuracy лучшей модели дерева решений на валидационной выборке:\", best_tree_result, 'Глубина дерева:',  best_tree_depth)"
   ]
  },
  {
   "cell_type": "markdown",
   "metadata": {},
   "source": [
    "При классификации деревом решений высочайший accuracy получился около 81%, при глубине дерева ~4~ 3.\n",
    "\n",
    "Посмотрим на результаты для случайного леса. Сделаем перебор и по количеству деревьев, и по глубине."
   ]
  },
  {
   "cell_type": "code",
   "execution_count": 4,
   "metadata": {},
   "outputs": [
    {
     "name": "stdout",
     "output_type": "stream",
     "text": [
      "Accuracy наилучшей модели random forest на валидационной выборке: 0.8242612752721618 \n",
      "Глубина дерева: 4 \n",
      "Количество деревьев: 10\n"
     ]
    }
   ],
   "source": [
    "best_forest_model = None\n",
    "best_forest_result = 0\n",
    "best_forest_est = 0\n",
    "best_forest_depth = 0\n",
    "for est in range(1, 11):\n",
    "    for depth in range(1,10):\n",
    "        model_forest = RandomForestClassifier(random_state=42, n_estimators=est, max_depth = depth)\n",
    "        model_forest.fit(features_train, target_train)\n",
    "        result = model_forest.score(features_valid, target_valid) \n",
    "        if result > best_forest_result:\n",
    "            best_forest_model = model_forest \n",
    "            best_forest_result = result\n",
    "            best_forest_est = est\n",
    "            best_forest_depth = depth\n",
    "\n",
    "print(\"Accuracy наилучшей модели random forest на валидационной выборке:\", best_forest_result,\n",
    "      '\\nГлубина дерева:',  best_forest_depth,\n",
    "      '\\nКоличество деревьев:', est\n",
    "     )"
   ]
  },
  {
   "cell_type": "markdown",
   "metadata": {},
   "source": [
    "  У случайного леса результаты чуть лучше, но не грандиозно - разница меньше 2%.\n",
    "  \n",
    "  Попробуем логистическую регрессию."
   ]
  },
  {
   "cell_type": "code",
   "execution_count": 5,
   "metadata": {},
   "outputs": [
    {
     "name": "stdout",
     "output_type": "stream",
     "text": [
      "Accuracy модели логистической регрессии на валидационной выборке: 0.7527216174183515\n"
     ]
    }
   ],
   "source": [
    "model_regression = LogisticRegression(random_state=42)\n",
    "model_regression.fit(features_train, target_train) \n",
    "result_regression = model_regression.score(features_valid, target_valid)\n",
    "\n",
    "print(\"Accuracy модели логистической регрессии на валидационной выборке:\", result_regression)"
   ]
  },
  {
   "cell_type": "markdown",
   "metadata": {},
   "source": [
    "Лучшим по результатам тестирования оказался алгоритм random forest с accuracy на валидационной выборке более 82% при 10 деревьях и глубине деревьев 4. На втором месте алгоритм дерева решений с accuracy на 1.6 процента ниже. У него глубина дерева оказалась равной 3. Ожидаемо, хуже всех себя показала логистическая регрессия, у неё accuracy чуть больше 75%."
   ]
  },
  {
   "cell_type": "markdown",
   "metadata": {},
   "source": [
    "## Проверьте модель на тестовой выборке <a id='ch_4_1'></a>"
   ]
  },
  {
   "cell_type": "code",
   "execution_count": 6,
   "metadata": {},
   "outputs": [
    {
     "name": "stdout",
     "output_type": "stream",
     "text": [
      "Accuracy наилучшей модели на тестовой выборке: 0.8133748055987559\n"
     ]
    }
   ],
   "source": [
    "test_top_accuracy = model_forest.score(features_test, target_test)\n",
    "print(\"Accuracy наилучшей модели на тестовой выборке:\", test_top_accuracy)"
   ]
  },
  {
   "cell_type": "markdown",
   "metadata": {},
   "source": [
    "Accuracy лучшей из получившихся моделей чуть выше 81%. Рост accuracy по сравнению с валидационной выборкой в пределах 1%.\n",
    "\n",
    "Ради интереса, проверим на тестовой выборке остальные модели."
   ]
  },
  {
   "cell_type": "code",
   "execution_count": 7,
   "metadata": {},
   "outputs": [
    {
     "name": "stdout",
     "output_type": "stream",
     "text": [
      "Accuracy модели дерева решений на тестовой выборке: 0.7978227060653188\n",
      "Accuracy модели логистической регрессии на тестовой выборке: 0.7309486780715396\n"
     ]
    }
   ],
   "source": [
    "test_tree_accuracy = model_tree.score(features_test, target_test)\n",
    "test_regression_accuracy = model_regression.score(features_test, target_test)\n",
    "print(\"Accuracy модели дерева решений на тестовой выборке:\", test_tree_accuracy)\n",
    "print(\"Accuracy модели логистической регрессии на тестовой выборке:\", test_regression_accuracy)"
   ]
  },
  {
   "cell_type": "markdown",
   "metadata": {},
   "source": [
    "На тестовой выборке модели дерева решений и логистической регрессии показали себя чуть хуже - падение accuracy 1.1% и 2% соответственно.\n"
   ]
  },
  {
   "cell_type": "markdown",
   "metadata": {},
   "source": [
    "## (бонус) Проверьте модели на адекватность <a id='ch_5_1'></a>"
   ]
  },
  {
   "cell_type": "markdown",
   "metadata": {},
   "source": [
    "С точки зрения сравнения с моделью, предсказывающей target случайно, построенные модели адекватны, ибо их accuracy существенно выше 50%. Применять их для прогноза лучше, чем прогнозировать рандомно."
   ]
  },
  {
   "cell_type": "code",
   "execution_count": 14,
   "metadata": {},
   "outputs": [
    {
     "name": "stdout",
     "output_type": "stream",
     "text": [
      "Accuracy dummy модели на валидационной выборке: 0.6967340590979783\n",
      "Accuracy dummy модели на тестовой выборке: 0.6936236391912908\n"
     ]
    }
   ],
   "source": [
    "model_dummy = DummyClassifier(random_state=42, strategy = 'most_frequent')\n",
    "model_dummy.fit(features_train, target_train) \n",
    "score_valid = model_dummy.score(features_valid, target_valid)\n",
    "score_test = model_dummy.score(features_test, target_test)\n",
    "print(\"Accuracy dummy модели на валидационной выборке:\", score_valid)\n",
    "print(\"Accuracy dummy модели на тестовой выборке:\", score_test)"
   ]
  },
  {
   "cell_type": "markdown",
   "metadata": {},
   "source": [
    "## Выводы <a id='ch_6_1'></a>"
   ]
  },
  {
   "cell_type": "markdown",
   "metadata": {},
   "source": [
    "Для имеющихся данных удалось построить три модели и проверить их на валидацонной выборке. Лучше всего себя показала random forest с 10 деревями и глубиной 4, имея accuracy свыше 82%. На втором месте - решающее дерево с глубиной 3. На валидационной выборке её accuracy оказался равен 80.9%. Ниже всего accuracy у модели логистической регрессии - 75.2%. Random forest на тестовой выборке имеет немного худший accuracy - 81.3%, решающее дерево  - 79.78%, модель логистической регрессии - 73.1%."
   ]
  }
 ],
 "metadata": {
  "kernelspec": {
   "display_name": "Python 3",
   "language": "python",
   "name": "python3"
  },
  "language_info": {
   "codemirror_mode": {
    "name": "ipython",
    "version": 3
   },
   "file_extension": ".py",
   "mimetype": "text/x-python",
   "name": "python",
   "nbconvert_exporter": "python",
   "pygments_lexer": "ipython3",
   "version": "3.8.5"
  },
  "toc": {
   "base_numbering": 1,
   "nav_menu": {},
   "number_sections": true,
   "sideBar": true,
   "skip_h1_title": true,
   "title_cell": "Table of Contents",
   "title_sidebar": "Contents",
   "toc_cell": false,
   "toc_position": {},
   "toc_section_display": true,
   "toc_window_display": false
  }
 },
 "nbformat": 4,
 "nbformat_minor": 2
}
