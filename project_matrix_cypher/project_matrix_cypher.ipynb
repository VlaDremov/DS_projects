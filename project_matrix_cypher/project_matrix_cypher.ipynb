{
 "cells": [
  {
   "cell_type": "markdown",
   "metadata": {
    "toc": true
   },
   "source": [
    "<h1>Содержание<span class=\"tocSkip\"></span></h1>\n",
    "<div class=\"toc\"><ul class=\"toc-item\"><li><span><a href=\"#Загрузка-данных\" data-toc-modified-id=\"Загрузка-данных-1\"><span class=\"toc-item-num\">1&nbsp;&nbsp;</span>Загрузка данных</a></span></li><li><span><a href=\"#Умножение-матриц\" data-toc-modified-id=\"Умножение-матриц-2\"><span class=\"toc-item-num\">2&nbsp;&nbsp;</span>Умножение матриц</a></span></li><li><span><a href=\"#Алгоритм-преобразования\" data-toc-modified-id=\"Алгоритм-преобразования-3\"><span class=\"toc-item-num\">3&nbsp;&nbsp;</span>Алгоритм преобразования</a></span></li><li><span><a href=\"#Проверка-алгоритма\" data-toc-modified-id=\"Проверка-алгоритма-4\"><span class=\"toc-item-num\">4&nbsp;&nbsp;</span>Проверка алгоритма</a></span></li></ul></div>"
   ]
  },
  {
   "cell_type": "markdown",
   "metadata": {},
   "source": [
    "# Защита персональных данных клиентов"
   ]
  },
  {
   "cell_type": "markdown",
   "metadata": {},
   "source": [
    "Вам нужно защитить данные клиентов страховой компании «Хоть потоп». Разработайте такой метод преобразования данных, чтобы по ним было сложно восстановить персональную информацию. Обоснуйте корректность его работы.\n",
    "\n",
    "Нужно защитить данные, чтобы при преобразовании качество моделей машинного обучения не ухудшилось. Подбирать наилучшую модель не требуется."
   ]
  },
  {
   "cell_type": "markdown",
   "metadata": {},
   "source": [
    "В качестве признаков для моделирования получена информация о поле, возрасте, зарплате застрахованного, количестве членов его семьи.\n",
    "Целевым признаком является количество страховых выплат клиенту за последние 5 лет."
   ]
  },
  {
   "cell_type": "markdown",
   "metadata": {},
   "source": [
    "## Загрузка данных"
   ]
  },
  {
   "cell_type": "code",
   "execution_count": 1,
   "metadata": {},
   "outputs": [
    {
     "data": {
      "text/html": [
       "<div>\n",
       "<style scoped>\n",
       "    .dataframe tbody tr th:only-of-type {\n",
       "        vertical-align: middle;\n",
       "    }\n",
       "\n",
       "    .dataframe tbody tr th {\n",
       "        vertical-align: top;\n",
       "    }\n",
       "\n",
       "    .dataframe thead th {\n",
       "        text-align: right;\n",
       "    }\n",
       "</style>\n",
       "<table border=\"1\" class=\"dataframe\">\n",
       "  <thead>\n",
       "    <tr style=\"text-align: right;\">\n",
       "      <th></th>\n",
       "      <th>Пол</th>\n",
       "      <th>Возраст</th>\n",
       "      <th>Зарплата</th>\n",
       "      <th>Члены семьи</th>\n",
       "      <th>Страховые выплаты</th>\n",
       "    </tr>\n",
       "  </thead>\n",
       "  <tbody>\n",
       "    <tr>\n",
       "      <td>count</td>\n",
       "      <td>5000.000000</td>\n",
       "      <td>5000.000000</td>\n",
       "      <td>5000.000000</td>\n",
       "      <td>5000.000000</td>\n",
       "      <td>5000.000000</td>\n",
       "    </tr>\n",
       "    <tr>\n",
       "      <td>mean</td>\n",
       "      <td>0.499000</td>\n",
       "      <td>30.952800</td>\n",
       "      <td>39916.360000</td>\n",
       "      <td>1.194200</td>\n",
       "      <td>0.148000</td>\n",
       "    </tr>\n",
       "    <tr>\n",
       "      <td>std</td>\n",
       "      <td>0.500049</td>\n",
       "      <td>8.440807</td>\n",
       "      <td>9900.083569</td>\n",
       "      <td>1.091387</td>\n",
       "      <td>0.463183</td>\n",
       "    </tr>\n",
       "    <tr>\n",
       "      <td>min</td>\n",
       "      <td>0.000000</td>\n",
       "      <td>18.000000</td>\n",
       "      <td>5300.000000</td>\n",
       "      <td>0.000000</td>\n",
       "      <td>0.000000</td>\n",
       "    </tr>\n",
       "    <tr>\n",
       "      <td>25%</td>\n",
       "      <td>0.000000</td>\n",
       "      <td>24.000000</td>\n",
       "      <td>33300.000000</td>\n",
       "      <td>0.000000</td>\n",
       "      <td>0.000000</td>\n",
       "    </tr>\n",
       "    <tr>\n",
       "      <td>50%</td>\n",
       "      <td>0.000000</td>\n",
       "      <td>30.000000</td>\n",
       "      <td>40200.000000</td>\n",
       "      <td>1.000000</td>\n",
       "      <td>0.000000</td>\n",
       "    </tr>\n",
       "    <tr>\n",
       "      <td>75%</td>\n",
       "      <td>1.000000</td>\n",
       "      <td>37.000000</td>\n",
       "      <td>46600.000000</td>\n",
       "      <td>2.000000</td>\n",
       "      <td>0.000000</td>\n",
       "    </tr>\n",
       "    <tr>\n",
       "      <td>max</td>\n",
       "      <td>1.000000</td>\n",
       "      <td>65.000000</td>\n",
       "      <td>79000.000000</td>\n",
       "      <td>6.000000</td>\n",
       "      <td>5.000000</td>\n",
       "    </tr>\n",
       "  </tbody>\n",
       "</table>\n",
       "</div>"
      ],
      "text/plain": [
       "               Пол      Возраст      Зарплата  Члены семьи  Страховые выплаты\n",
       "count  5000.000000  5000.000000   5000.000000  5000.000000        5000.000000\n",
       "mean      0.499000    30.952800  39916.360000     1.194200           0.148000\n",
       "std       0.500049     8.440807   9900.083569     1.091387           0.463183\n",
       "min       0.000000    18.000000   5300.000000     0.000000           0.000000\n",
       "25%       0.000000    24.000000  33300.000000     0.000000           0.000000\n",
       "50%       0.000000    30.000000  40200.000000     1.000000           0.000000\n",
       "75%       1.000000    37.000000  46600.000000     2.000000           0.000000\n",
       "max       1.000000    65.000000  79000.000000     6.000000           5.000000"
      ]
     },
     "metadata": {},
     "output_type": "display_data"
    }
   ],
   "source": [
    "import pandas as pd\n",
    "import numpy as np\n",
    "import matplotlib.pyplot as plt\n",
    "from sklearn.linear_model import LinearRegression\n",
    "from sklearn.metrics import r2_score\n",
    "import warnings\n",
    "warnings.filterwarnings('ignore')\n",
    "\n",
    "df = pd.read_csv('/datasets/insurance.csv')\n",
    "\n",
    "display(df.describe())"
   ]
  },
  {
   "cell_type": "markdown",
   "metadata": {},
   "source": [
    "С точки зрения исходных данных нареканий нет. Пропуски отсутствуют, нереалистичных выбросов также не наблюдается."
   ]
  },
  {
   "cell_type": "markdown",
   "metadata": {},
   "source": [
    "## Умножение матриц"
   ]
  },
  {
   "cell_type": "markdown",
   "metadata": {},
   "source": [
    "<b>Утверждение</b>: При умножении матрицы признаков на обратимую матрицу качество линейной регрессии не изменится, так как не изменятся её параметры."
   ]
  },
  {
   "cell_type": "markdown",
   "metadata": {},
   "source": [
    "<b>Доказательство: </b> <br>\n",
    "Обозначения:\n",
    "\n",
    "- $X$ — матрица признаков (нулевой столбец состоит из единиц)\n",
    "\n",
    "- $y$ — вектор целевого признака\n",
    "\n",
    "- $P$ — матрица, на которую умножаются признаки\n",
    "\n",
    "- $w$ — вектор весов линейной регрессии (нулевой элемент равен сдвигу)"
   ]
  },
  {
   "cell_type": "markdown",
   "metadata": {},
   "source": [
    "Предсказания:\n",
    "\n",
    "$$\n",
    "a = Xw\n",
    "$$\n",
    "\n",
    "Задача обучения:\n",
    "\n",
    "$$\n",
    "w = \\arg\\min_w MSE(Xw, y)\n",
    "$$\n",
    "\n",
    "Формула обучения:\n",
    "\n",
    "$$\n",
    "w = (X^T X)^{-1} X^T y\n",
    "$$"
   ]
  },
  {
   "cell_type": "markdown",
   "metadata": {},
   "source": [
    "Умножим $X$ на $P$, введем вектор $w_p = P^{-1} w$, подставим в исходную формулу:\n",
    "$$\n",
    "P^{-1} w = ((XP)^T XP)^{-1} (XP)^T y\n",
    "$$\n",
    "\n",
    "Преобразуем формулу:\n",
    "\n",
    "$$\n",
    "((XP)^T X P)^{-1} (XP)^T y = (P^T X^T X P)^{-1} P^T X^T y = P^{-1} (X^T X)^{-1} (P^T)^{-1} P^T X^T = P^{-1} (X^T X)^{-1} I X^T\n",
    "$$\n",
    "Итого:\n",
    "$$\n",
    "P^{-1} w = P^{-1} (X^T X)^{-1} I X^T,\n",
    "$$\n",
    "что указывает на отсутствие различий при перемножении $X$ на матрицу $P$"
   ]
  },
  {
   "cell_type": "markdown",
   "metadata": {},
   "source": [
    "## Алгоритм преобразования"
   ]
  },
  {
   "cell_type": "markdown",
   "metadata": {},
   "source": [
    "**Алгоритм**\n",
    "\n",
    "Оптимальным методом кажется генерация случайной матрицы и умножение её на матрицу фичей. \n",
    "1. Сгенерируем рандомную матрицу размером $k*k$, где $k$ - количество признаков;\n",
    "2. Матрицу признаков умножаем на получившуюся рандомную матрицу;\n",
    "3. Построим модель с применением преобразованной матрицы;\n",
    "4. Определим метрики модели."
   ]
  },
  {
   "cell_type": "markdown",
   "metadata": {},
   "source": [
    "**Обоснование**\n",
    "Качество линейной регрессии не изменится, так как будет произведено умножение матрицы фичей на обратимую матрицу, доказательство отсутствия изменений метрик модели при изменении матрицы таким образом приведено в шаге 2.\n",
    "\n",
    "В качестве альтернативы возможно создание кастомной матрицы из матрицы фичей путем перестановки столбцов/строк, умножение её на число, но криптографической сложности это не добавит. Размотать клубок того, какая матрица была сгенерирована рандомайзером и умножена на матрицу фичей, гораздо сложнее."
   ]
  },
  {
   "cell_type": "markdown",
   "metadata": {},
   "source": [
    "## Проверка алгоритма"
   ]
  },
  {
   "cell_type": "markdown",
   "metadata": {},
   "source": [
    "Сформируем матрицу, проверим её обратимость:"
   ]
  },
  {
   "cell_type": "code",
   "execution_count": 5,
   "metadata": {},
   "outputs": [
    {
     "name": "stdout",
     "output_type": "stream",
     "text": [
      "Случайно сгенерированная матрица: \n",
      " [[ 0.49671415 -0.1382643   0.64768854  1.52302986]\n",
      " [-0.23415337 -0.23413696  1.57921282  0.76743473]\n",
      " [-0.46947439  0.54256004 -0.46341769 -0.46572975]\n",
      " [ 0.24196227 -1.91328024 -1.72491783 -0.56228753]]\n"
     ]
    }
   ],
   "source": [
    "target = df['Страховые выплаты']\n",
    "features = df.drop(['Страховые выплаты'], axis = 1)\n",
    "seed_no = 42\n",
    "try:\n",
    "    np.random.seed(seed = seed_no)\n",
    "    matrix_rand = np.random.normal(size = (4,4))\n",
    "    matrix_rand_inv = np.linalg.inv(matrix_rand)\n",
    "except numpy.linalg.LinAlgError:\n",
    "    print('Матрица не обратима, измените условия генерации.')\n",
    "print('Случайно сгенерированная матрица: \\n', matrix_rand)"
   ]
  },
  {
   "cell_type": "code",
   "execution_count": 6,
   "metadata": {},
   "outputs": [
    {
     "name": "stdout",
     "output_type": "stream",
     "text": [
      "Общий вид преобразованных фичей: \n",
      "               0             1             2             3\n",
      "0 -23294.791154  26899.327002 -22921.847067 -23067.770211\n",
      "1 -17850.555758  20604.598076 -17538.953455 -17662.990926\n",
      "2  -9865.752553  11386.970944  -9685.974377  -9758.069218\n",
      "3 -19581.515190  22616.010381 -19294.804157 -19405.939170\n",
      "4 -12259.341053  14154.123038 -12050.336135 -12132.535366\n",
      "\n",
      "r2 линейной регрессии на исходных данных -  0.42494550286668\n",
      "\n",
      "r2 линейной регрессии с преобразованными фичами -  0.424945502866682\n"
     ]
    }
   ],
   "source": [
    "features_randomized = features @ matrix_rand\n",
    "print('Общий вид преобразованных фичей: \\n', features_randomized.head())\n",
    "model = LinearRegression()\n",
    "model.fit(features, target)\n",
    "prediction_real = model.predict(features)\n",
    "print()\n",
    "print('r2 линейной регрессии на исходных данных - ', r2_score(target , prediction_real))\n",
    "model.fit(features_randomized, target)\n",
    "prediction_randomized = model.predict(features_randomized)\n",
    "print()\n",
    "print('r2 линейной регрессии с преобразованными фичами - ', r2_score(target , prediction_randomized))"
   ]
  },
  {
   "cell_type": "markdown",
   "metadata": {},
   "source": [
    "Качество модели не изменилось после преобразования данных. Для вариативности seed рандомайзера можно привязать к текущей дате."
   ]
  }
 ],
 "metadata": {
  "ExecuteTimeLog": [
   {
    "duration": 27,
    "start_time": "2021-06-23T20:14:02.429Z"
   },
   {
    "duration": 38,
    "start_time": "2021-06-23T20:14:23.796Z"
   },
   {
    "duration": 64,
    "start_time": "2021-06-23T20:14:59.437Z"
   },
   {
    "duration": 12,
    "start_time": "2021-06-23T20:38:09.261Z"
   },
   {
    "duration": 368,
    "start_time": "2021-06-23T20:53:46.085Z"
   },
   {
    "duration": 5,
    "start_time": "2021-06-23T20:53:54.079Z"
   },
   {
    "duration": 5,
    "start_time": "2021-06-23T20:53:55.592Z"
   },
   {
    "duration": 5,
    "start_time": "2021-06-23T20:53:56.134Z"
   },
   {
    "duration": 4,
    "start_time": "2021-06-23T20:53:56.705Z"
   },
   {
    "duration": 91,
    "start_time": "2021-06-23T20:54:06.538Z"
   },
   {
    "duration": 5,
    "start_time": "2021-06-23T20:54:10.501Z"
   },
   {
    "duration": 4,
    "start_time": "2021-06-23T20:54:13.354Z"
   },
   {
    "duration": 5,
    "start_time": "2021-06-23T20:54:13.919Z"
   },
   {
    "duration": 267,
    "start_time": "2021-06-23T20:57:52.808Z"
   },
   {
    "duration": 6,
    "start_time": "2021-06-23T20:58:40.458Z"
   },
   {
    "duration": 6,
    "start_time": "2021-06-23T20:58:41.422Z"
   },
   {
    "duration": 7,
    "start_time": "2021-06-23T20:58:41.902Z"
   },
   {
    "duration": 5,
    "start_time": "2021-06-23T20:58:42.319Z"
   },
   {
    "duration": 6,
    "start_time": "2021-06-23T20:58:42.678Z"
   },
   {
    "duration": 5,
    "start_time": "2021-06-23T20:58:43.000Z"
   },
   {
    "duration": 5,
    "start_time": "2021-06-23T20:58:43.294Z"
   },
   {
    "duration": 5,
    "start_time": "2021-06-23T20:58:43.831Z"
   },
   {
    "duration": 6,
    "start_time": "2021-06-23T20:58:43.882Z"
   },
   {
    "duration": 6,
    "start_time": "2021-06-23T20:58:44.474Z"
   },
   {
    "duration": 6,
    "start_time": "2021-06-23T20:58:48.124Z"
   },
   {
    "duration": 5,
    "start_time": "2021-06-23T20:58:48.643Z"
   },
   {
    "duration": 5,
    "start_time": "2021-06-23T20:58:49.073Z"
   },
   {
    "duration": 14,
    "start_time": "2021-06-23T21:06:31.732Z"
   },
   {
    "duration": 5,
    "start_time": "2021-06-23T21:08:15.889Z"
   },
   {
    "duration": 1506,
    "start_time": "2021-06-24T17:53:06.541Z"
   },
   {
    "duration": 14,
    "start_time": "2021-06-24T17:53:08.050Z"
   },
   {
    "duration": 89,
    "start_time": "2021-06-24T17:53:08.115Z"
   },
   {
    "duration": 7,
    "start_time": "2021-06-24T17:56:18.104Z"
   },
   {
    "duration": 14,
    "start_time": "2021-06-24T17:56:28.354Z"
   },
   {
    "duration": 21,
    "start_time": "2021-06-24T17:56:55.770Z"
   },
   {
    "duration": 15,
    "start_time": "2021-06-24T17:57:30.656Z"
   },
   {
    "duration": 29,
    "start_time": "2021-06-24T17:57:58.608Z"
   },
   {
    "duration": 17,
    "start_time": "2021-06-24T17:58:08.758Z"
   },
   {
    "duration": 17,
    "start_time": "2021-06-24T17:58:17.636Z"
   },
   {
    "duration": 471,
    "start_time": "2021-06-24T20:58:34.417Z"
   },
   {
    "duration": 14,
    "start_time": "2021-06-24T20:58:49.251Z"
   },
   {
    "duration": 14,
    "start_time": "2021-06-24T20:58:55.047Z"
   },
   {
    "duration": 279,
    "start_time": "2021-06-24T20:59:06.306Z"
   },
   {
    "duration": 32,
    "start_time": "2021-06-24T21:00:11.568Z"
   },
   {
    "duration": 7,
    "start_time": "2021-06-24T21:17:49.855Z"
   },
   {
    "duration": 6,
    "start_time": "2021-06-24T21:17:57.315Z"
   },
   {
    "duration": 6,
    "start_time": "2021-06-24T21:17:59.177Z"
   },
   {
    "duration": 6,
    "start_time": "2021-06-24T21:17:59.542Z"
   },
   {
    "duration": 338,
    "start_time": "2021-06-25T20:33:18.164Z"
   },
   {
    "duration": 1429,
    "start_time": "2021-06-25T20:33:26.344Z"
   },
   {
    "duration": 48,
    "start_time": "2021-06-25T20:33:27.777Z"
   },
   {
    "duration": 96,
    "start_time": "2021-06-25T20:33:27.831Z"
   },
   {
    "duration": 17,
    "start_time": "2021-06-25T20:33:27.929Z"
   },
   {
    "duration": 77,
    "start_time": "2021-06-25T20:33:27.948Z"
   },
   {
    "duration": 196,
    "start_time": "2021-06-25T20:33:28.028Z"
   },
   {
    "duration": 92,
    "start_time": "2021-06-25T20:35:15.089Z"
   },
   {
    "duration": 80,
    "start_time": "2021-06-25T20:36:39.244Z"
   },
   {
    "duration": 103,
    "start_time": "2021-06-25T20:50:16.688Z"
   },
   {
    "duration": 1399,
    "start_time": "2021-06-25T20:53:50.948Z"
   },
   {
    "duration": 53,
    "start_time": "2021-06-25T20:53:52.350Z"
   },
   {
    "duration": 92,
    "start_time": "2021-06-25T20:53:52.410Z"
   },
   {
    "duration": 96,
    "start_time": "2021-06-25T20:53:52.505Z"
   },
   {
    "duration": 7,
    "start_time": "2021-06-25T20:53:52.604Z"
   },
   {
    "duration": 107,
    "start_time": "2021-06-25T20:53:52.702Z"
   },
   {
    "duration": 4,
    "start_time": "2021-06-26T16:55:45.505Z"
   },
   {
    "duration": 1548,
    "start_time": "2021-06-26T17:06:26.906Z"
   },
   {
    "duration": 3,
    "start_time": "2021-06-26T17:06:28.457Z"
   },
   {
    "duration": 19,
    "start_time": "2021-06-26T17:06:28.466Z"
   },
   {
    "duration": 5,
    "start_time": "2021-06-26T17:06:28.490Z"
   },
   {
    "duration": 467,
    "start_time": "2021-06-26T17:06:28.498Z"
   },
   {
    "duration": 550,
    "start_time": "2021-06-26T17:06:28.417Z"
   },
   {
    "duration": 7,
    "start_time": "2021-06-26T17:06:52.066Z"
   },
   {
    "duration": 326,
    "start_time": "2021-06-26T17:07:13.408Z"
   },
   {
    "duration": 8,
    "start_time": "2021-06-26T17:07:38.857Z"
   },
   {
    "duration": 339,
    "start_time": "2021-06-26T17:07:39.691Z"
   },
   {
    "duration": 131,
    "start_time": "2021-06-26T17:08:10.874Z"
   },
   {
    "duration": 318,
    "start_time": "2021-06-26T17:18:11.789Z"
   },
   {
    "duration": 21,
    "start_time": "2021-06-26T17:18:18.393Z"
   },
   {
    "duration": 120,
    "start_time": "2021-06-26T17:24:04.429Z"
   },
   {
    "duration": 10,
    "start_time": "2021-06-26T17:40:14.461Z"
   },
   {
    "duration": 11,
    "start_time": "2021-06-26T17:40:15.056Z"
   },
   {
    "duration": 10,
    "start_time": "2021-06-26T17:40:15.518Z"
   },
   {
    "duration": 13,
    "start_time": "2021-06-26T17:40:49.670Z"
   },
   {
    "duration": 30,
    "start_time": "2021-06-26T17:40:55.776Z"
   },
   {
    "duration": 9,
    "start_time": "2021-06-26T17:41:46.237Z"
   },
   {
    "duration": 1504,
    "start_time": "2021-06-26T17:42:03.634Z"
   },
   {
    "duration": 3,
    "start_time": "2021-06-26T17:42:05.140Z"
   },
   {
    "duration": 5,
    "start_time": "2021-06-26T17:42:05.149Z"
   },
   {
    "duration": 10,
    "start_time": "2021-06-26T17:42:05.157Z"
   },
   {
    "duration": 30,
    "start_time": "2021-06-26T17:42:05.170Z"
   },
   {
    "duration": 103,
    "start_time": "2021-06-26T17:42:05.204Z"
   }
  ],
  "kernelspec": {
   "display_name": "Python 3",
   "language": "python",
   "name": "python3"
  },
  "language_info": {
   "codemirror_mode": {
    "name": "ipython",
    "version": 3
   },
   "file_extension": ".py",
   "mimetype": "text/x-python",
   "name": "python",
   "nbconvert_exporter": "python",
   "pygments_lexer": "ipython3",
   "version": "3.8.5"
  },
  "toc": {
   "base_numbering": 1,
   "nav_menu": {},
   "number_sections": true,
   "sideBar": true,
   "skip_h1_title": true,
   "title_cell": "Содержание",
   "title_sidebar": "Contents",
   "toc_cell": true,
   "toc_position": {
    "height": "calc(100% - 180px)",
    "left": "10px",
    "top": "150px",
    "width": "165px"
   },
   "toc_section_display": true,
   "toc_window_display": false
  }
 },
 "nbformat": 4,
 "nbformat_minor": 2
}
