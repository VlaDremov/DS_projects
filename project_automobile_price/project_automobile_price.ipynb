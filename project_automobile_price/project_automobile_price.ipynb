{
 "cells": [
  {
   "cell_type": "markdown",
   "metadata": {},
   "source": [
    "# Определение стоимости автомобилей"
   ]
  },
  {
   "cell_type": "markdown",
   "metadata": {},
   "source": [
    "Сервис по продаже автомобилей с пробегом «Не бит, не крашен» разрабатывает приложение для привлечения новых клиентов. В нём можно быстро узнать рыночную стоимость своего автомобиля. В вашем распоряжении исторические данные: технические характеристики, комплектации и цены автомобилей. Вам нужно построить модель для определения стоимости. \n",
    "\n",
    "Заказчику важны:\n",
    "\n",
    "- качество предсказания;\n",
    "- скорость предсказания;\n",
    "- время обучения.\n",
    "\n",
    "В качестве исходных данных получена таблица с данными об автомобилях.<br>\n",
    "Поля таблицы:<br><br>\n",
    "<b>Признаки</b> <br>\n",
    "DateCrawled — дата скачивания анкеты из базы<br>\n",
    "VehicleType — тип автомобильного кузова<br>\n",
    "RegistrationYear — год регистрации автомобиля<br>\n",
    "Gearbox — тип коробки передач<br>\n",
    "Power — мощность (л. с.)<br>\n",
    "Model — модель автомобиля<br>\n",
    "Kilometer — пробег (км)<br>\n",
    "RegistrationMonth — месяц регистрации автомобиля<br>\n",
    "FuelType — тип топлива<br>\n",
    "Brand — марка автомобиля<br>\n",
    "NotRepaired — была машина в ремонте или нет<br>\n",
    "DateCreated — дата создания анкеты<br>\n",
    "NumberOfPictures — количество фотографий автомобиля<br>\n",
    "PostalCode — почтовый индекс владельца анкеты (пользователя)<br>\n",
    "LastSeen — дата последней активности пользователя<br>\n",
    "<b>Целевой признак </b><br>\n",
    "Price — цена (евро)"
   ]
  },
  {
   "cell_type": "markdown",
   "metadata": {},
   "source": [
    "<h1>Содержание<span class=\"tocSkip\"></span></h1>\n",
    "<div class=\"toc\"><ul class=\"toc-item\"><li><span><a href=\"#Подготовка-данных\" data-toc-modified-id=\"Подготовка-данных-1\"><span class=\"toc-item-num\">1&nbsp;&nbsp;</span>Подготовка данных</a></span></li><li><span><a href=\"#Обучение-моделей\" data-toc-modified-id=\"Обучение-моделей-2\"><span class=\"toc-item-num\">2&nbsp;&nbsp;</span>Обучение моделей</a></span></li><li><span><a href=\"#Анализ-моделей\" data-toc-modified-id=\"Анализ-моделей-3\"><span class=\"toc-item-num\">3&nbsp;&nbsp;</span>Анализ моделей</a></span></li></ul></div>"
   ]
  },
  {
   "cell_type": "markdown",
   "metadata": {},
   "source": [
    "## Подготовка данных"
   ]
  },
  {
   "cell_type": "code",
   "execution_count": 1,
   "metadata": {},
   "outputs": [
    {
     "data": {
      "text/html": [
       "<div>\n",
       "<style scoped>\n",
       "    .dataframe tbody tr th:only-of-type {\n",
       "        vertical-align: middle;\n",
       "    }\n",
       "\n",
       "    .dataframe tbody tr th {\n",
       "        vertical-align: top;\n",
       "    }\n",
       "\n",
       "    .dataframe thead th {\n",
       "        text-align: right;\n",
       "    }\n",
       "</style>\n",
       "<table border=\"1\" class=\"dataframe\">\n",
       "  <thead>\n",
       "    <tr style=\"text-align: right;\">\n",
       "      <th></th>\n",
       "      <th>DateCrawled</th>\n",
       "      <th>Price</th>\n",
       "      <th>VehicleType</th>\n",
       "      <th>RegistrationYear</th>\n",
       "      <th>Gearbox</th>\n",
       "      <th>Power</th>\n",
       "      <th>Model</th>\n",
       "      <th>Kilometer</th>\n",
       "      <th>RegistrationMonth</th>\n",
       "      <th>FuelType</th>\n",
       "      <th>Brand</th>\n",
       "      <th>NotRepaired</th>\n",
       "      <th>DateCreated</th>\n",
       "      <th>NumberOfPictures</th>\n",
       "      <th>PostalCode</th>\n",
       "      <th>LastSeen</th>\n",
       "    </tr>\n",
       "  </thead>\n",
       "  <tbody>\n",
       "    <tr>\n",
       "      <td>0</td>\n",
       "      <td>2016-03-24 11:52:17</td>\n",
       "      <td>480</td>\n",
       "      <td>NaN</td>\n",
       "      <td>1993</td>\n",
       "      <td>manual</td>\n",
       "      <td>0</td>\n",
       "      <td>golf</td>\n",
       "      <td>150000</td>\n",
       "      <td>0</td>\n",
       "      <td>petrol</td>\n",
       "      <td>volkswagen</td>\n",
       "      <td>NaN</td>\n",
       "      <td>2016-03-24 00:00:00</td>\n",
       "      <td>0</td>\n",
       "      <td>70435</td>\n",
       "      <td>2016-04-07 03:16:57</td>\n",
       "    </tr>\n",
       "    <tr>\n",
       "      <td>1</td>\n",
       "      <td>2016-03-24 10:58:45</td>\n",
       "      <td>18300</td>\n",
       "      <td>coupe</td>\n",
       "      <td>2011</td>\n",
       "      <td>manual</td>\n",
       "      <td>190</td>\n",
       "      <td>NaN</td>\n",
       "      <td>125000</td>\n",
       "      <td>5</td>\n",
       "      <td>gasoline</td>\n",
       "      <td>audi</td>\n",
       "      <td>yes</td>\n",
       "      <td>2016-03-24 00:00:00</td>\n",
       "      <td>0</td>\n",
       "      <td>66954</td>\n",
       "      <td>2016-04-07 01:46:50</td>\n",
       "    </tr>\n",
       "    <tr>\n",
       "      <td>2</td>\n",
       "      <td>2016-03-14 12:52:21</td>\n",
       "      <td>9800</td>\n",
       "      <td>suv</td>\n",
       "      <td>2004</td>\n",
       "      <td>auto</td>\n",
       "      <td>163</td>\n",
       "      <td>grand</td>\n",
       "      <td>125000</td>\n",
       "      <td>8</td>\n",
       "      <td>gasoline</td>\n",
       "      <td>jeep</td>\n",
       "      <td>NaN</td>\n",
       "      <td>2016-03-14 00:00:00</td>\n",
       "      <td>0</td>\n",
       "      <td>90480</td>\n",
       "      <td>2016-04-05 12:47:46</td>\n",
       "    </tr>\n",
       "    <tr>\n",
       "      <td>3</td>\n",
       "      <td>2016-03-17 16:54:04</td>\n",
       "      <td>1500</td>\n",
       "      <td>small</td>\n",
       "      <td>2001</td>\n",
       "      <td>manual</td>\n",
       "      <td>75</td>\n",
       "      <td>golf</td>\n",
       "      <td>150000</td>\n",
       "      <td>6</td>\n",
       "      <td>petrol</td>\n",
       "      <td>volkswagen</td>\n",
       "      <td>no</td>\n",
       "      <td>2016-03-17 00:00:00</td>\n",
       "      <td>0</td>\n",
       "      <td>91074</td>\n",
       "      <td>2016-03-17 17:40:17</td>\n",
       "    </tr>\n",
       "    <tr>\n",
       "      <td>4</td>\n",
       "      <td>2016-03-31 17:25:20</td>\n",
       "      <td>3600</td>\n",
       "      <td>small</td>\n",
       "      <td>2008</td>\n",
       "      <td>manual</td>\n",
       "      <td>69</td>\n",
       "      <td>fabia</td>\n",
       "      <td>90000</td>\n",
       "      <td>7</td>\n",
       "      <td>gasoline</td>\n",
       "      <td>skoda</td>\n",
       "      <td>no</td>\n",
       "      <td>2016-03-31 00:00:00</td>\n",
       "      <td>0</td>\n",
       "      <td>60437</td>\n",
       "      <td>2016-04-06 10:17:21</td>\n",
       "    </tr>\n",
       "  </tbody>\n",
       "</table>\n",
       "</div>"
      ],
      "text/plain": [
       "           DateCrawled  Price VehicleType  RegistrationYear Gearbox  Power  \\\n",
       "0  2016-03-24 11:52:17    480         NaN              1993  manual      0   \n",
       "1  2016-03-24 10:58:45  18300       coupe              2011  manual    190   \n",
       "2  2016-03-14 12:52:21   9800         suv              2004    auto    163   \n",
       "3  2016-03-17 16:54:04   1500       small              2001  manual     75   \n",
       "4  2016-03-31 17:25:20   3600       small              2008  manual     69   \n",
       "\n",
       "   Model  Kilometer  RegistrationMonth  FuelType       Brand NotRepaired  \\\n",
       "0   golf     150000                  0    petrol  volkswagen         NaN   \n",
       "1    NaN     125000                  5  gasoline        audi         yes   \n",
       "2  grand     125000                  8  gasoline        jeep         NaN   \n",
       "3   golf     150000                  6    petrol  volkswagen          no   \n",
       "4  fabia      90000                  7  gasoline       skoda          no   \n",
       "\n",
       "           DateCreated  NumberOfPictures  PostalCode             LastSeen  \n",
       "0  2016-03-24 00:00:00                 0       70435  2016-04-07 03:16:57  \n",
       "1  2016-03-24 00:00:00                 0       66954  2016-04-07 01:46:50  \n",
       "2  2016-03-14 00:00:00                 0       90480  2016-04-05 12:47:46  \n",
       "3  2016-03-17 00:00:00                 0       91074  2016-03-17 17:40:17  \n",
       "4  2016-03-31 00:00:00                 0       60437  2016-04-06 10:17:21  "
      ]
     },
     "metadata": {},
     "output_type": "display_data"
    },
    {
     "name": "stdout",
     "output_type": "stream",
     "text": [
      "<class 'pandas.core.frame.DataFrame'>\n",
      "RangeIndex: 354369 entries, 0 to 354368\n",
      "Data columns (total 16 columns):\n",
      "DateCrawled          354369 non-null object\n",
      "Price                354369 non-null int64\n",
      "VehicleType          316879 non-null object\n",
      "RegistrationYear     354369 non-null int64\n",
      "Gearbox              334536 non-null object\n",
      "Power                354369 non-null int64\n",
      "Model                334664 non-null object\n",
      "Kilometer            354369 non-null int64\n",
      "RegistrationMonth    354369 non-null int64\n",
      "FuelType             321474 non-null object\n",
      "Brand                354369 non-null object\n",
      "NotRepaired          283215 non-null object\n",
      "DateCreated          354369 non-null object\n",
      "NumberOfPictures     354369 non-null int64\n",
      "PostalCode           354369 non-null int64\n",
      "LastSeen             354369 non-null object\n",
      "dtypes: int64(7), object(9)\n",
      "memory usage: 43.3+ MB\n",
      "None\n"
     ]
    },
    {
     "data": {
      "text/html": [
       "<div>\n",
       "<style scoped>\n",
       "    .dataframe tbody tr th:only-of-type {\n",
       "        vertical-align: middle;\n",
       "    }\n",
       "\n",
       "    .dataframe tbody tr th {\n",
       "        vertical-align: top;\n",
       "    }\n",
       "\n",
       "    .dataframe thead th {\n",
       "        text-align: right;\n",
       "    }\n",
       "</style>\n",
       "<table border=\"1\" class=\"dataframe\">\n",
       "  <thead>\n",
       "    <tr style=\"text-align: right;\">\n",
       "      <th></th>\n",
       "      <th>Price</th>\n",
       "      <th>RegistrationYear</th>\n",
       "      <th>Power</th>\n",
       "      <th>Kilometer</th>\n",
       "      <th>RegistrationMonth</th>\n",
       "      <th>NumberOfPictures</th>\n",
       "      <th>PostalCode</th>\n",
       "    </tr>\n",
       "  </thead>\n",
       "  <tbody>\n",
       "    <tr>\n",
       "      <td>count</td>\n",
       "      <td>354369.000000</td>\n",
       "      <td>354369.000000</td>\n",
       "      <td>354369.000000</td>\n",
       "      <td>354369.000000</td>\n",
       "      <td>354369.000000</td>\n",
       "      <td>354369.0</td>\n",
       "      <td>354369.000000</td>\n",
       "    </tr>\n",
       "    <tr>\n",
       "      <td>mean</td>\n",
       "      <td>4416.656776</td>\n",
       "      <td>2004.234448</td>\n",
       "      <td>110.094337</td>\n",
       "      <td>128211.172535</td>\n",
       "      <td>5.714645</td>\n",
       "      <td>0.0</td>\n",
       "      <td>50508.689087</td>\n",
       "    </tr>\n",
       "    <tr>\n",
       "      <td>std</td>\n",
       "      <td>4514.158514</td>\n",
       "      <td>90.227958</td>\n",
       "      <td>189.850405</td>\n",
       "      <td>37905.341530</td>\n",
       "      <td>3.726421</td>\n",
       "      <td>0.0</td>\n",
       "      <td>25783.096248</td>\n",
       "    </tr>\n",
       "    <tr>\n",
       "      <td>min</td>\n",
       "      <td>0.000000</td>\n",
       "      <td>1000.000000</td>\n",
       "      <td>0.000000</td>\n",
       "      <td>5000.000000</td>\n",
       "      <td>0.000000</td>\n",
       "      <td>0.0</td>\n",
       "      <td>1067.000000</td>\n",
       "    </tr>\n",
       "    <tr>\n",
       "      <td>25%</td>\n",
       "      <td>1050.000000</td>\n",
       "      <td>1999.000000</td>\n",
       "      <td>69.000000</td>\n",
       "      <td>125000.000000</td>\n",
       "      <td>3.000000</td>\n",
       "      <td>0.0</td>\n",
       "      <td>30165.000000</td>\n",
       "    </tr>\n",
       "    <tr>\n",
       "      <td>50%</td>\n",
       "      <td>2700.000000</td>\n",
       "      <td>2003.000000</td>\n",
       "      <td>105.000000</td>\n",
       "      <td>150000.000000</td>\n",
       "      <td>6.000000</td>\n",
       "      <td>0.0</td>\n",
       "      <td>49413.000000</td>\n",
       "    </tr>\n",
       "    <tr>\n",
       "      <td>75%</td>\n",
       "      <td>6400.000000</td>\n",
       "      <td>2008.000000</td>\n",
       "      <td>143.000000</td>\n",
       "      <td>150000.000000</td>\n",
       "      <td>9.000000</td>\n",
       "      <td>0.0</td>\n",
       "      <td>71083.000000</td>\n",
       "    </tr>\n",
       "    <tr>\n",
       "      <td>max</td>\n",
       "      <td>20000.000000</td>\n",
       "      <td>9999.000000</td>\n",
       "      <td>20000.000000</td>\n",
       "      <td>150000.000000</td>\n",
       "      <td>12.000000</td>\n",
       "      <td>0.0</td>\n",
       "      <td>99998.000000</td>\n",
       "    </tr>\n",
       "  </tbody>\n",
       "</table>\n",
       "</div>"
      ],
      "text/plain": [
       "               Price  RegistrationYear          Power      Kilometer  \\\n",
       "count  354369.000000     354369.000000  354369.000000  354369.000000   \n",
       "mean     4416.656776       2004.234448     110.094337  128211.172535   \n",
       "std      4514.158514         90.227958     189.850405   37905.341530   \n",
       "min         0.000000       1000.000000       0.000000    5000.000000   \n",
       "25%      1050.000000       1999.000000      69.000000  125000.000000   \n",
       "50%      2700.000000       2003.000000     105.000000  150000.000000   \n",
       "75%      6400.000000       2008.000000     143.000000  150000.000000   \n",
       "max     20000.000000       9999.000000   20000.000000  150000.000000   \n",
       "\n",
       "       RegistrationMonth  NumberOfPictures     PostalCode  \n",
       "count      354369.000000          354369.0  354369.000000  \n",
       "mean            5.714645               0.0   50508.689087  \n",
       "std             3.726421               0.0   25783.096248  \n",
       "min             0.000000               0.0    1067.000000  \n",
       "25%             3.000000               0.0   30165.000000  \n",
       "50%             6.000000               0.0   49413.000000  \n",
       "75%             9.000000               0.0   71083.000000  \n",
       "max            12.000000               0.0   99998.000000  "
      ]
     },
     "execution_count": 1,
     "metadata": {},
     "output_type": "execute_result"
    }
   ],
   "source": [
    "import pandas as pd\n",
    "import numpy as np\n",
    "import matplotlib.pyplot as plt\n",
    "from sklearn.model_selection import train_test_split\n",
    "from sklearn.preprocessing import StandardScaler\n",
    "from sklearn.preprocessing import OrdinalEncoder\n",
    "from sklearn.linear_model import LinearRegression\n",
    "from sklearn.ensemble import RandomForestRegressor\n",
    "from xgboost import XGBRegressor\n",
    "from lightgbm import LGBMRegressor\n",
    "from catboost import CatBoostRegressor\n",
    "from sklearn.metrics import mean_squared_error\n",
    "from sklearn.metrics import r2_score\n",
    "from sklearn.model_selection import cross_val_score\n",
    "import warnings\n",
    "warnings.filterwarnings('ignore')\n",
    "\n",
    "df = pd.read_csv('/datasets/autos.csv')\n",
    "display(df.head())\n",
    "print(df.info())\n",
    "df.describe()\n"
   ]
  },
  {
   "cell_type": "markdown",
   "metadata": {},
   "source": [
    "Удалим столбец с количеством картинок, ибо смысловой нагрузки он не несёт. Все значения равны 0. Также удалим PostalCode, DateCreated, LastSeen, потому что они могут существенно исказить результаты моделирования.\n",
    "\n",
    "\n",
    "Рассмотрим выбросы с годом регистрации, мощностью авто, лишнее удалим.\n",
    "\n",
    "Также удалим все строки с пустыми значениями, потому что восстановить значения в полях VehicleType, Gearbox, Model, FuelType, NotRepaired по значениям других полей проблематично. К тому же некоторые модели не могут обучаться при наличии пропусков.\n",
    "\n",
    "Приведём поля с датами к соответствующему формату."
   ]
  },
  {
   "cell_type": "code",
   "execution_count": 2,
   "metadata": {
    "scrolled": true
   },
   "outputs": [
    {
     "name": "stdout",
     "output_type": "stream",
     "text": [
      "<class 'pandas.core.frame.DataFrame'>\n",
      "Int64Index: 245814 entries, 3 to 354367\n",
      "Data columns (total 12 columns):\n",
      "DateCrawled          245814 non-null datetime64[ns]\n",
      "Price                245814 non-null int64\n",
      "VehicleType          245814 non-null object\n",
      "RegistrationYear     245814 non-null int64\n",
      "Gearbox              245814 non-null object\n",
      "Power                245814 non-null int64\n",
      "Model                245814 non-null object\n",
      "Kilometer            245814 non-null int64\n",
      "RegistrationMonth    245814 non-null int64\n",
      "FuelType             245814 non-null object\n",
      "Brand                245814 non-null object\n",
      "NotRepaired          245814 non-null object\n",
      "dtypes: datetime64[ns](1), int64(5), object(6)\n",
      "memory usage: 24.4+ MB\n"
     ]
    }
   ],
   "source": [
    "df = df.dropna()\n",
    "df['DateCrawled'] = pd.to_datetime(df['DateCrawled'], format='%Y-%m-%d %H:%M:%S')\n",
    "#df['DateCreated'] = pd.to_datetime(df['DateCreated'], format='%Y-%m-%d %H:%M:%S') \n",
    "#df['LastSeen'] = pd.to_datetime(df['LastSeen'], format='%Y-%m-%d %H:%M:%S') \n",
    "df = df.drop(['NumberOfPictures', 'DateCreated', 'PostalCode', 'LastSeen'], axis = 1)\n",
    "df.info()"
   ]
  },
  {
   "cell_type": "markdown",
   "metadata": {},
   "source": [
    "Проработаем дополнительно выбросы. В частности, в глаза бросается нереалистичная мощность авто. А т.к. этот показатель количественный, выбросов лучше избежать."
   ]
  },
  {
   "cell_type": "code",
   "execution_count": 3,
   "metadata": {
    "scrolled": false
   },
   "outputs": [
    {
     "name": "stdout",
     "output_type": "stream",
     "text": [
      "volkswagen       51837\n",
      "bmw              27244\n",
      "opel             26211\n",
      "mercedes_benz    23922\n",
      "audi             21554\n",
      "ford             17100\n",
      "renault          11634\n",
      "peugeot           7824\n",
      "fiat              6337\n",
      "seat              4909\n",
      "skoda             4401\n",
      "mazda             3961\n",
      "citroen           3663\n",
      "toyota            3624\n",
      "nissan            3507\n",
      "smart             3349\n",
      "hyundai           2735\n",
      "mini              2693\n",
      "volvo             2481\n",
      "mitsubishi        2042\n",
      "honda             1929\n",
      "kia               1888\n",
      "alfa_romeo        1680\n",
      "suzuki            1679\n",
      "chevrolet         1282\n",
      "chrysler          1013\n",
      "dacia              723\n",
      "porsche            548\n",
      "subaru             534\n",
      "daihatsu           520\n",
      "jeep               502\n",
      "land_rover         421\n",
      "saab               417\n",
      "jaguar             389\n",
      "daewoo             337\n",
      "lancia             309\n",
      "rover              258\n",
      "trabant            211\n",
      "lada               146\n",
      "Name: Brand, dtype: int64\n"
     ]
    },
    {
     "data": {
      "image/png": "[encoded data removed]",
      "text/plain": [
       "<Figure size 432x288 with 1 Axes>"
      ]
     },
     "metadata": {
      "needs_background": "light"
     },
     "output_type": "display_data"
    }
   ],
   "source": [
    "print(df['Brand'].value_counts())\n",
    "\n",
    "df.hist(column = 'Power', bins = 200, range = (500,20000))\n",
    "df = df.query('Power <= 700') \n",
    "df = df.set_index('DateCrawled')"
   ]
  },
  {
   "cell_type": "markdown",
   "metadata": {},
   "source": [
    "Автомобилей имеющихся в датафрейме марок с мощностью более 700 л.с. существует крайне мало. Поэтому удалим строки с мощностями выше этого порога. "
   ]
  },
  {
   "cell_type": "code",
   "execution_count": 4,
   "metadata": {},
   "outputs": [
    {
     "data": {
      "image/png": "[encoded data removed]",
      "text/plain": [
       "<Figure size 432x288 with 1 Axes>"
      ]
     },
     "metadata": {
      "needs_background": "light"
     },
     "output_type": "display_data"
    },
    {
     "data": {
      "image/png": "[encoded data removed]",
      "text/plain": [
       "<Figure size 432x288 with 1 Axes>"
      ]
     },
     "metadata": {
      "needs_background": "light"
     },
     "output_type": "display_data"
    }
   ],
   "source": [
    "df.hist(column = 'Price', bins = 200, range = (0,600))\n",
    "df.hist(column = 'RegistrationYear', bins = 200, range = (1900, 1980))\n",
    "df = df.query('Price > 200 and RegistrationYear > 1960') "
   ]
  },
  {
   "cell_type": "markdown",
   "metadata": {},
   "source": [
    "## Обучение моделей"
   ]
  },
  {
   "cell_type": "markdown",
   "metadata": {},
   "source": [
    "Разобьем датафрейм на выборки  (train/test - 75%/25%). Проверим модели кросс-валидацией. "
   ]
  },
  {
   "cell_type": "code",
   "execution_count": 5,
   "metadata": {},
   "outputs": [
    {
     "name": "stdout",
     "output_type": "stream",
     "text": [
      "Размер тренировочной выборки: (179530, 10) (179530,)\n",
      "Размер тестовой выборки: (59844, 10) (59844,)\n"
     ]
    }
   ],
   "source": [
    "features = df.drop('Price', axis = 1)\n",
    "target = df['Price']\n",
    "df = df[['Price', 'Power',  'Kilometer', \n",
    "         'RegistrationMonth', 'RegistrationYear', 'VehicleType',  'Gearbox', 'Model','FuelType', 'Brand', 'NotRepaired']]\n",
    "features_train, features_test, target_train, target_test = train_test_split(\n",
    "    features, target, test_size=0.25, random_state=42)\n",
    "print('Размер тренировочной выборки:', features_train.shape,target_train.shape)\n",
    "print('Размер тестовой выборки:',features_test.shape,target_test.shape)"
   ]
  },
  {
   "cell_type": "code",
   "execution_count": 6,
   "metadata": {
    "scrolled": true
   },
   "outputs": [
    {
     "name": "stdout",
     "output_type": "stream",
     "text": [
      "                     VehicleType  RegistrationYear Gearbox  Power     Model  \\\n",
      "DateCrawled                                                                   \n",
      "2016-04-05 01:57:56        wagon              2004  manual    116    mondeo   \n",
      "2016-03-09 18:46:25        small              2000  manual     50    fiesta   \n",
      "2016-04-03 22:55:58  convertible              2005  manual     90     tigra   \n",
      "2016-03-12 15:37:22        sedan              2001  manual    143  e_klasse   \n",
      "2016-03-27 14:37:41        small              2013  manual    101     other   \n",
      "...                          ...               ...     ...    ...       ...   \n",
      "2016-04-06 20:36:35        wagon              2001  manual    114   primera   \n",
      "2016-04-01 23:56:54          suv              2003    auto    320   x_reihe   \n",
      "2016-03-23 13:56:00        small              2006  manual     68   1_reihe   \n",
      "2016-03-24 11:48:43        sedan              2014  manual    120     other   \n",
      "2016-03-12 18:38:59  convertible              2008  manual    111    megane   \n",
      "\n",
      "                     Kilometer  RegistrationMonth  FuelType          Brand  \\\n",
      "DateCrawled                                                                  \n",
      "2016-04-05 01:57:56     150000                  6  gasoline           ford   \n",
      "2016-03-09 18:46:25     150000                 12    petrol           ford   \n",
      "2016-04-03 22:55:58      70000                  4    petrol           opel   \n",
      "2016-03-12 15:37:22     150000                  6  gasoline  mercedes_benz   \n",
      "2016-03-27 14:37:41      30000                  4    petrol           opel   \n",
      "...                        ...                ...       ...            ...   \n",
      "2016-04-06 20:36:35     150000                  9    petrol         nissan   \n",
      "2016-04-01 23:56:54     150000                 10    petrol            bmw   \n",
      "2016-03-23 13:56:00     150000                 11    petrol        peugeot   \n",
      "2016-03-24 11:48:43      30000                  8    petrol     alfa_romeo   \n",
      "2016-03-12 18:38:59      90000                  1    petrol        renault   \n",
      "\n",
      "                    NotRepaired  \n",
      "DateCrawled                      \n",
      "2016-04-05 01:57:56          no  \n",
      "2016-03-09 18:46:25          no  \n",
      "2016-04-03 22:55:58          no  \n",
      "2016-03-12 15:37:22          no  \n",
      "2016-03-27 14:37:41          no  \n",
      "...                         ...  \n",
      "2016-04-06 20:36:35          no  \n",
      "2016-04-01 23:56:54          no  \n",
      "2016-03-23 13:56:00          no  \n",
      "2016-03-24 11:48:43          no  \n",
      "2016-03-12 18:38:59          no  \n",
      "\n",
      "[179530 rows x 10 columns]\n"
     ]
    }
   ],
   "source": [
    "print(features_train)"
   ]
  },
  {
   "cell_type": "markdown",
   "metadata": {},
   "source": [
    "Произведем масштабирование фичей."
   ]
  },
  {
   "cell_type": "code",
   "execution_count": 7,
   "metadata": {},
   "outputs": [],
   "source": [
    "features_train_scaled = features_train.copy()\n",
    "#features_test_scaled = features_test.copy()\n",
    "numeric = ['RegistrationYear', 'Power', 'Kilometer', 'RegistrationMonth']\n",
    "scaler = StandardScaler()\n",
    "scaler.fit(features_train_scaled[numeric])\n",
    "features_train_scaled[numeric] = scaler.transform(features_train_scaled[numeric])\n",
    "#features_test_scaled[numeric] = scaler.transform(features_test_scaled[numeric])"
   ]
  },
  {
   "cell_type": "markdown",
   "metadata": {},
   "source": [
    "Проверим, что числовые столбцы действительно отмасштабированы."
   ]
  },
  {
   "cell_type": "code",
   "execution_count": 8,
   "metadata": {},
   "outputs": [
    {
     "data": {
      "text/html": [
       "<div>\n",
       "<style scoped>\n",
       "    .dataframe tbody tr th:only-of-type {\n",
       "        vertical-align: middle;\n",
       "    }\n",
       "\n",
       "    .dataframe tbody tr th {\n",
       "        vertical-align: top;\n",
       "    }\n",
       "\n",
       "    .dataframe thead th {\n",
       "        text-align: right;\n",
       "    }\n",
       "</style>\n",
       "<table border=\"1\" class=\"dataframe\">\n",
       "  <thead>\n",
       "    <tr style=\"text-align: right;\">\n",
       "      <th></th>\n",
       "      <th>VehicleType</th>\n",
       "      <th>RegistrationYear</th>\n",
       "      <th>Gearbox</th>\n",
       "      <th>Power</th>\n",
       "      <th>Model</th>\n",
       "      <th>Kilometer</th>\n",
       "      <th>RegistrationMonth</th>\n",
       "      <th>FuelType</th>\n",
       "      <th>Brand</th>\n",
       "      <th>NotRepaired</th>\n",
       "    </tr>\n",
       "    <tr>\n",
       "      <th>DateCrawled</th>\n",
       "      <th></th>\n",
       "      <th></th>\n",
       "      <th></th>\n",
       "      <th></th>\n",
       "      <th></th>\n",
       "      <th></th>\n",
       "      <th></th>\n",
       "      <th></th>\n",
       "      <th></th>\n",
       "      <th></th>\n",
       "    </tr>\n",
       "  </thead>\n",
       "  <tbody>\n",
       "    <tr>\n",
       "      <td>2016-04-05 01:57:56</td>\n",
       "      <td>wagon</td>\n",
       "      <td>0.154157</td>\n",
       "      <td>manual</td>\n",
       "      <td>-0.051436</td>\n",
       "      <td>mondeo</td>\n",
       "      <td>0.617914</td>\n",
       "      <td>-0.060728</td>\n",
       "      <td>gasoline</td>\n",
       "      <td>ford</td>\n",
       "      <td>no</td>\n",
       "    </tr>\n",
       "    <tr>\n",
       "      <td>2016-03-09 18:46:25</td>\n",
       "      <td>small</td>\n",
       "      <td>-0.510599</td>\n",
       "      <td>manual</td>\n",
       "      <td>-1.198461</td>\n",
       "      <td>fiesta</td>\n",
       "      <td>0.617914</td>\n",
       "      <td>1.672818</td>\n",
       "      <td>petrol</td>\n",
       "      <td>ford</td>\n",
       "      <td>no</td>\n",
       "    </tr>\n",
       "    <tr>\n",
       "      <td>2016-04-03 22:55:58</td>\n",
       "      <td>convertible</td>\n",
       "      <td>0.320346</td>\n",
       "      <td>manual</td>\n",
       "      <td>-0.503294</td>\n",
       "      <td>tigra</td>\n",
       "      <td>-1.541115</td>\n",
       "      <td>-0.638577</td>\n",
       "      <td>petrol</td>\n",
       "      <td>opel</td>\n",
       "      <td>no</td>\n",
       "    </tr>\n",
       "    <tr>\n",
       "      <td>2016-03-12 15:37:22</td>\n",
       "      <td>sedan</td>\n",
       "      <td>-0.344410</td>\n",
       "      <td>manual</td>\n",
       "      <td>0.417801</td>\n",
       "      <td>e_klasse</td>\n",
       "      <td>0.617914</td>\n",
       "      <td>-0.060728</td>\n",
       "      <td>gasoline</td>\n",
       "      <td>mercedes_benz</td>\n",
       "      <td>no</td>\n",
       "    </tr>\n",
       "    <tr>\n",
       "      <td>2016-03-27 14:37:41</td>\n",
       "      <td>small</td>\n",
       "      <td>1.649858</td>\n",
       "      <td>manual</td>\n",
       "      <td>-0.312123</td>\n",
       "      <td>other</td>\n",
       "      <td>-2.620629</td>\n",
       "      <td>-0.638577</td>\n",
       "      <td>petrol</td>\n",
       "      <td>opel</td>\n",
       "      <td>no</td>\n",
       "    </tr>\n",
       "  </tbody>\n",
       "</table>\n",
       "</div>"
      ],
      "text/plain": [
       "                     VehicleType  RegistrationYear Gearbox     Power  \\\n",
       "DateCrawled                                                            \n",
       "2016-04-05 01:57:56        wagon          0.154157  manual -0.051436   \n",
       "2016-03-09 18:46:25        small         -0.510599  manual -1.198461   \n",
       "2016-04-03 22:55:58  convertible          0.320346  manual -0.503294   \n",
       "2016-03-12 15:37:22        sedan         -0.344410  manual  0.417801   \n",
       "2016-03-27 14:37:41        small          1.649858  manual -0.312123   \n",
       "\n",
       "                        Model  Kilometer  RegistrationMonth  FuelType  \\\n",
       "DateCrawled                                                             \n",
       "2016-04-05 01:57:56    mondeo   0.617914          -0.060728  gasoline   \n",
       "2016-03-09 18:46:25    fiesta   0.617914           1.672818    petrol   \n",
       "2016-04-03 22:55:58     tigra  -1.541115          -0.638577    petrol   \n",
       "2016-03-12 15:37:22  e_klasse   0.617914          -0.060728  gasoline   \n",
       "2016-03-27 14:37:41     other  -2.620629          -0.638577    petrol   \n",
       "\n",
       "                             Brand NotRepaired  \n",
       "DateCrawled                                     \n",
       "2016-04-05 01:57:56           ford          no  \n",
       "2016-03-09 18:46:25           ford          no  \n",
       "2016-04-03 22:55:58           opel          no  \n",
       "2016-03-12 15:37:22  mercedes_benz          no  \n",
       "2016-03-27 14:37:41           opel          no  "
      ]
     },
     "metadata": {},
     "output_type": "display_data"
    },
    {
     "data": {
      "text/html": [
       "<div>\n",
       "<style scoped>\n",
       "    .dataframe tbody tr th:only-of-type {\n",
       "        vertical-align: middle;\n",
       "    }\n",
       "\n",
       "    .dataframe tbody tr th {\n",
       "        vertical-align: top;\n",
       "    }\n",
       "\n",
       "    .dataframe thead th {\n",
       "        text-align: right;\n",
       "    }\n",
       "</style>\n",
       "<table border=\"1\" class=\"dataframe\">\n",
       "  <thead>\n",
       "    <tr style=\"text-align: right;\">\n",
       "      <th></th>\n",
       "      <th>VehicleType</th>\n",
       "      <th>RegistrationYear</th>\n",
       "      <th>Gearbox</th>\n",
       "      <th>Power</th>\n",
       "      <th>Model</th>\n",
       "      <th>Kilometer</th>\n",
       "      <th>RegistrationMonth</th>\n",
       "      <th>FuelType</th>\n",
       "      <th>Brand</th>\n",
       "      <th>NotRepaired</th>\n",
       "    </tr>\n",
       "    <tr>\n",
       "      <th>DateCrawled</th>\n",
       "      <th></th>\n",
       "      <th></th>\n",
       "      <th></th>\n",
       "      <th></th>\n",
       "      <th></th>\n",
       "      <th></th>\n",
       "      <th></th>\n",
       "      <th></th>\n",
       "      <th></th>\n",
       "      <th></th>\n",
       "    </tr>\n",
       "  </thead>\n",
       "  <tbody>\n",
       "    <tr>\n",
       "      <td>2016-04-05 01:57:56</td>\n",
       "      <td>wagon</td>\n",
       "      <td>2004</td>\n",
       "      <td>manual</td>\n",
       "      <td>116</td>\n",
       "      <td>mondeo</td>\n",
       "      <td>150000</td>\n",
       "      <td>6</td>\n",
       "      <td>gasoline</td>\n",
       "      <td>ford</td>\n",
       "      <td>no</td>\n",
       "    </tr>\n",
       "    <tr>\n",
       "      <td>2016-03-09 18:46:25</td>\n",
       "      <td>small</td>\n",
       "      <td>2000</td>\n",
       "      <td>manual</td>\n",
       "      <td>50</td>\n",
       "      <td>fiesta</td>\n",
       "      <td>150000</td>\n",
       "      <td>12</td>\n",
       "      <td>petrol</td>\n",
       "      <td>ford</td>\n",
       "      <td>no</td>\n",
       "    </tr>\n",
       "    <tr>\n",
       "      <td>2016-04-03 22:55:58</td>\n",
       "      <td>convertible</td>\n",
       "      <td>2005</td>\n",
       "      <td>manual</td>\n",
       "      <td>90</td>\n",
       "      <td>tigra</td>\n",
       "      <td>70000</td>\n",
       "      <td>4</td>\n",
       "      <td>petrol</td>\n",
       "      <td>opel</td>\n",
       "      <td>no</td>\n",
       "    </tr>\n",
       "    <tr>\n",
       "      <td>2016-03-12 15:37:22</td>\n",
       "      <td>sedan</td>\n",
       "      <td>2001</td>\n",
       "      <td>manual</td>\n",
       "      <td>143</td>\n",
       "      <td>e_klasse</td>\n",
       "      <td>150000</td>\n",
       "      <td>6</td>\n",
       "      <td>gasoline</td>\n",
       "      <td>mercedes_benz</td>\n",
       "      <td>no</td>\n",
       "    </tr>\n",
       "    <tr>\n",
       "      <td>2016-03-27 14:37:41</td>\n",
       "      <td>small</td>\n",
       "      <td>2013</td>\n",
       "      <td>manual</td>\n",
       "      <td>101</td>\n",
       "      <td>other</td>\n",
       "      <td>30000</td>\n",
       "      <td>4</td>\n",
       "      <td>petrol</td>\n",
       "      <td>opel</td>\n",
       "      <td>no</td>\n",
       "    </tr>\n",
       "  </tbody>\n",
       "</table>\n",
       "</div>"
      ],
      "text/plain": [
       "                     VehicleType  RegistrationYear Gearbox  Power     Model  \\\n",
       "DateCrawled                                                                   \n",
       "2016-04-05 01:57:56        wagon              2004  manual    116    mondeo   \n",
       "2016-03-09 18:46:25        small              2000  manual     50    fiesta   \n",
       "2016-04-03 22:55:58  convertible              2005  manual     90     tigra   \n",
       "2016-03-12 15:37:22        sedan              2001  manual    143  e_klasse   \n",
       "2016-03-27 14:37:41        small              2013  manual    101     other   \n",
       "\n",
       "                     Kilometer  RegistrationMonth  FuelType          Brand  \\\n",
       "DateCrawled                                                                  \n",
       "2016-04-05 01:57:56     150000                  6  gasoline           ford   \n",
       "2016-03-09 18:46:25     150000                 12    petrol           ford   \n",
       "2016-04-03 22:55:58      70000                  4    petrol           opel   \n",
       "2016-03-12 15:37:22     150000                  6  gasoline  mercedes_benz   \n",
       "2016-03-27 14:37:41      30000                  4    petrol           opel   \n",
       "\n",
       "                    NotRepaired  \n",
       "DateCrawled                      \n",
       "2016-04-05 01:57:56          no  \n",
       "2016-03-09 18:46:25          no  \n",
       "2016-04-03 22:55:58          no  \n",
       "2016-03-12 15:37:22          no  \n",
       "2016-03-27 14:37:41          no  "
      ]
     },
     "metadata": {},
     "output_type": "display_data"
    }
   ],
   "source": [
    "display(features_train_scaled.head())\n",
    "display(features_train.head())"
   ]
  },
  {
   "cell_type": "markdown",
   "metadata": {},
   "source": [
    "Начнем с простых моделей - линейной регрессии и модели случайного леса\n",
    "\n",
    "Построим дополнительно каждую из двух моделей на датафрейме с масштабированными фичами, выведем результаты и для них."
   ]
  },
  {
   "cell_type": "code",
   "execution_count": 9,
   "metadata": {},
   "outputs": [
    {
     "name": "stdout",
     "output_type": "stream",
     "text": [
      "RMSE на кросс-валидации для линейной регрессии: 3105.115929655193\n",
      "CPU times: user 361 ms, sys: 401 ms, total: 762 ms\n",
      "Wall time: 749 ms\n"
     ]
    }
   ],
   "source": [
    "%%time\n",
    "features_train_reg = features_train.drop(['VehicleType', 'Gearbox', 'Model', 'FuelType', 'Brand', 'NotRepaired'], axis = 1)\n",
    "model_regr = LinearRegression()\n",
    "model_regr.fit(features_train_reg, target_train)\n",
    "result_regression =  cross_val_score(model_regr, features_train_reg, target_train, cv = 5, scoring = 'neg_mean_squared_error') #'r2')\n",
    "print('RMSE на кросс-валидации для линейной регрессии:',pd.Series((np.sqrt(abs(result_regression)))).mean())\n",
    "cv_regr = np.mean(np.sqrt(abs(result_regression)))"
   ]
  },
  {
   "cell_type": "code",
   "execution_count": 10,
   "metadata": {},
   "outputs": [
    {
     "name": "stdout",
     "output_type": "stream",
     "text": [
      "RMSE на кросс-валидации для линейной регрессии, масшабированные фичи: 3105.115929655193\n",
      "CPU times: user 392 ms, sys: 424 ms, total: 815 ms\n",
      "Wall time: 802 ms\n"
     ]
    }
   ],
   "source": [
    "%%time\n",
    "features_train_reg_sc = features_train_scaled.drop(['VehicleType', 'Gearbox', 'Model', 'FuelType', 'Brand', 'NotRepaired'], axis = 1)\n",
    "model_regr_sc = LinearRegression()\n",
    "model_regr_sc.fit(features_train_reg_sc, target_train)\n",
    "result_regression_sc =  cross_val_score(model_regr_sc, features_train_reg_sc, target_train, cv = 5, scoring = 'neg_mean_squared_error') #'r2')\n",
    "print('RMSE на кросс-валидации для линейной регрессии, масшабированные фичи:',pd.Series((np.sqrt(abs(result_regression_sc)))).mean())"
   ]
  },
  {
   "cell_type": "code",
   "execution_count": 11,
   "metadata": {},
   "outputs": [
    {
     "name": "stdout",
     "output_type": "stream",
     "text": [
      "RMSE на кросс-валидации для случайного леса: 2133.3858306013326\n",
      "CPU times: user 31.2 s, sys: 142 ms, total: 31.3 s\n",
      "Wall time: 31.4 s\n"
     ]
    }
   ],
   "source": [
    "%%time\n",
    "features_train_forest = features_train.drop(['VehicleType', 'Gearbox', 'Model', 'FuelType', 'Brand', 'NotRepaired'], axis = 1)\n",
    "model_forest = RandomForestRegressor(random_state=42, n_estimators=50, max_depth = 9)\n",
    "model_forest.fit(features_train_forest, target_train)\n",
    "result_forest =  cross_val_score(model_forest, features_train_forest, target_train, cv = 5, scoring = 'neg_mean_squared_error') #'r2')\n",
    "print('RMSE на кросс-валидации для случайного леса:',pd.Series((np.sqrt(abs(result_forest)))).mean())\n",
    "cv_forest = np.mean(np.sqrt(abs(result_forest)))"
   ]
  },
  {
   "cell_type": "code",
   "execution_count": 12,
   "metadata": {},
   "outputs": [
    {
     "name": "stdout",
     "output_type": "stream",
     "text": [
      "RMSE на кросс-валидации для случайного леса, масшабированные фичи: 2133.2949712987547\n",
      "CPU times: user 32.4 s, sys: 15.4 ms, total: 32.4 s\n",
      "Wall time: 32.5 s\n"
     ]
    }
   ],
   "source": [
    "%%time\n",
    "features_train_forest_sc = features_train_scaled.drop(['VehicleType', 'Gearbox', 'Model', 'FuelType', 'Brand', 'NotRepaired'], axis = 1)\n",
    "model_forest_sc = RandomForestRegressor(random_state=42, n_estimators=50, max_depth = 9)\n",
    "model_forest_sc.fit(features_train_forest_sc, target_train)\n",
    "result_forest_sc =  cross_val_score(model_forest_sc, features_train_forest_sc, target_train, cv = 5, scoring = 'neg_mean_squared_error') #'r2')\n",
    "print('RMSE на кросс-валидации для случайного леса, масшабированные фичи:',pd.Series((np.sqrt(abs(result_forest_sc)))).mean())"
   ]
  },
  {
   "cell_type": "markdown",
   "metadata": {},
   "source": [
    "Модель случайного леса при кросс-валидации показала результаты лучше, хотя обучение её длится существенно дольше, чем у регресии. \n",
    "\n",
    "<b>Примечательно, что на качество моделей на кросс-валидации масшабирование фичей не повлияло.</b>\n",
    "\n",
    "Перейдем к алгоритмам градиентного бустинга. У этих двух моделей категориальные переменные опускали.\n",
    "\n",
    "Обучим следующей XGBoost. \n",
    "\n",
    "Попробуем два варианта - \n",
    "1. опустить все кат. переменные \n",
    "2. закодировать их через Ordinal Encoding. "
   ]
  },
  {
   "cell_type": "code",
   "execution_count": 13,
   "metadata": {},
   "outputs": [
    {
     "name": "stdout",
     "output_type": "stream",
     "text": [
      "RMSE на кросс-валидации для XGBoost, без кат.переменных: 2063.18638614537\n",
      "CPU times: user 50.3 s, sys: 114 ms, total: 50.4 s\n",
      "Wall time: 50.4 s\n"
     ]
    }
   ],
   "source": [
    "%%time\n",
    "\n",
    "features_train_xgbr = features_train.drop(['VehicleType', 'Gearbox', 'Model', 'FuelType', 'Brand', 'NotRepaired'], axis = 1)\n",
    "model_xgb = XGBRegressor(random_state=42, n_estimators=80, max_depth = 8, verbosity=0)\n",
    "model_xgb.fit(features_train_xgbr, target_train)\n",
    "result_xgb =  cross_val_score(model_xgb, features_train_xgbr, target_train, cv = 5, scoring = 'neg_mean_squared_error') #'r2')\n",
    "print('RMSE на кросс-валидации для XGBoost, без кат.переменных:',pd.Series((np.sqrt(abs(result_xgb)))).mean())\n",
    "cv_xgb = np.mean(np.sqrt(abs(result_xgb)))"
   ]
  },
  {
   "cell_type": "code",
   "execution_count": 14,
   "metadata": {},
   "outputs": [
    {
     "name": "stdout",
     "output_type": "stream",
     "text": [
      "RMSE на кросс-валидации для XGBoost, c кат. переменными, Ordinal Encoding: 1594.5296315663386\n",
      "CPU times: user 1min 32s, sys: 169 ms, total: 1min 32s\n",
      "Wall time: 1min 32s\n"
     ]
    }
   ],
   "source": [
    "%%time\n",
    "\n",
    "encoder = OrdinalEncoder()\n",
    "cat_features = ['NotRepaired', 'VehicleType', 'Gearbox', 'Model', 'FuelType', 'Brand']\n",
    "features_train_oe = features_train.copy()\n",
    "features_train_oe[cat_features] = encoder.fit_transform(features_train_oe[cat_features])\n",
    "model_xgb_oe = XGBRegressor(random_state=42, n_estimators=80, max_depth = 8, verbosity=0)\n",
    "model_xgb_oe.fit(features_train_oe, target_train)\n",
    "result_xgb_oe =  cross_val_score(model_xgb_oe, features_train_oe, target_train, cv = 5, scoring = 'neg_mean_squared_error') #'r2')\n",
    "print('RMSE на кросс-валидации для XGBoost, c кат. переменными, Ordinal Encoding:',pd.Series((np.sqrt(abs(result_xgb_oe)))).mean())\n",
    "cv_xgb_oe = np.mean(np.sqrt(abs(result_xgb_oe)))"
   ]
  },
  {
   "cell_type": "markdown",
   "metadata": {},
   "source": [
    "Кодирование категориальных переменных работает! RMSE упал более чем на 20%. При этом время выполнения выросло почти в два раза.\n",
    "\n",
    "Попробуем LGBM, передав ей в качестве кат. переменных те же закодированные столбцы (ибо самостоятельно кодировать она не умеет, в качестве кат. переменных принимает только int)"
   ]
  },
  {
   "cell_type": "code",
   "execution_count": 15,
   "metadata": {},
   "outputs": [
    {
     "name": "stdout",
     "output_type": "stream",
     "text": [
      "RMSE на кросс-валидации для LGBMRegressor, c кат. переменными, Ordinal Encoding: 1673.5636086543539\n",
      "CPU times: user 9.59 s, sys: 152 ms, total: 9.74 s\n",
      "Wall time: 9.76 s\n"
     ]
    }
   ],
   "source": [
    "%%time\n",
    "\n",
    "encoder = OrdinalEncoder()\n",
    "cat_features = ['NotRepaired', 'VehicleType', 'Gearbox', 'Model', 'FuelType', 'Brand']\n",
    "features_train_oe = features_train.copy() \n",
    "features_train_oe[cat_features] = encoder.fit_transform(features_train_oe[cat_features])\n",
    "model_lgbm = LGBMRegressor(random_state=42, n_estimators=80, max_depth = 9, num_iterations = 100,  verbose= 10)\n",
    "model_lgbm.fit(features_train_oe, target_train, verbose = True, categorical_feature = cat_features )\n",
    "result_lgbm =  cross_val_score(model_lgbm, features_train_oe, target_train, cv = 5, scoring = 'neg_mean_squared_error') #'r2')\n",
    "print('RMSE на кросс-валидации для LGBMRegressor, c кат. переменными, Ordinal Encoding:',pd.Series((np.sqrt(abs(result_lgbm)))).mean())\n",
    "cv_lgbm = np.mean(np.sqrt(abs(result_lgbm)))"
   ]
  },
  {
   "cell_type": "markdown",
   "metadata": {},
   "source": [
    "Напоследок оставим CatBoost. В качестве данных для обучения передадим исходный датасет, дав возможность модели самостоятельно сделать кодирование категориальных признаков."
   ]
  },
  {
   "cell_type": "code",
   "execution_count": 16,
   "metadata": {
    "scrolled": true
   },
   "outputs": [
    {
     "name": "stdout",
     "output_type": "stream",
     "text": [
      "0:\tlearn: 4599.2290898\ttotal: 408ms\tremaining: 2m 42s\n",
      "50:\tlearn: 2317.5100491\ttotal: 21.1s\tremaining: 2m 24s\n",
      "100:\tlearn: 1908.8827776\ttotal: 40.7s\tremaining: 2m\n",
      "150:\tlearn: 1803.5031250\ttotal: 60s\tremaining: 1m 38s\n",
      "200:\tlearn: 1757.9366696\ttotal: 1m 19s\tremaining: 1m 19s\n",
      "250:\tlearn: 1725.1212372\ttotal: 1m 39s\tremaining: 58.8s\n",
      "300:\tlearn: 1699.9959198\ttotal: 1m 58s\tremaining: 38.9s\n",
      "350:\tlearn: 1680.6131367\ttotal: 2m 18s\tremaining: 19.3s\n",
      "399:\tlearn: 1664.3881476\ttotal: 2m 36s\tremaining: 0us\n",
      "RMSE на для Catboost, c кат. переменными: 1664.3881476317113\n",
      "CPU times: user 2min 13s, sys: 23.5 s, total: 2min 37s\n",
      "Wall time: 2min 39s\n"
     ]
    }
   ],
   "source": [
    "%%time \n",
    "cat_features = ['VehicleType', 'Gearbox', 'Model', 'FuelType', 'Brand', 'NotRepaired']\n",
    "model_cb = CatBoostRegressor(iterations = 400, random_seed = 42, max_depth = 7)\n",
    "model_cb.fit(features_train, target_train, cat_features=cat_features, verbose=50)\n",
    "#result_regression =  cross_val_score(model, features_train_catboost, target_train, cv = 5, scoring = 'neg_mean_squared_error') #'r2')\n",
    "#print('R2 на кросс-валидации:',pd.Series((np.sqrt(abs(result_regression)))).mean())\n",
    "print('RMSE на для Catboost, c кат. переменными:', model_cb.best_score_['learn']['RMSE'])\n",
    "cv_cb = model_cb.best_score_['learn']['RMSE']"
   ]
  },
  {
   "cell_type": "code",
   "execution_count": 17,
   "metadata": {},
   "outputs": [],
   "source": [
    "features_test_reg = features_test.drop(['VehicleType', 'Gearbox', 'Model', 'FuelType', 'Brand', 'NotRepaired'], axis = 1)\n",
    "\n",
    "encoder = OrdinalEncoder()\n",
    "cat_features = ['NotRepaired', 'VehicleType', 'Gearbox', 'Model', 'FuelType', 'Brand']\n",
    "features_test_oe = features_test.copy()\n",
    "features_test_oe[cat_features] = encoder.fit_transform(features_test_oe[cat_features])"
   ]
  },
  {
   "cell_type": "code",
   "execution_count": 18,
   "metadata": {},
   "outputs": [
    {
     "name": "stdout",
     "output_type": "stream",
     "text": [
      "RMSE на тестовой выборке для линейной регрессии: 3129.7594978580864\n",
      "CPU times: user 6.49 ms, sys: 7.55 ms, total: 14 ms\n",
      "Wall time: 3.5 ms\n"
     ]
    }
   ],
   "source": [
    "%%time\n",
    "predicted_test = model_regr.predict(features_test_reg)\n",
    "reg_pred = np.sqrt(mean_squared_error(target_test , predicted_test)) \n",
    "print('RMSE на тестовой выборке для линейной регрессии:', np.sqrt(mean_squared_error(target_test , predicted_test)))"
   ]
  },
  {
   "cell_type": "code",
   "execution_count": 19,
   "metadata": {},
   "outputs": [
    {
     "name": "stdout",
     "output_type": "stream",
     "text": [
      "RMSE на тестовой выборке для случайного леса: 2135.996418727354\n",
      "CPU times: user 241 ms, sys: 19.3 ms, total: 261 ms\n",
      "Wall time: 316 ms\n"
     ]
    }
   ],
   "source": [
    "%%time\n",
    "predicted_test = model_forest.predict(features_test_reg)\n",
    "forest_pred = np.sqrt(mean_squared_error(target_test , predicted_test)) \n",
    "print('RMSE на тестовой выборке для случайного леса:', np.sqrt(mean_squared_error(target_test , predicted_test)))"
   ]
  },
  {
   "cell_type": "code",
   "execution_count": 20,
   "metadata": {},
   "outputs": [
    {
     "name": "stdout",
     "output_type": "stream",
     "text": [
      "RMSE на тестовой выборке для XGBoost: 2061.7219983654254\n",
      "CPU times: user 358 ms, sys: 3.22 ms, total: 361 ms\n",
      "Wall time: 371 ms\n"
     ]
    }
   ],
   "source": [
    "%%time\n",
    "predicted_test = model_xgb.predict(features_test_reg)\n",
    "xgb_pred = np.sqrt(mean_squared_error(target_test , predicted_test)) \n",
    "print('RMSE на тестовой выборке для XGBoost:', np.sqrt(mean_squared_error(target_test , predicted_test)))"
   ]
  },
  {
   "cell_type": "code",
   "execution_count": 21,
   "metadata": {},
   "outputs": [
    {
     "name": "stdout",
     "output_type": "stream",
     "text": [
      "RMSE на тестовой выборке для XGBoost c кат. переменными, Ordinal Encoding : 1617.3415196870253\n",
      "CPU times: user 389 ms, sys: 0 ns, total: 389 ms\n",
      "Wall time: 399 ms\n"
     ]
    }
   ],
   "source": [
    "%%time\n",
    "predicted_test = model_xgb_oe.predict(features_test_oe)\n",
    "xgb_oe_pred = np.sqrt(mean_squared_error(target_test , predicted_test))\n",
    "print('RMSE на тестовой выборке для XGBoost c кат. переменными, Ordinal Encoding :', np.sqrt(mean_squared_error(target_test , predicted_test)))"
   ]
  },
  {
   "cell_type": "code",
   "execution_count": 22,
   "metadata": {},
   "outputs": [
    {
     "name": "stdout",
     "output_type": "stream",
     "text": [
      "RMSE на тестовой выборке для LGBMRegressor, c кат. переменными, Ordinal Encoding : 1986.9251712736332\n",
      "CPU times: user 496 ms, sys: 0 ns, total: 496 ms\n",
      "Wall time: 498 ms\n"
     ]
    }
   ],
   "source": [
    "%%time\n",
    "predicted_test = model_lgbm.predict(features_test_oe)\n",
    "lgbm_pred = np.sqrt(mean_squared_error(target_test , predicted_test))\n",
    "print('RMSE на тестовой выборке для LGBMRegressor, c кат. переменными, Ordinal Encoding :', np.sqrt(mean_squared_error(target_test , predicted_test)))"
   ]
  },
  {
   "cell_type": "code",
   "execution_count": 23,
   "metadata": {},
   "outputs": [
    {
     "name": "stdout",
     "output_type": "stream",
     "text": [
      "RMSE на тестовой выборке для LGBMRegressor, c кат. переменными, Ordinal Encoding : 1682.8573007532184\n",
      "CPU times: user 248 ms, sys: 2.35 ms, total: 251 ms\n",
      "Wall time: 205 ms\n"
     ]
    }
   ],
   "source": [
    "%%time\n",
    "predicted_test = model_cb.predict(features_test)\n",
    "cb_pred = np.sqrt(mean_squared_error(target_test , predicted_test))\n",
    "print('RMSE на тестовой выборке для LGBMRegressor, c кат. переменными, Ordinal Encoding :', np.sqrt(mean_squared_error(target_test , predicted_test)))"
   ]
  },
  {
   "cell_type": "code",
   "execution_count": 30,
   "metadata": {},
   "outputs": [],
   "source": [
    "models = ['LinearRegression', 'RandomForest', 'XGBoost', 'XGBoost_OE', 'LGBM_OE', 'CatBoost']\n",
    "cv = [cv_regr, cv_forest, cv_xgb, cv_xgb_oe, cv_lgbm, cv_cb]\n",
    "preds = [reg_pred, forest_pred, xgb_pred, xgb_oe_pred, lgbm_pred, cb_pred]\n",
    "tme = [0.7, 31, 50, 90, 10, 160 ]\n",
    "\n",
    "dict = {'RMSE на кросс-валидации': cv, 'Время тренировки модели, секунд': tme, 'RMSE на тестовой выборке': preds} \n",
    "    \n",
    "df_results = pd.DataFrame(dict, index = models)\n"
   ]
  },
  {
   "cell_type": "markdown",
   "metadata": {},
   "source": [
    "## Анализ моделей"
   ]
  },
  {
   "cell_type": "markdown",
   "metadata": {},
   "source": [
    "Таким образом, лучшей из моделей на этапе кросс-валидации в рамках проверенных тестов оказалась XGBoost с категориальными фичами, закодированными через ordinal encoding c RMSE 1591. Версия этой модели без использования кат.фичей показала RMSE хуже на 27% (RMSE 2063), при этом время её выполнения почти в два раза быстрее - 50 секунд против 1 минуты 30 секунд. На втором месте с точки зрения качества идёт CatBoost c макс.глубиной дерева 7 и 400 итерациями. Её RMSE 1664. В теории, её качество возможно улучшить, увеличив глубину дерева и количества итераций (и подвигав другие гиперпараметры), но время её обучения на данном датасете оказалось наибольшим - почти 3 минуты. При увеличении глубины дерева это время растет стремительно. Очень хорошо себя показала LGBM, имея RMSE 1673 и обучившись всего за 9 секунд. Модели регрессии и случайного леса не смогли преодолеть порог RMSE в 2100.\n",
    "\n",
    "В целом, все модели, кроме LightGBM, показали похожие результаты на тестовой выборке. LightGBM существенно ухудшила свои результаты (RMSE упал на почти 19%). Лучшими можно считать XGBoost cо закодированными кат. фичами, и Catboost. Прогнозирование для всех моделей работает в пределах секунды. \n",
    "\n",
    "Ниже приведена сравнительная таблица с результатами моделей."
   ]
  },
  {
   "cell_type": "code",
   "execution_count": 29,
   "metadata": {},
   "outputs": [
    {
     "data": {
      "text/html": [
       "<div>\n",
       "<style scoped>\n",
       "    .dataframe tbody tr th:only-of-type {\n",
       "        vertical-align: middle;\n",
       "    }\n",
       "\n",
       "    .dataframe tbody tr th {\n",
       "        vertical-align: top;\n",
       "    }\n",
       "\n",
       "    .dataframe thead th {\n",
       "        text-align: right;\n",
       "    }\n",
       "</style>\n",
       "<table border=\"1\" class=\"dataframe\">\n",
       "  <thead>\n",
       "    <tr style=\"text-align: right;\">\n",
       "      <th></th>\n",
       "      <th>RMSE на кросс-валидации</th>\n",
       "      <th>Время тренировки модели, секунд</th>\n",
       "      <th>RMSE на тестовой выборке</th>\n",
       "    </tr>\n",
       "  </thead>\n",
       "  <tbody>\n",
       "    <tr>\n",
       "      <td>LinearRegression</td>\n",
       "      <td>3105.115930</td>\n",
       "      <td>0.7</td>\n",
       "      <td>3129.759498</td>\n",
       "    </tr>\n",
       "    <tr>\n",
       "      <td>RandomForest</td>\n",
       "      <td>2133.385831</td>\n",
       "      <td>31.0</td>\n",
       "      <td>2135.996419</td>\n",
       "    </tr>\n",
       "    <tr>\n",
       "      <td>XGBoost</td>\n",
       "      <td>2063.186386</td>\n",
       "      <td>50.0</td>\n",
       "      <td>2061.721998</td>\n",
       "    </tr>\n",
       "    <tr>\n",
       "      <td>XGBoost_OE</td>\n",
       "      <td>1594.529632</td>\n",
       "      <td>90.0</td>\n",
       "      <td>1617.341520</td>\n",
       "    </tr>\n",
       "    <tr>\n",
       "      <td>LGBM_OE</td>\n",
       "      <td>1673.563609</td>\n",
       "      <td>10.0</td>\n",
       "      <td>1986.925171</td>\n",
       "    </tr>\n",
       "    <tr>\n",
       "      <td>CatBoost</td>\n",
       "      <td>1664.388148</td>\n",
       "      <td>160.0</td>\n",
       "      <td>1682.857301</td>\n",
       "    </tr>\n",
       "  </tbody>\n",
       "</table>\n",
       "</div>"
      ],
      "text/plain": [
       "                  RMSE на кросс-валидации  Время тренировки модели, секунд  \\\n",
       "LinearRegression              3105.115930                              0.7   \n",
       "RandomForest                  2133.385831                             31.0   \n",
       "XGBoost                       2063.186386                             50.0   \n",
       "XGBoost_OE                    1594.529632                             90.0   \n",
       "LGBM_OE                       1673.563609                             10.0   \n",
       "CatBoost                      1664.388148                            160.0   \n",
       "\n",
       "                  RMSE на тестовой выборке  \n",
       "LinearRegression               3129.759498  \n",
       "RandomForest                   2135.996419  \n",
       "XGBoost                        2061.721998  \n",
       "XGBoost_OE                     1617.341520  \n",
       "LGBM_OE                        1986.925171  \n",
       "CatBoost                       1682.857301  "
      ]
     },
     "metadata": {},
     "output_type": "display_data"
    }
   ],
   "source": [
    "display(df_results)"
   ]
  }
 ],
 "metadata": {
  "ExecuteTimeLog": [
   {
    "duration": 1578,
    "start_time": "2021-07-08T21:37:41.900Z"
   },
   {
    "duration": 1223,
    "start_time": "2021-07-08T21:38:46.116Z"
   },
   {
    "duration": 1391,
    "start_time": "2021-07-08T21:39:04.930Z"
   },
   {
    "duration": 2996,
    "start_time": "2021-07-09T21:08:38.951Z"
   },
   {
    "duration": 1301,
    "start_time": "2021-07-09T21:08:49.695Z"
   },
   {
    "duration": 1296,
    "start_time": "2021-07-09T21:14:16.781Z"
   },
   {
    "duration": 1349,
    "start_time": "2021-07-09T21:15:05.950Z"
   },
   {
    "duration": 365,
    "start_time": "2021-07-09T21:25:18.154Z"
   },
   {
    "duration": 462,
    "start_time": "2021-07-09T21:28:42.518Z"
   },
   {
    "duration": 470,
    "start_time": "2021-07-09T21:31:09.521Z"
   },
   {
    "duration": 619,
    "start_time": "2021-07-09T21:36:16.401Z"
   },
   {
    "duration": 227,
    "start_time": "2021-07-09T21:36:32.712Z"
   },
   {
    "duration": 228,
    "start_time": "2021-07-09T21:36:42.532Z"
   },
   {
    "duration": 11,
    "start_time": "2021-07-09T21:40:28.495Z"
   },
   {
    "duration": 314,
    "start_time": "2021-07-09T21:41:01.779Z"
   },
   {
    "duration": 84,
    "start_time": "2021-07-09T21:41:12.216Z"
   },
   {
    "duration": 91,
    "start_time": "2021-07-09T21:49:54.218Z"
   },
   {
    "duration": 97,
    "start_time": "2021-07-09T21:51:53.814Z"
   },
   {
    "duration": 648,
    "start_time": "2021-07-09T21:54:25.207Z"
   },
   {
    "duration": 641,
    "start_time": "2021-07-09T21:54:38.342Z"
   },
   {
    "duration": 627,
    "start_time": "2021-07-09T21:55:13.502Z"
   },
   {
    "duration": 699,
    "start_time": "2021-07-09T21:55:21.624Z"
   },
   {
    "duration": 628,
    "start_time": "2021-07-09T21:55:44.031Z"
   },
   {
    "duration": 1008,
    "start_time": "2021-07-09T21:55:48.328Z"
   },
   {
    "duration": 92,
    "start_time": "2021-07-09T21:57:17.685Z"
   },
   {
    "duration": 939,
    "start_time": "2021-07-09T22:01:25.178Z"
   },
   {
    "duration": 151,
    "start_time": "2021-07-09T22:01:28.128Z"
   },
   {
    "duration": 1136,
    "start_time": "2021-07-09T22:01:31.294Z"
   },
   {
    "duration": 1231,
    "start_time": "2021-07-09T22:03:15.505Z"
   },
   {
    "duration": 906,
    "start_time": "2021-07-09T22:03:52.821Z"
   },
   {
    "duration": 931,
    "start_time": "2021-07-09T22:05:51.682Z"
   },
   {
    "duration": 119,
    "start_time": "2021-07-09T22:06:22.965Z"
   },
   {
    "duration": 1064,
    "start_time": "2021-07-09T22:06:35.423Z"
   },
   {
    "duration": 117,
    "start_time": "2021-07-09T22:06:40.505Z"
   },
   {
    "duration": 115,
    "start_time": "2021-07-09T22:06:49.712Z"
   },
   {
    "duration": 902,
    "start_time": "2021-07-09T22:07:59.970Z"
   },
   {
    "duration": 860,
    "start_time": "2021-07-09T22:08:11.995Z"
   },
   {
    "duration": 989,
    "start_time": "2021-07-09T22:08:49.750Z"
   },
   {
    "duration": 868,
    "start_time": "2021-07-09T22:12:12.485Z"
   },
   {
    "duration": 875,
    "start_time": "2021-07-09T22:14:09.207Z"
   },
   {
    "duration": 2986,
    "start_time": "2021-07-09T22:14:27.446Z"
   },
   {
    "duration": 588,
    "start_time": "2021-07-09T22:14:30.435Z"
   },
   {
    "duration": 928,
    "start_time": "2021-07-09T22:14:31.026Z"
   },
   {
    "duration": 820,
    "start_time": "2021-07-09T22:14:47.111Z"
   },
   {
    "duration": 2932,
    "start_time": "2021-07-09T22:15:10.866Z"
   },
   {
    "duration": 586,
    "start_time": "2021-07-09T22:15:13.801Z"
   },
   {
    "duration": 909,
    "start_time": "2021-07-09T22:15:14.390Z"
   },
   {
    "duration": 824,
    "start_time": "2021-07-09T22:15:15.301Z"
   },
   {
    "duration": 76,
    "start_time": "2021-07-09T22:15:32.973Z"
   },
   {
    "duration": 360,
    "start_time": "2021-07-10T21:06:32.087Z"
   },
   {
    "duration": 3196,
    "start_time": "2021-07-10T21:06:40.239Z"
   },
   {
    "duration": 610,
    "start_time": "2021-07-10T21:06:43.438Z"
   },
   {
    "duration": 937,
    "start_time": "2021-07-10T21:06:44.051Z"
   },
   {
    "duration": 2199,
    "start_time": "2021-07-10T21:06:44.991Z"
   },
   {
    "duration": 3073,
    "start_time": "2021-07-10T21:07:20.532Z"
   },
   {
    "duration": 578,
    "start_time": "2021-07-10T21:07:23.608Z"
   },
   {
    "duration": 983,
    "start_time": "2021-07-10T21:07:24.189Z"
   },
   {
    "duration": 227,
    "start_time": "2021-07-10T21:07:25.174Z"
   },
   {
    "duration": 161,
    "start_time": "2021-07-11T09:47:41.179Z"
   },
   {
    "duration": 3380,
    "start_time": "2021-07-11T09:52:11.029Z"
   },
   {
    "duration": 3094,
    "start_time": "2021-07-11T09:55:13.857Z"
   },
   {
    "duration": 928,
    "start_time": "2021-07-11T09:56:45.308Z"
   },
   {
    "duration": 3140,
    "start_time": "2021-07-11T09:57:02.628Z"
   },
   {
    "duration": 578,
    "start_time": "2021-07-11T09:57:05.771Z"
   },
   {
    "duration": 1014,
    "start_time": "2021-07-11T09:57:06.355Z"
   },
   {
    "duration": 177,
    "start_time": "2021-07-11T09:57:07.372Z"
   },
   {
    "duration": 3293,
    "start_time": "2021-07-11T09:57:07.552Z"
   },
   {
    "duration": 1445,
    "start_time": "2021-07-11T09:58:06.318Z"
   },
   {
    "duration": 8,
    "start_time": "2021-07-11T10:01:19.494Z"
   },
   {
    "duration": 28,
    "start_time": "2021-07-11T10:01:52.309Z"
   },
   {
    "duration": 973,
    "start_time": "2021-07-11T10:04:24.531Z"
   },
   {
    "duration": 21,
    "start_time": "2021-07-11T10:04:30.008Z"
   },
   {
    "duration": 153,
    "start_time": "2021-07-11T10:04:32.174Z"
   },
   {
    "duration": 20,
    "start_time": "2021-07-11T10:04:33.782Z"
   },
   {
    "duration": 3064,
    "start_time": "2021-07-11T10:04:51.452Z"
   },
   {
    "duration": 582,
    "start_time": "2021-07-11T10:04:54.519Z"
   },
   {
    "duration": 928,
    "start_time": "2021-07-11T10:04:55.107Z"
   },
   {
    "duration": 152,
    "start_time": "2021-07-11T10:04:56.037Z"
   },
   {
    "duration": 18,
    "start_time": "2021-07-11T10:04:56.192Z"
   },
   {
    "duration": 606,
    "start_time": "2021-07-11T10:04:56.212Z"
   },
   {
    "duration": 366,
    "start_time": "2021-07-11T10:06:21.313Z"
   },
   {
    "duration": 309,
    "start_time": "2021-07-11T10:06:34.766Z"
   },
   {
    "duration": 8,
    "start_time": "2021-07-11T10:07:18.351Z"
   },
   {
    "duration": 821,
    "start_time": "2021-07-11T10:07:57.853Z"
   },
   {
    "duration": 913,
    "start_time": "2021-07-11T10:08:26.053Z"
   },
   {
    "duration": 1235,
    "start_time": "2021-07-11T10:08:49.835Z"
   },
   {
    "duration": 891,
    "start_time": "2021-07-11T10:09:27.372Z"
   },
   {
    "duration": 943,
    "start_time": "2021-07-11T10:10:01.531Z"
   },
   {
    "duration": 814,
    "start_time": "2021-07-11T10:10:03.571Z"
   },
   {
    "duration": 100,
    "start_time": "2021-07-11T10:13:58.933Z"
   },
   {
    "duration": 828,
    "start_time": "2021-07-11T10:14:11.447Z"
   },
   {
    "duration": 898,
    "start_time": "2021-07-11T10:14:33.466Z"
   },
   {
    "duration": 818,
    "start_time": "2021-07-11T10:15:13.960Z"
   },
   {
    "duration": 828,
    "start_time": "2021-07-11T10:17:26.352Z"
   },
   {
    "duration": 885,
    "start_time": "2021-07-11T10:17:31.488Z"
   },
   {
    "duration": 25782,
    "start_time": "2021-07-11T10:18:04.499Z"
   },
   {
    "duration": 28321,
    "start_time": "2021-07-11T10:18:49.472Z"
   },
   {
    "duration": 113082,
    "start_time": "2021-07-11T10:19:29.430Z"
   },
   {
    "duration": 73477,
    "start_time": "2021-07-11T10:21:36.822Z"
   },
   {
    "duration": 814,
    "start_time": "2021-07-11T10:23:17.067Z"
   },
   {
    "duration": 99859,
    "start_time": "2021-07-11T10:25:26.790Z"
   },
   {
    "duration": 916,
    "start_time": "2021-07-11T10:27:06.653Z"
   },
   {
    "duration": 5381,
    "start_time": "2021-07-11T10:55:23.865Z"
   },
   {
    "duration": 18198,
    "start_time": "2021-07-11T10:55:40.889Z"
   },
   {
    "duration": 59775,
    "start_time": "2021-07-11T11:01:26.587Z"
   },
   {
    "duration": 63394,
    "start_time": "2021-07-11T11:02:49.194Z"
   },
   {
    "duration": 47368,
    "start_time": "2021-07-11T11:04:17.683Z"
   },
   {
    "duration": 94846,
    "start_time": "2021-07-11T11:08:12.073Z"
   },
   {
    "duration": 347,
    "start_time": "2021-07-11T14:27:10.615Z"
   },
   {
    "duration": 577,
    "start_time": "2021-07-11T14:27:32.119Z"
   },
   {
    "duration": 356,
    "start_time": "2021-07-11T14:28:56.062Z"
   },
   {
    "duration": 164,
    "start_time": "2021-07-11T14:39:47.601Z"
   },
   {
    "duration": 395,
    "start_time": "2021-07-11T14:39:57.425Z"
   },
   {
    "duration": 379,
    "start_time": "2021-07-11T14:40:19.407Z"
   },
   {
    "duration": 378,
    "start_time": "2021-07-11T14:41:36.233Z"
   },
   {
    "duration": 336,
    "start_time": "2021-07-11T14:56:34.401Z"
   },
   {
    "duration": 370,
    "start_time": "2021-07-11T14:56:47.317Z"
   },
   {
    "duration": 2988,
    "start_time": "2021-07-11T14:56:57.866Z"
   },
   {
    "duration": 6906,
    "start_time": "2021-07-11T14:57:07.174Z"
   },
   {
    "duration": 897,
    "start_time": "2021-07-11T15:00:43.398Z"
   },
   {
    "duration": 1651,
    "start_time": "2021-07-11T15:00:53.503Z"
   },
   {
    "duration": 2493,
    "start_time": "2021-07-11T15:01:02.933Z"
   },
   {
    "duration": 9114,
    "start_time": "2021-07-11T15:01:09.205Z"
   },
   {
    "duration": 60137,
    "start_time": "2021-07-11T15:01:25.619Z"
   },
   {
    "duration": 14828,
    "start_time": "2021-07-11T15:02:34.924Z"
   },
   {
    "duration": 8923,
    "start_time": "2021-07-11T15:05:22.438Z"
   },
   {
    "duration": 9019,
    "start_time": "2021-07-11T15:05:37.550Z"
   },
   {
    "duration": 9138,
    "start_time": "2021-07-11T15:05:54.304Z"
   },
   {
    "duration": 9144,
    "start_time": "2021-07-11T15:06:06.404Z"
   },
   {
    "duration": 227,
    "start_time": "2021-07-11T15:10:45.996Z"
   },
   {
    "duration": 135235,
    "start_time": "2021-07-11T15:10:53.406Z"
   },
   {
    "duration": 49550,
    "start_time": "2021-07-11T15:13:55.527Z"
   },
   {
    "duration": 23927,
    "start_time": "2021-07-11T15:18:37.058Z"
   },
   {
    "duration": 9136,
    "start_time": "2021-07-11T15:22:12.379Z"
   },
   {
    "duration": 34,
    "start_time": "2021-07-11T16:05:30.099Z"
   },
   {
    "duration": 14839,
    "start_time": "2021-07-11T16:09:19.937Z"
   },
   {
    "duration": 9039,
    "start_time": "2021-07-11T16:11:50.051Z"
   },
   {
    "duration": 4,
    "start_time": "2021-07-11T16:27:30.184Z"
   },
   {
    "duration": 4,
    "start_time": "2021-07-11T16:27:40.036Z"
   },
   {
    "duration": 212,
    "start_time": "2021-07-11T16:29:51.408Z"
   },
   {
    "duration": 25,
    "start_time": "2021-07-11T16:29:55.906Z"
   },
   {
    "duration": 213,
    "start_time": "2021-07-11T16:30:04.792Z"
   },
   {
    "duration": 19,
    "start_time": "2021-07-11T16:30:06.349Z"
   },
   {
    "duration": 178,
    "start_time": "2021-07-11T16:30:28.347Z"
   },
   {
    "duration": 19,
    "start_time": "2021-07-11T16:30:30.351Z"
   },
   {
    "duration": 8083,
    "start_time": "2021-07-11T16:44:55.488Z"
   },
   {
    "duration": 212,
    "start_time": "2021-07-11T16:45:18.626Z"
   },
   {
    "duration": 350,
    "start_time": "2021-07-11T16:45:59.839Z"
   },
   {
    "duration": 825,
    "start_time": "2021-07-11T16:46:13.549Z"
   },
   {
    "duration": 541,
    "start_time": "2021-07-11T16:46:24.173Z"
   },
   {
    "duration": 96,
    "start_time": "2021-07-11T16:46:42.886Z"
   },
   {
    "duration": 335,
    "start_time": "2021-07-11T16:46:45.398Z"
   },
   {
    "duration": 426,
    "start_time": "2021-07-11T16:47:17.672Z"
   },
   {
    "duration": 154,
    "start_time": "2021-07-11T16:47:43.291Z"
   },
   {
    "duration": 136,
    "start_time": "2021-07-11T16:48:42.086Z"
   },
   {
    "duration": 144,
    "start_time": "2021-07-11T16:49:45.089Z"
   },
   {
    "duration": 145,
    "start_time": "2021-07-11T19:59:27.387Z"
   },
   {
    "duration": 254,
    "start_time": "2021-07-11T19:59:50.347Z"
   },
   {
    "duration": 2979,
    "start_time": "2021-07-11T20:00:07.451Z"
   },
   {
    "duration": 594,
    "start_time": "2021-07-11T20:00:10.433Z"
   },
   {
    "duration": 923,
    "start_time": "2021-07-11T20:00:11.030Z"
   },
   {
    "duration": 187,
    "start_time": "2021-07-11T20:00:11.962Z"
   },
   {
    "duration": 25,
    "start_time": "2021-07-11T20:00:12.152Z"
   },
   {
    "duration": 788,
    "start_time": "2021-07-11T20:00:12.179Z"
   },
   {
    "duration": 70369,
    "start_time": "2021-07-11T20:00:12.969Z"
   },
   {
    "duration": 94791,
    "start_time": "2021-07-11T20:01:23.340Z"
   },
   {
    "duration": 187,
    "start_time": "2021-07-11T20:02:58.135Z"
   },
   {
    "duration": 426,
    "start_time": "2021-07-11T20:02:58.324Z"
   },
   {
    "duration": 5,
    "start_time": "2021-07-11T20:02:58.752Z"
   },
   {
    "duration": 15048,
    "start_time": "2021-07-11T20:02:58.760Z"
   },
   {
    "duration": 354,
    "start_time": "2021-07-11T20:07:54.579Z"
   },
   {
    "duration": 323,
    "start_time": "2021-07-11T20:57:49.622Z"
   },
   {
    "duration": 1543689,
    "start_time": "2021-07-11T20:58:00.424Z"
   },
   {
    "duration": 436,
    "start_time": "2021-07-12T16:19:53.737Z"
   },
   {
    "duration": 3057,
    "start_time": "2021-07-12T16:21:32.157Z"
   },
   {
    "duration": 808,
    "start_time": "2021-07-12T16:21:35.216Z"
   },
   {
    "duration": 897,
    "start_time": "2021-07-12T16:21:35.131Z"
   },
   {
    "duration": 898,
    "start_time": "2021-07-12T16:21:35.132Z"
   },
   {
    "duration": 898,
    "start_time": "2021-07-12T16:21:35.134Z"
   },
   {
    "duration": 898,
    "start_time": "2021-07-12T16:21:35.135Z"
   },
   {
    "duration": 899,
    "start_time": "2021-07-12T16:21:35.136Z"
   },
   {
    "duration": 897,
    "start_time": "2021-07-12T16:21:35.140Z"
   },
   {
    "duration": 897,
    "start_time": "2021-07-12T16:21:35.141Z"
   },
   {
    "duration": 897,
    "start_time": "2021-07-12T16:21:35.143Z"
   },
   {
    "duration": 897,
    "start_time": "2021-07-12T16:21:35.144Z"
   },
   {
    "duration": 897,
    "start_time": "2021-07-12T16:21:35.145Z"
   },
   {
    "duration": 253,
    "start_time": "2021-07-12T16:22:22.726Z"
   },
   {
    "duration": 918,
    "start_time": "2021-07-12T16:22:26.014Z"
   },
   {
    "duration": 165,
    "start_time": "2021-07-12T16:22:35.275Z"
   },
   {
    "duration": 16,
    "start_time": "2021-07-12T16:22:38.449Z"
   },
   {
    "duration": 880,
    "start_time": "2021-07-12T16:22:41.922Z"
   },
   {
    "duration": 40823,
    "start_time": "2021-07-12T16:22:49.786Z"
   },
   {
    "duration": 76055,
    "start_time": "2021-07-12T16:23:38.573Z"
   },
   {
    "duration": 138030,
    "start_time": "2021-07-12T16:25:29.099Z"
   },
   {
    "duration": 363,
    "start_time": "2021-07-12T16:33:11.408Z"
   },
   {
    "duration": 14,
    "start_time": "2021-07-12T16:33:34.699Z"
   },
   {
    "duration": 1340,
    "start_time": "2021-07-12T16:35:01.373Z"
   },
   {
    "duration": 538,
    "start_time": "2021-07-12T16:35:06.099Z"
   },
   {
    "duration": 921,
    "start_time": "2021-07-12T16:35:07.957Z"
   },
   {
    "duration": 156,
    "start_time": "2021-07-12T16:35:10.790Z"
   },
   {
    "duration": 16,
    "start_time": "2021-07-12T16:35:12.818Z"
   },
   {
    "duration": 944,
    "start_time": "2021-07-12T16:38:48.409Z"
   },
   {
    "duration": 588,
    "start_time": "2021-07-12T16:40:59.411Z"
   },
   {
    "duration": 9422,
    "start_time": "2021-07-12T16:45:06.904Z"
   },
   {
    "duration": 329,
    "start_time": "2021-07-12T16:46:39.265Z"
   },
   {
    "duration": 16,
    "start_time": "2021-07-12T16:46:56.963Z"
   },
   {
    "duration": 1409,
    "start_time": "2021-07-12T16:47:03.317Z"
   },
   {
    "duration": 414,
    "start_time": "2021-07-12T16:47:06.949Z"
   },
   {
    "duration": 1009,
    "start_time": "2021-07-12T16:47:09.133Z"
   },
   {
    "duration": 162,
    "start_time": "2021-07-12T16:47:12.081Z"
   },
   {
    "duration": 16,
    "start_time": "2021-07-12T16:47:14.050Z"
   },
   {
    "duration": 17,
    "start_time": "2021-07-12T16:47:17.131Z"
   },
   {
    "duration": 571,
    "start_time": "2021-07-12T16:47:48.135Z"
   },
   {
    "duration": 684,
    "start_time": "2021-07-12T16:49:14.236Z"
   },
   {
    "duration": 3053,
    "start_time": "2021-07-12T16:51:23.897Z"
   },
   {
    "duration": 447,
    "start_time": "2021-07-12T16:51:26.953Z"
   },
   {
    "duration": 952,
    "start_time": "2021-07-12T16:51:27.403Z"
   },
   {
    "duration": 179,
    "start_time": "2021-07-12T16:51:28.357Z"
   },
   {
    "duration": 16,
    "start_time": "2021-07-12T16:51:28.538Z"
   },
   {
    "duration": 843,
    "start_time": "2021-07-12T16:51:28.557Z"
   },
   {
    "duration": 24588,
    "start_time": "2021-07-12T16:51:29.403Z"
   },
   {
    "duration": 12500,
    "start_time": "2021-07-12T16:51:53.995Z"
   },
   {
    "duration": 135093,
    "start_time": "2021-07-12T16:52:06.498Z"
   },
   {
    "duration": 703,
    "start_time": "2021-07-12T16:54:21.594Z"
   },
   {
    "duration": 4,
    "start_time": "2021-07-12T16:54:22.300Z"
   },
   {
    "duration": 213,
    "start_time": "2021-07-12T16:54:22.307Z"
   },
   {
    "duration": 39719,
    "start_time": "2021-07-12T16:55:02.296Z"
   },
   {
    "duration": 3545,
    "start_time": "2021-07-12T19:48:50.065Z"
   },
   {
    "duration": 443,
    "start_time": "2021-07-12T19:48:53.612Z"
   },
   {
    "duration": 907,
    "start_time": "2021-07-12T19:48:54.058Z"
   },
   {
    "duration": 175,
    "start_time": "2021-07-12T19:48:54.968Z"
   },
   {
    "duration": 19,
    "start_time": "2021-07-12T19:48:55.145Z"
   },
   {
    "duration": 833,
    "start_time": "2021-07-12T19:48:55.166Z"
   },
   {
    "duration": 41741,
    "start_time": "2021-07-12T19:48:56.003Z"
   },
   {
    "duration": 79572,
    "start_time": "2021-07-12T19:49:37.747Z"
   },
   {
    "duration": 140730,
    "start_time": "2021-07-12T19:50:57.323Z"
   },
   {
    "duration": 14899,
    "start_time": "2021-07-12T19:53:18.055Z"
   },
   {
    "duration": 3,
    "start_time": "2021-07-12T19:53:32.956Z"
   },
   {
    "duration": 368,
    "start_time": "2021-07-12T19:53:32.962Z"
   },
   {
    "duration": 6192,
    "start_time": "2021-07-12T19:58:47.640Z"
   },
   {
    "duration": 18,
    "start_time": "2021-07-12T19:59:29.992Z"
   },
   {
    "duration": 2915,
    "start_time": "2021-07-12T20:00:40.364Z"
   },
   {
    "duration": 464,
    "start_time": "2021-07-12T20:00:43.281Z"
   },
   {
    "duration": 937,
    "start_time": "2021-07-12T20:00:43.751Z"
   },
   {
    "duration": 171,
    "start_time": "2021-07-12T20:00:44.691Z"
   },
   {
    "duration": 29,
    "start_time": "2021-07-12T20:00:44.865Z"
   },
   {
    "duration": 801,
    "start_time": "2021-07-12T20:00:44.896Z"
   },
   {
    "duration": 41321,
    "start_time": "2021-07-12T20:00:45.700Z"
   },
   {
    "duration": 79729,
    "start_time": "2021-07-12T20:01:27.024Z"
   },
   {
    "duration": 137830,
    "start_time": "2021-07-12T20:02:46.755Z"
   },
   {
    "duration": 15122,
    "start_time": "2021-07-12T20:05:04.588Z"
   },
   {
    "duration": 17,
    "start_time": "2021-07-12T20:05:19.713Z"
   },
   {
    "duration": 6693,
    "start_time": "2021-07-12T20:05:19.733Z"
   },
   {
    "duration": 18,
    "start_time": "2021-07-12T20:07:19.610Z"
   },
   {
    "duration": 2967,
    "start_time": "2021-07-12T20:10:09.738Z"
   },
   {
    "duration": 489,
    "start_time": "2021-07-12T20:10:16.223Z"
   },
   {
    "duration": 924,
    "start_time": "2021-07-12T20:10:18.342Z"
   },
   {
    "duration": 162,
    "start_time": "2021-07-12T20:10:22.211Z"
   },
   {
    "duration": 845,
    "start_time": "2021-07-12T20:10:25.660Z"
   },
   {
    "duration": 46535,
    "start_time": "2021-07-12T20:10:36.061Z"
   },
   {
    "duration": 16,
    "start_time": "2021-07-12T20:11:34.557Z"
   },
   {
    "duration": 52382,
    "start_time": "2021-07-12T20:11:37.217Z"
   },
   {
    "duration": 15833,
    "start_time": "2021-07-12T20:20:42.413Z"
   },
   {
    "duration": 13504,
    "start_time": "2021-07-12T20:22:38.639Z"
   },
   {
    "duration": 20537,
    "start_time": "2021-07-12T20:23:09.216Z"
   },
   {
    "duration": 25587,
    "start_time": "2021-07-12T20:24:07.799Z"
   },
   {
    "duration": 11957,
    "start_time": "2021-07-12T20:25:48.303Z"
   },
   {
    "duration": 20859,
    "start_time": "2021-07-12T20:26:02.707Z"
   },
   {
    "duration": 29205,
    "start_time": "2021-07-12T20:26:30.635Z"
   },
   {
    "duration": 28913,
    "start_time": "2021-07-12T20:28:20.327Z"
   },
   {
    "duration": 235370,
    "start_time": "2021-07-12T20:28:59.719Z"
   },
   {
    "duration": 4,
    "start_time": "2021-07-12T20:34:30.479Z"
   },
   {
    "duration": 529,
    "start_time": "2021-07-12T20:35:09.784Z"
   },
   {
    "duration": 5,
    "start_time": "2021-07-12T20:35:17.431Z"
   },
   {
    "duration": 302,
    "start_time": "2021-07-12T20:36:39.241Z"
   },
   {
    "duration": 4,
    "start_time": "2021-07-12T20:36:43.750Z"
   },
   {
    "duration": 291,
    "start_time": "2021-07-12T20:36:48.835Z"
   },
   {
    "duration": 101,
    "start_time": "2021-07-12T20:36:51.752Z"
   },
   {
    "duration": 539,
    "start_time": "2021-07-12T20:36:53.679Z"
   },
   {
    "duration": 5,
    "start_time": "2021-07-12T20:36:57.160Z"
   },
   {
    "duration": 108,
    "start_time": "2021-07-12T20:37:10.315Z"
   },
   {
    "duration": 5,
    "start_time": "2021-07-12T20:37:16.842Z"
   },
   {
    "duration": 302,
    "start_time": "2021-07-12T20:38:43.129Z"
   },
   {
    "duration": 5,
    "start_time": "2021-07-12T20:38:48.998Z"
   },
   {
    "duration": 5,
    "start_time": "2021-07-12T20:39:00.630Z"
   },
   {
    "duration": 5,
    "start_time": "2021-07-12T20:39:08.817Z"
   },
   {
    "duration": 131810,
    "start_time": "2021-07-12T20:42:43.521Z"
   },
   {
    "duration": 2828,
    "start_time": "2021-07-12T20:52:17.521Z"
   },
   {
    "duration": 447,
    "start_time": "2021-07-12T20:52:20.352Z"
   },
   {
    "duration": 894,
    "start_time": "2021-07-12T20:52:20.802Z"
   },
   {
    "duration": 181,
    "start_time": "2021-07-12T20:52:21.699Z"
   },
   {
    "duration": 16,
    "start_time": "2021-07-12T20:52:21.886Z"
   },
   {
    "duration": 893,
    "start_time": "2021-07-12T20:52:21.905Z"
   },
   {
    "duration": 39985,
    "start_time": "2021-07-12T20:52:22.802Z"
   },
   {
    "duration": 84079,
    "start_time": "2021-07-12T20:53:02.791Z"
   },
   {
    "duration": 141796,
    "start_time": "2021-07-12T20:54:26.875Z"
   },
   {
    "duration": 16036,
    "start_time": "2021-07-12T20:56:48.674Z"
   },
   {
    "duration": 248224,
    "start_time": "2021-07-12T20:57:04.713Z"
   },
   {
    "duration": 66,
    "start_time": "2021-07-13T15:42:40.673Z"
   },
   {
    "duration": 2193,
    "start_time": "2021-07-13T15:43:42.932Z"
   },
   {
    "duration": 330,
    "start_time": "2021-07-13T15:43:47.998Z"
   },
   {
    "duration": 568,
    "start_time": "2021-07-13T15:43:50.015Z"
   },
   {
    "duration": 7,
    "start_time": "2021-07-13T15:44:15.192Z"
   },
   {
    "duration": 11,
    "start_time": "2021-07-13T15:45:07.390Z"
   },
   {
    "duration": 584,
    "start_time": "2021-07-13T15:45:25.296Z"
   },
   {
    "duration": 541,
    "start_time": "2021-07-13T15:45:39.606Z"
   },
   {
    "duration": 1014,
    "start_time": "2021-07-13T15:46:28.930Z"
   },
   {
    "duration": 1129,
    "start_time": "2021-07-13T15:47:08.174Z"
   },
   {
    "duration": 1009,
    "start_time": "2021-07-13T15:47:51.171Z"
   },
   {
    "duration": 1144,
    "start_time": "2021-07-13T15:49:39.905Z"
   },
   {
    "duration": 1016,
    "start_time": "2021-07-13T15:50:16.783Z"
   },
   {
    "duration": 1111,
    "start_time": "2021-07-13T15:56:11.011Z"
   },
   {
    "duration": 1112,
    "start_time": "2021-07-13T15:57:43.760Z"
   },
   {
    "duration": 1054,
    "start_time": "2021-07-13T15:57:51.611Z"
   },
   {
    "duration": 2284,
    "start_time": "2021-07-13T15:58:02.090Z"
   },
   {
    "duration": 351,
    "start_time": "2021-07-13T15:58:07.183Z"
   },
   {
    "duration": 612,
    "start_time": "2021-07-13T15:58:09.516Z"
   },
   {
    "duration": 1231,
    "start_time": "2021-07-13T15:58:13.418Z"
   },
   {
    "duration": 80,
    "start_time": "2021-07-13T15:58:34.663Z"
   },
   {
    "duration": 10,
    "start_time": "2021-07-13T15:58:38.943Z"
   },
   {
    "duration": 665,
    "start_time": "2021-07-13T15:58:51.532Z"
   },
   {
    "duration": 968,
    "start_time": "2021-07-13T16:05:18.078Z"
   },
   {
    "duration": 107,
    "start_time": "2021-07-13T16:06:55.609Z"
   },
   {
    "duration": 574,
    "start_time": "2021-07-13T16:08:03.122Z"
   },
   {
    "duration": 659,
    "start_time": "2021-07-13T16:08:05.248Z"
   },
   {
    "duration": 741,
    "start_time": "2021-07-13T16:08:29.653Z"
   },
   {
    "duration": 11,
    "start_time": "2021-07-13T16:08:58.326Z"
   },
   {
    "duration": 2184,
    "start_time": "2021-07-13T16:09:15.553Z"
   },
   {
    "duration": 336,
    "start_time": "2021-07-13T16:09:21.599Z"
   },
   {
    "duration": 618,
    "start_time": "2021-07-13T16:09:24.363Z"
   },
   {
    "duration": 1166,
    "start_time": "2021-07-13T16:09:27.853Z"
   },
   {
    "duration": 74,
    "start_time": "2021-07-13T16:09:33.908Z"
   },
   {
    "duration": 10,
    "start_time": "2021-07-13T16:09:38.643Z"
   },
   {
    "duration": 129,
    "start_time": "2021-07-13T16:09:43.539Z"
   },
   {
    "duration": 630,
    "start_time": "2021-07-13T16:09:46.071Z"
   },
   {
    "duration": 750,
    "start_time": "2021-07-13T16:10:35.641Z"
   },
   {
    "duration": 654,
    "start_time": "2021-07-13T16:10:43.142Z"
   },
   {
    "duration": 31271,
    "start_time": "2021-07-13T16:11:05.357Z"
   },
   {
    "duration": 21,
    "start_time": "2021-07-13T16:12:11.662Z"
   },
   {
    "duration": 31314,
    "start_time": "2021-07-13T16:14:18.406Z"
   },
   {
    "duration": 70,
    "start_time": "2021-07-13T16:19:14.263Z"
   },
   {
    "duration": 99,
    "start_time": "2021-07-13T16:19:40.105Z"
   },
   {
    "duration": 558,
    "start_time": "2021-07-13T16:21:43.549Z"
   },
   {
    "duration": 2170,
    "start_time": "2021-07-13T16:23:39.316Z"
   },
   {
    "duration": 342,
    "start_time": "2021-07-13T16:23:41.488Z"
   },
   {
    "duration": 598,
    "start_time": "2021-07-13T16:23:41.832Z"
   },
   {
    "duration": 1184,
    "start_time": "2021-07-13T16:23:42.432Z"
   },
   {
    "duration": 95,
    "start_time": "2021-07-13T16:23:43.618Z"
   },
   {
    "duration": 10,
    "start_time": "2021-07-13T16:23:43.715Z"
   },
   {
    "duration": 134,
    "start_time": "2021-07-13T16:23:43.726Z"
   },
   {
    "duration": 32,
    "start_time": "2021-07-13T16:23:43.863Z"
   },
   {
    "duration": 715,
    "start_time": "2021-07-13T16:23:43.898Z"
   },
   {
    "duration": 710,
    "start_time": "2021-07-13T16:23:44.687Z"
   },
   {
    "duration": 31672,
    "start_time": "2021-07-13T16:23:45.400Z"
   },
   {
    "duration": 30981,
    "start_time": "2021-07-13T16:24:17.074Z"
   },
   {
    "duration": 50221,
    "start_time": "2021-07-13T16:24:48.057Z"
   },
   {
    "duration": 91307,
    "start_time": "2021-07-13T16:25:38.284Z"
   },
   {
    "duration": 9770,
    "start_time": "2021-07-13T16:27:09.593Z"
   },
   {
    "duration": 156976,
    "start_time": "2021-07-13T16:27:19.365Z"
   },
   {
    "duration": 89,
    "start_time": "2021-07-13T16:30:59.029Z"
   },
   {
    "duration": 4,
    "start_time": "2021-07-13T16:37:07.145Z"
   },
   {
    "duration": 8,
    "start_time": "2021-07-13T16:39:00.859Z"
   },
   {
    "duration": 7,
    "start_time": "2021-07-13T16:39:20.723Z"
   },
   {
    "duration": 7,
    "start_time": "2021-07-13T16:39:48.545Z"
   },
   {
    "duration": 231,
    "start_time": "2021-07-13T16:42:12.965Z"
   },
   {
    "duration": 362,
    "start_time": "2021-07-13T16:43:34.980Z"
   },
   {
    "duration": 155,
    "start_time": "2021-07-13T16:56:46.565Z"
   },
   {
    "duration": 386,
    "start_time": "2021-07-13T17:13:16.824Z"
   },
   {
    "duration": 526,
    "start_time": "2021-07-13T17:14:56.646Z"
   },
   {
    "duration": 252,
    "start_time": "2021-07-13T17:23:39.248Z"
   },
   {
    "duration": 231,
    "start_time": "2021-07-13T17:25:51.342Z"
   },
   {
    "duration": 137,
    "start_time": "2021-07-13T17:26:07.891Z"
   },
   {
    "duration": 380,
    "start_time": "2021-07-13T17:29:55.034Z"
   },
   {
    "duration": 519,
    "start_time": "2021-07-13T17:30:13.940Z"
   },
   {
    "duration": 173,
    "start_time": "2021-07-13T17:30:54.541Z"
   },
   {
    "duration": 736,
    "start_time": "2021-07-13T17:36:38.673Z"
   },
   {
    "duration": 670,
    "start_time": "2021-07-13T17:36:53.822Z"
   },
   {
    "duration": 761,
    "start_time": "2021-07-13T17:37:44.435Z"
   },
   {
    "duration": 210,
    "start_time": "2021-07-13T17:42:21.379Z"
   },
   {
    "duration": 247,
    "start_time": "2021-07-13T17:42:26.977Z"
   },
   {
    "duration": 4,
    "start_time": "2021-07-13T17:42:30.127Z"
   },
   {
    "duration": 3,
    "start_time": "2021-07-13T17:43:39.595Z"
   },
   {
    "duration": 2185,
    "start_time": "2021-07-13T17:47:17.662Z"
   },
   {
    "duration": 339,
    "start_time": "2021-07-13T17:47:19.849Z"
   },
   {
    "duration": 577,
    "start_time": "2021-07-13T17:47:20.190Z"
   },
   {
    "duration": 1116,
    "start_time": "2021-07-13T17:47:20.769Z"
   },
   {
    "duration": 76,
    "start_time": "2021-07-13T17:47:21.886Z"
   },
   {
    "duration": 23,
    "start_time": "2021-07-13T17:47:21.963Z"
   },
   {
    "duration": 132,
    "start_time": "2021-07-13T17:47:21.988Z"
   },
   {
    "duration": 20,
    "start_time": "2021-07-13T17:47:22.123Z"
   },
   {
    "duration": 754,
    "start_time": "2021-07-13T17:47:22.145Z"
   },
   {
    "duration": 888,
    "start_time": "2021-07-13T17:47:22.902Z"
   },
   {
    "duration": 31436,
    "start_time": "2021-07-13T17:47:23.792Z"
   },
   {
    "duration": 32505,
    "start_time": "2021-07-13T17:47:55.230Z"
   },
   {
    "duration": 50439,
    "start_time": "2021-07-13T17:48:27.737Z"
   },
   {
    "duration": 92476,
    "start_time": "2021-07-13T17:49:18.178Z"
   },
   {
    "duration": 9761,
    "start_time": "2021-07-13T17:50:50.656Z"
   },
   {
    "duration": 159766,
    "start_time": "2021-07-13T17:51:00.419Z"
   },
   {
    "duration": 166,
    "start_time": "2021-07-13T17:53:40.188Z"
   },
   {
    "duration": 35,
    "start_time": "2021-07-13T17:53:40.356Z"
   },
   {
    "duration": 321,
    "start_time": "2021-07-13T17:53:40.394Z"
   },
   {
    "duration": 375,
    "start_time": "2021-07-13T17:53:40.717Z"
   },
   {
    "duration": 404,
    "start_time": "2021-07-13T17:53:41.095Z"
   },
   {
    "duration": 502,
    "start_time": "2021-07-13T17:53:41.501Z"
   },
   {
    "duration": 209,
    "start_time": "2021-07-13T17:53:42.006Z"
   },
   {
    "duration": 77,
    "start_time": "2021-07-13T17:53:42.217Z"
   },
   {
    "duration": 7,
    "start_time": "2021-07-13T17:55:13.161Z"
   },
   {
    "duration": 8,
    "start_time": "2021-07-13T17:55:41.811Z"
   },
   {
    "duration": 11,
    "start_time": "2021-07-13T17:55:47.815Z"
   },
   {
    "duration": 10,
    "start_time": "2021-07-13T17:56:01.167Z"
   },
   {
    "duration": 8,
    "start_time": "2021-07-13T17:56:22.609Z"
   },
   {
    "duration": 5,
    "start_time": "2021-07-13T18:02:46.658Z"
   }
  ],
  "kernelspec": {
   "display_name": "Python 3",
   "language": "python",
   "name": "python3"
  },
  "language_info": {
   "codemirror_mode": {
    "name": "ipython",
    "version": 3
   },
   "file_extension": ".py",
   "mimetype": "text/x-python",
   "name": "python",
   "nbconvert_exporter": "python",
   "pygments_lexer": "ipython3",
   "version": "3.8.5"
  },
  "toc": {
   "base_numbering": 1,
   "nav_menu": {},
   "number_sections": true,
   "sideBar": true,
   "skip_h1_title": true,
   "title_cell": "Table of Contents",
   "title_sidebar": "Contents",
   "toc_cell": false,
   "toc_position": {
    "height": "calc(100% - 180px)",
    "left": "10px",
    "top": "150px",
    "width": "289.6px"
   },
   "toc_section_display": true,
   "toc_window_display": false
  }
 },
 "nbformat": 4,
 "nbformat_minor": 2
}
