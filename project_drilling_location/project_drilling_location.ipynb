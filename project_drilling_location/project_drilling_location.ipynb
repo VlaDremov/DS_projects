{
 "cells": [
  {
   "cell_type": "markdown",
   "metadata": {},
   "source": [
    "# Выбор локации для скважины"
   ]
  },
  {
   "cell_type": "markdown",
   "metadata": {},
   "source": [
    "Допустим, вы работаете в добывающей компании «ГлавРосГосНефть». Нужно решить, где бурить новую скважину.\n",
    "\n",
    "Вам предоставлены пробы нефти в трёх регионах: в каждом 10 000 месторождений, где измерили качество нефти и объём её запасов. Постройте модель машинного обучения, которая поможет определить регион, где добыча принесёт наибольшую прибыль. Проанализируйте возможную прибыль и риски техникой *Bootstrap.*\n",
    "\n",
    "Шаги для выбора локации:\n",
    "\n",
    "- В избранном регионе ищут месторождения, для каждого определяют значения признаков;\n",
    "- Строят модель и оценивают объём запасов;\n",
    "- Выбирают месторождения с самым высокими оценками значений. Количество месторождений зависит от бюджета компании и стоимости разработки одной скважины;\n",
    "- Прибыль равна суммарной прибыли отобранных месторождений.\n",
    "\n",
    "\n",
    "\n",
    "Данные геологоразведки трёх регионов находятся в файлах.\n",
    "Значения полей:\n",
    "- id — уникальный идентификатор скважины;\n",
    "- f0, f1, f2 — три признака точек (неважно, что они означают, но сами признаки значимы);\n",
    "- product — объём запасов в скважине (тыс. баррелей)."
   ]
  },
  {
   "cell_type": "markdown",
   "metadata": {},
   "source": [
    "# Содержание\n",
    "\n",
    "<b> [Часть 1. Изучение общей информации](#ch_1_1) <br>\n",
    "<b> [Часть 2. Обучение и проверка моделей](#ch_2_1)<br>\n",
    "<b> [Часть 3. Подготовка расчета прибыли](#ch_3_1)<br>\n",
    "<b> [Часть 4. Написание функции для расчёта прибыли по выбранным скважинам и предсказаниям модели](#ch_4_1)<br>\n",
    "<b> [Часть 5. Расчет рисков и прибыли для каждого региона](#ch_5_1)<br>\n",
    "<b> [Часть 6. Выводы](#ch_6_1)\n"
   ]
  },
  {
   "cell_type": "markdown",
   "metadata": {},
   "source": [
    "## Загрузка и подготовка данных <a id='ch_1_1'></a>"
   ]
  },
  {
   "cell_type": "code",
   "execution_count": 1,
   "metadata": {},
   "outputs": [
    {
     "data": {
      "text/html": [
       "<div>\n",
       "<style scoped>\n",
       "    .dataframe tbody tr th:only-of-type {\n",
       "        vertical-align: middle;\n",
       "    }\n",
       "\n",
       "    .dataframe tbody tr th {\n",
       "        vertical-align: top;\n",
       "    }\n",
       "\n",
       "    .dataframe thead th {\n",
       "        text-align: right;\n",
       "    }\n",
       "</style>\n",
       "<table border=\"1\" class=\"dataframe\">\n",
       "  <thead>\n",
       "    <tr style=\"text-align: right;\">\n",
       "      <th></th>\n",
       "      <th>f0</th>\n",
       "      <th>f1</th>\n",
       "      <th>f2</th>\n",
       "      <th>product</th>\n",
       "    </tr>\n",
       "  </thead>\n",
       "  <tbody>\n",
       "    <tr>\n",
       "      <td>count</td>\n",
       "      <td>100000.000000</td>\n",
       "      <td>100000.000000</td>\n",
       "      <td>100000.000000</td>\n",
       "      <td>100000.000000</td>\n",
       "    </tr>\n",
       "    <tr>\n",
       "      <td>mean</td>\n",
       "      <td>0.500419</td>\n",
       "      <td>0.250143</td>\n",
       "      <td>2.502647</td>\n",
       "      <td>92.500000</td>\n",
       "    </tr>\n",
       "    <tr>\n",
       "      <td>std</td>\n",
       "      <td>0.871832</td>\n",
       "      <td>0.504433</td>\n",
       "      <td>3.248248</td>\n",
       "      <td>44.288691</td>\n",
       "    </tr>\n",
       "    <tr>\n",
       "      <td>min</td>\n",
       "      <td>-1.408605</td>\n",
       "      <td>-0.848218</td>\n",
       "      <td>-12.088328</td>\n",
       "      <td>0.000000</td>\n",
       "    </tr>\n",
       "    <tr>\n",
       "      <td>25%</td>\n",
       "      <td>-0.072580</td>\n",
       "      <td>-0.200881</td>\n",
       "      <td>0.287748</td>\n",
       "      <td>56.497507</td>\n",
       "    </tr>\n",
       "    <tr>\n",
       "      <td>50%</td>\n",
       "      <td>0.502360</td>\n",
       "      <td>0.250252</td>\n",
       "      <td>2.515969</td>\n",
       "      <td>91.849972</td>\n",
       "    </tr>\n",
       "    <tr>\n",
       "      <td>75%</td>\n",
       "      <td>1.073581</td>\n",
       "      <td>0.700646</td>\n",
       "      <td>4.715088</td>\n",
       "      <td>128.564089</td>\n",
       "    </tr>\n",
       "    <tr>\n",
       "      <td>max</td>\n",
       "      <td>2.362331</td>\n",
       "      <td>1.343769</td>\n",
       "      <td>16.003790</td>\n",
       "      <td>185.364347</td>\n",
       "    </tr>\n",
       "  </tbody>\n",
       "</table>\n",
       "</div>"
      ],
      "text/plain": [
       "                  f0             f1             f2        product\n",
       "count  100000.000000  100000.000000  100000.000000  100000.000000\n",
       "mean        0.500419       0.250143       2.502647      92.500000\n",
       "std         0.871832       0.504433       3.248248      44.288691\n",
       "min        -1.408605      -0.848218     -12.088328       0.000000\n",
       "25%        -0.072580      -0.200881       0.287748      56.497507\n",
       "50%         0.502360       0.250252       2.515969      91.849972\n",
       "75%         1.073581       0.700646       4.715088     128.564089\n",
       "max         2.362331       1.343769      16.003790     185.364347"
      ]
     },
     "metadata": {},
     "output_type": "display_data"
    },
    {
     "data": {
      "text/html": [
       "<div>\n",
       "<style scoped>\n",
       "    .dataframe tbody tr th:only-of-type {\n",
       "        vertical-align: middle;\n",
       "    }\n",
       "\n",
       "    .dataframe tbody tr th {\n",
       "        vertical-align: top;\n",
       "    }\n",
       "\n",
       "    .dataframe thead th {\n",
       "        text-align: right;\n",
       "    }\n",
       "</style>\n",
       "<table border=\"1\" class=\"dataframe\">\n",
       "  <thead>\n",
       "    <tr style=\"text-align: right;\">\n",
       "      <th></th>\n",
       "      <th>f0</th>\n",
       "      <th>f1</th>\n",
       "      <th>f2</th>\n",
       "      <th>product</th>\n",
       "    </tr>\n",
       "  </thead>\n",
       "  <tbody>\n",
       "    <tr>\n",
       "      <td>count</td>\n",
       "      <td>100000.000000</td>\n",
       "      <td>100000.000000</td>\n",
       "      <td>100000.000000</td>\n",
       "      <td>100000.000000</td>\n",
       "    </tr>\n",
       "    <tr>\n",
       "      <td>mean</td>\n",
       "      <td>1.141296</td>\n",
       "      <td>-4.796579</td>\n",
       "      <td>2.494541</td>\n",
       "      <td>68.825000</td>\n",
       "    </tr>\n",
       "    <tr>\n",
       "      <td>std</td>\n",
       "      <td>8.965932</td>\n",
       "      <td>5.119872</td>\n",
       "      <td>1.703572</td>\n",
       "      <td>45.944423</td>\n",
       "    </tr>\n",
       "    <tr>\n",
       "      <td>min</td>\n",
       "      <td>-31.609576</td>\n",
       "      <td>-26.358598</td>\n",
       "      <td>-0.018144</td>\n",
       "      <td>0.000000</td>\n",
       "    </tr>\n",
       "    <tr>\n",
       "      <td>25%</td>\n",
       "      <td>-6.298551</td>\n",
       "      <td>-8.267985</td>\n",
       "      <td>1.000021</td>\n",
       "      <td>26.953261</td>\n",
       "    </tr>\n",
       "    <tr>\n",
       "      <td>50%</td>\n",
       "      <td>1.153055</td>\n",
       "      <td>-4.813172</td>\n",
       "      <td>2.011479</td>\n",
       "      <td>57.085625</td>\n",
       "    </tr>\n",
       "    <tr>\n",
       "      <td>75%</td>\n",
       "      <td>8.621015</td>\n",
       "      <td>-1.332816</td>\n",
       "      <td>3.999904</td>\n",
       "      <td>107.813044</td>\n",
       "    </tr>\n",
       "    <tr>\n",
       "      <td>max</td>\n",
       "      <td>29.421755</td>\n",
       "      <td>18.734063</td>\n",
       "      <td>5.019721</td>\n",
       "      <td>137.945408</td>\n",
       "    </tr>\n",
       "  </tbody>\n",
       "</table>\n",
       "</div>"
      ],
      "text/plain": [
       "                  f0             f1             f2        product\n",
       "count  100000.000000  100000.000000  100000.000000  100000.000000\n",
       "mean        1.141296      -4.796579       2.494541      68.825000\n",
       "std         8.965932       5.119872       1.703572      45.944423\n",
       "min       -31.609576     -26.358598      -0.018144       0.000000\n",
       "25%        -6.298551      -8.267985       1.000021      26.953261\n",
       "50%         1.153055      -4.813172       2.011479      57.085625\n",
       "75%         8.621015      -1.332816       3.999904     107.813044\n",
       "max        29.421755      18.734063       5.019721     137.945408"
      ]
     },
     "metadata": {},
     "output_type": "display_data"
    },
    {
     "data": {
      "text/html": [
       "<div>\n",
       "<style scoped>\n",
       "    .dataframe tbody tr th:only-of-type {\n",
       "        vertical-align: middle;\n",
       "    }\n",
       "\n",
       "    .dataframe tbody tr th {\n",
       "        vertical-align: top;\n",
       "    }\n",
       "\n",
       "    .dataframe thead th {\n",
       "        text-align: right;\n",
       "    }\n",
       "</style>\n",
       "<table border=\"1\" class=\"dataframe\">\n",
       "  <thead>\n",
       "    <tr style=\"text-align: right;\">\n",
       "      <th></th>\n",
       "      <th>f0</th>\n",
       "      <th>f1</th>\n",
       "      <th>f2</th>\n",
       "      <th>product</th>\n",
       "    </tr>\n",
       "  </thead>\n",
       "  <tbody>\n",
       "    <tr>\n",
       "      <td>count</td>\n",
       "      <td>100000.000000</td>\n",
       "      <td>100000.000000</td>\n",
       "      <td>100000.000000</td>\n",
       "      <td>100000.000000</td>\n",
       "    </tr>\n",
       "    <tr>\n",
       "      <td>mean</td>\n",
       "      <td>0.002023</td>\n",
       "      <td>-0.002081</td>\n",
       "      <td>2.495128</td>\n",
       "      <td>95.000000</td>\n",
       "    </tr>\n",
       "    <tr>\n",
       "      <td>std</td>\n",
       "      <td>1.732045</td>\n",
       "      <td>1.730417</td>\n",
       "      <td>3.473445</td>\n",
       "      <td>44.749921</td>\n",
       "    </tr>\n",
       "    <tr>\n",
       "      <td>min</td>\n",
       "      <td>-8.760004</td>\n",
       "      <td>-7.084020</td>\n",
       "      <td>-11.970335</td>\n",
       "      <td>0.000000</td>\n",
       "    </tr>\n",
       "    <tr>\n",
       "      <td>25%</td>\n",
       "      <td>-1.162288</td>\n",
       "      <td>-1.174820</td>\n",
       "      <td>0.130359</td>\n",
       "      <td>59.450441</td>\n",
       "    </tr>\n",
       "    <tr>\n",
       "      <td>50%</td>\n",
       "      <td>0.009424</td>\n",
       "      <td>-0.009482</td>\n",
       "      <td>2.484236</td>\n",
       "      <td>94.925613</td>\n",
       "    </tr>\n",
       "    <tr>\n",
       "      <td>75%</td>\n",
       "      <td>1.158535</td>\n",
       "      <td>1.163678</td>\n",
       "      <td>4.858794</td>\n",
       "      <td>130.595027</td>\n",
       "    </tr>\n",
       "    <tr>\n",
       "      <td>max</td>\n",
       "      <td>7.238262</td>\n",
       "      <td>7.844801</td>\n",
       "      <td>16.739402</td>\n",
       "      <td>190.029838</td>\n",
       "    </tr>\n",
       "  </tbody>\n",
       "</table>\n",
       "</div>"
      ],
      "text/plain": [
       "                  f0             f1             f2        product\n",
       "count  100000.000000  100000.000000  100000.000000  100000.000000\n",
       "mean        0.002023      -0.002081       2.495128      95.000000\n",
       "std         1.732045       1.730417       3.473445      44.749921\n",
       "min        -8.760004      -7.084020     -11.970335       0.000000\n",
       "25%        -1.162288      -1.174820       0.130359      59.450441\n",
       "50%         0.009424      -0.009482       2.484236      94.925613\n",
       "75%         1.158535       1.163678       4.858794     130.595027\n",
       "max         7.238262       7.844801      16.739402     190.029838"
      ]
     },
     "metadata": {},
     "output_type": "display_data"
    },
    {
     "name": "stdout",
     "output_type": "stream",
     "text": [
      "shape df 1: (100000, 5)\n",
      "shape df 2: (100000, 5)\n",
      "shape df 3: (100000, 5)\n"
     ]
    }
   ],
   "source": [
    "import pandas as pd\n",
    "import numpy as np\n",
    "import matplotlib.pyplot as plt\n",
    "from sklearn.model_selection import train_test_split\n",
    "from sklearn.preprocessing import StandardScaler\n",
    "from sklearn.linear_model import LinearRegression\n",
    "from sklearn.metrics import mean_squared_error\n",
    "from sklearn.metrics import r2_score\n",
    "from sklearn.metrics import mean_absolute_error\n",
    "import warnings\n",
    "warnings.filterwarnings('ignore')\n",
    "\n",
    "df_1 = pd.read_csv('/datasets/geo_data_0.csv')\n",
    "df_2 = pd.read_csv('/datasets/geo_data_1.csv')\n",
    "df_3 = pd.read_csv('/datasets/geo_data_2.csv')\n",
    "display(df_1.describe())\n",
    "display(df_2.describe())\n",
    "display(df_3.describe())\n",
    "print('shape df 1:',df_1.shape)\n",
    "print('shape df 2:',df_2.shape)\n",
    "print('shape df 3:',df_3.shape)\n",
    "      \n"
   ]
  },
  {
   "cell_type": "markdown",
   "metadata": {},
   "source": [
    "Пропусков в таблицах нет, при общем рассмотрении target имеет схожие характеристики в регионах 1 и 3, в регионе 2 значения ниже."
   ]
  },
  {
   "cell_type": "code",
   "execution_count": 2,
   "metadata": {},
   "outputs": [
    {
     "data": {
      "image/png": "[encoded data removed]",
      "text/plain": [
       "<Figure size 432x288 with 1 Axes>"
      ]
     },
     "metadata": {
      "needs_background": "light"
     },
     "output_type": "display_data"
    },
    {
     "data": {
      "image/png": "[encoded data removed]",
      "text/plain": [
       "<Figure size 432x288 with 1 Axes>"
      ]
     },
     "metadata": {
      "needs_background": "light"
     },
     "output_type": "display_data"
    },
    {
     "data": {
      "image/png": "[encoded data removed]",
      "text/plain": [
       "<Figure size 432x288 with 1 Axes>"
      ]
     },
     "metadata": {
      "needs_background": "light"
     },
     "output_type": "display_data"
    }
   ],
   "source": [
    "hist1 = plt.figure()\n",
    "hist1 = df_1['product'].plot(kind ='hist',title = 'Распределение таргета, регион 1', bins = 100)\n",
    "hist2 = plt.figure()\n",
    "hist2 = df_2['product'].plot(kind ='hist',title = 'Распределение таргета, регион 2',  bins = 100)\n",
    "hist3 = plt.figure()\n",
    "hist3 = df_3['product'].plot(kind ='hist',title = 'Распределение таргета, регион 3',  bins = 100)\n",
    "\n"
   ]
  },
  {
   "cell_type": "markdown",
   "metadata": {},
   "source": [
    "Распределение целевой переменной во втором регионе крайне странное! Если для 1 и 3 еще есть какая скученность ближе к центру, у второго всё равномерно."
   ]
  },
  {
   "cell_type": "markdown",
   "metadata": {},
   "source": [
    "## Обучение и проверка модели <a id='ch_2_1'></a>"
   ]
  },
  {
   "cell_type": "markdown",
   "metadata": {},
   "source": [
    "Построим для регионов модель линейной регресии, предварительно разделив датафрейм на тренировочную и валидационную выборки."
   ]
  },
  {
   "cell_type": "code",
   "execution_count": 3,
   "metadata": {},
   "outputs": [
    {
     "name": "stdout",
     "output_type": "stream",
     "text": [
      "Регион 1\n",
      "Среднее значение предсказаний: 92.39879990657768\n",
      "RMSE: 37.75660035026169\n",
      "R2: 0.2728287328173471\n",
      "MAE: 31.047681538788183\n"
     ]
    }
   ],
   "source": [
    "df_1_features = df_1.drop(['id', 'product'], axis = 1)\n",
    "df_1_target = df_1['product']\n",
    "features_train_1, features_valid_1, target_train_1, target_valid_1 = \\\n",
    "    train_test_split(df_1_features, df_1_target, test_size = 0.25, random_state = 42)\n",
    "model = LinearRegression()\n",
    "model.fit(features_train_1, target_train_1)\n",
    "prediction_valid_1 = model.predict(features_valid_1)\n",
    "print('Регион 1')\n",
    "print('Среднее значение предсказаний:',prediction_valid_1.mean())\n",
    "print('RMSE:', mean_squared_error(target_valid_1, prediction_valid_1)**0.5)\n",
    "print('R2:', r2_score(target_valid_1, prediction_valid_1))\n",
    "print('MAE:', mean_absolute_error(target_valid_1, prediction_valid_1))"
   ]
  },
  {
   "cell_type": "code",
   "execution_count": 4,
   "metadata": {},
   "outputs": [
    {
     "name": "stdout",
     "output_type": "stream",
     "text": [
      "Регион 2\n",
      "Среднее значение предсказаний: 68.71287803913764\n",
      "RMSE: 0.8902801001028828\n",
      "R2: 0.9996245232002449\n",
      "MAE: 0.7170119535682544\n"
     ]
    }
   ],
   "source": [
    "df_2_features = df_2.drop(['id', 'product'], axis = 1)\n",
    "df_2_target = df_2['product']\n",
    "features_train_2, features_valid_2, target_train_2, target_valid_2 = \\\n",
    "    train_test_split(df_2_features, df_2_target, test_size = 0.25, random_state = 42)\n",
    "model = LinearRegression()\n",
    "model.fit(features_train_2, target_train_2)\n",
    "prediction_valid_2 = model.predict(features_valid_2)\n",
    "print('Регион 2')\n",
    "print('Среднее значение предсказаний:',prediction_valid_2.mean())\n",
    "print('RMSE:', mean_squared_error(target_valid_2, prediction_valid_2)**0.5)\n",
    "print('R2:', r2_score(target_valid_2, prediction_valid_2))\n",
    "print('MAE:', mean_absolute_error(target_valid_2, prediction_valid_2))"
   ]
  },
  {
   "cell_type": "code",
   "execution_count": 5,
   "metadata": {},
   "outputs": [
    {
     "name": "stdout",
     "output_type": "stream",
     "text": [
      "Регион 3\n",
      "Среднее значение предсказаний: 94.77102387765939\n",
      "RMSE: 40.145872311342174\n",
      "R2: 0.19634705977280487\n",
      "MAE: 32.896958610578054\n"
     ]
    }
   ],
   "source": [
    "df_3_features = df_3.drop(['id', 'product'], axis = 1)\n",
    "df_3_target = df_3['product']\n",
    "features_train_3, features_valid_3, target_train_3, target_valid_3 = \\\n",
    "    train_test_split(df_3_features, df_3_target, test_size = 0.25, random_state = 42)\n",
    "model = LinearRegression()\n",
    "model.fit(features_train_3, target_train_3)\n",
    "prediction_valid_3 = model.predict(features_valid_3)\n",
    "print('Регион 3')\n",
    "print('Среднее значение предсказаний:',prediction_valid_3.mean())\n",
    "print('RMSE:', mean_squared_error(target_valid_3, prediction_valid_3)**0.5)\n",
    "print('R2:', r2_score(target_valid_3, prediction_valid_3))\n",
    "print('MAE:', mean_absolute_error(target_valid_3, prediction_valid_3))"
   ]
  },
  {
   "cell_type": "markdown",
   "metadata": {},
   "source": [
    "Модели для первого и третьего региона получились низкого качества: ошибка довольно велика, коэффициент детерминации очень низок. А вот модель для второго региоа предсказывает данные практически идеально - при среднем значении в 68.7 RMSE меньше единицы, а R2 почти 0.9997. Это подозрительно хорошо!\n",
    "\n",
    "Средний запас в скважине в регионах 1 и 3 значительно выше, чем во втором - разница почти 25%!"
   ]
  },
  {
   "cell_type": "markdown",
   "metadata": {},
   "source": [
    "## Подготовка к расчёту прибыли <a id='ch_3_1'></a>"
   ]
  },
  {
   "cell_type": "markdown",
   "metadata": {},
   "source": [
    "Рассчитаем средние запасы сырья в каждом регионе и сравним с объемом сырья для безубыточной разработки."
   ]
  },
  {
   "cell_type": "code",
   "execution_count": 6,
   "metadata": {},
   "outputs": [
    {
     "name": "stdout",
     "output_type": "stream",
     "text": [
      "Средний запас сырья в регионе 1 92.50000000000001\n",
      "Средний запас сырья в регионе 2 68.82500000000002\n",
      "Средний запас сырья в регионе 3 95.00000000000004\n",
      "Объем сырья для безубыточной разработки: 111.11111111111111\n"
     ]
    }
   ],
   "source": [
    "state = np.random.RandomState(42)\n",
    "budget = 10000000000\n",
    "wells_amnt = 200\n",
    "profit_per_unit = 450000\n",
    "target_profit = budget / wells_amnt / profit_per_unit\n",
    "print('Средний запас сырья в регионе 1', df_1_target.mean())\n",
    "print('Средний запас сырья в регионе 2', df_2_target.mean())\n",
    "print('Средний запас сырья в регионе 3', df_3_target.mean())\n",
    "print('Объем сырья для безубыточной разработки:',target_profit)"
   ]
  },
  {
   "cell_type": "markdown",
   "metadata": {},
   "source": [
    "В целом, каждый из регионов по среднему показателю не подходит для безубыточной разработки. У регионов 1 и 3 разница с точкой безубыточности низка, у региона 2 около 40%, что существенно. Но это показатели это общих выборок, без ранжирования. Случайно выбрать скважину не получится - нужны лучшие! "
   ]
  },
  {
   "cell_type": "markdown",
   "metadata": {},
   "source": [
    "## Создание функции расчета прибыли <a id='ch_4_1'></a>"
   ]
  },
  {
   "cell_type": "markdown",
   "metadata": {},
   "source": [
    "Созданную функцию протестируем на одном из регионов"
   ]
  },
  {
   "cell_type": "code",
   "execution_count": 7,
   "metadata": {},
   "outputs": [
    {
     "name": "stdout",
     "output_type": "stream",
     "text": [
      "2598571759.374111\n"
     ]
    }
   ],
   "source": [
    "def profit(target, prediction, count):\n",
    "    prediction = pd.Series(prediction)\n",
    "    target.reset_index(drop = True, inplace = True)\n",
    "    pred_sorted = prediction.sort_values(ascending=False)\n",
    "    selected = target[pred_sorted.index][:count]\n",
    "    return  selected.sum() * profit_per_unit - budget  \n",
    "print(profit(target_valid_3, prediction_valid_3, 200))"
   ]
  },
  {
   "cell_type": "markdown",
   "metadata": {},
   "source": [
    "Неплохая прибыль на полной выборке! Посмотрим, как поведет себя функция при бутсреппинге."
   ]
  },
  {
   "cell_type": "markdown",
   "metadata": {},
   "source": [
    "## Расчёт прибыли и рисков  <a id='ch_5_1'></a>"
   ]
  },
  {
   "cell_type": "code",
   "execution_count": 8,
   "metadata": {},
   "outputs": [
    {
     "name": "stdout",
     "output_type": "stream",
     "text": [
      "Средняя прибыль с топ-200 лучших случайных скважин, регион 1: 416344259\n",
      "95%-й доверительный интервал для региона 1: -83266090 - 868690393\n",
      "Вероятность отрицательной прибыли в регионе 1: 0.051\n",
      "Средняя прибыль с топ-200 лучших случайных скважин, регион 2: 449665207\n",
      "95%-й доверительный интервал для региона 2: 67459734 - 853702945\n",
      "Вероятность отрицательной прибыли в регионе 2: 0.008\n",
      "Средняя прибыль с топ-200 лучших случайных скважин, регион 3: 384343470\n",
      "95%-й доверительный интервал для региона 3: -125173859 - 894297873\n",
      "Вероятность отрицательной прибыли в регионе 3: 0.071\n"
     ]
    }
   ],
   "source": [
    "values_1 = []\n",
    "values_2 = []\n",
    "values_3 = []\n",
    "prediction_valid_1 = pd.Series(prediction_valid_1)\n",
    "prediction_valid_2 = pd.Series(prediction_valid_2)\n",
    "prediction_valid_3 = pd.Series(prediction_valid_3)\n",
    "\n",
    "for i in range(1000):\n",
    "    subsample_1 = prediction_valid_1.sample(n = 500, random_state = state, replace = True)\n",
    "    subsample_2 = prediction_valid_2.sample(n = 500, random_state = state, replace = True)\n",
    "    subsample_3 = prediction_valid_3.sample(n = 500, random_state = state, replace = True)\n",
    "    values_1.append(profit(target_valid_1, subsample_1, 200))\n",
    "    values_2.append(profit(target_valid_2, subsample_2, 200))\n",
    "    values_3.append(profit(target_valid_3, subsample_3, 200))\n",
    "    \n",
    "values_1 = pd.Series(values_1)\n",
    "values_2 = pd.Series(values_2)\n",
    "values_3 = pd.Series(values_3)\n",
    "\n",
    "values_1_neg = values_1[values_1 < 0]\n",
    "values_1_lower = values_1.quantile(0.025)\n",
    "values_1_upper = values_1.quantile(0.975)\n",
    "\n",
    "values_2_neg = values_2[values_2 < 0]\n",
    "values_2_lower = values_2.quantile(0.025)\n",
    "values_2_upper = values_2.quantile(0.975)\n",
    "\n",
    "values_3_neg = values_3[values_3 < 0]\n",
    "values_3_lower = values_3.quantile(0.025)\n",
    "values_3_upper = values_3.quantile(0.975)\n",
    "\n",
    "print('Средняя прибыль с топ-200 лучших случайных скважин, регион 1:',round(values_1.mean()))\n",
    "print('95%-й доверительный интервал для региона 1:', round(values_1_lower), '-', round(values_1_upper))\n",
    "print('Вероятность отрицательной прибыли в регионе 1:', len(values_1_neg)/len(values_1))\n",
    "print('Средняя прибыль с топ-200 лучших случайных скважин, регион 2:',round(values_2.mean()))\n",
    "print('95%-й доверительный интервал для региона 2:', round(values_2_lower), '-', round(values_2_upper))\n",
    "print('Вероятность отрицательной прибыли в регионе 2:', len(values_2_neg)/len(values_2))\n",
    "print('Средняя прибыль с топ-200 лучших случайных скважин, регион 3:',round(values_3.mean()))\n",
    "print('95%-й доверительный интервал для региона 3:', round(values_3_lower), '-', round(values_3_upper))\n",
    "print('Вероятность отрицательной прибыли в регионе 3:', len(values_3_neg)/len(values_3))"
   ]
  },
  {
   "cell_type": "markdown",
   "metadata": {},
   "source": [
    "Согласно расчетам, каждый регион в среднем укладывается в бюджет по разработке скважин, хотя для всех трёх регионов есть вероятность получить убытки. Для региона 1 и 3 отрицательные значения лежат внутри 95% доверительного интервала, а получить убытки можно в 51 случае из 1000 и 71 случае из 1000 соответственно. У региона 2 ситуация немного лучше: в 95% доверительном интервале отрицательных значений нет, а получить убытки можно лишь в 8 случаях из 1000, что ниже порога 2.5%. К тому же, средняя прибыль в регионе 2 заметно выше остальных - выше более чем на 30 млн. по сравнению со вторым местом.\n",
    "\n",
    "Таким образом, рекомендуемым и оптимальным для разработки является регион 2.\n"
   ]
  }
 ],
 "metadata": {
  "kernelspec": {
   "display_name": "Python 3",
   "language": "python",
   "name": "python3"
  },
  "language_info": {
   "codemirror_mode": {
    "name": "ipython",
    "version": 3
   },
   "file_extension": ".py",
   "mimetype": "text/x-python",
   "name": "python",
   "nbconvert_exporter": "python",
   "pygments_lexer": "ipython3",
   "version": "3.8.5"
  },
  "toc": {
   "base_numbering": 1,
   "nav_menu": {},
   "number_sections": true,
   "sideBar": true,
   "skip_h1_title": true,
   "title_cell": "Table of Contents",
   "title_sidebar": "Contents",
   "toc_cell": false,
   "toc_position": {},
   "toc_section_display": true,
   "toc_window_display": false
  }
 },
 "nbformat": 4,
 "nbformat_minor": 2
}
