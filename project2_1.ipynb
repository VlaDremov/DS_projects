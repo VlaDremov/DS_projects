{
 "cells": [
  {
   "cell_type": "markdown",
   "metadata": {},
   "source": [
    "## <span style=\"color:green\">Привет, Влад!</span>\n",
    "\n",
    "Проект принят ✔ Поздравляю)\n",
    "\n",
    "Отличная работа и еще больше отличного в доработках)\n",
    "\n",
    "1. Вижу, что ты стараешься использовать функции и циклы, чтобы сократить количество кода. Используй эти фишки почаще и рутины в проектах у тебя не станет.\n",
    "\n",
    "2. Ты очень грамотно выводишь таблички на экран, с соответсвующими подписями и пробелами. Это хорошая привычка, выводы становятся более понятны.\n",
    "\n",
    "3. Все рассуждения верные. Очень логичные и осмысленные. Ничего лишнего, все по полкам. Выводы правильные, хоть я где-то и не согласился, но аналитик тут ты, и ты очень грамотно обосновываешь свою точку зрения.\n",
    "\n",
    "Короче, молодец! Я желаю тебе успехов в учебе, а с твоим подходом, уситчивостью и старанием, я думаю, успех не заставит долго ждать. Удачи!\n",
    "<img src=\"https://russiaedu.ru/media/cache/image_md_resize/uploads/upload-images/2018/05/28/rdBrF8Lpz2s.jpg\" width=\"300\">\n",
    "\n",
    "Поздравляю с переходом на следующий этап. Впереди еще много интересного (и сложного))\n",
    "\n",
    "Посмотри комментарии V2"
   ]
  },
  {
   "cell_type": "markdown",
   "metadata": {},
   "source": [
    "## <span style=\"color:magenta\">Привет, Влад!</span>\n",
    "\n",
    "Меня зовут **Александр Сушков** и я - ревьювер, буду проверять твой проект. Ревьювер, это твой коллега, который не указавает тебе на совершенные тобою ошибки, а делится своим опытом и помогает тебе стать аналитиком данных. Ты уже проделал большую работу над проектом, но давай сделаем его еще лучше.\n",
    "\n",
    "Если не против, я буду обращаться к тебе на \"ТЫ\". Если это неприемлемо, обязательно напиши мне в комментариях - мы прейдем на \"ВЫ\".\n",
    "\n",
    "Спасибо, что сдал задание:) Далее в файле ты сможешь найти мои комментарии в подобных ячейках. Пострайся учесть эти комментарии в ходе выполнения дальнейших проектов.\n",
    "\n",
    "Мне очень понравился твой проект. Видно, что ты достаточно проработал теоритическую часть. Я вижу, что ты интересуешься материалом, которого не было, или пока не было, в теоритической части Практикума. Это очень здОрово! Тем не менее, в проекте обнаружились недочёты, которые необходимо будет исправить. Это не плохо, это - нормально.\n",
    "\n",
    "Обрати внимание, для твоего удобства, я буду выделять свои комментарии цветом, в зависимости от того, какие действия, важность и особенности тебя ждут в процессе проверки:\n",
    "\n",
    "<div class=\"alert alert-block alert-success\">\n",
    "<h2>Комментарий от ревьювера (все здОрово)</h2> \n",
    "    \n",
    "Такими комментариями я буду помечать хорошо проделаную работу, а так же хорошо проделаную работу над ошибками:)\n",
    "</div>\n",
    "\n",
    "<div class=\"alert alert-block alert-warning\">\n",
    "<h2>Комментарий от ревьювера (принимаем к размышлению)</h2> \n",
    "    \n",
    "В таких комментариях я постараюсь подсказать тебе более элегантное или легкое решение. Поскажу некоторые хитрости и фишки. Дам рекомендации на будущее, ссылки для доп. изучения. Части проекта, помеченные такими комментариями, можно не исправлять, но рекомендую обратить на них внимание.\n",
    "</div>\n",
    "\n",
    "<div class=\"alert alert-block alert-danger\">\n",
    "<h2>Комментарий от ревьювера (недочет, который нужно доработать)</h2> \n",
    "    \n",
    "Если ты видишь такой комментарий, значит я указываю тебе на недочёт, его нужно исправить. Без такого исправления я не приму твою работу:)\n",
    "</div>\n",
    "\n",
    "#### Пожалуста, не удаляй мои комментарии и относись к ним бережно. При повторной проверке, я буду ориентироваться на них. \n",
    "\n",
    "###### Можешь под моими комментариями оставлять свои, в которых опиши свои испарвления. Это облегчит процесс проверки и мне, и тебе:) Например, вот так:\n",
    "\n",
    "<div class=\"alert alert-block alert-info\">\n",
    "<b>КОММЕНТАРИЙ ОТ УЧЕНИКА:</b>\n",
    "    \n",
    "</div>"
   ]
  },
  {
   "cell_type": "markdown",
   "metadata": {},
   "source": [
    "<div class=\"alert alert-block alert-info\">\n",
    "<b>КОММЕНТАРИЙ ОТ УЧЕНИКА:</b>\n",
    "    <br> Привет! Спасибо за фидбек:)\n",
    "</div>"
   ]
  },
  {
   "cell_type": "markdown",
   "metadata": {},
   "source": [
    "# Исследование надёжности заёмщиков\n",
    "\n",
    "Заказчик — кредитный отдел банка. Нужно разобраться, влияет ли семейное положение и количество детей клиента на факт погашения кредита в срок. Входные данные от банка — статистика о платёжеспособности клиентов.\n",
    "\n",
    "Результаты исследования будут учтены при построении модели **кредитного скоринга** — специальной системы, которая оценивает способность потенциального заёмщика вернуть кредит банку."
   ]
  },
  {
   "cell_type": "markdown",
   "metadata": {},
   "source": [
    "<div class=\"alert alert-block alert-warning\">\n",
    "<h2>Комментарий от ревьювера (принимаем к размышлению)</h2> \n",
    "\n",
    "Немного про оформление:) У тебя просто скопировано задание в тетрадку. В некоторых случаях это тоже выход:) Но я бы порекомендовал тебе составлять план, похожий больше на книжное содержание.\n",
    "Например:\n",
    "\n",
    "### Определение чего-то очень важного.\n",
    "_____\n",
    "##### В данном исследовании представлены несколько таблиц с очень важной информацией.\n",
    "______\n",
    "\n",
    "###### Данное исследование разделим на несколько частей.\n",
    "\n",
    "##### Часть 1. Изучение общей информации:\n",
    "* [1. Изученеие файлов с данными, получение общей информации, загрузка библиотек.](#1-bullet)\n",
    "* [2. Нахождение и ликвидация пропусков.](#2-bullet)\n",
    "\n",
    "##### Часть 2. Подготовка данных:\n",
    "* [1. Приведение данных к нужным типам.](#3-bullet)\n",
    "* [2. Нахождение и исправление аномалий и ошибок.](#4-bullet)\n",
    "\n",
    "и т.д\n",
    "\n",
    "Старайся выполнять свой проект в порядке, прописанном в твоем плане. Да, такое оформление займет больше времени, но позволит тебе не путаться в будущем:)\n",
    "_________________\n",
    "\n",
    "Обрати внимание, что пункты в частях у меня в виде ссылок. Это очень удобно, когда нужно переходить по разным частям проекта.\n",
    "Вот тут почитай, как сделать <a href=\"https://sebastianraschka.com/Articles/2014_ipython_internal_links.html\">кликабельные разделы</a>(но кликабельность не обязательна, в отличии о плана)\n",
    "\n",
    "**Почему это важно?** Когда ты будешь в будущем выполнять тестовые задания, просто скопировав присланную тебе задачу и не составив плана, ты можешь смутить будущего работодателя. А грамотно сконфигурированный план покажет тебя как ответсвенного и усидчивого специалиста. И, просто поверь мне, с расписанием легче:)"
   ]
  },
  {
   "cell_type": "markdown",
   "metadata": {},
   "source": [
    "<div class=\"alert alert-block alert-info\">\n",
    "<b>КОММЕНТАРИЙ ОТ УЧЕНИКА:</b>\n",
    "    <br>Это задание я даже не копировал, оно тут и было :) Спасибо за наводку, попытка сделать оглавление в ячейке ниже(странно, id проставил, но перехода к нужной части страницы не происходит, может быть, из-за того, что web-версия?).\n",
    "</div>"
   ]
  },
  {
   "cell_type": "markdown",
   "metadata": {},
   "source": [
    "<div class=\"alert alert-block alert-success\">\n",
    "<h2>Комментарий от ревьювера V2</h2> \n",
    "\n",
    "На здоровье) "
   ]
  },
  {
   "cell_type": "markdown",
   "metadata": {},
   "source": [
    "## Исследование надежности заёмщиков\n",
    "\n",
    "<br>Заказчик — кредитный отдел банка. Нужно разобраться, влияет ли семейное положение и количество детей клиента на факт погашения кредита в срок. Входные данные от банка — статистика о платёжеспособности клиентов.\n",
    "\n",
    "<br>Результаты исследования будут учтены при построении модели **кредитного скоринга** — специальной системы, которая оценивает способность потенциального заёмщика вернуть кредит банку.\n",
    "\n",
    "<br>В качестве исходных данных получена таблица с информацией о клиентах. \n",
    "<br>Поля таблицы:\n",
    "<br>**children** — количество детей в семье\n",
    "<br>**days_employed** — общий трудовой стаж в днях\n",
    "<br>**dob_years** — возраст клиента в годах\n",
    "<br>**education** — уровень образования клиента\n",
    "<br>**education_id** — идентификатор уровня образования\n",
    "<br>**family_status** — семейное положение\n",
    "<br>**family_status_id** — идентификатор семейного положения\n",
    "<br>**gender** — пол клиента\n",
    "<br>**income_type** — тип занятости\n",
    "<br>**debt** — имел ли задолженность по возврату кредитов\n",
    "<br>**total_income** — ежемесячный доход\n",
    "<br>**purpose** — цель получения кредита\n",
    "\n",
    "Исследование разделено на несколько частей:\n",
    "\n",
    "###### Данное исследование разделим на несколько частей.\n",
    "\n",
    "##### Часть 1. Изучение общей информации:\n",
    "* [1. Изучение файлов с данными, получение общей информации, загрузка библиотек.](#ch_1_1)\n",
    "\n",
    "##### Часть 2. Предобработка данных:\n",
    "* [1. Нахождение и ликвидация пропусков.](#ch_2_1)\n",
    "* [2. Приведение данных к нужным типам.](#ch_2_2)\n",
    "* [3. Удаление дубликатов.](#ch_2_3)\n",
    "* [4. Лемматизация данных.](#ch_2_4)\n",
    "* [5. Выделение категорий.](#ch_2_5)\n",
    "\n",
    "##### Часть 3. Проведение анализа:\n",
    "* [1. Исследование зависимости возврата кредита в срок от категории клиента.](#ch_3_1)\n",
    "\n",
    "##### Часть 4. Выводы:\n",
    "* [1. Выводы.](#ch_4_1)"
   ]
  },
  {
   "cell_type": "markdown",
   "metadata": {},
   "source": [
    "## Шаг 1. Откройте файл с данными и изучите общую информацию<a id='ch_1_1'></a>"
   ]
  },
  {
   "cell_type": "markdown",
   "metadata": {},
   "source": [
    "<div class=\"alert alert-block alert-warning\">\n",
    "<h2>Комментарий от ревьювера (принимаем к размышлению)</h2> \n",
    "\n",
    "Я заметил, что ячейки в твоей тетрадке начинаются не с 1. Перед отправкой работы рекомендую перезапускать ноутбук, чтобы убедиться, что все ячейки выполняются корректно) Нужно выбрать в верхнем меню Kernel, выбрать Restart and Run All Cells. Юпитер перезапуститься, и ячейки пойдут заново, с 1-ой)"
   ]
  },
  {
   "cell_type": "code",
   "execution_count": 1,
   "metadata": {},
   "outputs": [
    {
     "name": "stdout",
     "output_type": "stream",
     "text": [
      "<class 'pandas.core.frame.DataFrame'>\n",
      "RangeIndex: 21525 entries, 0 to 21524\n",
      "Data columns (total 12 columns):\n",
      "children            21525 non-null int64\n",
      "days_employed       19351 non-null float64\n",
      "dob_years           21525 non-null int64\n",
      "education           21525 non-null object\n",
      "education_id        21525 non-null int64\n",
      "family_status       21525 non-null object\n",
      "family_status_id    21525 non-null int64\n",
      "gender              21525 non-null object\n",
      "income_type         21525 non-null object\n",
      "debt                21525 non-null int64\n",
      "total_income        19351 non-null float64\n",
      "purpose             21525 non-null object\n",
      "dtypes: float64(2), int64(5), object(5)\n",
      "memory usage: 2.0+ MB\n"
     ]
    }
   ],
   "source": [
    "import pandas as pd\n",
    "import warnings\n",
    "warnings.filterwarnings('ignore')\n",
    "from pymystem3 import Mystem\n",
    "m = Mystem()\n",
    "df = pd.read_csv('/datasets/data.csv')\n",
    "#print(df.head(10))\n",
    "df.info()\n",
    "#изменим наименования образований в нижний регистр\n",
    "df.loc[:,'education'] = df.loc[:,'education'].str.lower()"
   ]
  },
  {
   "cell_type": "markdown",
   "metadata": {},
   "source": [
    "**Вывод**"
   ]
  },
  {
   "cell_type": "markdown",
   "metadata": {},
   "source": [
    "Основной момент, бросающийся в глаза - отрицательные, но реалистичные показатели стажа работы у всех групп, кроме пенсионеров и безработных. У этих двух групп значения невозможно высокие."
   ]
  },
  {
   "cell_type": "markdown",
   "metadata": {},
   "source": [
    "<div class=\"alert alert-block alert-success\">\n",
    "<h2>Комментарий от ревьювера (все здОрово)</h2> \n",
    "\n",
    "Отлично! Замечательные выкладки. Молодец что используешь только метод info. значит понимаешь, как он работает. Другие методы, shape, isnull и т.д. -  это уже избыточно)"
   ]
  },
  {
   "cell_type": "markdown",
   "metadata": {},
   "source": [
    "## Шаг 2. Предобработка данных"
   ]
  },
  {
   "cell_type": "markdown",
   "metadata": {},
   "source": [
    "### Обработка пропусков <a id='ch_2_1'></a>"
   ]
  },
  {
   "cell_type": "code",
   "execution_count": 2,
   "metadata": {
    "scrolled": true
   },
   "outputs": [
    {
     "name": "stdout",
     "output_type": "stream",
     "text": [
      "До обработки: \n",
      " children               0\n",
      "days_employed       2174\n",
      "dob_years              0\n",
      "education              0\n",
      "education_id           0\n",
      "family_status          0\n",
      "family_status_id       0\n",
      "gender                 0\n",
      "income_type            0\n",
      "debt                   0\n",
      "total_income        2174\n",
      "purpose                0\n",
      "dtype: int64\n",
      "После обработки: \n",
      " children            0\n",
      "days_employed       0\n",
      "dob_years           0\n",
      "education           0\n",
      "education_id        0\n",
      "family_status       0\n",
      "family_status_id    0\n",
      "gender              0\n",
      "income_type         0\n",
      "debt                0\n",
      "total_income        0\n",
      "purpose             0\n",
      "dtype: int64\n"
     ]
    }
   ],
   "source": [
    "print('До обработки: \\n',df.isnull().sum())\n",
    "#print(df.groupby('education')['total_income'].median())\n",
    "#edu_medians = df.groupby('education')['total_income'].median()\n",
    "median_income = df['total_income'].median()\n",
    "\n",
    "#for row in range(len(df)):\n",
    "\n",
    "    \n",
    "avg_workdays_employed = df[(df['income_type'] != 'пенсионер') & (df['income_type'] != 'безработный')]['days_employed'].mean()\n",
    "#avg_workdays_unemployed = df[(df['income_type'] == 'пенсионер') | (df['income_type'] == 'безработный')]['days_employed'].mean()\n",
    "df['total_income'] = df['total_income'].fillna(median_income)\n",
    "df['days_employed'] = df['days_employed'].fillna(avg_workdays_employed)\n",
    "print('После обработки: \\n',df.isnull().sum())\n"
   ]
  },
  {
   "cell_type": "markdown",
   "metadata": {},
   "source": [
    "**Вывод**"
   ]
  },
  {
   "cell_type": "markdown",
   "metadata": {},
   "source": [
    "Пропущенные значения обнаружены в столбцах days_employed и total_income.\n",
    "Пропуски являются полностью случайными и могли возникнуть в результате ошибки заполнения.\n",
    "Значения заменены следующим образом: в total_income вместо пустых значений подставлено медианное значение дохода(из-за больших разбросов зарплат), в days employed - среднее значение стажа для устроенных на работу(т.к. для пенсионеров и безработных данные являются нереалистично завышенными)."
   ]
  },
  {
   "cell_type": "markdown",
   "metadata": {},
   "source": [
    "<div class=\"alert alert-block alert-warning\">\n",
    "<h2>Комментарий от ревьювера (принимаем к размышлению)</h2> \n",
    "    \n",
    "Заменять просто на медиану - это несколько усреднить все пропуски. И если стаж нас мало интересует - он в исследовании не заявлен, то доход не должен быть сильно искажен. Подумай, от какого параметра в нашем датасете зависит заработок)\n",
    "</div>"
   ]
  },
  {
   "cell_type": "markdown",
   "metadata": {},
   "source": [
    "<div class=\"alert alert-block alert-info\">\n",
    "\n",
    "<b>КОММЕНТАРИЙ ОТ УЧЕНИКА:</b>\n",
    "    <br>Изначально хотел в пустые значения подставлять медианы по типу занятости, но не знаю, как реализовать. Создал series с медианами по категории, а вот как написать функцию или пройтись итерацией по DataFrame - не доходит. Неплохим вариантом также является посчитать медиану в зависимости от образования, есть неплохая корреляция между уровнем образования и медианным доходом. \n",
    "</div>\n"
   ]
  },
  {
   "cell_type": "markdown",
   "metadata": {},
   "source": [
    "<div class=\"alert alert-block alert-success\">\n",
    "<h2>Комментарий от ревьювера V2</h2> \n",
    "\n",
    "Можно сделать вот так)    "
   ]
  },
  {
   "cell_type": "code",
   "execution_count": 3,
   "metadata": {},
   "outputs": [],
   "source": [
    "# код рквьювера\n",
    "#for type_unique in df_temp['income_type'].unique():\n",
    "    #df_temp.loc[(df_temp['total_income'].isna())&(df_temp['income_type'] ==type_unique), 'total_income'] = \\\n",
    "    #df_temp.loc[df_temp['income_type'] ==type_unique, 'total_income'].median()"
   ]
  },
  {
   "cell_type": "markdown",
   "metadata": {},
   "source": [
    "# Замена типа данных <a id='ch_2_2'></a>"
   ]
  },
  {
   "cell_type": "code",
   "execution_count": 4,
   "metadata": {
    "scrolled": true
   },
   "outputs": [
    {
     "name": "stdout",
     "output_type": "stream",
     "text": [
      "<class 'pandas.core.frame.DataFrame'>\n",
      "RangeIndex: 21525 entries, 0 to 21524\n",
      "Data columns (total 12 columns):\n",
      "children            21525 non-null int64\n",
      "days_employed       21525 non-null int64\n",
      "dob_years           21525 non-null int64\n",
      "education           21525 non-null object\n",
      "education_id        21525 non-null int64\n",
      "family_status       21525 non-null object\n",
      "family_status_id    21525 non-null int64\n",
      "gender              21525 non-null object\n",
      "income_type         21525 non-null object\n",
      "debt                21525 non-null int64\n",
      "total_income        21525 non-null int64\n",
      "purpose             21525 non-null object\n",
      "dtypes: int64(7), object(5)\n",
      "memory usage: 2.0+ MB\n"
     ]
    }
   ],
   "source": [
    "df['days_employed'] = df['days_employed'].astype('int')\n",
    "df['total_income'] = df['total_income'].astype('int')\n",
    "df.info()\n"
   ]
  },
  {
   "cell_type": "markdown",
   "metadata": {},
   "source": [
    "**Вывод**"
   ]
  },
  {
   "cell_type": "markdown",
   "metadata": {},
   "source": [
    "В DataFrame два столбца с вещественным типом данных: days_employed и total_imcome. В качестве метода перевода типа данных использован .astype()."
   ]
  },
  {
   "cell_type": "markdown",
   "metadata": {},
   "source": [
    "<div class=\"alert alert-block alert-success\">\n",
    "<h2>Комментарий от ревьювера (все здОрово)</h2> \n",
    "\n",
    "СОгласен)"
   ]
  },
  {
   "cell_type": "markdown",
   "metadata": {},
   "source": [
    "### Обработка дубликатов <a id='ch_2_3'></a>"
   ]
  },
  {
   "cell_type": "code",
   "execution_count": 5,
   "metadata": {},
   "outputs": [
    {
     "name": "stdout",
     "output_type": "stream",
     "text": [
      "<class 'pandas.core.frame.DataFrame'>\n",
      "RangeIndex: 21454 entries, 0 to 21453\n",
      "Data columns (total 12 columns):\n",
      "children            21454 non-null int64\n",
      "days_employed       21454 non-null int64\n",
      "dob_years           21454 non-null int64\n",
      "education           21454 non-null object\n",
      "education_id        21454 non-null int64\n",
      "family_status       21454 non-null object\n",
      "family_status_id    21454 non-null int64\n",
      "gender              21454 non-null object\n",
      "income_type         21454 non-null object\n",
      "debt                21454 non-null int64\n",
      "total_income        21454 non-null int64\n",
      "purpose             21454 non-null object\n",
      "dtypes: int64(7), object(5)\n",
      "memory usage: 2.0+ MB\n"
     ]
    }
   ],
   "source": [
    "df.duplicated().sum()\n",
    "df = df.drop_duplicates().reset_index(drop= True)\n",
    "df.duplicated().sum()\n",
    "df.info()"
   ]
  },
  {
   "cell_type": "markdown",
   "metadata": {},
   "source": [
    "**Вывод**"
   ]
  },
  {
   "cell_type": "markdown",
   "metadata": {},
   "source": [
    "В таблице наблюдается ~~54~~ 71 дубликат~~а~~. Найдены они с помощью метода .duplicated().sum(). Дубликаты удалены методом .drop_duplicates(). Индексы сброшены методом .reset_index(drop = True). Причиной появления подобных полных дубликатов может быть ошибка работы системы, при которой одна заявка оператора вносится в БД несколько раз, либо ошибка оператора, когда идентичные данные вносятся в БД несколько раз."
   ]
  },
  {
   "cell_type": "markdown",
   "metadata": {},
   "source": [
    "<div class=\"alert alert-block alert-danger\">\n",
    "<h2>Комментарий от ревьювера (недочет, который нужно доработать)</h2> \n",
    "    \n",
    "У нас в системе осталтсиь еще скрытые дубликаты, ИнтЕрСНо С чеМ Это СВЯзано)\n",
    "</div>"
   ]
  },
  {
   "cell_type": "markdown",
   "metadata": {},
   "source": [
    "<div class=\"alert alert-block alert-info\">\n",
    "\n",
    "<b>КОММЕНТАРИЙ ОТ УЧЕНИКА:</b>\n",
    "    Ты прав, почему-то я все основные изменения данных, связанные с артефактами, сделал в пункте с категоризацией. Не учёл нюанс, перебросил приведение поля с типом образования к нижнему регистру в первую ячейку\n",
    "</div>\n"
   ]
  },
  {
   "cell_type": "markdown",
   "metadata": {},
   "source": [
    "<div class=\"alert alert-block alert-success\">\n",
    "<h2>Комментарий от ревьювера V2</h2> \n",
    "\n",
    "Отлично)"
   ]
  },
  {
   "cell_type": "markdown",
   "metadata": {},
   "source": [
    "### Лемматизация <a id='ch_2_4'></a>"
   ]
  },
  {
   "cell_type": "code",
   "execution_count": 6,
   "metadata": {},
   "outputs": [],
   "source": [
    "#lemmas = m.lemmatize(df['purpose'])\n",
    "#print(df['purpose'].value_counts())\n",
    "def lemm(purpose):\n",
    "    return m.lemmatize(purpose)\n",
    "\n",
    "df['purpose_lemmatized'] = df['purpose'].apply(lemm)\n",
    "#print(df.head)"
   ]
  },
  {
   "cell_type": "markdown",
   "metadata": {},
   "source": [
    "**Вывод**"
   ]
  },
  {
   "cell_type": "markdown",
   "metadata": {},
   "source": [
    "Оптимальным способом при лемматизации кажется не проход циклом по строкам DataFrame, а написание функции лемматизации и применение ее методом apply к целевому столбцу."
   ]
  },
  {
   "cell_type": "markdown",
   "metadata": {},
   "source": [
    "<div class=\"alert alert-block alert-success\">\n",
    "<h2>Комментарий от ревьювера (все здОрово)</h2> \n",
    "\n",
    "Все верно)"
   ]
  },
  {
   "cell_type": "markdown",
   "metadata": {},
   "source": [
    "### Категоризация данных <a id='ch_2_5'></a>"
   ]
  },
  {
   "cell_type": "code",
   "execution_count": 7,
   "metadata": {
    "scrolled": true
   },
   "outputs": [],
   "source": [
    "#берем значения по модулю для отрицательных величин стажа\n",
    "df.loc[df['days_employed'] < 0, 'days_employed'] = df.loc[df['days_employed'] < 0, 'days_employed'] * (-1)\n",
    "#берем значения по модулю для отрицательного количества детей\n",
    "df.loc[df['children'] < 0, 'children'] = df.loc[df['children'] < 0, 'children'] * (-1)\n",
    "#удаляем артефакт в поле с полом клиента\n",
    "df = df.drop(df[df['gender'] == 'XNA'].index) \n",
    "#удаляем строки с возрастом 0 лет \n",
    "df = df.drop(df[df['dob_years'] == 0].index)\n",
    "\n",
    "#df['dob_years'] = df[df['dob_years'] != 0] \n",
    "#print(df.groupby('income_type')['debt'].sum()/df.groupby('income_type')['debt'].count(), df.groupby('income_type')['debt'].count())\n",
    "#print(df.groupby('family_status')['debt'].count())\n",
    "def have_children(amount):\n",
    "    if amount == 0:\n",
    "        return 'Детей нет'\n",
    "    return'Дети есть'\n",
    "\n",
    "def credit_purpose(purpose):\n",
    "    if any(i == 'автомобиль' for i in purpose):\n",
    "        return 'автомобиль'\n",
    "    elif any(i == 'свадьба' for i in purpose):\n",
    "        return 'свадьба'\n",
    "    elif any(i == 'образование' for i in purpose):\n",
    "        return 'образование'\n",
    "    elif any(i == 'недвижимость' or i == 'жилье' for i in purpose):\n",
    "        return 'недвижимость'\n",
    "    return 'другое'\n",
    "\n",
    "def income_amount(income):\n",
    "    if income < 50000:\n",
    "        return 'до 50 тысяч рублей'\n",
    "    elif 50000 <= income < 75000:\n",
    "        return '50-75 тысяч рублей'\n",
    "    elif 75000 <= income < 100000:\n",
    "        return '75-100 тысяч рублей'\n",
    "    elif 100000 <= income < 150000:\n",
    "        return '100-150 тысяч рублей'\n",
    "    elif 1500000 <= income < 200000:\n",
    "        return '150-200 тысяч рублей'\n",
    "    return 'более 200 тысяч рублей'\n",
    "#добавление столбцов с группировками по наличию детей, типу кредита, доходу\n",
    "df['have_childen'] = df['children'].apply(have_children)\n",
    "df['purpose_grouped'] = df['purpose_lemmatized'].apply(credit_purpose)\n",
    "df['income_grouped'] = df['total_income'].apply(income_amount)\n",
    "\n",
    "#словарь для кодов образования\n",
    "education_dict = df[['education', 'education_id']]\n",
    "education_dict = education_dict.drop_duplicates().reset_index(drop=True)\n",
    "#print(education_dict.sort_values('education_id', ascending = True))\n",
    "#словарь для семейного статуса\n",
    "family_stat_dict = df[['family_status', 'family_status_id']]\n",
    "family_stat_dict['family_status'] = family_stat_dict['family_status'].str.lower()\n",
    "family_stat_dict = family_stat_dict.drop_duplicates().reset_index(drop=True)\n",
    "#print(family_stat_dict.sort_values('family_status_id', ascending = True))\n",
    "\n",
    "#print(df.head(10))"
   ]
  },
  {
   "cell_type": "markdown",
   "metadata": {},
   "source": [
    "<div class=\"alert alert-block alert-warning\">\n",
    "<h2>Комментарий от ревьювера (принимаем к размышлению)</h2> \n",
    "    \n",
    "Смотри, Юпитер выдает предупреждение. Он боится, что мы не используем copy() или loc, можем потерять данные. Можно использовать copy() (спасибо, кэп!) или отключить предупреждения, если чувствуешь уверенность в своих действиях)\n",
    "\n",
    "    import warnings\n",
    "\n",
    "    warnings.filterwarnings('ignore')\n",
    "</div>"
   ]
  },
  {
   "cell_type": "markdown",
   "metadata": {},
   "source": [
    "**Вывод**"
   ]
  },
  {
   "cell_type": "markdown",
   "metadata": {},
   "source": [
    "Данные очищены от артефактов (XNA в колонке gender, нулевой возраст), выведены категории по признаку наличия детей, цели кредита (исходя их имеющихся лемм), уровню дохода. Заведены словари для типов образования (предварительно приведены к нижнему регистру) и семейного статуса."
   ]
  },
  {
   "cell_type": "markdown",
   "metadata": {},
   "source": [
    "<div class=\"alert alert-block alert-success\">\n",
    "<h2>Комментарий от ревьювера (все здОрово)</h2> \n",
    "\n",
    "Отличная часть, молодец) "
   ]
  },
  {
   "cell_type": "markdown",
   "metadata": {},
   "source": [
    "## Шаг 3. Ответьте на вопросы <a id='ch_3_1'></a>"
   ]
  },
  {
   "cell_type": "markdown",
   "metadata": {},
   "source": [
    "- Есть ли зависимость между наличием детей и возвратом кредита в срок?"
   ]
  },
  {
   "cell_type": "code",
   "execution_count": 8,
   "metadata": {},
   "outputs": [
    {
     "name": "stdout",
     "output_type": "stream",
     "text": [
      "               sum  count debt_rate\n",
      "              debt   debt          \n",
      "have_childen                       \n",
      "Детей нет     1058  14021     7.55%\n",
      "Дети есть      675   7331     9.21%\n"
     ]
    }
   ],
   "source": [
    "#answ_1 = df.groupby('have_childen')['debt'].sum()/df.groupby('have_childen')['debt'].count()\n",
    "#print(answ_1)\n",
    "#print('Среди клиентов с детьми должников больше в {:.3f}'.format(answ_1[1]/answ_1[0]), 'раза')\n",
    "pivot_1 = df.pivot_table(index='have_childen',  values = 'debt', aggfunc = ['sum', 'count'])\n",
    "pivot_1['debt_rate'] = (pivot_1['sum'] / pivot_1['count'])#.apply('{:.2%}'.format)\n",
    "pivot_1['debt_rate'] = pivot_1['debt_rate'].apply('{:.2%}'.format)\n",
    "print(pivot_1)"
   ]
  },
  {
   "cell_type": "markdown",
   "metadata": {},
   "source": [
    "**Вывод**"
   ]
  },
  {
   "cell_type": "markdown",
   "metadata": {},
   "source": [
    "Зависимость есть: среди клиентов с детьми на 2,21% больше должников."
   ]
  },
  {
   "cell_type": "markdown",
   "metadata": {},
   "source": [
    "- Есть ли зависимость между семейным положением и возвратом кредита в срок?"
   ]
  },
  {
   "cell_type": "code",
   "execution_count": 9,
   "metadata": {},
   "outputs": [
    {
     "name": "stdout",
     "output_type": "stream",
     "text": [
      "                       sum  count debt_rate\n",
      "                      debt   debt          \n",
      "family_status                              \n",
      "Не женат / не замужем  273   2794  9.770938\n",
      "в разводе               85   1185  7.172996\n",
      "вдовец / вдова          62    954  6.498952\n",
      "гражданский брак       386   4129  9.348511\n",
      "женат / замужем        927  12290  7.542718\n"
     ]
    }
   ],
   "source": [
    "#answ_2 = df.groupby('family_status')['debt'].sum()/df.groupby('family_status')['debt'].count()\n",
    "#print(answ_2.sort_values(ascending=True))\n",
    "pivot_2 = df.pivot_table(index='family_status',  values = 'debt', aggfunc = ['sum', 'count'])\n",
    "pivot_2['debt_rate'] = (pivot_2['sum'] / pivot_2['count'] * 100)\n",
    "print(pivot_2)"
   ]
  },
  {
   "cell_type": "markdown",
   "metadata": {},
   "source": [
    "**Вывод**"
   ]
  },
  {
   "cell_type": "markdown",
   "metadata": {},
   "source": [
    "Если рассматривать семейные положения \"гражданский брак\" и \"не женат/ не замужем\" как отдельные сущности, то зависимость имеется, у этих двух категорий относительное количество должников выше. Однако, имеет смысл учитывать категорию \"не женат/не замужем\" вместе с \"в разводе\", и \"гражданский брак\" вместе с \"женат/замужем\" ввиду их относительной смысловой близости. В таком случае зависимость не наблюдается."
   ]
  },
  {
   "cell_type": "markdown",
   "metadata": {},
   "source": [
    "- Есть ли зависимость между уровнем дохода и возвратом кредита в срок?"
   ]
  },
  {
   "cell_type": "code",
   "execution_count": 10,
   "metadata": {},
   "outputs": [
    {
     "name": "stdout",
     "output_type": "stream",
     "text": [
      "                        sum count debt_rate\n",
      "                       debt  debt          \n",
      "income_grouped                             \n",
      "100-150 тысяч рублей    658  7775  8.463023\n",
      "50-75 тысяч рублей      113  1486  7.604307\n",
      "75-100 тысяч рублей     217  2584  8.397833\n",
      "более 200 тысяч рублей  722  9137  7.901937\n",
      "до 50 тысяч рублей       23   370  6.216216\n"
     ]
    }
   ],
   "source": [
    "#answ_3 = df.groupby('income_grouped')['debt'].sum()/df.groupby('income_grouped')['debt'].count()\n",
    "#print(answ_3.sort_values(ascending=True))\n",
    "pivot_3 = df.pivot_table(index='income_grouped',  values = 'debt', aggfunc = ['sum', 'count'])\n",
    "pivot_3['debt_rate'] = (pivot_3['sum'] / pivot_3['count'] * 100)\n",
    "print(pivot_3)"
   ]
  },
  {
   "cell_type": "markdown",
   "metadata": {},
   "source": [
    "**Вывод**"
   ]
  },
  {
   "cell_type": "markdown",
   "metadata": {},
   "source": [
    "Зависимость имеется. Парадоксально, но количество должников увеличивается с увеличением роста доходов."
   ]
  },
  {
   "cell_type": "markdown",
   "metadata": {},
   "source": [
    "- Как разные цели кредита влияют на его возврат в срок?"
   ]
  },
  {
   "cell_type": "code",
   "execution_count": 11,
   "metadata": {},
   "outputs": [
    {
     "name": "stdout",
     "output_type": "stream",
     "text": [
      "                 sum  count debt_rate\n",
      "                debt   debt          \n",
      "purpose_grouped                      \n",
      "автомобиль       400   4284  9.337068\n",
      "недвижимость     779  10763  7.237759\n",
      "образование      370   3995  9.261577\n",
      "свадьба          184   2310  7.965368\n"
     ]
    }
   ],
   "source": [
    "#answ_4 = df.groupby('purpose_grouped')['debt'].sum()/df.groupby('purpose_grouped')['debt'].count()\n",
    "#print(answ_4.sort_values(ascending=True))\n",
    "pivot_4 = df.pivot_table(index='purpose_grouped',  values = 'debt', aggfunc = ['sum', 'count'])\n",
    "pivot_4['debt_rate'] = (pivot_4['sum'] / pivot_4['count'] * 100)\n",
    "print(pivot_4)"
   ]
  },
  {
   "cell_type": "markdown",
   "metadata": {},
   "source": [
    "**Вывод**"
   ]
  },
  {
   "cell_type": "markdown",
   "metadata": {},
   "source": [
    "Возврат в срок зависит от цели кредита: чаще всего долги имеются по кредитам на авто и образование. Реже всего просрочка имеется по кредитам на недвижимость."
   ]
  },
  {
   "cell_type": "markdown",
   "metadata": {},
   "source": [
    "<div class=\"alert alert-block alert-danger\">\n",
    "<h2>Комментарий от ревьювера (недочет, который нужно доработать)</h2> \n",
    "    \n",
    "Супер, ты прекрасно освоил группировки) Хочу обратить внимание на очень лаконичные выводы, замечательные рассуждения, грамотный код)\n",
    "    \n",
    "Я обратил внимание, что в своем исследовании ты не используешь сводные таблицы. А это очень важный и популярный инструмент, без которого в реальной работе просто никуда) Давай исследуем зависимости при помощи сводных таблиц. Пускай в индексах у нас будет категория, а в столбцах - число заемщиков в данной категории, число должников и процент должников. Не посчитай это придиркой, но мне важно видеть, что ты освоил сводные таблицы,дальше без них ну никак)\n",
    "</div>"
   ]
  },
  {
   "cell_type": "markdown",
   "metadata": {},
   "source": [
    "<div class=\"alert alert-block alert-info\">\n",
    "\n",
    "<b>КОММЕНТАРИЙ ОТ УЧЕНИКА:</b>\n",
    "    <br> Сводники добавил. Единственный возникший вопрос: а возможно менять формат колонок? Stackoverflow не помог\n",
    "</div>"
   ]
  },
  {
   "cell_type": "markdown",
   "metadata": {},
   "source": [
    "<div class=\"alert alert-block alert-success\">\n",
    "<h2>Комментарий от ревьювера V2</h2> \n",
    "\n",
    "Честно говоря, я немного не понял вопрос) Спроси у преподавателя по проектам в общем чате)"
   ]
  },
  {
   "cell_type": "markdown",
   "metadata": {},
   "source": [
    "## Шаг 4. Общий вывод<a id='ch_4_1'></a>"
   ]
  },
  {
   "cell_type": "markdown",
   "metadata": {},
   "source": [
    "Проведя исследование, пришли к выводу, что наличие детей негативно влияет на факт погашения кредита в срок. Однозначной зависимости вероятности выхода на просрочку от семейного положения не найдено, т.к. есть группы семейных положений, имеющие отличающиеся показатели, но пересекающиеся в смысловом плане(например, женатые и состоящие в гражданском браке). Интересным также является то, что с ростом доходов клиенты реже гасят кредит без долгов. Наименее надежными для банка являются кредиты на образование и автомобиль - по ним должников больше всего."
   ]
  },
  {
   "cell_type": "markdown",
   "metadata": {},
   "source": [
    "## <span style=\"color:magenta\">В заключении)</span>\n",
    "\n",
    "Мне очень понравилась твоя работа! Все рассуждения верные. Очень логичные и осмысленные. Ничего лишнего, все по полкам. \n",
    "\n",
    "Ты показываешь хорошее владение всем изучаемым в модуле материалом. Уверенно пользуешься pandas, строишь отличные наглядные таблички. Делаешь четкие обоснованные выводы.\n",
    "\n",
    "Поисправляй недочеты (дубликаты, сводные таблицы), и проект будет просто класс!\n",
    "\n",
    "Короче, молодец! Жду твоих исправлений)\n",
    "\n",
    "<img src=\"https://avatars.mds.yandex.net/get-pdb/2402172/12f53009-3c0e-4655-87c6-606d139bbf8e/s1200?webp=false\" width=\"300\">"
   ]
  },
  {
   "cell_type": "markdown",
   "metadata": {},
   "source": [
    "## Чек-лист готовности проекта\n",
    "\n",
    "Поставьте 'x' в выполненных пунктах. Далее нажмите Shift+Enter."
   ]
  },
  {
   "cell_type": "markdown",
   "metadata": {},
   "source": [
    "- [x]  открыт файл;\n",
    "- [x]  файл изучен;\n",
    "- [x]  определены пропущенные значения;\n",
    "- [x]  заполнены пропущенные значения;\n",
    "- [x]  есть пояснение, какие пропущенные значения обнаружены;\n",
    "- [x]  описаны возможные причины появления пропусков в данных;\n",
    "- [x]  объяснено, по какому принципу заполнены пропуски;\n",
    "- [x]  заменен вещественный тип данных на целочисленный;\n",
    "- [x]  есть пояснение, какой метод используется для изменения типа данных и почему;\n",
    "- [x]  удалены дубликаты;\n",
    "- [x]  есть пояснение, какой метод используется для поиска и удаления дубликатов;\n",
    "- [x]  описаны возможные причины появления дубликатов в данных;\n",
    "- [x]  выделены леммы в значениях столбца с целями получения кредита;\n",
    "- [x]  описан процесс лемматизации;\n",
    "- [x]  данные категоризированы;\n",
    "- [x]  есть объяснение принципа категоризации данных;\n",
    "- [x]  есть ответ на вопрос: \"Есть ли зависимость между наличием детей и возвратом кредита в срок?\";\n",
    "- [x]  есть ответ на вопрос: \"Есть ли зависимость между семейным положением и возвратом кредита в срок?\";\n",
    "- [x]  есть ответ на вопрос: \"Есть ли зависимость между уровнем дохода и возвратом кредита в срок?\";\n",
    "- [x]  есть ответ на вопрос: \"Как разные цели кредита влияют на его возврат в срок?\";\n",
    "- [x]  в каждом этапе есть выводы;\n",
    "- [x]  есть общий вывод."
   ]
  },
  {
   "cell_type": "code",
   "execution_count": null,
   "metadata": {},
   "outputs": [],
   "source": []
  }
 ],
 "metadata": {
  "ExecuteTimeLog": [
   {
    "duration": 882,
    "start_time": "2022-02-16T21:18:51.990Z"
   },
   {
    "duration": 48,
    "start_time": "2022-02-16T21:18:52.876Z"
   },
   {
    "duration": 4,
    "start_time": "2022-02-16T21:18:52.927Z"
   },
   {
    "duration": 20,
    "start_time": "2022-02-16T21:18:52.934Z"
   },
   {
    "duration": 98,
    "start_time": "2022-02-16T21:18:52.956Z"
   },
   {
    "duration": 5402,
    "start_time": "2022-02-16T21:18:53.056Z"
   },
   {
    "duration": 179,
    "start_time": "2022-02-16T21:18:58.462Z"
   },
   {
    "duration": 471,
    "start_time": "2022-02-16T21:18:58.646Z"
   },
   {
    "duration": 468,
    "start_time": "2022-02-16T21:18:58.653Z"
   },
   {
    "duration": 468,
    "start_time": "2022-02-16T21:18:58.656Z"
   },
   {
    "duration": 465,
    "start_time": "2022-02-16T21:18:58.661Z"
   },
   {
    "duration": 30,
    "start_time": "2022-02-16T21:25:20.205Z"
   },
   {
    "duration": 350,
    "start_time": "2022-02-16T21:25:43.627Z"
   },
   {
    "duration": 119,
    "start_time": "2022-02-16T21:27:23.739Z"
   },
   {
    "duration": 35,
    "start_time": "2022-02-16T21:27:32.644Z"
   },
   {
    "duration": 883,
    "start_time": "2022-02-16T21:27:49.624Z"
   },
   {
    "duration": 36,
    "start_time": "2022-02-16T21:28:15.910Z"
   },
   {
    "duration": 36,
    "start_time": "2022-02-16T21:28:18.227Z"
   },
   {
    "duration": 42,
    "start_time": "2022-02-16T21:28:20.603Z"
   },
   {
    "duration": 352,
    "start_time": "2022-02-16T21:40:50.041Z"
   },
   {
    "duration": 34,
    "start_time": "2022-02-16T21:41:01.589Z"
   },
   {
    "duration": 370,
    "start_time": "2022-02-16T21:43:20.684Z"
   },
   {
    "duration": 36,
    "start_time": "2022-02-16T21:43:26.699Z"
   },
   {
    "duration": 354,
    "start_time": "2022-02-16T21:43:34.739Z"
   },
   {
    "duration": 366,
    "start_time": "2022-02-16T21:43:46.490Z"
   },
   {
    "duration": 399,
    "start_time": "2022-02-16T21:43:57.864Z"
   },
   {
    "duration": 474,
    "start_time": "2022-02-16T21:44:03.103Z"
   },
   {
    "duration": 472,
    "start_time": "2022-02-16T21:47:20.612Z"
   },
   {
    "duration": 346,
    "start_time": "2022-02-16T21:47:31.518Z"
   },
   {
    "duration": 351,
    "start_time": "2022-02-16T21:47:42.243Z"
   },
   {
    "duration": 353,
    "start_time": "2022-02-16T21:47:46.083Z"
   },
   {
    "duration": 501,
    "start_time": "2022-02-16T21:49:34.416Z"
   },
   {
    "duration": 713,
    "start_time": "2022-02-16T21:49:43.662Z"
   },
   {
    "duration": 796,
    "start_time": "2022-02-16T21:50:01.931Z"
   },
   {
    "duration": 33,
    "start_time": "2022-02-16T21:51:24.681Z"
   },
   {
    "duration": 702,
    "start_time": "2022-02-16T21:52:43.828Z"
   },
   {
    "duration": 708,
    "start_time": "2022-02-16T21:52:51.721Z"
   },
   {
    "duration": 36,
    "start_time": "2022-02-16T21:52:58.419Z"
   },
   {
    "duration": 714,
    "start_time": "2022-02-16T21:55:09.704Z"
   },
   {
    "duration": 36,
    "start_time": "2022-02-16T21:58:56.500Z"
   },
   {
    "duration": 722,
    "start_time": "2022-02-16T21:59:01.782Z"
   },
   {
    "duration": 659,
    "start_time": "2022-02-16T22:01:50.437Z"
   },
   {
    "duration": 1465,
    "start_time": "2022-02-16T22:02:25.355Z"
   },
   {
    "duration": 134,
    "start_time": "2022-02-16T22:02:29.478Z"
   },
   {
    "duration": 37,
    "start_time": "2022-02-16T22:02:32.775Z"
   },
   {
    "duration": 132,
    "start_time": "2022-02-16T22:02:53.862Z"
   },
   {
    "duration": 218,
    "start_time": "2022-02-16T22:02:57.434Z"
   },
   {
    "duration": 376,
    "start_time": "2022-02-16T22:03:11.067Z"
   },
   {
    "duration": 354,
    "start_time": "2022-02-16T22:03:19.233Z"
   },
   {
    "duration": 376,
    "start_time": "2022-02-16T22:03:22.086Z"
   },
   {
    "duration": 376,
    "start_time": "2022-02-16T22:03:27.968Z"
   },
   {
    "duration": 352,
    "start_time": "2022-02-16T22:03:31.783Z"
   },
   {
    "duration": 356,
    "start_time": "2022-02-16T22:03:38.056Z"
   },
   {
    "duration": 34,
    "start_time": "2022-02-16T22:05:29.385Z"
   },
   {
    "duration": 38,
    "start_time": "2022-02-16T22:06:17.807Z"
   },
   {
    "duration": 35,
    "start_time": "2022-02-16T22:06:29.827Z"
   },
   {
    "duration": 38,
    "start_time": "2022-02-16T22:06:45.839Z"
   },
   {
    "duration": 369,
    "start_time": "2022-02-16T22:06:53.950Z"
   },
   {
    "duration": 357,
    "start_time": "2022-02-16T22:06:57.397Z"
   },
   {
    "duration": 353,
    "start_time": "2022-02-16T22:07:08.210Z"
   },
   {
    "duration": 33,
    "start_time": "2022-02-16T22:07:15.173Z"
   },
   {
    "duration": 39,
    "start_time": "2022-02-16T22:07:17.900Z"
   },
   {
    "duration": 845,
    "start_time": "2022-02-22T19:45:32.168Z"
   },
   {
    "duration": 30,
    "start_time": "2022-02-22T19:45:33.016Z"
   },
   {
    "duration": 3,
    "start_time": "2022-02-22T19:45:33.062Z"
   },
   {
    "duration": 18,
    "start_time": "2022-02-22T19:45:33.067Z"
   },
   {
    "duration": 89,
    "start_time": "2022-02-22T19:45:33.087Z"
   },
   {
    "duration": 5094,
    "start_time": "2022-02-22T19:45:33.178Z"
   },
   {
    "duration": 189,
    "start_time": "2022-02-22T19:45:38.275Z"
   },
   {
    "duration": 39,
    "start_time": "2022-02-22T19:45:38.468Z"
   },
   {
    "duration": 57,
    "start_time": "2022-02-22T19:45:38.510Z"
   },
   {
    "duration": 41,
    "start_time": "2022-02-22T19:45:38.570Z"
   },
   {
    "duration": 61,
    "start_time": "2022-02-22T19:45:38.613Z"
   }
  ],
  "kernelspec": {
   "display_name": "Python 3",
   "language": "python",
   "name": "python3"
  },
  "language_info": {
   "codemirror_mode": {
    "name": "ipython",
    "version": 3
   },
   "file_extension": ".py",
   "mimetype": "text/x-python",
   "name": "python",
   "nbconvert_exporter": "python",
   "pygments_lexer": "ipython3",
   "version": "3.7.8"
  },
  "toc": {
   "base_numbering": 1,
   "nav_menu": {},
   "number_sections": false,
   "sideBar": true,
   "skip_h1_title": true,
   "title_cell": "Table of Contents",
   "title_sidebar": "Contents",
   "toc_cell": false,
   "toc_position": {},
   "toc_section_display": true,
   "toc_window_display": false
  }
 },
 "nbformat": 4,
 "nbformat_minor": 2
}
