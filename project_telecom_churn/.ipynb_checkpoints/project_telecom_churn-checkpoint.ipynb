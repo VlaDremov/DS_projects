{
 "cells": [
  {
   "cell_type": "markdown",
   "metadata": {},
   "source": [
    "<h1>Содержание<span class=\"tocSkip\"></span></h1>\n",
    "<div class=\"toc\"><li><span><a href=\"#Описание задачи\" data-toc-modified-id=\"Описание задачи-1\"><span class=\"toc-item-num\">1&nbsp;&nbsp;</span>Описание задачи</a></span></li><li><span><a href=\"#Исследовательский анализ данных\" data-toc-modified-id=\"Исследовательский анализ данных-2\"><span class=\"toc-item-num\">2&nbsp;&nbsp;</span>Исследовательский анализ данных</a></span></li><li><span><a href=\"#Подготовка к моделированию\" data-toc-modified-id=\"Подготовка к моделированию-3\"><span class=\"toc-item-num\">3&nbsp;&nbsp;</span>Подготовка к моделированию</a></span></li><li><span><a href=\"#Построение моделей\" data-toc-modified-id=\"Построение моделей-4\"><span class=\"toc-item-num\">4&nbsp;&nbsp;</span>Построение моделей</a></span></li><li><span><a href=\"#Выводы\" data-toc-modified-id=\"Выводы-5\"><span class=\"toc-item-num\">5&nbsp;&nbsp;</span>Выводы</a></span></li></div>"
   ]
  },
  {
   "cell_type": "markdown",
   "metadata": {},
   "source": [
    "# Предсказание оттока клиентов оператора связи\n",
    "\n",
    "\n",
    "## Описание задачи\n",
    "Оператор связи «Ниединогоразрыва.ком» хочет научиться прогнозировать отток клиентов. Если выяснится, что пользователь планирует уйти, ему будут предложены промокоды и специальные условия. Команда оператора собрала персональные данные о некоторых клиентах, информацию об их тарифах и договорах.\n",
    "\n",
    "Оператор предоставляет два основных типа услуг: \n",
    "\n",
    "1. Стационарную телефонную связь. Возможно подключение телефонного аппарата к нескольким линиям одновременно.\n",
    "2. Интернет. Подключение может быть двух типов: через телефонную линию (DSL*,* от англ. *digital subscriber line*, «цифровая абонентская линия») или оптоволоконный кабель (*Fiber optic*).  \n",
    "\n",
    "Также доступны такие услуги:\n",
    "\n",
    "- Интернет-безопасность: антивирус (*DeviceProtection*) и блокировка небезопасных сайтов (*OnlineSecurity*);\n",
    "- Выделенная линия технической поддержки (*TechSupport*);\n",
    "- Облачное хранилище файлов для резервного копирования данных (*OnlineBackup*);\n",
    "- Стриминговое телевидение (*StreamingTV*) и каталог фильмов (*StreamingMovies*).\n",
    "\n",
    "За услуги клиенты могут платить каждый месяц или заключить договор на 1–2 года. Доступны различные способы расчёта и возможность получения электронного чека.\n",
    "\n",
    "- `contract.csv` — информация о договоре;\n",
    "- `personal.csv` — персональные данные клиента;\n",
    "- `internet.csv` — информация об интернет-услугах;\n",
    "- `phone.csv` — информация об услугах телефонии."
   ]
  },
  {
   "cell_type": "markdown",
   "metadata": {},
   "source": [
    "## Исследовательский анализ данных"
   ]
  },
  {
   "cell_type": "markdown",
   "metadata": {},
   "source": [
    "\n",
    "Для начала проверим, есть ли пропуски в данных. Заодно в таблице contract приведем даты к соответствующему формату, и создадим отдельно поле с таргетом."
   ]
  },
  {
   "cell_type": "code",
   "execution_count": 1,
   "metadata": {},
   "outputs": [
    {
     "data": {
      "text/html": [
       "<div>\n",
       "<style scoped>\n",
       "    .dataframe tbody tr th:only-of-type {\n",
       "        vertical-align: middle;\n",
       "    }\n",
       "\n",
       "    .dataframe tbody tr th {\n",
       "        vertical-align: top;\n",
       "    }\n",
       "\n",
       "    .dataframe thead th {\n",
       "        text-align: right;\n",
       "    }\n",
       "</style>\n",
       "<table border=\"1\" class=\"dataframe\">\n",
       "  <thead>\n",
       "    <tr style=\"text-align: right;\">\n",
       "      <th></th>\n",
       "      <th>customerID</th>\n",
       "      <th>BeginDate</th>\n",
       "      <th>EndDate</th>\n",
       "      <th>Type</th>\n",
       "      <th>PaperlessBilling</th>\n",
       "      <th>PaymentMethod</th>\n",
       "      <th>MonthlyCharges</th>\n",
       "      <th>TotalCharges</th>\n",
       "      <th>Target</th>\n",
       "    </tr>\n",
       "  </thead>\n",
       "  <tbody>\n",
       "    <tr>\n",
       "      <td>0</td>\n",
       "      <td>7590-VHVEG</td>\n",
       "      <td>2020-01-01</td>\n",
       "      <td>NaT</td>\n",
       "      <td>Month-to-month</td>\n",
       "      <td>Yes</td>\n",
       "      <td>Electronic check</td>\n",
       "      <td>29.85</td>\n",
       "      <td>29.85</td>\n",
       "      <td>0</td>\n",
       "    </tr>\n",
       "    <tr>\n",
       "      <td>1</td>\n",
       "      <td>5575-GNVDE</td>\n",
       "      <td>2017-04-01</td>\n",
       "      <td>NaT</td>\n",
       "      <td>One year</td>\n",
       "      <td>No</td>\n",
       "      <td>Mailed check</td>\n",
       "      <td>56.95</td>\n",
       "      <td>1889.5</td>\n",
       "      <td>0</td>\n",
       "    </tr>\n",
       "    <tr>\n",
       "      <td>2</td>\n",
       "      <td>3668-QPYBK</td>\n",
       "      <td>2019-10-01</td>\n",
       "      <td>2019-12-01</td>\n",
       "      <td>Month-to-month</td>\n",
       "      <td>Yes</td>\n",
       "      <td>Mailed check</td>\n",
       "      <td>53.85</td>\n",
       "      <td>108.15</td>\n",
       "      <td>1</td>\n",
       "    </tr>\n",
       "    <tr>\n",
       "      <td>3</td>\n",
       "      <td>7795-CFOCW</td>\n",
       "      <td>2016-05-01</td>\n",
       "      <td>NaT</td>\n",
       "      <td>One year</td>\n",
       "      <td>No</td>\n",
       "      <td>Bank transfer (automatic)</td>\n",
       "      <td>42.30</td>\n",
       "      <td>1840.75</td>\n",
       "      <td>0</td>\n",
       "    </tr>\n",
       "    <tr>\n",
       "      <td>4</td>\n",
       "      <td>9237-HQITU</td>\n",
       "      <td>2019-09-01</td>\n",
       "      <td>2019-11-01</td>\n",
       "      <td>Month-to-month</td>\n",
       "      <td>Yes</td>\n",
       "      <td>Electronic check</td>\n",
       "      <td>70.70</td>\n",
       "      <td>151.65</td>\n",
       "      <td>1</td>\n",
       "    </tr>\n",
       "  </tbody>\n",
       "</table>\n",
       "</div>"
      ],
      "text/plain": [
       "   customerID  BeginDate    EndDate            Type PaperlessBilling  \\\n",
       "0  7590-VHVEG 2020-01-01        NaT  Month-to-month              Yes   \n",
       "1  5575-GNVDE 2017-04-01        NaT        One year               No   \n",
       "2  3668-QPYBK 2019-10-01 2019-12-01  Month-to-month              Yes   \n",
       "3  7795-CFOCW 2016-05-01        NaT        One year               No   \n",
       "4  9237-HQITU 2019-09-01 2019-11-01  Month-to-month              Yes   \n",
       "\n",
       "               PaymentMethod  MonthlyCharges TotalCharges  Target  \n",
       "0           Electronic check           29.85        29.85       0  \n",
       "1               Mailed check           56.95       1889.5       0  \n",
       "2               Mailed check           53.85       108.15       1  \n",
       "3  Bank transfer (automatic)           42.30      1840.75       0  \n",
       "4           Electronic check           70.70       151.65       1  "
      ]
     },
     "metadata": {},
     "output_type": "display_data"
    },
    {
     "name": "stdout",
     "output_type": "stream",
     "text": [
      "<class 'pandas.core.frame.DataFrame'>\n",
      "RangeIndex: 7043 entries, 0 to 7042\n",
      "Data columns (total 9 columns):\n",
      "customerID          7043 non-null object\n",
      "BeginDate           7043 non-null datetime64[ns]\n",
      "EndDate             1869 non-null datetime64[ns]\n",
      "Type                7043 non-null object\n",
      "PaperlessBilling    7043 non-null object\n",
      "PaymentMethod       7043 non-null object\n",
      "MonthlyCharges      7043 non-null float64\n",
      "TotalCharges        7043 non-null object\n",
      "Target              7043 non-null int64\n",
      "dtypes: datetime64[ns](2), float64(1), int64(1), object(5)\n",
      "memory usage: 495.3+ KB\n"
     ]
    }
   ],
   "source": [
    "import pandas as pd\n",
    "import numpy as np\n",
    "import matplotlib.pyplot as plt\n",
    "from sklearn.model_selection import train_test_split\n",
    "from sklearn.preprocessing import StandardScaler\n",
    "from sklearn.linear_model import LogisticRegression\n",
    "from sklearn.ensemble import RandomForestClassifier\n",
    "from sklearn.tree import DecisionTreeClassifier\n",
    "from sklearn.linear_model import RidgeClassifier\n",
    "from xgboost import XGBClassifier\n",
    "from lightgbm import LGBMClassifier\n",
    "from catboost import CatBoostClassifier\n",
    "from sklearn.linear_model import SGDClassifier\n",
    "from sklearn.ensemble import VotingClassifier\n",
    "from sklearn.metrics import mean_absolute_error\n",
    "from sklearn.metrics import f1_score\n",
    "from sklearn.metrics import accuracy_score\n",
    "from sklearn.metrics import roc_auc_score\n",
    "from sklearn.utils import shuffle\n",
    "import warnings\n",
    "warnings.filterwarnings('ignore')\n",
    "\n",
    "contract = pd.read_csv('/datasets/final_provider/contract.csv')\n",
    "personal = pd.read_csv('/datasets/final_provider/personal.csv')\n",
    "internet = pd.read_csv('/datasets/final_provider/internet.csv')\n",
    "phone = pd.read_csv('/datasets/final_provider/phone.csv')\n",
    "\n",
    "contract['BeginDate'] = pd.to_datetime(contract['BeginDate'], format = '%Y-%m-%d')\n",
    "contract['Target'] = np.where(contract['EndDate'] == \"No\", 0, 1)\n",
    "contract['EndDate'] =   contract['EndDate'].replace('No', np.nan)    \n",
    "contract['EndDate'] = pd.to_datetime(contract['EndDate'], format = '%Y-%m-%d')\n",
    "display(contract.head())\n",
    "contract.describe()\n",
    "contract.info()\n"
   ]
  },
  {
   "cell_type": "code",
   "execution_count": 2,
   "metadata": {},
   "outputs": [
    {
     "data": {
      "text/html": [
       "<div>\n",
       "<style scoped>\n",
       "    .dataframe tbody tr th:only-of-type {\n",
       "        vertical-align: middle;\n",
       "    }\n",
       "\n",
       "    .dataframe tbody tr th {\n",
       "        vertical-align: top;\n",
       "    }\n",
       "\n",
       "    .dataframe thead th {\n",
       "        text-align: right;\n",
       "    }\n",
       "</style>\n",
       "<table border=\"1\" class=\"dataframe\">\n",
       "  <thead>\n",
       "    <tr style=\"text-align: right;\">\n",
       "      <th></th>\n",
       "      <th>customerID</th>\n",
       "      <th>gender</th>\n",
       "      <th>SeniorCitizen</th>\n",
       "      <th>Partner</th>\n",
       "      <th>Dependents</th>\n",
       "    </tr>\n",
       "  </thead>\n",
       "  <tbody>\n",
       "    <tr>\n",
       "      <td>0</td>\n",
       "      <td>7590-VHVEG</td>\n",
       "      <td>Female</td>\n",
       "      <td>0</td>\n",
       "      <td>Yes</td>\n",
       "      <td>No</td>\n",
       "    </tr>\n",
       "    <tr>\n",
       "      <td>1</td>\n",
       "      <td>5575-GNVDE</td>\n",
       "      <td>Male</td>\n",
       "      <td>0</td>\n",
       "      <td>No</td>\n",
       "      <td>No</td>\n",
       "    </tr>\n",
       "    <tr>\n",
       "      <td>2</td>\n",
       "      <td>3668-QPYBK</td>\n",
       "      <td>Male</td>\n",
       "      <td>0</td>\n",
       "      <td>No</td>\n",
       "      <td>No</td>\n",
       "    </tr>\n",
       "    <tr>\n",
       "      <td>3</td>\n",
       "      <td>7795-CFOCW</td>\n",
       "      <td>Male</td>\n",
       "      <td>0</td>\n",
       "      <td>No</td>\n",
       "      <td>No</td>\n",
       "    </tr>\n",
       "    <tr>\n",
       "      <td>4</td>\n",
       "      <td>9237-HQITU</td>\n",
       "      <td>Female</td>\n",
       "      <td>0</td>\n",
       "      <td>No</td>\n",
       "      <td>No</td>\n",
       "    </tr>\n",
       "  </tbody>\n",
       "</table>\n",
       "</div>"
      ],
      "text/plain": [
       "   customerID  gender  SeniorCitizen Partner Dependents\n",
       "0  7590-VHVEG  Female              0     Yes         No\n",
       "1  5575-GNVDE    Male              0      No         No\n",
       "2  3668-QPYBK    Male              0      No         No\n",
       "3  7795-CFOCW    Male              0      No         No\n",
       "4  9237-HQITU  Female              0      No         No"
      ]
     },
     "metadata": {},
     "output_type": "display_data"
    },
    {
     "name": "stdout",
     "output_type": "stream",
     "text": [
      "<class 'pandas.core.frame.DataFrame'>\n",
      "RangeIndex: 7043 entries, 0 to 7042\n",
      "Data columns (total 5 columns):\n",
      "customerID       7043 non-null object\n",
      "gender           7043 non-null object\n",
      "SeniorCitizen    7043 non-null int64\n",
      "Partner          7043 non-null object\n",
      "Dependents       7043 non-null object\n",
      "dtypes: int64(1), object(4)\n",
      "memory usage: 275.2+ KB\n"
     ]
    }
   ],
   "source": [
    "display(personal.head())\n",
    "#personal.describe()\n",
    "personal.info()"
   ]
  },
  {
   "cell_type": "code",
   "execution_count": 3,
   "metadata": {},
   "outputs": [
    {
     "data": {
      "text/html": [
       "<div>\n",
       "<style scoped>\n",
       "    .dataframe tbody tr th:only-of-type {\n",
       "        vertical-align: middle;\n",
       "    }\n",
       "\n",
       "    .dataframe tbody tr th {\n",
       "        vertical-align: top;\n",
       "    }\n",
       "\n",
       "    .dataframe thead th {\n",
       "        text-align: right;\n",
       "    }\n",
       "</style>\n",
       "<table border=\"1\" class=\"dataframe\">\n",
       "  <thead>\n",
       "    <tr style=\"text-align: right;\">\n",
       "      <th></th>\n",
       "      <th>customerID</th>\n",
       "      <th>InternetService</th>\n",
       "      <th>OnlineSecurity</th>\n",
       "      <th>OnlineBackup</th>\n",
       "      <th>DeviceProtection</th>\n",
       "      <th>TechSupport</th>\n",
       "      <th>StreamingTV</th>\n",
       "      <th>StreamingMovies</th>\n",
       "    </tr>\n",
       "  </thead>\n",
       "  <tbody>\n",
       "    <tr>\n",
       "      <td>0</td>\n",
       "      <td>7590-VHVEG</td>\n",
       "      <td>DSL</td>\n",
       "      <td>No</td>\n",
       "      <td>Yes</td>\n",
       "      <td>No</td>\n",
       "      <td>No</td>\n",
       "      <td>No</td>\n",
       "      <td>No</td>\n",
       "    </tr>\n",
       "    <tr>\n",
       "      <td>1</td>\n",
       "      <td>5575-GNVDE</td>\n",
       "      <td>DSL</td>\n",
       "      <td>Yes</td>\n",
       "      <td>No</td>\n",
       "      <td>Yes</td>\n",
       "      <td>No</td>\n",
       "      <td>No</td>\n",
       "      <td>No</td>\n",
       "    </tr>\n",
       "    <tr>\n",
       "      <td>2</td>\n",
       "      <td>3668-QPYBK</td>\n",
       "      <td>DSL</td>\n",
       "      <td>Yes</td>\n",
       "      <td>Yes</td>\n",
       "      <td>No</td>\n",
       "      <td>No</td>\n",
       "      <td>No</td>\n",
       "      <td>No</td>\n",
       "    </tr>\n",
       "    <tr>\n",
       "      <td>3</td>\n",
       "      <td>7795-CFOCW</td>\n",
       "      <td>DSL</td>\n",
       "      <td>Yes</td>\n",
       "      <td>No</td>\n",
       "      <td>Yes</td>\n",
       "      <td>Yes</td>\n",
       "      <td>No</td>\n",
       "      <td>No</td>\n",
       "    </tr>\n",
       "    <tr>\n",
       "      <td>4</td>\n",
       "      <td>9237-HQITU</td>\n",
       "      <td>Fiber optic</td>\n",
       "      <td>No</td>\n",
       "      <td>No</td>\n",
       "      <td>No</td>\n",
       "      <td>No</td>\n",
       "      <td>No</td>\n",
       "      <td>No</td>\n",
       "    </tr>\n",
       "  </tbody>\n",
       "</table>\n",
       "</div>"
      ],
      "text/plain": [
       "   customerID InternetService OnlineSecurity OnlineBackup DeviceProtection  \\\n",
       "0  7590-VHVEG             DSL             No          Yes               No   \n",
       "1  5575-GNVDE             DSL            Yes           No              Yes   \n",
       "2  3668-QPYBK             DSL            Yes          Yes               No   \n",
       "3  7795-CFOCW             DSL            Yes           No              Yes   \n",
       "4  9237-HQITU     Fiber optic             No           No               No   \n",
       "\n",
       "  TechSupport StreamingTV StreamingMovies  \n",
       "0          No          No              No  \n",
       "1          No          No              No  \n",
       "2          No          No              No  \n",
       "3         Yes          No              No  \n",
       "4          No          No              No  "
      ]
     },
     "metadata": {},
     "output_type": "display_data"
    },
    {
     "name": "stdout",
     "output_type": "stream",
     "text": [
      "<class 'pandas.core.frame.DataFrame'>\n",
      "RangeIndex: 5517 entries, 0 to 5516\n",
      "Data columns (total 8 columns):\n",
      "customerID          5517 non-null object\n",
      "InternetService     5517 non-null object\n",
      "OnlineSecurity      5517 non-null object\n",
      "OnlineBackup        5517 non-null object\n",
      "DeviceProtection    5517 non-null object\n",
      "TechSupport         5517 non-null object\n",
      "StreamingTV         5517 non-null object\n",
      "StreamingMovies     5517 non-null object\n",
      "dtypes: object(8)\n",
      "memory usage: 344.9+ KB\n"
     ]
    }
   ],
   "source": [
    "display(internet.head())\n",
    "#personal.describe()\n",
    "internet.info()"
   ]
  },
  {
   "cell_type": "code",
   "execution_count": 4,
   "metadata": {},
   "outputs": [
    {
     "data": {
      "text/html": [
       "<div>\n",
       "<style scoped>\n",
       "    .dataframe tbody tr th:only-of-type {\n",
       "        vertical-align: middle;\n",
       "    }\n",
       "\n",
       "    .dataframe tbody tr th {\n",
       "        vertical-align: top;\n",
       "    }\n",
       "\n",
       "    .dataframe thead th {\n",
       "        text-align: right;\n",
       "    }\n",
       "</style>\n",
       "<table border=\"1\" class=\"dataframe\">\n",
       "  <thead>\n",
       "    <tr style=\"text-align: right;\">\n",
       "      <th></th>\n",
       "      <th>customerID</th>\n",
       "      <th>MultipleLines</th>\n",
       "    </tr>\n",
       "  </thead>\n",
       "  <tbody>\n",
       "    <tr>\n",
       "      <td>0</td>\n",
       "      <td>5575-GNVDE</td>\n",
       "      <td>No</td>\n",
       "    </tr>\n",
       "    <tr>\n",
       "      <td>1</td>\n",
       "      <td>3668-QPYBK</td>\n",
       "      <td>No</td>\n",
       "    </tr>\n",
       "    <tr>\n",
       "      <td>2</td>\n",
       "      <td>9237-HQITU</td>\n",
       "      <td>No</td>\n",
       "    </tr>\n",
       "    <tr>\n",
       "      <td>3</td>\n",
       "      <td>9305-CDSKC</td>\n",
       "      <td>Yes</td>\n",
       "    </tr>\n",
       "    <tr>\n",
       "      <td>4</td>\n",
       "      <td>1452-KIOVK</td>\n",
       "      <td>Yes</td>\n",
       "    </tr>\n",
       "  </tbody>\n",
       "</table>\n",
       "</div>"
      ],
      "text/plain": [
       "   customerID MultipleLines\n",
       "0  5575-GNVDE            No\n",
       "1  3668-QPYBK            No\n",
       "2  9237-HQITU            No\n",
       "3  9305-CDSKC           Yes\n",
       "4  1452-KIOVK           Yes"
      ]
     },
     "metadata": {},
     "output_type": "display_data"
    },
    {
     "name": "stdout",
     "output_type": "stream",
     "text": [
      "<class 'pandas.core.frame.DataFrame'>\n",
      "RangeIndex: 6361 entries, 0 to 6360\n",
      "Data columns (total 2 columns):\n",
      "customerID       6361 non-null object\n",
      "MultipleLines    6361 non-null object\n",
      "dtypes: object(2)\n",
      "memory usage: 99.5+ KB\n"
     ]
    }
   ],
   "source": [
    "display(phone.head())\n",
    "#personal.describe()\n",
    "phone.info()"
   ]
  },
  {
   "cell_type": "markdown",
   "metadata": {},
   "source": [
    "Пропусков нет. Это прекрасно. Но данных в файлах phone и internet меньше, чем клиентов. Скорее всего, это можно объяснить тем, что не всем клиентам сразу подключен и интернет, и телефония.\n",
    "\n",
    "Далее посмотрим, уникальны ли айдишники в таблицах."
   ]
  },
  {
   "cell_type": "code",
   "execution_count": 5,
   "metadata": {},
   "outputs": [
    {
     "name": "stdout",
     "output_type": "stream",
     "text": [
      "1766-GKNMI    1\n",
      "1452-KIOVK    1\n",
      "Name: customerID, dtype: int64\n"
     ]
    }
   ],
   "source": [
    "print(contract['customerID'].value_counts().sort_values(ascending = False).head(2))"
   ]
  },
  {
   "cell_type": "code",
   "execution_count": 6,
   "metadata": {},
   "outputs": [
    {
     "name": "stdout",
     "output_type": "stream",
     "text": [
      "1766-GKNMI    1\n",
      "1452-KIOVK    1\n",
      "Name: customerID, dtype: int64\n"
     ]
    }
   ],
   "source": [
    "print(personal['customerID'].value_counts().sort_values(ascending = False).head(2))"
   ]
  },
  {
   "cell_type": "code",
   "execution_count": 7,
   "metadata": {},
   "outputs": [
    {
     "name": "stdout",
     "output_type": "stream",
     "text": [
      "1766-GKNMI    1\n",
      "5176-LDKUH    1\n",
      "Name: customerID, dtype: int64\n"
     ]
    }
   ],
   "source": [
    "print(internet['customerID'].value_counts().sort_values(ascending = False).head(2))"
   ]
  },
  {
   "cell_type": "code",
   "execution_count": 8,
   "metadata": {},
   "outputs": [
    {
     "name": "stdout",
     "output_type": "stream",
     "text": [
      "1766-GKNMI    1\n",
      "2338-BQEZT    1\n",
      "Name: customerID, dtype: int64\n"
     ]
    }
   ],
   "source": [
    "print(phone['customerID'].value_counts().sort_values(ascending = False).head(2))"
   ]
  },
  {
   "cell_type": "markdown",
   "metadata": {},
   "source": [
    "Все ID уникальны, а значит, при будущем джойне проблем возникнуть не должно.\n",
    "\n",
    "Посмотрим соотношение классов."
   ]
  },
  {
   "cell_type": "code",
   "execution_count": 9,
   "metadata": {},
   "outputs": [
    {
     "data": {
      "text/plain": [
       "0    5174\n",
       "1    1869\n",
       "Name: Target, dtype: int64"
      ]
     },
     "metadata": {},
     "output_type": "display_data"
    }
   ],
   "source": [
    "display(contract['Target'].value_counts())"
   ]
  },
  {
   "cell_type": "markdown",
   "metadata": {},
   "source": [
    "Да, дизбаланс значительный. К сведению принято.\n",
    "\n",
    "Также рассмотрим распределение числовых признаков (предварительно приведя MonthlyCharges к таковому)."
   ]
  },
  {
   "cell_type": "code",
   "execution_count": 10,
   "metadata": {},
   "outputs": [
    {
     "data": {
      "image/png": "[encoded data removed]",
      "text/plain": [
       "<Figure size 432x288 with 1 Axes>"
      ]
     },
     "metadata": {
      "needs_background": "light"
     },
     "output_type": "display_data"
    }
   ],
   "source": [
    "hist1 = plt.figure()\n",
    "hist1 = contract['MonthlyCharges'].plot(kind ='hist', bins = 100, title = 'Распределение величин помесячных платежей')"
   ]
  },
  {
   "cell_type": "markdown",
   "metadata": {},
   "source": [
    "Наблюдается интересный паттерн в цене помесячной оплаты с шагом 5 условных единиц. Предположительно, это связано с типовыми комбинациями опций и доп. услуг."
   ]
  },
  {
   "cell_type": "code",
   "execution_count": 11,
   "metadata": {},
   "outputs": [
    {
     "data": {
      "image/png": "[encoded data removed]",
      "text/plain": [
       "<Figure size 432x288 with 1 Axes>"
      ]
     },
     "metadata": {
      "needs_background": "light"
     },
     "output_type": "display_data"
    }
   ],
   "source": [
    "contract['TotalCharges'] = pd.to_numeric(contract['TotalCharges'], errors = 'coerce')\n",
    "hist2 = plt.figure()\n",
    "hist2 = contract['TotalCharges'].plot(kind ='hist', bins = 100, title = 'Распределение величин общей суммы платежей')"
   ]
  },
  {
   "cell_type": "markdown",
   "metadata": {},
   "source": [
    "Сказать о том, что есть какие-то выбросы, нельзя, общая сумма платежа в 8+ тысяч может быть вследствие долгого действия контракта + большого числа выбранных опций."
   ]
  },
  {
   "cell_type": "markdown",
   "metadata": {},
   "source": [
    "## Подготовка к моделированию"
   ]
  },
  {
   "cell_type": "markdown",
   "metadata": {},
   "source": [
    "Сджойним 4 таблицы в одну."
   ]
  },
  {
   "cell_type": "code",
   "execution_count": 12,
   "metadata": {},
   "outputs": [],
   "source": [
    "df = contract.merge(personal, on = 'customerID', how = 'left')\n",
    "df = df.merge(internet, on = 'customerID', how = 'left')\n",
    "df = df.merge(phone, on = 'customerID', how = 'left')"
   ]
  },
  {
   "cell_type": "code",
   "execution_count": 13,
   "metadata": {
    "scrolled": false
   },
   "outputs": [
    {
     "data": {
      "text/html": [
       "<div>\n",
       "<style scoped>\n",
       "    .dataframe tbody tr th:only-of-type {\n",
       "        vertical-align: middle;\n",
       "    }\n",
       "\n",
       "    .dataframe tbody tr th {\n",
       "        vertical-align: top;\n",
       "    }\n",
       "\n",
       "    .dataframe thead th {\n",
       "        text-align: right;\n",
       "    }\n",
       "</style>\n",
       "<table border=\"1\" class=\"dataframe\">\n",
       "  <thead>\n",
       "    <tr style=\"text-align: right;\">\n",
       "      <th></th>\n",
       "      <th>customerID</th>\n",
       "      <th>BeginDate</th>\n",
       "      <th>EndDate</th>\n",
       "      <th>Type</th>\n",
       "      <th>PaperlessBilling</th>\n",
       "      <th>PaymentMethod</th>\n",
       "      <th>MonthlyCharges</th>\n",
       "      <th>TotalCharges</th>\n",
       "      <th>Target</th>\n",
       "      <th>gender</th>\n",
       "      <th>...</th>\n",
       "      <th>Partner</th>\n",
       "      <th>Dependents</th>\n",
       "      <th>InternetService</th>\n",
       "      <th>OnlineSecurity</th>\n",
       "      <th>OnlineBackup</th>\n",
       "      <th>DeviceProtection</th>\n",
       "      <th>TechSupport</th>\n",
       "      <th>StreamingTV</th>\n",
       "      <th>StreamingMovies</th>\n",
       "      <th>MultipleLines</th>\n",
       "    </tr>\n",
       "  </thead>\n",
       "  <tbody>\n",
       "    <tr>\n",
       "      <td>0</td>\n",
       "      <td>7590-VHVEG</td>\n",
       "      <td>2020-01-01</td>\n",
       "      <td>NaT</td>\n",
       "      <td>Month-to-month</td>\n",
       "      <td>Yes</td>\n",
       "      <td>Electronic check</td>\n",
       "      <td>29.85</td>\n",
       "      <td>29.85</td>\n",
       "      <td>0</td>\n",
       "      <td>Female</td>\n",
       "      <td>...</td>\n",
       "      <td>Yes</td>\n",
       "      <td>No</td>\n",
       "      <td>DSL</td>\n",
       "      <td>No</td>\n",
       "      <td>Yes</td>\n",
       "      <td>No</td>\n",
       "      <td>No</td>\n",
       "      <td>No</td>\n",
       "      <td>No</td>\n",
       "      <td>NaN</td>\n",
       "    </tr>\n",
       "    <tr>\n",
       "      <td>1</td>\n",
       "      <td>5575-GNVDE</td>\n",
       "      <td>2017-04-01</td>\n",
       "      <td>NaT</td>\n",
       "      <td>One year</td>\n",
       "      <td>No</td>\n",
       "      <td>Mailed check</td>\n",
       "      <td>56.95</td>\n",
       "      <td>1889.50</td>\n",
       "      <td>0</td>\n",
       "      <td>Male</td>\n",
       "      <td>...</td>\n",
       "      <td>No</td>\n",
       "      <td>No</td>\n",
       "      <td>DSL</td>\n",
       "      <td>Yes</td>\n",
       "      <td>No</td>\n",
       "      <td>Yes</td>\n",
       "      <td>No</td>\n",
       "      <td>No</td>\n",
       "      <td>No</td>\n",
       "      <td>No</td>\n",
       "    </tr>\n",
       "    <tr>\n",
       "      <td>2</td>\n",
       "      <td>3668-QPYBK</td>\n",
       "      <td>2019-10-01</td>\n",
       "      <td>2019-12-01</td>\n",
       "      <td>Month-to-month</td>\n",
       "      <td>Yes</td>\n",
       "      <td>Mailed check</td>\n",
       "      <td>53.85</td>\n",
       "      <td>108.15</td>\n",
       "      <td>1</td>\n",
       "      <td>Male</td>\n",
       "      <td>...</td>\n",
       "      <td>No</td>\n",
       "      <td>No</td>\n",
       "      <td>DSL</td>\n",
       "      <td>Yes</td>\n",
       "      <td>Yes</td>\n",
       "      <td>No</td>\n",
       "      <td>No</td>\n",
       "      <td>No</td>\n",
       "      <td>No</td>\n",
       "      <td>No</td>\n",
       "    </tr>\n",
       "    <tr>\n",
       "      <td>3</td>\n",
       "      <td>7795-CFOCW</td>\n",
       "      <td>2016-05-01</td>\n",
       "      <td>NaT</td>\n",
       "      <td>One year</td>\n",
       "      <td>No</td>\n",
       "      <td>Bank transfer (automatic)</td>\n",
       "      <td>42.30</td>\n",
       "      <td>1840.75</td>\n",
       "      <td>0</td>\n",
       "      <td>Male</td>\n",
       "      <td>...</td>\n",
       "      <td>No</td>\n",
       "      <td>No</td>\n",
       "      <td>DSL</td>\n",
       "      <td>Yes</td>\n",
       "      <td>No</td>\n",
       "      <td>Yes</td>\n",
       "      <td>Yes</td>\n",
       "      <td>No</td>\n",
       "      <td>No</td>\n",
       "      <td>NaN</td>\n",
       "    </tr>\n",
       "    <tr>\n",
       "      <td>4</td>\n",
       "      <td>9237-HQITU</td>\n",
       "      <td>2019-09-01</td>\n",
       "      <td>2019-11-01</td>\n",
       "      <td>Month-to-month</td>\n",
       "      <td>Yes</td>\n",
       "      <td>Electronic check</td>\n",
       "      <td>70.70</td>\n",
       "      <td>151.65</td>\n",
       "      <td>1</td>\n",
       "      <td>Female</td>\n",
       "      <td>...</td>\n",
       "      <td>No</td>\n",
       "      <td>No</td>\n",
       "      <td>Fiber optic</td>\n",
       "      <td>No</td>\n",
       "      <td>No</td>\n",
       "      <td>No</td>\n",
       "      <td>No</td>\n",
       "      <td>No</td>\n",
       "      <td>No</td>\n",
       "      <td>No</td>\n",
       "    </tr>\n",
       "    <tr>\n",
       "      <td>5</td>\n",
       "      <td>9305-CDSKC</td>\n",
       "      <td>2019-03-01</td>\n",
       "      <td>2019-11-01</td>\n",
       "      <td>Month-to-month</td>\n",
       "      <td>Yes</td>\n",
       "      <td>Electronic check</td>\n",
       "      <td>99.65</td>\n",
       "      <td>820.50</td>\n",
       "      <td>1</td>\n",
       "      <td>Female</td>\n",
       "      <td>...</td>\n",
       "      <td>No</td>\n",
       "      <td>No</td>\n",
       "      <td>Fiber optic</td>\n",
       "      <td>No</td>\n",
       "      <td>No</td>\n",
       "      <td>Yes</td>\n",
       "      <td>No</td>\n",
       "      <td>Yes</td>\n",
       "      <td>Yes</td>\n",
       "      <td>Yes</td>\n",
       "    </tr>\n",
       "    <tr>\n",
       "      <td>6</td>\n",
       "      <td>1452-KIOVK</td>\n",
       "      <td>2018-04-01</td>\n",
       "      <td>NaT</td>\n",
       "      <td>Month-to-month</td>\n",
       "      <td>Yes</td>\n",
       "      <td>Credit card (automatic)</td>\n",
       "      <td>89.10</td>\n",
       "      <td>1949.40</td>\n",
       "      <td>0</td>\n",
       "      <td>Male</td>\n",
       "      <td>...</td>\n",
       "      <td>No</td>\n",
       "      <td>Yes</td>\n",
       "      <td>Fiber optic</td>\n",
       "      <td>No</td>\n",
       "      <td>Yes</td>\n",
       "      <td>No</td>\n",
       "      <td>No</td>\n",
       "      <td>Yes</td>\n",
       "      <td>No</td>\n",
       "      <td>Yes</td>\n",
       "    </tr>\n",
       "    <tr>\n",
       "      <td>7</td>\n",
       "      <td>6713-OKOMC</td>\n",
       "      <td>2019-04-01</td>\n",
       "      <td>NaT</td>\n",
       "      <td>Month-to-month</td>\n",
       "      <td>No</td>\n",
       "      <td>Mailed check</td>\n",
       "      <td>29.75</td>\n",
       "      <td>301.90</td>\n",
       "      <td>0</td>\n",
       "      <td>Female</td>\n",
       "      <td>...</td>\n",
       "      <td>No</td>\n",
       "      <td>No</td>\n",
       "      <td>DSL</td>\n",
       "      <td>Yes</td>\n",
       "      <td>No</td>\n",
       "      <td>No</td>\n",
       "      <td>No</td>\n",
       "      <td>No</td>\n",
       "      <td>No</td>\n",
       "      <td>NaN</td>\n",
       "    </tr>\n",
       "    <tr>\n",
       "      <td>8</td>\n",
       "      <td>7892-POOKP</td>\n",
       "      <td>2017-07-01</td>\n",
       "      <td>2019-11-01</td>\n",
       "      <td>Month-to-month</td>\n",
       "      <td>Yes</td>\n",
       "      <td>Electronic check</td>\n",
       "      <td>104.80</td>\n",
       "      <td>3046.05</td>\n",
       "      <td>1</td>\n",
       "      <td>Female</td>\n",
       "      <td>...</td>\n",
       "      <td>Yes</td>\n",
       "      <td>No</td>\n",
       "      <td>Fiber optic</td>\n",
       "      <td>No</td>\n",
       "      <td>No</td>\n",
       "      <td>Yes</td>\n",
       "      <td>Yes</td>\n",
       "      <td>Yes</td>\n",
       "      <td>Yes</td>\n",
       "      <td>Yes</td>\n",
       "    </tr>\n",
       "    <tr>\n",
       "      <td>9</td>\n",
       "      <td>6388-TABGU</td>\n",
       "      <td>2014-12-01</td>\n",
       "      <td>NaT</td>\n",
       "      <td>One year</td>\n",
       "      <td>No</td>\n",
       "      <td>Bank transfer (automatic)</td>\n",
       "      <td>56.15</td>\n",
       "      <td>3487.95</td>\n",
       "      <td>0</td>\n",
       "      <td>Male</td>\n",
       "      <td>...</td>\n",
       "      <td>No</td>\n",
       "      <td>Yes</td>\n",
       "      <td>DSL</td>\n",
       "      <td>Yes</td>\n",
       "      <td>Yes</td>\n",
       "      <td>No</td>\n",
       "      <td>No</td>\n",
       "      <td>No</td>\n",
       "      <td>No</td>\n",
       "      <td>No</td>\n",
       "    </tr>\n",
       "  </tbody>\n",
       "</table>\n",
       "<p>10 rows × 21 columns</p>\n",
       "</div>"
      ],
      "text/plain": [
       "   customerID  BeginDate    EndDate            Type PaperlessBilling  \\\n",
       "0  7590-VHVEG 2020-01-01        NaT  Month-to-month              Yes   \n",
       "1  5575-GNVDE 2017-04-01        NaT        One year               No   \n",
       "2  3668-QPYBK 2019-10-01 2019-12-01  Month-to-month              Yes   \n",
       "3  7795-CFOCW 2016-05-01        NaT        One year               No   \n",
       "4  9237-HQITU 2019-09-01 2019-11-01  Month-to-month              Yes   \n",
       "5  9305-CDSKC 2019-03-01 2019-11-01  Month-to-month              Yes   \n",
       "6  1452-KIOVK 2018-04-01        NaT  Month-to-month              Yes   \n",
       "7  6713-OKOMC 2019-04-01        NaT  Month-to-month               No   \n",
       "8  7892-POOKP 2017-07-01 2019-11-01  Month-to-month              Yes   \n",
       "9  6388-TABGU 2014-12-01        NaT        One year               No   \n",
       "\n",
       "               PaymentMethod  MonthlyCharges  TotalCharges  Target  gender  \\\n",
       "0           Electronic check           29.85         29.85       0  Female   \n",
       "1               Mailed check           56.95       1889.50       0    Male   \n",
       "2               Mailed check           53.85        108.15       1    Male   \n",
       "3  Bank transfer (automatic)           42.30       1840.75       0    Male   \n",
       "4           Electronic check           70.70        151.65       1  Female   \n",
       "5           Electronic check           99.65        820.50       1  Female   \n",
       "6    Credit card (automatic)           89.10       1949.40       0    Male   \n",
       "7               Mailed check           29.75        301.90       0  Female   \n",
       "8           Electronic check          104.80       3046.05       1  Female   \n",
       "9  Bank transfer (automatic)           56.15       3487.95       0    Male   \n",
       "\n",
       "   ...  Partner Dependents InternetService OnlineSecurity OnlineBackup  \\\n",
       "0  ...      Yes         No             DSL             No          Yes   \n",
       "1  ...       No         No             DSL            Yes           No   \n",
       "2  ...       No         No             DSL            Yes          Yes   \n",
       "3  ...       No         No             DSL            Yes           No   \n",
       "4  ...       No         No     Fiber optic             No           No   \n",
       "5  ...       No         No     Fiber optic             No           No   \n",
       "6  ...       No        Yes     Fiber optic             No          Yes   \n",
       "7  ...       No         No             DSL            Yes           No   \n",
       "8  ...      Yes         No     Fiber optic             No           No   \n",
       "9  ...       No        Yes             DSL            Yes          Yes   \n",
       "\n",
       "  DeviceProtection TechSupport StreamingTV StreamingMovies MultipleLines  \n",
       "0               No          No          No              No           NaN  \n",
       "1              Yes          No          No              No            No  \n",
       "2               No          No          No              No            No  \n",
       "3              Yes         Yes          No              No           NaN  \n",
       "4               No          No          No              No            No  \n",
       "5              Yes          No         Yes             Yes           Yes  \n",
       "6               No          No         Yes              No           Yes  \n",
       "7               No          No          No              No           NaN  \n",
       "8              Yes         Yes         Yes             Yes           Yes  \n",
       "9               No          No          No              No            No  \n",
       "\n",
       "[10 rows x 21 columns]"
      ]
     },
     "metadata": {},
     "output_type": "display_data"
    }
   ],
   "source": [
    "display(df.head(10))"
   ]
  },
  {
   "cell_type": "markdown",
   "metadata": {},
   "source": [
    "Для успешного моделирования нужно убрать все нечисловые значения из таблицы. ~Приведем даты начала и конца действия договора к единому полю длительности действия договора (если действие договора еще не окончено, оставим 0).~ \n",
    "P.S. как показала практика, выше неверный способ расчета, у полученного поля высокий коэффициент корреляции с таргетом, ROC-AUC выходит 0.98+ даже на простых моделях. Таким образом создавать поле, видимо, не совсем правильно, т.к. данные у нас в распоряжении ретроспективные, а требуется прогноз. Поэтому решено было заменить все пустые даты завершения договоров последней имеющейся датой в распоряжении - 01 февраля 2020. Исходя из этого уже можно считать длительность договора. К тому же, данный метод компоновки столбца применим и к будущим периодам."
   ]
  },
  {
   "cell_type": "code",
   "execution_count": 14,
   "metadata": {},
   "outputs": [],
   "source": [
    "#df['Duration'] = df['Duration'].replace(np.nan, '2020-02-01')\n",
    "df['EndDate'] = df['EndDate'].fillna(pd.to_datetime('2020-02-01 00:00:00', format='%Y-%m-%d'))\n",
    "df['Duration_days'] = ((df['EndDate'] - df['BeginDate']) /np.timedelta64(1, 'D'))\n",
    "df['Duration'] = ((df['EndDate'] - df['BeginDate']) /np.timedelta64(1, 'M'))\n",
    "#print(df['EndDate'])\n",
    "df['Duration'] = df['Duration'].astype(int)\n",
    "#df['Duration_days'] = df['Duration_days'].astype(int)\n",
    "#print(df['Duration'])\n",
    "#print(df['Duration'].value_counts())"
   ]
  },
  {
   "cell_type": "markdown",
   "metadata": {},
   "source": [
    "Все столбцы со значениями Yes/No закодируем в 1/0"
   ]
  },
  {
   "cell_type": "code",
   "execution_count": 15,
   "metadata": {},
   "outputs": [],
   "source": [
    "df['PaperlessBilling'] = df['PaperlessBilling'].map({'Yes': 1, 'No': 0})\n",
    "df['Partner'] = df['Partner'].map({'Yes': 1, 'No': 0})\n",
    "df['Dependents'] = df['Dependents'].map({'Yes': 1, 'No': 0})\n",
    "df['OnlineSecurity'] = df['OnlineSecurity'].map({'Yes': 1, 'No': 0})\n",
    "df['OnlineBackup'] = df['OnlineBackup'].map({'Yes': 1, 'No': 0})\n",
    "df['DeviceProtection'] = df['DeviceProtection'].map({'Yes': 1, 'No': 0})\n",
    "df['TechSupport'] = df['TechSupport'].map({'Yes': 1, 'No': 0})\n",
    "df['StreamingTV'] = df['StreamingTV'].map({'Yes': 1, 'No': 0})\n",
    "df['StreamingMovies'] = df['StreamingMovies'].map({'Yes': 1, 'No': 0})\n",
    "df['MultipleLines'] = df['MultipleLines'].map({'Yes': 1, 'No': 0})"
   ]
  },
  {
   "cell_type": "markdown",
   "metadata": {},
   "source": [
    "Закодируем категориальные переменные. Для незаполненных значений опций проставим по умолчанию ноль."
   ]
  },
  {
   "cell_type": "code",
   "execution_count": 16,
   "metadata": {},
   "outputs": [
    {
     "data": {
      "text/plain": [
       "(7043, 23)"
      ]
     },
     "metadata": {},
     "output_type": "display_data"
    }
   ],
   "source": [
    "df[['OnlineSecurity', 'OnlineBackup', 'DeviceProtection', 'TechSupport', 'StreamingTV', 'StreamingMovies', 'MultipleLines']] = df[['OnlineSecurity', 'OnlineBackup', 'DeviceProtection', 'TechSupport', 'StreamingTV', 'StreamingMovies', 'MultipleLines']].fillna(0)\n",
    "df_cat = df.copy(deep=True)\n",
    "display(df_cat.shape)"
   ]
  },
  {
   "cell_type": "code",
   "execution_count": 17,
   "metadata": {},
   "outputs": [],
   "source": [
    "df = pd.get_dummies(data = df, columns = ['Type', 'PaymentMethod', 'gender', 'InternetService'], drop_first = True)\n"
   ]
  },
  {
   "cell_type": "markdown",
   "metadata": {},
   "source": [
    "Посмотрим на получившийся результат"
   ]
  },
  {
   "cell_type": "code",
   "execution_count": 18,
   "metadata": {},
   "outputs": [
    {
     "name": "stdout",
     "output_type": "stream",
     "text": [
      "<class 'pandas.core.frame.DataFrame'>\n",
      "Int64Index: 7043 entries, 0 to 7042\n",
      "Data columns (total 26 columns):\n",
      "customerID                               7043 non-null object\n",
      "BeginDate                                7043 non-null datetime64[ns]\n",
      "EndDate                                  7043 non-null datetime64[ns]\n",
      "PaperlessBilling                         7043 non-null int64\n",
      "MonthlyCharges                           7043 non-null float64\n",
      "TotalCharges                             7032 non-null float64\n",
      "Target                                   7043 non-null int64\n",
      "SeniorCitizen                            7043 non-null int64\n",
      "Partner                                  7043 non-null int64\n",
      "Dependents                               7043 non-null int64\n",
      "OnlineSecurity                           7043 non-null float64\n",
      "OnlineBackup                             7043 non-null float64\n",
      "DeviceProtection                         7043 non-null float64\n",
      "TechSupport                              7043 non-null float64\n",
      "StreamingTV                              7043 non-null float64\n",
      "StreamingMovies                          7043 non-null float64\n",
      "MultipleLines                            7043 non-null float64\n",
      "Duration_days                            7043 non-null float64\n",
      "Duration                                 7043 non-null int64\n",
      "Type_One year                            7043 non-null uint8\n",
      "Type_Two year                            7043 non-null uint8\n",
      "PaymentMethod_Credit card (automatic)    7043 non-null uint8\n",
      "PaymentMethod_Electronic check           7043 non-null uint8\n",
      "PaymentMethod_Mailed check               7043 non-null uint8\n",
      "gender_Male                              7043 non-null uint8\n",
      "InternetService_Fiber optic              7043 non-null uint8\n",
      "dtypes: datetime64[ns](2), float64(10), int64(6), object(1), uint8(7)\n",
      "memory usage: 1.1+ MB\n"
     ]
    }
   ],
   "source": [
    "df.info()"
   ]
  },
  {
   "cell_type": "markdown",
   "metadata": {},
   "source": [
    "В TotalCharges остались пустые значения. Посмотрим, что это за данные, и попробуем заполнить."
   ]
  },
  {
   "cell_type": "code",
   "execution_count": 19,
   "metadata": {},
   "outputs": [
    {
     "data": {
      "text/html": [
       "<div>\n",
       "<style scoped>\n",
       "    .dataframe tbody tr th:only-of-type {\n",
       "        vertical-align: middle;\n",
       "    }\n",
       "\n",
       "    .dataframe tbody tr th {\n",
       "        vertical-align: top;\n",
       "    }\n",
       "\n",
       "    .dataframe thead th {\n",
       "        text-align: right;\n",
       "    }\n",
       "</style>\n",
       "<table border=\"1\" class=\"dataframe\">\n",
       "  <thead>\n",
       "    <tr style=\"text-align: right;\">\n",
       "      <th></th>\n",
       "      <th>customerID</th>\n",
       "      <th>BeginDate</th>\n",
       "      <th>EndDate</th>\n",
       "      <th>PaperlessBilling</th>\n",
       "      <th>MonthlyCharges</th>\n",
       "      <th>TotalCharges</th>\n",
       "      <th>Target</th>\n",
       "      <th>SeniorCitizen</th>\n",
       "      <th>Partner</th>\n",
       "      <th>Dependents</th>\n",
       "      <th>...</th>\n",
       "      <th>MultipleLines</th>\n",
       "      <th>Duration_days</th>\n",
       "      <th>Duration</th>\n",
       "      <th>Type_One year</th>\n",
       "      <th>Type_Two year</th>\n",
       "      <th>PaymentMethod_Credit card (automatic)</th>\n",
       "      <th>PaymentMethod_Electronic check</th>\n",
       "      <th>PaymentMethod_Mailed check</th>\n",
       "      <th>gender_Male</th>\n",
       "      <th>InternetService_Fiber optic</th>\n",
       "    </tr>\n",
       "  </thead>\n",
       "  <tbody>\n",
       "    <tr>\n",
       "      <td>488</td>\n",
       "      <td>4472-LVYGI</td>\n",
       "      <td>2020-02-01</td>\n",
       "      <td>2020-02-01</td>\n",
       "      <td>1</td>\n",
       "      <td>52.55</td>\n",
       "      <td>NaN</td>\n",
       "      <td>0</td>\n",
       "      <td>0</td>\n",
       "      <td>1</td>\n",
       "      <td>1</td>\n",
       "      <td>...</td>\n",
       "      <td>0.0</td>\n",
       "      <td>0.0</td>\n",
       "      <td>0</td>\n",
       "      <td>0</td>\n",
       "      <td>1</td>\n",
       "      <td>0</td>\n",
       "      <td>0</td>\n",
       "      <td>0</td>\n",
       "      <td>0</td>\n",
       "      <td>0</td>\n",
       "    </tr>\n",
       "    <tr>\n",
       "      <td>753</td>\n",
       "      <td>3115-CZMZD</td>\n",
       "      <td>2020-02-01</td>\n",
       "      <td>2020-02-01</td>\n",
       "      <td>0</td>\n",
       "      <td>20.25</td>\n",
       "      <td>NaN</td>\n",
       "      <td>0</td>\n",
       "      <td>0</td>\n",
       "      <td>0</td>\n",
       "      <td>1</td>\n",
       "      <td>...</td>\n",
       "      <td>0.0</td>\n",
       "      <td>0.0</td>\n",
       "      <td>0</td>\n",
       "      <td>0</td>\n",
       "      <td>1</td>\n",
       "      <td>0</td>\n",
       "      <td>0</td>\n",
       "      <td>1</td>\n",
       "      <td>1</td>\n",
       "      <td>0</td>\n",
       "    </tr>\n",
       "    <tr>\n",
       "      <td>936</td>\n",
       "      <td>5709-LVOEQ</td>\n",
       "      <td>2020-02-01</td>\n",
       "      <td>2020-02-01</td>\n",
       "      <td>0</td>\n",
       "      <td>80.85</td>\n",
       "      <td>NaN</td>\n",
       "      <td>0</td>\n",
       "      <td>0</td>\n",
       "      <td>1</td>\n",
       "      <td>1</td>\n",
       "      <td>...</td>\n",
       "      <td>0.0</td>\n",
       "      <td>0.0</td>\n",
       "      <td>0</td>\n",
       "      <td>0</td>\n",
       "      <td>1</td>\n",
       "      <td>0</td>\n",
       "      <td>0</td>\n",
       "      <td>1</td>\n",
       "      <td>0</td>\n",
       "      <td>0</td>\n",
       "    </tr>\n",
       "    <tr>\n",
       "      <td>1082</td>\n",
       "      <td>4367-NUYAO</td>\n",
       "      <td>2020-02-01</td>\n",
       "      <td>2020-02-01</td>\n",
       "      <td>0</td>\n",
       "      <td>25.75</td>\n",
       "      <td>NaN</td>\n",
       "      <td>0</td>\n",
       "      <td>0</td>\n",
       "      <td>1</td>\n",
       "      <td>1</td>\n",
       "      <td>...</td>\n",
       "      <td>1.0</td>\n",
       "      <td>0.0</td>\n",
       "      <td>0</td>\n",
       "      <td>0</td>\n",
       "      <td>1</td>\n",
       "      <td>0</td>\n",
       "      <td>0</td>\n",
       "      <td>1</td>\n",
       "      <td>1</td>\n",
       "      <td>0</td>\n",
       "    </tr>\n",
       "    <tr>\n",
       "      <td>1340</td>\n",
       "      <td>1371-DWPAZ</td>\n",
       "      <td>2020-02-01</td>\n",
       "      <td>2020-02-01</td>\n",
       "      <td>0</td>\n",
       "      <td>56.05</td>\n",
       "      <td>NaN</td>\n",
       "      <td>0</td>\n",
       "      <td>0</td>\n",
       "      <td>1</td>\n",
       "      <td>1</td>\n",
       "      <td>...</td>\n",
       "      <td>0.0</td>\n",
       "      <td>0.0</td>\n",
       "      <td>0</td>\n",
       "      <td>0</td>\n",
       "      <td>1</td>\n",
       "      <td>1</td>\n",
       "      <td>0</td>\n",
       "      <td>0</td>\n",
       "      <td>0</td>\n",
       "      <td>0</td>\n",
       "    </tr>\n",
       "    <tr>\n",
       "      <td>3331</td>\n",
       "      <td>7644-OMVMY</td>\n",
       "      <td>2020-02-01</td>\n",
       "      <td>2020-02-01</td>\n",
       "      <td>0</td>\n",
       "      <td>19.85</td>\n",
       "      <td>NaN</td>\n",
       "      <td>0</td>\n",
       "      <td>0</td>\n",
       "      <td>1</td>\n",
       "      <td>1</td>\n",
       "      <td>...</td>\n",
       "      <td>0.0</td>\n",
       "      <td>0.0</td>\n",
       "      <td>0</td>\n",
       "      <td>0</td>\n",
       "      <td>1</td>\n",
       "      <td>0</td>\n",
       "      <td>0</td>\n",
       "      <td>1</td>\n",
       "      <td>1</td>\n",
       "      <td>0</td>\n",
       "    </tr>\n",
       "    <tr>\n",
       "      <td>3826</td>\n",
       "      <td>3213-VVOLG</td>\n",
       "      <td>2020-02-01</td>\n",
       "      <td>2020-02-01</td>\n",
       "      <td>0</td>\n",
       "      <td>25.35</td>\n",
       "      <td>NaN</td>\n",
       "      <td>0</td>\n",
       "      <td>0</td>\n",
       "      <td>1</td>\n",
       "      <td>1</td>\n",
       "      <td>...</td>\n",
       "      <td>1.0</td>\n",
       "      <td>0.0</td>\n",
       "      <td>0</td>\n",
       "      <td>0</td>\n",
       "      <td>1</td>\n",
       "      <td>0</td>\n",
       "      <td>0</td>\n",
       "      <td>1</td>\n",
       "      <td>1</td>\n",
       "      <td>0</td>\n",
       "    </tr>\n",
       "    <tr>\n",
       "      <td>4380</td>\n",
       "      <td>2520-SGTTA</td>\n",
       "      <td>2020-02-01</td>\n",
       "      <td>2020-02-01</td>\n",
       "      <td>0</td>\n",
       "      <td>20.00</td>\n",
       "      <td>NaN</td>\n",
       "      <td>0</td>\n",
       "      <td>0</td>\n",
       "      <td>1</td>\n",
       "      <td>1</td>\n",
       "      <td>...</td>\n",
       "      <td>0.0</td>\n",
       "      <td>0.0</td>\n",
       "      <td>0</td>\n",
       "      <td>0</td>\n",
       "      <td>1</td>\n",
       "      <td>0</td>\n",
       "      <td>0</td>\n",
       "      <td>1</td>\n",
       "      <td>0</td>\n",
       "      <td>0</td>\n",
       "    </tr>\n",
       "    <tr>\n",
       "      <td>5218</td>\n",
       "      <td>2923-ARZLG</td>\n",
       "      <td>2020-02-01</td>\n",
       "      <td>2020-02-01</td>\n",
       "      <td>1</td>\n",
       "      <td>19.70</td>\n",
       "      <td>NaN</td>\n",
       "      <td>0</td>\n",
       "      <td>0</td>\n",
       "      <td>1</td>\n",
       "      <td>1</td>\n",
       "      <td>...</td>\n",
       "      <td>0.0</td>\n",
       "      <td>0.0</td>\n",
       "      <td>0</td>\n",
       "      <td>1</td>\n",
       "      <td>0</td>\n",
       "      <td>0</td>\n",
       "      <td>0</td>\n",
       "      <td>1</td>\n",
       "      <td>1</td>\n",
       "      <td>0</td>\n",
       "    </tr>\n",
       "    <tr>\n",
       "      <td>6670</td>\n",
       "      <td>4075-WKNIU</td>\n",
       "      <td>2020-02-01</td>\n",
       "      <td>2020-02-01</td>\n",
       "      <td>0</td>\n",
       "      <td>73.35</td>\n",
       "      <td>NaN</td>\n",
       "      <td>0</td>\n",
       "      <td>0</td>\n",
       "      <td>1</td>\n",
       "      <td>1</td>\n",
       "      <td>...</td>\n",
       "      <td>1.0</td>\n",
       "      <td>0.0</td>\n",
       "      <td>0</td>\n",
       "      <td>0</td>\n",
       "      <td>1</td>\n",
       "      <td>0</td>\n",
       "      <td>0</td>\n",
       "      <td>1</td>\n",
       "      <td>0</td>\n",
       "      <td>0</td>\n",
       "    </tr>\n",
       "    <tr>\n",
       "      <td>6754</td>\n",
       "      <td>2775-SEFEE</td>\n",
       "      <td>2020-02-01</td>\n",
       "      <td>2020-02-01</td>\n",
       "      <td>1</td>\n",
       "      <td>61.90</td>\n",
       "      <td>NaN</td>\n",
       "      <td>0</td>\n",
       "      <td>0</td>\n",
       "      <td>0</td>\n",
       "      <td>1</td>\n",
       "      <td>...</td>\n",
       "      <td>1.0</td>\n",
       "      <td>0.0</td>\n",
       "      <td>0</td>\n",
       "      <td>0</td>\n",
       "      <td>1</td>\n",
       "      <td>0</td>\n",
       "      <td>0</td>\n",
       "      <td>0</td>\n",
       "      <td>1</td>\n",
       "      <td>0</td>\n",
       "    </tr>\n",
       "  </tbody>\n",
       "</table>\n",
       "<p>11 rows × 26 columns</p>\n",
       "</div>"
      ],
      "text/plain": [
       "      customerID  BeginDate    EndDate  PaperlessBilling  MonthlyCharges  \\\n",
       "488   4472-LVYGI 2020-02-01 2020-02-01                 1           52.55   \n",
       "753   3115-CZMZD 2020-02-01 2020-02-01                 0           20.25   \n",
       "936   5709-LVOEQ 2020-02-01 2020-02-01                 0           80.85   \n",
       "1082  4367-NUYAO 2020-02-01 2020-02-01                 0           25.75   \n",
       "1340  1371-DWPAZ 2020-02-01 2020-02-01                 0           56.05   \n",
       "3331  7644-OMVMY 2020-02-01 2020-02-01                 0           19.85   \n",
       "3826  3213-VVOLG 2020-02-01 2020-02-01                 0           25.35   \n",
       "4380  2520-SGTTA 2020-02-01 2020-02-01                 0           20.00   \n",
       "5218  2923-ARZLG 2020-02-01 2020-02-01                 1           19.70   \n",
       "6670  4075-WKNIU 2020-02-01 2020-02-01                 0           73.35   \n",
       "6754  2775-SEFEE 2020-02-01 2020-02-01                 1           61.90   \n",
       "\n",
       "      TotalCharges  Target  SeniorCitizen  Partner  Dependents  ...  \\\n",
       "488            NaN       0              0        1           1  ...   \n",
       "753            NaN       0              0        0           1  ...   \n",
       "936            NaN       0              0        1           1  ...   \n",
       "1082           NaN       0              0        1           1  ...   \n",
       "1340           NaN       0              0        1           1  ...   \n",
       "3331           NaN       0              0        1           1  ...   \n",
       "3826           NaN       0              0        1           1  ...   \n",
       "4380           NaN       0              0        1           1  ...   \n",
       "5218           NaN       0              0        1           1  ...   \n",
       "6670           NaN       0              0        1           1  ...   \n",
       "6754           NaN       0              0        0           1  ...   \n",
       "\n",
       "      MultipleLines  Duration_days  Duration  Type_One year  Type_Two year  \\\n",
       "488             0.0            0.0         0              0              1   \n",
       "753             0.0            0.0         0              0              1   \n",
       "936             0.0            0.0         0              0              1   \n",
       "1082            1.0            0.0         0              0              1   \n",
       "1340            0.0            0.0         0              0              1   \n",
       "3331            0.0            0.0         0              0              1   \n",
       "3826            1.0            0.0         0              0              1   \n",
       "4380            0.0            0.0         0              0              1   \n",
       "5218            0.0            0.0         0              1              0   \n",
       "6670            1.0            0.0         0              0              1   \n",
       "6754            1.0            0.0         0              0              1   \n",
       "\n",
       "      PaymentMethod_Credit card (automatic)  PaymentMethod_Electronic check  \\\n",
       "488                                       0                               0   \n",
       "753                                       0                               0   \n",
       "936                                       0                               0   \n",
       "1082                                      0                               0   \n",
       "1340                                      1                               0   \n",
       "3331                                      0                               0   \n",
       "3826                                      0                               0   \n",
       "4380                                      0                               0   \n",
       "5218                                      0                               0   \n",
       "6670                                      0                               0   \n",
       "6754                                      0                               0   \n",
       "\n",
       "      PaymentMethod_Mailed check  gender_Male  InternetService_Fiber optic  \n",
       "488                            0            0                            0  \n",
       "753                            1            1                            0  \n",
       "936                            1            0                            0  \n",
       "1082                           1            1                            0  \n",
       "1340                           0            0                            0  \n",
       "3331                           1            1                            0  \n",
       "3826                           1            1                            0  \n",
       "4380                           1            0                            0  \n",
       "5218                           1            1                            0  \n",
       "6670                           1            0                            0  \n",
       "6754                           0            1                            0  \n",
       "\n",
       "[11 rows x 26 columns]"
      ]
     },
     "execution_count": 19,
     "metadata": {},
     "output_type": "execute_result"
    }
   ],
   "source": [
    "df.query('TotalCharges.isnull()')"
   ]
  },
  {
   "cell_type": "markdown",
   "metadata": {},
   "source": [
    "Это договоры, заведенные в последний учтенный месяц в датасете. Везде для них есть MonthlyCharges, и за месяц учета TotalCharges будет идентичен."
   ]
  },
  {
   "cell_type": "code",
   "execution_count": 20,
   "metadata": {},
   "outputs": [
    {
     "data": {
      "text/plain": [
       "488    NaN\n",
       "753    NaN\n",
       "936    NaN\n",
       "1082   NaN\n",
       "1340   NaN\n",
       "3331   NaN\n",
       "3826   NaN\n",
       "4380   NaN\n",
       "5218   NaN\n",
       "6670   NaN\n",
       "6754   NaN\n",
       "Name: TotalCharges, dtype: float64"
      ]
     },
     "metadata": {},
     "output_type": "display_data"
    }
   ],
   "source": [
    "display(df.loc[df['TotalCharges'].isnull(), 'TotalCharges'] )\n",
    "df.loc[df['TotalCharges'].isnull(), 'TotalCharges'] = df.loc[df['TotalCharges'].isnull(), 'MonthlyCharges'] #, ['TotalCharges']] == df['MonthlyCharges']"
   ]
  },
  {
   "cell_type": "markdown",
   "metadata": {},
   "source": [
    "~Важный шаг перед построением моделей : посмотрим, есть ли сильно коррелирующие фичи, и удалим таковые.~\n",
    "\n",
    "~В нашем случае есть сильная корреляция между InternetService_Fiber optic и MonthlyCharges. Уберем первую переменную, т.к. она сильнее коррелирует с таргетом. Также сильна корреляция в паре Duration - TotalCharges. Не будем учитывать при построении моделей Duration, т.к. её корреляция с таргетом сильнее.~"
   ]
  },
  {
   "cell_type": "code",
   "execution_count": 21,
   "metadata": {},
   "outputs": [
    {
     "data": {
      "text/html": [
       "<div>\n",
       "<style scoped>\n",
       "    .dataframe tbody tr th:only-of-type {\n",
       "        vertical-align: middle;\n",
       "    }\n",
       "\n",
       "    .dataframe tbody tr th {\n",
       "        vertical-align: top;\n",
       "    }\n",
       "\n",
       "    .dataframe thead th {\n",
       "        text-align: right;\n",
       "    }\n",
       "</style>\n",
       "<table border=\"1\" class=\"dataframe\">\n",
       "  <thead>\n",
       "    <tr style=\"text-align: right;\">\n",
       "      <th></th>\n",
       "      <th>MonthlyCharges</th>\n",
       "      <th>TotalCharges</th>\n",
       "      <th>Duration</th>\n",
       "      <th>InternetService_Fiber optic</th>\n",
       "      <th>Target</th>\n",
       "    </tr>\n",
       "  </thead>\n",
       "  <tbody>\n",
       "    <tr>\n",
       "      <td>MonthlyCharges</td>\n",
       "      <td>1.000000</td>\n",
       "      <td>0.651182</td>\n",
       "      <td>0.246214</td>\n",
       "      <td>0.787066</td>\n",
       "      <td>0.193356</td>\n",
       "    </tr>\n",
       "    <tr>\n",
       "      <td>TotalCharges</td>\n",
       "      <td>0.651182</td>\n",
       "      <td>1.000000</td>\n",
       "      <td>0.825192</td>\n",
       "      <td>0.361640</td>\n",
       "      <td>-0.198347</td>\n",
       "    </tr>\n",
       "    <tr>\n",
       "      <td>Duration</td>\n",
       "      <td>0.246214</td>\n",
       "      <td>0.825192</td>\n",
       "      <td>1.000000</td>\n",
       "      <td>0.018141</td>\n",
       "      <td>-0.357232</td>\n",
       "    </tr>\n",
       "    <tr>\n",
       "      <td>InternetService_Fiber optic</td>\n",
       "      <td>0.787066</td>\n",
       "      <td>0.361640</td>\n",
       "      <td>0.018141</td>\n",
       "      <td>1.000000</td>\n",
       "      <td>0.308020</td>\n",
       "    </tr>\n",
       "    <tr>\n",
       "      <td>Target</td>\n",
       "      <td>0.193356</td>\n",
       "      <td>-0.198347</td>\n",
       "      <td>-0.357232</td>\n",
       "      <td>0.308020</td>\n",
       "      <td>1.000000</td>\n",
       "    </tr>\n",
       "  </tbody>\n",
       "</table>\n",
       "</div>"
      ],
      "text/plain": [
       "                             MonthlyCharges  TotalCharges  Duration  \\\n",
       "MonthlyCharges                     1.000000      0.651182  0.246214   \n",
       "TotalCharges                       0.651182      1.000000  0.825192   \n",
       "Duration                           0.246214      0.825192  1.000000   \n",
       "InternetService_Fiber optic        0.787066      0.361640  0.018141   \n",
       "Target                             0.193356     -0.198347 -0.357232   \n",
       "\n",
       "                             InternetService_Fiber optic    Target  \n",
       "MonthlyCharges                                  0.787066  0.193356  \n",
       "TotalCharges                                    0.361640 -0.198347  \n",
       "Duration                                        0.018141 -0.357232  \n",
       "InternetService_Fiber optic                     1.000000  0.308020  \n",
       "Target                                          0.308020  1.000000  "
      ]
     },
     "execution_count": 21,
     "metadata": {},
     "output_type": "execute_result"
    }
   ],
   "source": [
    "df[['MonthlyCharges', 'TotalCharges', 'Duration', 'InternetService_Fiber optic', 'Target']].corr()"
   ]
  },
  {
   "cell_type": "markdown",
   "metadata": {},
   "source": [
    "## Построение моделей"
   ]
  },
  {
   "cell_type": "markdown",
   "metadata": {},
   "source": [
    "Так как перебирать гиперпараметры долго, переберем основные в цикле для нескольких моделей, чтобы узнать субоптимальные гиперпараметры."
   ]
  },
  {
   "cell_type": "code",
   "execution_count": 22,
   "metadata": {},
   "outputs": [
    {
     "name": "stdout",
     "output_type": "stream",
     "text": [
      "Размер тренировочной выборки: (4225, 21) (4225,)\n",
      "Размер тестовой выборки: (1409, 21) (1409,)\n",
      "Размер валидационной выборки: (1409, 21) (1409,)\n"
     ]
    }
   ],
   "source": [
    "features = df.drop(['customerID', 'Target', 'BeginDate', 'EndDate', 'Duration_days'] , axis = 1) #'Duration'\n",
    "target = df['Target']\n",
    "features_train, features_valid, target_train, target_valid = train_test_split(\n",
    "    features, target, test_size=0.4, random_state=12345)\n",
    "features_test, features_valid, target_test, target_valid = train_test_split(\n",
    "    features_valid, target_valid, test_size=0.5, random_state=12345)\n",
    "print('Размер тренировочной выборки:', features_train.shape,target_train.shape)\n",
    "print('Размер тестовой выборки:',features_test.shape,target_test.shape)\n",
    "print('Размер валидационной выборки:',features_valid.shape,target_valid.shape)"
   ]
  },
  {
   "cell_type": "code",
   "execution_count": 23,
   "metadata": {},
   "outputs": [
    {
     "data": {
      "text/plain": [
       "Index(['PaperlessBilling', 'MonthlyCharges', 'TotalCharges', 'SeniorCitizen',\n",
       "       'Partner', 'Dependents', 'OnlineSecurity', 'OnlineBackup',\n",
       "       'DeviceProtection', 'TechSupport', 'StreamingTV', 'StreamingMovies',\n",
       "       'MultipleLines', 'Duration', 'Type_One year', 'Type_Two year',\n",
       "       'PaymentMethod_Credit card (automatic)',\n",
       "       'PaymentMethod_Electronic check', 'PaymentMethod_Mailed check',\n",
       "       'gender_Male', 'InternetService_Fiber optic'],\n",
       "      dtype='object')"
      ]
     },
     "execution_count": 23,
     "metadata": {},
     "output_type": "execute_result"
    }
   ],
   "source": [
    "features.columns"
   ]
  },
  {
   "cell_type": "code",
   "execution_count": 24,
   "metadata": {},
   "outputs": [
    {
     "data": {
      "text/html": [
       "<div>\n",
       "<style scoped>\n",
       "    .dataframe tbody tr th:only-of-type {\n",
       "        vertical-align: middle;\n",
       "    }\n",
       "\n",
       "    .dataframe tbody tr th {\n",
       "        vertical-align: top;\n",
       "    }\n",
       "\n",
       "    .dataframe thead th {\n",
       "        text-align: right;\n",
       "    }\n",
       "</style>\n",
       "<table border=\"1\" class=\"dataframe\">\n",
       "  <thead>\n",
       "    <tr style=\"text-align: right;\">\n",
       "      <th></th>\n",
       "      <th>PaperlessBilling</th>\n",
       "      <th>MonthlyCharges</th>\n",
       "      <th>TotalCharges</th>\n",
       "      <th>SeniorCitizen</th>\n",
       "      <th>Partner</th>\n",
       "      <th>Dependents</th>\n",
       "      <th>OnlineSecurity</th>\n",
       "      <th>OnlineBackup</th>\n",
       "      <th>DeviceProtection</th>\n",
       "      <th>TechSupport</th>\n",
       "      <th>...</th>\n",
       "      <th>StreamingMovies</th>\n",
       "      <th>MultipleLines</th>\n",
       "      <th>Duration</th>\n",
       "      <th>Type_One year</th>\n",
       "      <th>Type_Two year</th>\n",
       "      <th>PaymentMethod_Credit card (automatic)</th>\n",
       "      <th>PaymentMethod_Electronic check</th>\n",
       "      <th>PaymentMethod_Mailed check</th>\n",
       "      <th>gender_Male</th>\n",
       "      <th>InternetService_Fiber optic</th>\n",
       "    </tr>\n",
       "  </thead>\n",
       "  <tbody>\n",
       "    <tr>\n",
       "      <td>0</td>\n",
       "      <td>1</td>\n",
       "      <td>29.85</td>\n",
       "      <td>29.85</td>\n",
       "      <td>0</td>\n",
       "      <td>1</td>\n",
       "      <td>0</td>\n",
       "      <td>0.0</td>\n",
       "      <td>1.0</td>\n",
       "      <td>0.0</td>\n",
       "      <td>0.0</td>\n",
       "      <td>...</td>\n",
       "      <td>0.0</td>\n",
       "      <td>0.0</td>\n",
       "      <td>1</td>\n",
       "      <td>0</td>\n",
       "      <td>0</td>\n",
       "      <td>0</td>\n",
       "      <td>1</td>\n",
       "      <td>0</td>\n",
       "      <td>0</td>\n",
       "      <td>0</td>\n",
       "    </tr>\n",
       "    <tr>\n",
       "      <td>1</td>\n",
       "      <td>0</td>\n",
       "      <td>56.95</td>\n",
       "      <td>1889.50</td>\n",
       "      <td>0</td>\n",
       "      <td>0</td>\n",
       "      <td>0</td>\n",
       "      <td>1.0</td>\n",
       "      <td>0.0</td>\n",
       "      <td>1.0</td>\n",
       "      <td>0.0</td>\n",
       "      <td>...</td>\n",
       "      <td>0.0</td>\n",
       "      <td>0.0</td>\n",
       "      <td>34</td>\n",
       "      <td>1</td>\n",
       "      <td>0</td>\n",
       "      <td>0</td>\n",
       "      <td>0</td>\n",
       "      <td>1</td>\n",
       "      <td>1</td>\n",
       "      <td>0</td>\n",
       "    </tr>\n",
       "    <tr>\n",
       "      <td>2</td>\n",
       "      <td>1</td>\n",
       "      <td>53.85</td>\n",
       "      <td>108.15</td>\n",
       "      <td>0</td>\n",
       "      <td>0</td>\n",
       "      <td>0</td>\n",
       "      <td>1.0</td>\n",
       "      <td>1.0</td>\n",
       "      <td>0.0</td>\n",
       "      <td>0.0</td>\n",
       "      <td>...</td>\n",
       "      <td>0.0</td>\n",
       "      <td>0.0</td>\n",
       "      <td>2</td>\n",
       "      <td>0</td>\n",
       "      <td>0</td>\n",
       "      <td>0</td>\n",
       "      <td>0</td>\n",
       "      <td>1</td>\n",
       "      <td>1</td>\n",
       "      <td>0</td>\n",
       "    </tr>\n",
       "  </tbody>\n",
       "</table>\n",
       "<p>3 rows × 21 columns</p>\n",
       "</div>"
      ],
      "text/plain": [
       "   PaperlessBilling  MonthlyCharges  TotalCharges  SeniorCitizen  Partner  \\\n",
       "0                 1           29.85         29.85              0        1   \n",
       "1                 0           56.95       1889.50              0        0   \n",
       "2                 1           53.85        108.15              0        0   \n",
       "\n",
       "   Dependents  OnlineSecurity  OnlineBackup  DeviceProtection  TechSupport  \\\n",
       "0           0             0.0           1.0               0.0          0.0   \n",
       "1           0             1.0           0.0               1.0          0.0   \n",
       "2           0             1.0           1.0               0.0          0.0   \n",
       "\n",
       "   ...  StreamingMovies  MultipleLines  Duration  Type_One year  \\\n",
       "0  ...              0.0            0.0         1              0   \n",
       "1  ...              0.0            0.0        34              1   \n",
       "2  ...              0.0            0.0         2              0   \n",
       "\n",
       "   Type_Two year  PaymentMethod_Credit card (automatic)  \\\n",
       "0              0                                      0   \n",
       "1              0                                      0   \n",
       "2              0                                      0   \n",
       "\n",
       "   PaymentMethod_Electronic check  PaymentMethod_Mailed check  gender_Male  \\\n",
       "0                               1                           0            0   \n",
       "1                               0                           1            1   \n",
       "2                               0                           1            1   \n",
       "\n",
       "   InternetService_Fiber optic  \n",
       "0                            0  \n",
       "1                            0  \n",
       "2                            0  \n",
       "\n",
       "[3 rows x 21 columns]"
      ]
     },
     "execution_count": 24,
     "metadata": {},
     "output_type": "execute_result"
    }
   ],
   "source": [
    "features.head(3)"
   ]
  },
  {
   "cell_type": "code",
   "execution_count": 25,
   "metadata": {},
   "outputs": [
    {
     "name": "stdout",
     "output_type": "stream",
     "text": [
      "ROC-AUC наилучшей модели случайного леса, валидационная выборка: 0.8316669958822724 \n",
      "Глубина дерева: 5 \n",
      "Количество деревьев: 130\n",
      "CPU times: user 23.6 s, sys: 111 ms, total: 23.7 s\n",
      "Wall time: 24.2 s\n"
     ]
    }
   ],
   "source": [
    "%%time\n",
    "best_forest_model = None\n",
    "best_forest_result = 0\n",
    "best_forest_est = 0\n",
    "best_forest_depth = 0\n",
    "for est in range(120, 220, 10):\n",
    "    for depth in range(2, 6):\n",
    "        model = RandomForestClassifier(random_state=12345, n_estimators=est, max_depth = depth, class_weight = 'balanced')\n",
    "        model.fit(features_train, target_train)\n",
    "        predicted_valid = model.predict(features_valid)\n",
    "        probabilities_valid = model.predict_proba(features_valid)\n",
    "        probabilities_one_valid = probabilities_valid[:, 1]\n",
    "        result = roc_auc_score(target_valid , probabilities_one_valid) \n",
    "        if result > best_forest_result:\n",
    "            best_forest_model = model\n",
    "            best_forest_result = result\n",
    "            best_forest_est = est\n",
    "            best_forest_depth = depth\n",
    "\n",
    "print(\"ROC-AUC наилучшей модели случайного леса, валидационная выборка:\", best_forest_result,\n",
    "      '\\nГлубина дерева:',  best_forest_depth,\n",
    "      '\\nКоличество деревьев:', best_forest_est\n",
    "     )"
   ]
  },
  {
   "cell_type": "code",
   "execution_count": 26,
   "metadata": {},
   "outputs": [
    {
     "name": "stdout",
     "output_type": "stream",
     "text": [
      "ROC-AUC наилучшей модели XGBoost, валидационная выборка: 0.8407090291178541 \n",
      "Глубина дерева: 2 \n",
      "Количество деревьев: 180\n",
      "CPU times: user 25.6 s, sys: 75.1 ms, total: 25.7 s\n",
      "Wall time: 26.1 s\n"
     ]
    }
   ],
   "source": [
    "%%time\n",
    "best_xgb_model = None\n",
    "best_xgb_result = 0\n",
    "best_xgb_est = 0\n",
    "best_xgb_depth = 0\n",
    "for est in range(120, 200, 10):\n",
    "    for depth in range(1,6):\n",
    "        model = XGBClassifier(random_state=12345, n_estimators=est, max_depth = depth, class_weight = 'balanced')\n",
    "        model.fit(features_train, target_train)\n",
    "        predicted_valid = model.predict(features_valid)\n",
    "        probabilities_valid = model.predict_proba(features_valid)\n",
    "        probabilities_one_valid = probabilities_valid[:, 1]\n",
    "        result = roc_auc_score(target_valid , probabilities_one_valid) \n",
    "        if result > best_xgb_result:\n",
    "            best_xgb_model = model\n",
    "            best_xgb_result = result\n",
    "            best_xgb_est = est\n",
    "            best_xgb_depth = depth\n",
    "\n",
    "print(\"ROC-AUC наилучшей модели XGBoost, валидационная выборка:\", best_xgb_result,\n",
    "      '\\nГлубина дерева:',  best_xgb_depth,\n",
    "      '\\nКоличество деревьев:', best_xgb_est\n",
    "     )"
   ]
  },
  {
   "cell_type": "code",
   "execution_count": 27,
   "metadata": {},
   "outputs": [
    {
     "name": "stdout",
     "output_type": "stream",
     "text": [
      "ROC-AUC наилучшей модели LGBMClassifier, валидационная выборка: 0.841556126195939 \n",
      "Глубина дерева: 3 \n",
      "Количество деревьев: 30\n",
      "CPU times: user 13.8 s, sys: 256 ms, total: 14 s\n",
      "Wall time: 14.2 s\n"
     ]
    }
   ],
   "source": [
    "%%time\n",
    "best_lgbm_model = None\n",
    "best_lgbm_result = 0\n",
    "best_lgbm_est = 0\n",
    "best_lgbm_depth = 0\n",
    "for est in range(30, 220, 10):\n",
    "    for depth in range(1,6):\n",
    "        model = LGBMClassifier(random_state=12345, n_estimators=est, max_depth = depth, class_weight = 'balanced')\n",
    "        model.fit(features_train, target_train)\n",
    "        predicted_valid = model.predict(features_valid)\n",
    "        probabilities_valid = model.predict_proba(features_valid)\n",
    "        probabilities_one_valid = probabilities_valid[:, 1]\n",
    "        result = roc_auc_score(target_valid , probabilities_one_valid) \n",
    "        if result > best_lgbm_result:\n",
    "            best_lgbm_model = model\n",
    "            best_lgbm_result = result\n",
    "            best_lgbm_est = est\n",
    "            best_lgbm_depth = depth\n",
    "\n",
    "print(\"ROC-AUC наилучшей модели LGBMClassifier, валидационная выборка:\", best_lgbm_result,\n",
    "      '\\nГлубина дерева:',  best_lgbm_depth,\n",
    "      '\\nКоличество деревьев:', best_lgbm_est\n",
    "     )"
   ]
  },
  {
   "cell_type": "code",
   "execution_count": 28,
   "metadata": {
    "scrolled": true
   },
   "outputs": [
    {
     "name": "stdout",
     "output_type": "stream",
     "text": [
      "Learning rate set to 0.05699\n",
      "0:\ttotal: 52.5ms\tremaining: 21s\n",
      "100:\ttotal: 2.08s\tremaining: 6.15s\n",
      "200:\ttotal: 4.33s\tremaining: 4.28s\n",
      "300:\ttotal: 6.48s\tremaining: 2.13s\n",
      "399:\ttotal: 8.73s\tremaining: 0us\n",
      "AUC-ROC на вал выборке, CatBoost: 0.8368534078880059\n",
      "Accuracy на вал выборке, CatBoost: 0.7998580553584103\n"
     ]
    }
   ],
   "source": [
    "model_cb = CatBoostClassifier( random_state=42, eval_metric = 'AUC', iterations = 400)# , depth=9)\n",
    "model_cb.fit(features_train, target_train, verbose = 100)\n",
    "predicted_valid = model_cb.predict(features_valid)\n",
    "probabilities_valid = model_cb.predict_proba(features_valid)\n",
    "print('AUC-ROC на вал выборке, CatBoost:',roc_auc_score(target_valid, probabilities_valid[:, 1]))\n",
    "print('Accuracy на вал выборке, CatBoost:', accuracy_score(target_valid , predicted_valid)) "
   ]
  },
  {
   "cell_type": "code",
   "execution_count": 29,
   "metadata": {},
   "outputs": [
    {
     "name": "stdout",
     "output_type": "stream",
     "text": [
      "AUC-ROC на вал выборке, RandomForest: 0.8316669958822724\n",
      "Accuracy на вал выборке, RandomForest: 0.7352732434350603\n"
     ]
    }
   ],
   "source": [
    "model = RandomForestClassifier(random_state=12345, n_estimators=130, max_depth = 5, class_weight = 'balanced')\n",
    "model.fit(features_train, target_train)\n",
    "predicted_valid = model.predict(features_valid)\n",
    "probabilities_valid = model.predict_proba(features_valid)\n",
    "probabilities_one_valid = probabilities_valid[:, 1]\n",
    "print('AUC-ROC на вал выборке, RandomForest:',roc_auc_score(target_valid, probabilities_one_valid))\n",
    "print('Accuracy на вал выборке, RandomForest:', accuracy_score(target_valid , predicted_valid)) "
   ]
  },
  {
   "cell_type": "code",
   "execution_count": 30,
   "metadata": {},
   "outputs": [
    {
     "name": "stdout",
     "output_type": "stream",
     "text": [
      "AUC-ROC на вал выборке, LogisticRegression: 0.8173663764504481\n",
      "Accuracy на вал выборке, LogisticRegression: 0.7955997161107168\n"
     ]
    }
   ],
   "source": [
    "model = LogisticRegression(random_state=12345, solver = 'liblinear')\n",
    "model.fit(features_train, target_train)\n",
    "predicted_valid = model.predict(features_valid)\n",
    "probabilities_valid = model.predict_proba(features_valid)\n",
    "probabilities_one_valid = probabilities_valid[:, 1]\n",
    "print('AUC-ROC на вал выборке, LogisticRegression:',roc_auc_score(target_valid, probabilities_one_valid))\n",
    "print('Accuracy на вал выборке, LogisticRegression:', accuracy_score(target_valid , predicted_valid))\n"
   ]
  },
  {
   "cell_type": "code",
   "execution_count": 31,
   "metadata": {},
   "outputs": [
    {
     "name": "stdout",
     "output_type": "stream",
     "text": [
      "AUC-ROC на вал выборке, XGBClassifier 0.837632129417187\n",
      "Accuracy на вал выборке, XGBClassifier 0.8019872249822569\n"
     ]
    }
   ],
   "source": [
    "model = XGBClassifier(random_state=42, n_estimators=190, max_depth = 4, verbosity=0)\n",
    "model.fit(features_train, target_train)\n",
    "predicted_valid = model.predict(features_valid)\n",
    "probabilities_valid = model.predict_proba(features_valid)\n",
    "probabilities_one_valid = probabilities_valid[:, 1]\n",
    "print('AUC-ROC на вал выборке, XGBClassifier',roc_auc_score(target_valid, probabilities_one_valid))\n",
    "print('Accuracy на вал выборке, XGBClassifier', accuracy_score(target_valid , predicted_valid))\n"
   ]
  },
  {
   "cell_type": "code",
   "execution_count": 32,
   "metadata": {},
   "outputs": [
    {
     "name": "stdout",
     "output_type": "stream",
     "text": [
      "AUC-ROC на вал выборке, LGBMClassifier 0.841556126195939\n",
      "Accuracy на вал выборке, LGBMClassifier 0.7437899219304471\n"
     ]
    }
   ],
   "source": [
    "model = LGBMClassifier(random_state=42, n_estimators=30, max_depth = 3, class_weight = 'balanced')\n",
    "model.fit(features_train, target_train)\n",
    "predicted_valid = model.predict(features_valid)\n",
    "probabilities_valid = model.predict_proba(features_valid)\n",
    "probabilities_one_valid = probabilities_valid[:, 1]\n",
    "print('AUC-ROC на вал выборке, LGBMClassifier',roc_auc_score(target_valid, probabilities_one_valid))\n",
    "print('Accuracy на вал выборке, LGBMClassifier', accuracy_score(target_valid , predicted_valid))"
   ]
  },
  {
   "cell_type": "code",
   "execution_count": 33,
   "metadata": {},
   "outputs": [
    {
     "name": "stdout",
     "output_type": "stream",
     "text": [
      "AUC-ROC на вал выборке, SGDClassifier 0.6440584180430411\n",
      "Accuracy на вал выборке, SGDClassifier 0.5124201561391057\n"
     ]
    }
   ],
   "source": [
    "model_sgd = SGDClassifier(class_weight = 'balanced', loss = 'modified_huber')#, random_state = 42)\n",
    "model_sgd.fit(features_train, target_train)\n",
    "predicted_valid = model_sgd.predict(features_valid)\n",
    "probabilities_valid = model_sgd.predict_proba(features_valid)\n",
    "probabilities_one_valid = probabilities_valid[:, 1]\n",
    "print('AUC-ROC на вал выборке, SGDClassifier',roc_auc_score(target_valid, probabilities_one_valid))\n",
    "print('Accuracy на вал выборке, SGDClassifier', accuracy_score(target_valid , predicted_valid))"
   ]
  },
  {
   "cell_type": "code",
   "execution_count": 34,
   "metadata": {},
   "outputs": [
    {
     "name": "stdout",
     "output_type": "stream",
     "text": [
      "AUC-ROC на вал выборке, VotingClassifier 0.842884384544087\n",
      "Accuracy на вал выборке, VotingClassifier 0.7835344215755855\n"
     ]
    }
   ],
   "source": [
    "m1 = LGBMClassifier(random_state=42, n_estimators=30, max_depth =3, class_weight = 'balanced') \n",
    "m2 = XGBClassifier(random_state=12345, n_estimators=190, max_depth = 4, class_weight = 'balanced')\n",
    "m3 = LogisticRegression(class_weight = 'balanced')\n",
    "m4 = RandomForestClassifier(random_state=12345, n_estimators=130, max_depth = 5, class_weight = 'balanced')\n",
    "model_vtng = VotingClassifier(estimators=[('lgbm', m1), ('xgbc', m2), ('forest', m4)], voting='soft')\n",
    "model_vtng.fit(features_train, target_train)\n",
    "predicted_valid = model_vtng.predict(features_valid)\n",
    "probabilities_valid = model_vtng.predict_proba(features_valid)\n",
    "probabilities_one_valid = probabilities_valid[:, 1]\n",
    "print('AUC-ROC на вал выборке, VotingClassifier',roc_auc_score(target_valid, probabilities_one_valid))\n",
    "print('Accuracy на вал выборке, VotingClassifier', accuracy_score(target_valid , predicted_valid))"
   ]
  },
  {
   "cell_type": "markdown",
   "metadata": {},
   "source": [
    "Итого лучше всего себя показали VotingClassifier, CatBoostClassifier, XGBClassifier, RandomForestClassifier. В качестве бонуса попробуем запустить CatBoost на непреобразованном датафрейме с категориальными переменными."
   ]
  },
  {
   "cell_type": "code",
   "execution_count": 35,
   "metadata": {},
   "outputs": [
    {
     "name": "stdout",
     "output_type": "stream",
     "text": [
      "Размер тренировочной выборки: (4225, 16) (4225,)\n",
      "Размер тестовой выборки: (1409, 16) (1409,)\n",
      "Размер валидационной выборки: (1409, 16) (1409,)\n"
     ]
    }
   ],
   "source": [
    "#print(df_cat)\n",
    "df_cat.loc[df_cat['TotalCharges'].isnull(), 'TotalCharges'] = df_cat.loc[df_cat['TotalCharges'].isnull(), 'MonthlyCharges'] \n",
    "\n",
    "features_cat = df_cat.drop(['customerID', 'Target', 'BeginDate', 'EndDate', 'InternetService', 'Duration_days', 'Duration' ] , axis = 1) #'Duration'\n",
    "target_cat = df_cat['Target']\n",
    "features_train_cat, features_valid_cat, target_train_cat, target_valid_cat = train_test_split(\n",
    "    features_cat, target_cat, test_size=0.4, random_state=12345)\n",
    "features_test_cat, features_valid_cat, target_test_cat, target_valid_cat = train_test_split(\n",
    "    features_valid_cat, target_valid_cat, test_size=0.5, random_state=12345)\n",
    "print('Размер тренировочной выборки:', features_train_cat.shape,target_train_cat.shape)\n",
    "print('Размер тестовой выборки:',features_test_cat.shape,target_test_cat.shape)\n",
    "print('Размер валидационной выборки:',features_valid_cat.shape,target_valid_cat.shape)"
   ]
  },
  {
   "cell_type": "code",
   "execution_count": 36,
   "metadata": {},
   "outputs": [
    {
     "name": "stdout",
     "output_type": "stream",
     "text": [
      "Learning rate set to 0.05699\n",
      "0:\ttotal: 5.62ms\tremaining: 2.24s\n",
      "50:\ttotal: 1.31s\tremaining: 8.96s\n",
      "100:\ttotal: 2.87s\tremaining: 8.51s\n",
      "150:\ttotal: 4.46s\tremaining: 7.35s\n",
      "200:\ttotal: 6.13s\tremaining: 6.07s\n",
      "250:\ttotal: 7.8s\tremaining: 4.63s\n",
      "300:\ttotal: 9.47s\tremaining: 3.11s\n",
      "350:\ttotal: 11.3s\tremaining: 1.57s\n",
      "399:\ttotal: 13.5s\tremaining: 0us\n",
      "AUC-ROC на вал выборке, CatBoost с категориальными переменными 0.8139336706527078\n",
      "Accuracy на вал выборке, CatBoost с категориальными переменными 0.772888573456352\n"
     ]
    }
   ],
   "source": [
    "cat_features = ['Type', 'PaymentMethod', 'gender']#, 'InternetService']\n",
    "model_catfeat = CatBoostClassifier(iterations = 400, random_seed = 42,  eval_metric = 'AUC')#max_depth = 6,\n",
    "model_catfeat.fit(features_train_cat, target_train_cat, verbose = 50, cat_features=cat_features)\n",
    "predicted_valid_cat = model_catfeat.predict(features_valid_cat)\n",
    "probabilities_valid_cat = model_catfeat.predict_proba(features_valid_cat)\n",
    "probabilities_one_valid = probabilities_valid_cat[:, 1]\n",
    "print('AUC-ROC на вал выборке, CatBoost с категориальными переменными',roc_auc_score(target_valid_cat, probabilities_one_valid))\n",
    "print('Accuracy на вал выборке, CatBoost с категориальными переменными', accuracy_score(target_valid_cat , predicted_valid_cat))\n"
   ]
  },
  {
   "cell_type": "markdown",
   "metadata": {},
   "source": [
    "Приемлемо! Сразу же и проверим, как эта модель и остальные показали себя на тестовых выборках. Заодно для этих моделей выведем график важности фичей, чтобы понять, какие в итоге были наиболее важны."
   ]
  },
  {
   "cell_type": "code",
   "execution_count": 37,
   "metadata": {},
   "outputs": [
    {
     "name": "stdout",
     "output_type": "stream",
     "text": [
      "AUC-ROC на тестовой выборке, CatBoost с категориальными переменными 0.8492916388403167\n",
      "Accuracy на тестовой выборке, CatBoost с категориальными переменными 0.8062455642299503\n"
     ]
    },
    {
     "data": {
      "image/png": "[encoded data removed]",
      "text/plain": [
       "<Figure size 1152x648 with 1 Axes>"
      ]
     },
     "metadata": {
      "needs_background": "light"
     },
     "output_type": "display_data"
    }
   ],
   "source": [
    "predicted_test_cat = model_catfeat.predict(features_test_cat)\n",
    "probabilities_test_cat = model_catfeat.predict_proba(features_test_cat)\n",
    "probabilities_one_test_cat = probabilities_test_cat[:, 1]\n",
    "print('AUC-ROC на тестовой выборке, CatBoost с категориальными переменными',roc_auc_score(target_test_cat, probabilities_one_test_cat))\n",
    "print('Accuracy на тестовой выборке, CatBoost с категориальными переменными', accuracy_score(target_test_cat, predicted_test_cat))\n",
    "feature_importances=pd.DataFrame({'features':features.columns,'feature_importance':model.feature_importances_})\n",
    "feature_importances = feature_importances.sort_values('feature_importance',ascending=False)\n",
    "feature_importances.plot(kind = 'bar', y = 'feature_importance', x = 'features', grid = True, \n",
    "                         figsize = (16,9), title = 'Важность факторов, модель' )\n",
    "plt.xticks(rotation=45, ha='right')\n",
    "plt.show()"
   ]
  },
  {
   "cell_type": "code",
   "execution_count": 38,
   "metadata": {},
   "outputs": [
    {
     "name": "stdout",
     "output_type": "stream",
     "text": [
      "AUC-ROC на тестовой выборке, VotingClassifier 0.8619192789449266\n",
      "Accuracy на тестовой выборке, VotingClassifier 0.794180269694819\n"
     ]
    }
   ],
   "source": [
    "model_vtng.fit(features_train, target_train)\n",
    "predicted_test = model_vtng.predict(features_test)\n",
    "probabilities_test = model_vtng.predict_proba(features_test)\n",
    "probabilities_one_test = probabilities_test[:, 1]\n",
    "#result = roc_auc_score(target_test , probabilities_one_test) \n",
    "print('AUC-ROC на тестовой выборке, VotingClassifier',roc_auc_score(target_test, probabilities_one_test))\n",
    "print('Accuracy на тестовой выборке, VotingClassifier', accuracy_score(target_test , predicted_test))"
   ]
  },
  {
   "cell_type": "code",
   "execution_count": 39,
   "metadata": {
    "scrolled": false
   },
   "outputs": [
    {
     "name": "stdout",
     "output_type": "stream",
     "text": [
      "AUC-ROC на тестовой выборке, XGBClassifier 0.85672191153005\n",
      "Accuracy на тестовой выборке, XGBClassifier 0.8069552874378992\n"
     ]
    },
    {
     "data": {
      "image/png": "[encoded data removed]",
      "text/plain": [
       "<Figure size 1152x648 with 1 Axes>"
      ]
     },
     "metadata": {
      "needs_background": "light"
     },
     "output_type": "display_data"
    }
   ],
   "source": [
    "model = XGBClassifier(random_state=12345, n_estimators=180, max_depth = 2, class_weight = 'balanced')\n",
    "model.fit(features_train, target_train)\n",
    "predicted_test = model.predict(features_test)\n",
    "probabilities_test = model.predict_proba(features_test)\n",
    "probabilities_one_test = probabilities_test[:, 1]\n",
    "print('AUC-ROC на тестовой выборке, XGBClassifier',roc_auc_score(target_test, probabilities_one_test))\n",
    "print('Accuracy на тестовой выборке, XGBClassifier', accuracy_score(target_test , predicted_test))\n",
    "feature_importances=pd.DataFrame({'features':features.columns,'feature_importance':model.feature_importances_})\n",
    "feature_importances = feature_importances.sort_values('feature_importance',ascending=False)\n",
    "feature_importances.plot(kind = 'bar', y = 'feature_importance', x = 'features', grid = True, \n",
    "                         figsize = (16,9), title = 'Важность факторов, модель' )\n",
    "plt.xticks(rotation=45, ha='right')\n",
    "plt.show()"
   ]
  },
  {
   "cell_type": "code",
   "execution_count": 40,
   "metadata": {},
   "outputs": [
    {
     "name": "stdout",
     "output_type": "stream",
     "text": [
      "AUC-ROC на тестовой выборке, LGBMClassifier 0.8601388173758775\n",
      "Accuracy на тестовой выборке, LGBMClassifier 0.7572746628814763\n"
     ]
    },
    {
     "data": {
      "image/png": "[encoded data removed]",
      "text/plain": [
       "<Figure size 1152x648 with 1 Axes>"
      ]
     },
     "metadata": {
      "needs_background": "light"
     },
     "output_type": "display_data"
    }
   ],
   "source": [
    "model = LGBMClassifier(random_state=42, n_estimators=30, max_depth = 3, class_weight = 'balanced')\n",
    "model.fit(features_train, target_train)\n",
    "predicted_test = model.predict(features_test)\n",
    "probabilities_test = model.predict_proba(features_test)\n",
    "probabilities_one_test = probabilities_test[:, 1]\n",
    "print('AUC-ROC на тестовой выборке, LGBMClassifier',roc_auc_score(target_test, probabilities_one_test))\n",
    "print('Accuracy на тестовой выборке, LGBMClassifier', accuracy_score(target_test , predicted_test))\n",
    "feature_importances=pd.DataFrame({'features':features.columns,'feature_importance':model.feature_importances_})\n",
    "feature_importances = feature_importances.sort_values('feature_importance',ascending=False)\n",
    "feature_importances.plot(kind = 'bar', y = 'feature_importance', x = 'features', grid = True, \n",
    "                         figsize = (16,9), title = 'Важность факторов, модель' )\n",
    "plt.xticks(rotation=45, ha='right')\n",
    "plt.show()"
   ]
  },
  {
   "cell_type": "code",
   "execution_count": 41,
   "metadata": {},
   "outputs": [
    {
     "name": "stdout",
     "output_type": "stream",
     "text": [
      "AUC-ROC на тестовой выборке, RandomForestClassifier 0.8546330235474646\n",
      "Accuracy на тестовой выборке, RandomForestClassifier 0.7572746628814763\n"
     ]
    },
    {
     "data": {
      "image/png": "[encoded data removed]",
      "text/plain": [
       "<Figure size 1152x648 with 1 Axes>"
      ]
     },
     "metadata": {
      "needs_background": "light"
     },
     "output_type": "display_data"
    }
   ],
   "source": [
    "model = RandomForestClassifier(random_state=12345, n_estimators=130, max_depth = 5, class_weight = 'balanced')\n",
    "model.fit(features_train, target_train)\n",
    "probabilities_test = model.predict_proba(features_test)\n",
    "probabilities_one_test = probabilities_test[:, 1]\n",
    "print('AUC-ROC на тестовой выборке, RandomForestClassifier',roc_auc_score(target_test, probabilities_one_test))\n",
    "print('Accuracy на тестовой выборке, RandomForestClassifier', accuracy_score(target_test , predicted_test))\n",
    "feature_importances=pd.DataFrame({'features':features.columns,'feature_importance':model.feature_importances_})\n",
    "feature_importances = feature_importances.sort_values('feature_importance',ascending=False)\n",
    "feature_importances.plot(kind = 'bar', y = 'feature_importance', x = 'features', grid = True, \n",
    "                         figsize = (16,9), title = 'Важность факторов, модель' )\n",
    "plt.xticks(rotation=45, ha='right')\n",
    "plt.show()"
   ]
  },
  {
   "cell_type": "code",
   "execution_count": 42,
   "metadata": {},
   "outputs": [
    {
     "name": "stdout",
     "output_type": "stream",
     "text": [
      "Размер тренировочной выборки: (4225, 21) (4225,)\n",
      "Размер тестовой выборки: (1409, 21) (1409,)\n",
      "Размер валидационной выборки: (1409, 21) (1409,)\n"
     ]
    }
   ],
   "source": [
    "dfeatures = df.drop(['customerID', 'Target', 'BeginDate', 'EndDate', 'Duration' ] , axis = 1) #'Duration'\n",
    "dtarget = df['Target']\n",
    "dfeatures_train, dfeatures_valid, dtarget_train, dtarget_valid = train_test_split(\n",
    "    dfeatures, dtarget, test_size=0.4, random_state=12345)\n",
    "dfeatures_test, dfeatures_valid, dtarget_test, dtarget_valid = train_test_split(\n",
    "    dfeatures_valid,dtarget_valid, test_size=0.5, random_state=12345)\n",
    "print('Размер тренировочной выборки:', dfeatures_train.shape,dtarget_train.shape)\n",
    "print('Размер тестовой выборки:',dfeatures_test.shape,dtarget_test.shape)\n",
    "print('Размер валидационной выборки:',dfeatures_valid.shape,dtarget_valid.shape)"
   ]
  },
  {
   "cell_type": "code",
   "execution_count": 43,
   "metadata": {},
   "outputs": [
    {
     "data": {
      "text/plain": [
       "Index(['PaperlessBilling', 'MonthlyCharges', 'TotalCharges', 'SeniorCitizen',\n",
       "       'Partner', 'Dependents', 'OnlineSecurity', 'OnlineBackup',\n",
       "       'DeviceProtection', 'TechSupport', 'StreamingTV', 'StreamingMovies',\n",
       "       'MultipleLines', 'Duration_days', 'Type_One year', 'Type_Two year',\n",
       "       'PaymentMethod_Credit card (automatic)',\n",
       "       'PaymentMethod_Electronic check', 'PaymentMethod_Mailed check',\n",
       "       'gender_Male', 'InternetService_Fiber optic'],\n",
       "      dtype='object')"
      ]
     },
     "execution_count": 43,
     "metadata": {},
     "output_type": "execute_result"
    }
   ],
   "source": [
    "dfeatures_test.columns"
   ]
  },
  {
   "cell_type": "code",
   "execution_count": 44,
   "metadata": {},
   "outputs": [
    {
     "name": "stdout",
     "output_type": "stream",
     "text": [
      "AUC-ROC на вал выборке, XGBClassifier 0.8806846671630224\n",
      "Accuracy на вал выборке, XGBClassifier 0.8474095102909865\n",
      "AUC-ROC на тестовой выборке, XGBClassifier 0.8905914649999747\n",
      "Accuracy на тестовой выборке, XGBClassifier 0.8424414478353442\n"
     ]
    },
    {
     "data": {
      "text/html": [
       "<div>\n",
       "<style scoped>\n",
       "    .dataframe tbody tr th:only-of-type {\n",
       "        vertical-align: middle;\n",
       "    }\n",
       "\n",
       "    .dataframe tbody tr th {\n",
       "        vertical-align: top;\n",
       "    }\n",
       "\n",
       "    .dataframe thead th {\n",
       "        text-align: right;\n",
       "    }\n",
       "</style>\n",
       "<table border=\"1\" class=\"dataframe\">\n",
       "  <thead>\n",
       "    <tr style=\"text-align: right;\">\n",
       "      <th></th>\n",
       "      <th>features</th>\n",
       "      <th>feature_importance</th>\n",
       "    </tr>\n",
       "  </thead>\n",
       "  <tbody>\n",
       "    <tr>\n",
       "      <td>20</td>\n",
       "      <td>InternetService_Fiber optic</td>\n",
       "      <td>0.362313</td>\n",
       "    </tr>\n",
       "    <tr>\n",
       "      <td>15</td>\n",
       "      <td>Type_Two year</td>\n",
       "      <td>0.222902</td>\n",
       "    </tr>\n",
       "    <tr>\n",
       "      <td>14</td>\n",
       "      <td>Type_One year</td>\n",
       "      <td>0.101351</td>\n",
       "    </tr>\n",
       "    <tr>\n",
       "      <td>13</td>\n",
       "      <td>Duration_days</td>\n",
       "      <td>0.045840</td>\n",
       "    </tr>\n",
       "    <tr>\n",
       "      <td>10</td>\n",
       "      <td>StreamingTV</td>\n",
       "      <td>0.024974</td>\n",
       "    </tr>\n",
       "  </tbody>\n",
       "</table>\n",
       "</div>"
      ],
      "text/plain": [
       "                       features  feature_importance\n",
       "20  InternetService_Fiber optic            0.362313\n",
       "15                Type_Two year            0.222902\n",
       "14                Type_One year            0.101351\n",
       "13                Duration_days            0.045840\n",
       "10                  StreamingTV            0.024974"
      ]
     },
     "metadata": {},
     "output_type": "display_data"
    }
   ],
   "source": [
    "model = XGBClassifier(random_state=12345, n_estimators=190, max_depth = 5, class_weight = 'balanced')\n",
    "model.fit(dfeatures_train, dtarget_train)\n",
    "\n",
    "predicted_valid = model.predict(dfeatures_valid)\n",
    "probabilities_valid = model.predict_proba(dfeatures_valid)\n",
    "probabilities_one_valid = probabilities_valid[:, 1]\n",
    "\n",
    "predicted_test = model.predict(dfeatures_test)\n",
    "probabilities_test = model.predict_proba(dfeatures_test)\n",
    "probabilities_one_test = probabilities_test[:, 1]\n",
    "print('AUC-ROC на вал выборке, XGBClassifier',roc_auc_score(dtarget_valid, probabilities_one_valid))\n",
    "print('Accuracy на вал выборке, XGBClassifier', accuracy_score(dtarget_valid , predicted_valid))\n",
    "print('AUC-ROC на тестовой выборке, XGBClassifier',roc_auc_score(dtarget_test, probabilities_one_test))\n",
    "print('Accuracy на тестовой выборке, XGBClassifier', accuracy_score(dtarget_test , predicted_test))\n",
    "feature_importances=pd.DataFrame({'features':dfeatures.columns,'feature_importance':model.feature_importances_})\n",
    "feature_importances = feature_importances.sort_values('feature_importance',ascending=False)\n",
    "display(feature_importances.head(5))\n",
    "#feature_importances.plot(kind = 'bar', y = 'feature_importance', x = 'features', grid = True, \n",
    "#                         figsize = (16,9), title = 'Важность факторов, модель' )\n",
    "#plt.xticks(rotation=45, ha='right')\n",
    "#plt.show()"
   ]
  },
  {
   "cell_type": "code",
   "execution_count": 45,
   "metadata": {},
   "outputs": [
    {
     "name": "stdout",
     "output_type": "stream",
     "text": [
      "AUC-ROC на вал выборке, RandomForestClassifier 0.8381728027390739\n",
      "Accuracy на вал выборке, RandomForestClassifier 0.7735982966643009\n",
      "AUC-ROC на тестовой выборке, RandomForestClassifier 0.8609952741936306\n",
      "Accuracy на тестовой выборке, RandomForestClassifier 0.794889992902768\n"
     ]
    },
    {
     "data": {
      "text/html": [
       "<div>\n",
       "<style scoped>\n",
       "    .dataframe tbody tr th:only-of-type {\n",
       "        vertical-align: middle;\n",
       "    }\n",
       "\n",
       "    .dataframe tbody tr th {\n",
       "        vertical-align: top;\n",
       "    }\n",
       "\n",
       "    .dataframe thead th {\n",
       "        text-align: right;\n",
       "    }\n",
       "</style>\n",
       "<table border=\"1\" class=\"dataframe\">\n",
       "  <thead>\n",
       "    <tr style=\"text-align: right;\">\n",
       "      <th></th>\n",
       "      <th>features</th>\n",
       "      <th>feature_importance</th>\n",
       "    </tr>\n",
       "  </thead>\n",
       "  <tbody>\n",
       "    <tr>\n",
       "      <td>13</td>\n",
       "      <td>Duration_days</td>\n",
       "      <td>0.217263</td>\n",
       "    </tr>\n",
       "    <tr>\n",
       "      <td>1</td>\n",
       "      <td>MonthlyCharges</td>\n",
       "      <td>0.133607</td>\n",
       "    </tr>\n",
       "    <tr>\n",
       "      <td>2</td>\n",
       "      <td>TotalCharges</td>\n",
       "      <td>0.133213</td>\n",
       "    </tr>\n",
       "    <tr>\n",
       "      <td>15</td>\n",
       "      <td>Type_Two year</td>\n",
       "      <td>0.105958</td>\n",
       "    </tr>\n",
       "    <tr>\n",
       "      <td>20</td>\n",
       "      <td>InternetService_Fiber optic</td>\n",
       "      <td>0.096787</td>\n",
       "    </tr>\n",
       "  </tbody>\n",
       "</table>\n",
       "</div>"
      ],
      "text/plain": [
       "                       features  feature_importance\n",
       "13                Duration_days            0.217263\n",
       "1                MonthlyCharges            0.133607\n",
       "2                  TotalCharges            0.133213\n",
       "15                Type_Two year            0.105958\n",
       "20  InternetService_Fiber optic            0.096787"
      ]
     },
     "metadata": {},
     "output_type": "display_data"
    }
   ],
   "source": [
    "model = RandomForestClassifier(random_state=12345, n_estimators=190, max_depth = 9, class_weight = 'balanced')\n",
    "model.fit(dfeatures_train, dtarget_train)\n",
    "\n",
    "predicted_valid = model.predict(dfeatures_valid)\n",
    "probabilities_valid = model.predict_proba(dfeatures_valid)\n",
    "probabilities_one_valid = probabilities_valid[:, 1]\n",
    "\n",
    "predicted_test = model.predict(dfeatures_test)\n",
    "probabilities_test = model.predict_proba(dfeatures_test)\n",
    "probabilities_one_test = probabilities_test[:, 1]\n",
    "print('AUC-ROC на вал выборке, RandomForestClassifier',roc_auc_score(dtarget_valid, probabilities_one_valid))\n",
    "print('Accuracy на вал выборке, RandomForestClassifier', accuracy_score(dtarget_valid , predicted_valid))\n",
    "print('AUC-ROC на тестовой выборке, RandomForestClassifier',roc_auc_score(dtarget_test, probabilities_one_test))\n",
    "print('Accuracy на тестовой выборке, RandomForestClassifier', accuracy_score(dtarget_test , predicted_test))\n",
    "feature_importances=pd.DataFrame({'features':dfeatures.columns,'feature_importance':model.feature_importances_})\n",
    "feature_importances = feature_importances.sort_values('feature_importance',ascending=False)\n",
    "display(feature_importances.head(5))"
   ]
  },
  {
   "cell_type": "code",
   "execution_count": 46,
   "metadata": {},
   "outputs": [
    {
     "name": "stdout",
     "output_type": "stream",
     "text": [
      "AUC-ROC на вал выборке, LGBMClassifier 0.87649223304413\n",
      "Accuracy на вал выборке, LGBMClassifier 0.8246983676366217\n",
      "AUC-ROC на тестовой выборке, LGBMClassifier 0.890404115071091\n",
      "Accuracy на тестовой выборке, LGBMClassifier 0.8133427963094393\n"
     ]
    },
    {
     "data": {
      "text/html": [
       "<div>\n",
       "<style scoped>\n",
       "    .dataframe tbody tr th:only-of-type {\n",
       "        vertical-align: middle;\n",
       "    }\n",
       "\n",
       "    .dataframe tbody tr th {\n",
       "        vertical-align: top;\n",
       "    }\n",
       "\n",
       "    .dataframe thead th {\n",
       "        text-align: right;\n",
       "    }\n",
       "</style>\n",
       "<table border=\"1\" class=\"dataframe\">\n",
       "  <thead>\n",
       "    <tr style=\"text-align: right;\">\n",
       "      <th></th>\n",
       "      <th>features</th>\n",
       "      <th>feature_importance</th>\n",
       "    </tr>\n",
       "  </thead>\n",
       "  <tbody>\n",
       "    <tr>\n",
       "      <td>13</td>\n",
       "      <td>Duration_days</td>\n",
       "      <td>1254</td>\n",
       "    </tr>\n",
       "    <tr>\n",
       "      <td>1</td>\n",
       "      <td>MonthlyCharges</td>\n",
       "      <td>1069</td>\n",
       "    </tr>\n",
       "    <tr>\n",
       "      <td>2</td>\n",
       "      <td>TotalCharges</td>\n",
       "      <td>792</td>\n",
       "    </tr>\n",
       "    <tr>\n",
       "      <td>19</td>\n",
       "      <td>gender_Male</td>\n",
       "      <td>148</td>\n",
       "    </tr>\n",
       "    <tr>\n",
       "      <td>4</td>\n",
       "      <td>Partner</td>\n",
       "      <td>106</td>\n",
       "    </tr>\n",
       "  </tbody>\n",
       "</table>\n",
       "</div>"
      ],
      "text/plain": [
       "          features  feature_importance\n",
       "13   Duration_days                1254\n",
       "1   MonthlyCharges                1069\n",
       "2     TotalCharges                 792\n",
       "19     gender_Male                 148\n",
       "4          Partner                 106"
      ]
     },
     "metadata": {},
     "output_type": "display_data"
    }
   ],
   "source": [
    "model = LGBMClassifier(random_state=42, n_estimators=150, max_depth = 9, class_weight = 'balanced')\n",
    "model.fit(dfeatures_train, dtarget_train)\n",
    "\n",
    "predicted_valid = model.predict(dfeatures_valid)\n",
    "probabilities_valid = model.predict_proba(dfeatures_valid)\n",
    "probabilities_one_valid = probabilities_valid[:, 1]\n",
    "\n",
    "predicted_test = model.predict(dfeatures_test)\n",
    "probabilities_test = model.predict_proba(dfeatures_test)\n",
    "probabilities_one_test = probabilities_test[:, 1]\n",
    "print('AUC-ROC на вал выборке, LGBMClassifier',roc_auc_score(dtarget_valid, probabilities_one_valid))\n",
    "print('Accuracy на вал выборке, LGBMClassifier', accuracy_score(dtarget_valid , predicted_valid))\n",
    "print('AUC-ROC на тестовой выборке, LGBMClassifier',roc_auc_score(dtarget_test, probabilities_one_test))\n",
    "print('Accuracy на тестовой выборке, LGBMClassifier', accuracy_score(dtarget_test , predicted_test))\n",
    "feature_importances=pd.DataFrame({'features':dfeatures.columns,'feature_importance':model.feature_importances_})\n",
    "feature_importances = feature_importances.sort_values('feature_importance',ascending=False)\n",
    "display(feature_importances.head(5))"
   ]
  },
  {
   "cell_type": "markdown",
   "metadata": {},
   "source": [
    "## Выводы\n"
   ]
  },
  {
   "cell_type": "markdown",
   "metadata": {},
   "source": [
    "По итогам тестирования лучшей моделью оказалась VotingClassifier, составленная из 3 моделей, имеющая на тестовой выборке ROC-AUC более 0.86 и accuracy почти 0.8. Очень близки оказались XGBCClassifier, LGBMClassifier и CatBoost с некодированными катеориальными переменными. \n",
    "\n",
    "На основании данных о важности факторов можно однозначно сказать, что наиболее важныи факторами при построении модели являются суммы платежа (как помесячная, так и общая), наличие опции оптоволокна у абонента, длительность договора и тип заключенного договора (помесячный платеж, договор на год и пр.).\n",
    "\n",
    "Также важно заметить, что при использовании в качестве меры длительности действия договора не месяцы, а дни, качество моделей существенно возрастает. Лидеры остаются те же: XGBCClassifier на тестовой показал ROC-AUC более 0.89, accuracy 0.84. В целом, даже RandomForest с подобранными вручную гиперпамаметрами без проблем имеет ROC-AUC более 0.86."
   ]
  }
 ],
 "metadata": {
  "ExecuteTimeLog": [
   {
    "duration": 113,
    "start_time": "2021-09-27T04:24:44.185Z"
   },
   {
    "duration": 1084,
    "start_time": "2021-09-27T04:28:39.981Z"
   },
   {
    "duration": 18,
    "start_time": "2021-09-27T04:28:41.068Z"
   },
   {
    "duration": 43,
    "start_time": "2021-09-27T04:28:41.090Z"
   },
   {
    "duration": 16,
    "start_time": "2021-09-27T04:28:41.135Z"
   },
   {
    "duration": 12,
    "start_time": "2021-09-27T04:28:41.153Z"
   },
   {
    "duration": 48,
    "start_time": "2021-09-27T04:28:41.168Z"
   },
   {
    "duration": 11,
    "start_time": "2021-09-27T04:28:41.219Z"
   },
   {
    "duration": 20,
    "start_time": "2021-09-27T04:28:41.232Z"
   },
   {
    "duration": 14,
    "start_time": "2021-09-27T04:28:41.255Z"
   },
   {
    "duration": 116,
    "start_time": "2021-09-27T04:28:41.271Z"
   },
   {
    "duration": -101,
    "start_time": "2021-09-27T04:28:41.491Z"
   },
   {
    "duration": -105,
    "start_time": "2021-09-27T04:28:41.496Z"
   },
   {
    "duration": 994,
    "start_time": "2021-09-27T04:29:12.172Z"
   },
   {
    "duration": 21,
    "start_time": "2021-09-27T04:29:13.169Z"
   },
   {
    "duration": 45,
    "start_time": "2021-09-27T04:29:13.193Z"
   },
   {
    "duration": 14,
    "start_time": "2021-09-27T04:29:13.241Z"
   },
   {
    "duration": 13,
    "start_time": "2021-09-27T04:29:13.257Z"
   },
   {
    "duration": 51,
    "start_time": "2021-09-27T04:29:13.272Z"
   },
   {
    "duration": 10,
    "start_time": "2021-09-27T04:29:13.326Z"
   },
   {
    "duration": 11,
    "start_time": "2021-09-27T04:29:13.339Z"
   },
   {
    "duration": 7,
    "start_time": "2021-09-27T04:29:13.353Z"
   },
   {
    "duration": 689,
    "start_time": "2021-09-27T04:29:13.362Z"
   },
   {
    "duration": 543,
    "start_time": "2021-09-27T04:29:14.053Z"
   },
   {
    "duration": 47,
    "start_time": "2021-09-27T04:34:08.686Z"
   },
   {
    "duration": 27,
    "start_time": "2021-09-27T04:34:46.671Z"
   },
   {
    "duration": 17,
    "start_time": "2021-09-27T04:35:02.388Z"
   },
   {
    "duration": 19,
    "start_time": "2021-09-27T04:35:11.734Z"
   },
   {
    "duration": 46,
    "start_time": "2021-09-27T04:36:24.578Z"
   },
   {
    "duration": 81,
    "start_time": "2021-09-27T04:36:26.394Z"
   },
   {
    "duration": 72,
    "start_time": "2021-09-27T04:37:07.808Z"
   },
   {
    "duration": 28,
    "start_time": "2021-09-27T04:55:43.453Z"
   },
   {
    "duration": 15,
    "start_time": "2021-09-27T04:56:05.504Z"
   },
   {
    "duration": 35,
    "start_time": "2021-09-27T04:57:41.546Z"
   },
   {
    "duration": 399,
    "start_time": "2021-09-27T05:06:13.267Z"
   },
   {
    "duration": 8,
    "start_time": "2021-09-27T05:06:23.356Z"
   },
   {
    "duration": 52,
    "start_time": "2021-09-27T05:06:31.252Z"
   },
   {
    "duration": 33,
    "start_time": "2021-09-27T05:08:08.822Z"
   },
   {
    "duration": 57,
    "start_time": "2021-09-27T05:08:10.193Z"
   },
   {
    "duration": 1703,
    "start_time": "2021-09-27T05:40:21.404Z"
   },
   {
    "duration": 18,
    "start_time": "2021-09-27T05:40:23.111Z"
   },
   {
    "duration": 23,
    "start_time": "2021-09-27T05:40:23.132Z"
   },
   {
    "duration": 14,
    "start_time": "2021-09-27T05:40:23.158Z"
   },
   {
    "duration": 48,
    "start_time": "2021-09-27T05:40:23.174Z"
   },
   {
    "duration": 16,
    "start_time": "2021-09-27T05:40:23.225Z"
   },
   {
    "duration": 17,
    "start_time": "2021-09-27T05:40:23.243Z"
   },
   {
    "duration": 19,
    "start_time": "2021-09-27T05:40:23.263Z"
   },
   {
    "duration": 34,
    "start_time": "2021-09-27T05:40:23.286Z"
   },
   {
    "duration": 557,
    "start_time": "2021-09-27T05:40:23.323Z"
   },
   {
    "duration": 663,
    "start_time": "2021-09-27T05:40:23.883Z"
   },
   {
    "duration": 43,
    "start_time": "2021-09-27T05:40:24.548Z"
   },
   {
    "duration": 54,
    "start_time": "2021-09-27T05:40:24.593Z"
   },
   {
    "duration": 30,
    "start_time": "2021-09-27T05:40:24.649Z"
   },
   {
    "duration": 40,
    "start_time": "2021-09-27T05:40:24.682Z"
   },
   {
    "duration": 40,
    "start_time": "2021-09-27T05:40:32.048Z"
   },
   {
    "duration": 14,
    "start_time": "2021-09-27T05:41:17.888Z"
   },
   {
    "duration": 61,
    "start_time": "2021-09-27T05:42:35.257Z"
   },
   {
    "duration": 18,
    "start_time": "2021-09-27T05:44:54.704Z"
   },
   {
    "duration": 565,
    "start_time": "2021-09-27T05:46:55.965Z"
   },
   {
    "duration": 1636,
    "start_time": "2021-09-27T05:59:01.007Z"
   },
   {
    "duration": 17,
    "start_time": "2021-09-27T05:59:02.646Z"
   },
   {
    "duration": 21,
    "start_time": "2021-09-27T05:59:02.666Z"
   },
   {
    "duration": 15,
    "start_time": "2021-09-27T05:59:02.716Z"
   },
   {
    "duration": 12,
    "start_time": "2021-09-27T05:59:02.733Z"
   },
   {
    "duration": 23,
    "start_time": "2021-09-27T05:59:02.748Z"
   },
   {
    "duration": 20,
    "start_time": "2021-09-27T05:59:02.774Z"
   },
   {
    "duration": 29,
    "start_time": "2021-09-27T05:59:02.796Z"
   },
   {
    "duration": 7,
    "start_time": "2021-09-27T05:59:02.830Z"
   },
   {
    "duration": 675,
    "start_time": "2021-09-27T05:59:02.840Z"
   },
   {
    "duration": 554,
    "start_time": "2021-09-27T05:59:03.518Z"
   },
   {
    "duration": 60,
    "start_time": "2021-09-27T05:59:04.075Z"
   },
   {
    "duration": 37,
    "start_time": "2021-09-27T05:59:04.138Z"
   },
   {
    "duration": 50,
    "start_time": "2021-09-27T05:59:04.177Z"
   },
   {
    "duration": 19,
    "start_time": "2021-09-27T05:59:04.230Z"
   },
   {
    "duration": 74,
    "start_time": "2021-09-27T05:59:04.251Z"
   },
   {
    "duration": 21,
    "start_time": "2021-09-27T05:59:04.327Z"
   },
   {
    "duration": 508,
    "start_time": "2021-09-27T05:59:04.350Z"
   },
   {
    "duration": 13,
    "start_time": "2021-09-27T05:59:44.774Z"
   },
   {
    "duration": 166,
    "start_time": "2021-09-27T06:01:54.494Z"
   },
   {
    "duration": 588,
    "start_time": "2021-09-27T06:02:02.902Z"
   },
   {
    "duration": 1657,
    "start_time": "2021-09-27T06:02:46.263Z"
   },
   {
    "duration": 17,
    "start_time": "2021-09-27T06:02:47.923Z"
   },
   {
    "duration": 22,
    "start_time": "2021-09-27T06:02:47.943Z"
   },
   {
    "duration": 53,
    "start_time": "2021-09-27T06:02:47.968Z"
   },
   {
    "duration": 13,
    "start_time": "2021-09-27T06:02:48.023Z"
   },
   {
    "duration": 12,
    "start_time": "2021-09-27T06:02:48.038Z"
   },
   {
    "duration": 17,
    "start_time": "2021-09-27T06:02:48.052Z"
   },
   {
    "duration": 12,
    "start_time": "2021-09-27T06:02:48.071Z"
   },
   {
    "duration": 8,
    "start_time": "2021-09-27T06:02:48.118Z"
   },
   {
    "duration": 567,
    "start_time": "2021-09-27T06:02:48.128Z"
   },
   {
    "duration": 558,
    "start_time": "2021-09-27T06:02:48.698Z"
   },
   {
    "duration": 57,
    "start_time": "2021-09-27T06:02:49.259Z"
   },
   {
    "duration": 38,
    "start_time": "2021-09-27T06:02:49.318Z"
   },
   {
    "duration": 31,
    "start_time": "2021-09-27T06:02:49.358Z"
   },
   {
    "duration": 39,
    "start_time": "2021-09-27T06:02:49.392Z"
   },
   {
    "duration": 8737,
    "start_time": "2021-09-27T06:02:49.434Z"
   },
   {
    "duration": -136,
    "start_time": "2021-09-27T06:02:58.309Z"
   },
   {
    "duration": -135,
    "start_time": "2021-09-27T06:02:58.310Z"
   },
   {
    "duration": -134,
    "start_time": "2021-09-27T06:02:58.311Z"
   },
   {
    "duration": 8,
    "start_time": "2021-09-27T17:04:28.065Z"
   },
   {
    "duration": 26,
    "start_time": "2021-09-27T17:04:36.257Z"
   },
   {
    "duration": 8701,
    "start_time": "2021-09-27T17:05:52.701Z"
   },
   {
    "duration": 11,
    "start_time": "2021-09-27T17:06:10.650Z"
   },
   {
    "duration": 119,
    "start_time": "2021-09-27T17:07:35.694Z"
   },
   {
    "duration": 121,
    "start_time": "2021-09-27T17:07:41.043Z"
   },
   {
    "duration": 9,
    "start_time": "2021-09-27T17:07:44.275Z"
   },
   {
    "duration": 365,
    "start_time": "2021-09-27T17:08:40.221Z"
   },
   {
    "duration": 8,
    "start_time": "2021-09-27T17:08:48.698Z"
   },
   {
    "duration": 406,
    "start_time": "2021-09-27T17:09:09.366Z"
   },
   {
    "duration": 12,
    "start_time": "2021-09-27T17:09:24.723Z"
   },
   {
    "duration": 12,
    "start_time": "2021-09-27T17:13:12.809Z"
   },
   {
    "duration": 12,
    "start_time": "2021-09-27T17:13:23.206Z"
   },
   {
    "duration": 919,
    "start_time": "2021-09-27T17:14:43.148Z"
   },
   {
    "duration": 2177,
    "start_time": "2021-09-27T17:14:52.081Z"
   },
   {
    "duration": 13,
    "start_time": "2021-09-27T17:15:31.023Z"
   },
   {
    "duration": 12,
    "start_time": "2021-09-27T17:16:16.454Z"
   },
   {
    "duration": 122,
    "start_time": "2021-09-27T17:18:47.119Z"
   },
   {
    "duration": 9,
    "start_time": "2021-09-27T17:18:51.848Z"
   },
   {
    "duration": 11,
    "start_time": "2021-09-27T17:20:08.761Z"
   },
   {
    "duration": 15,
    "start_time": "2021-09-27T17:20:13.890Z"
   },
   {
    "duration": 514,
    "start_time": "2021-09-27T17:21:23.967Z"
   },
   {
    "duration": 422,
    "start_time": "2021-09-27T17:21:39.073Z"
   },
   {
    "duration": 26,
    "start_time": "2021-09-27T17:22:25.045Z"
   },
   {
    "duration": 21,
    "start_time": "2021-09-27T17:22:28.572Z"
   },
   {
    "duration": 36,
    "start_time": "2021-09-27T17:22:57.943Z"
   },
   {
    "duration": 160,
    "start_time": "2021-09-27T17:28:39.757Z"
   },
   {
    "duration": 405,
    "start_time": "2021-09-27T17:32:28.860Z"
   },
   {
    "duration": 369,
    "start_time": "2021-09-27T17:37:19.597Z"
   },
   {
    "duration": 379,
    "start_time": "2021-09-27T17:37:32.019Z"
   },
   {
    "duration": 31,
    "start_time": "2021-09-27T17:37:59.005Z"
   },
   {
    "duration": 3015,
    "start_time": "2021-09-27T17:39:06.006Z"
   },
   {
    "duration": 33,
    "start_time": "2021-09-27T17:39:33.786Z"
   },
   {
    "duration": 7,
    "start_time": "2021-09-27T17:39:50.198Z"
   },
   {
    "duration": 8,
    "start_time": "2021-09-27T17:40:10.377Z"
   },
   {
    "duration": 8,
    "start_time": "2021-09-27T17:40:18.062Z"
   },
   {
    "duration": 11,
    "start_time": "2021-09-27T17:40:46.355Z"
   },
   {
    "duration": 13,
    "start_time": "2021-09-27T17:40:57.717Z"
   },
   {
    "duration": 385,
    "start_time": "2021-09-27T17:41:03.128Z"
   },
   {
    "duration": 16,
    "start_time": "2021-09-27T17:41:06.400Z"
   },
   {
    "duration": 21,
    "start_time": "2021-09-27T17:41:42.362Z"
   },
   {
    "duration": 626,
    "start_time": "2021-09-27T17:41:45.894Z"
   },
   {
    "duration": 468,
    "start_time": "2021-09-27T17:45:10.792Z"
   },
   {
    "duration": 113,
    "start_time": "2021-09-27T17:46:34.449Z"
   },
   {
    "duration": 70,
    "start_time": "2021-09-27T17:46:39.369Z"
   },
   {
    "duration": 68,
    "start_time": "2021-09-27T17:46:45.824Z"
   },
   {
    "duration": 1809,
    "start_time": "2021-09-27T17:46:52.207Z"
   },
   {
    "duration": 17,
    "start_time": "2021-09-27T17:46:54.018Z"
   },
   {
    "duration": 21,
    "start_time": "2021-09-27T17:46:54.038Z"
   },
   {
    "duration": 14,
    "start_time": "2021-09-27T17:46:54.062Z"
   },
   {
    "duration": 14,
    "start_time": "2021-09-27T17:46:54.078Z"
   },
   {
    "duration": 22,
    "start_time": "2021-09-27T17:46:54.094Z"
   },
   {
    "duration": 16,
    "start_time": "2021-09-27T17:46:54.119Z"
   },
   {
    "duration": 17,
    "start_time": "2021-09-27T17:46:54.138Z"
   },
   {
    "duration": 11,
    "start_time": "2021-09-27T17:46:54.161Z"
   },
   {
    "duration": 673,
    "start_time": "2021-09-27T17:46:54.175Z"
   },
   {
    "duration": 643,
    "start_time": "2021-09-27T17:46:54.851Z"
   },
   {
    "duration": 52,
    "start_time": "2021-09-27T17:46:55.497Z"
   },
   {
    "duration": 37,
    "start_time": "2021-09-27T17:46:55.552Z"
   },
   {
    "duration": 31,
    "start_time": "2021-09-27T17:46:55.591Z"
   },
   {
    "duration": 31,
    "start_time": "2021-09-27T17:46:55.625Z"
   },
   {
    "duration": 20,
    "start_time": "2021-09-27T17:46:55.659Z"
   },
   {
    "duration": 10,
    "start_time": "2021-09-27T17:46:55.717Z"
   },
   {
    "duration": 24,
    "start_time": "2021-09-27T17:46:55.729Z"
   },
   {
    "duration": 38,
    "start_time": "2021-09-27T17:46:55.755Z"
   },
   {
    "duration": 30,
    "start_time": "2021-09-27T17:46:55.796Z"
   },
   {
    "duration": 10,
    "start_time": "2021-09-27T17:46:55.829Z"
   },
   {
    "duration": 15,
    "start_time": "2021-09-27T17:46:55.842Z"
   },
   {
    "duration": 19,
    "start_time": "2021-09-27T17:46:55.860Z"
   },
   {
    "duration": 672,
    "start_time": "2021-09-27T17:46:55.917Z"
   },
   {
    "duration": 54,
    "start_time": "2021-09-27T17:46:56.591Z"
   },
   {
    "duration": 262,
    "start_time": "2021-09-27T17:55:15.936Z"
   },
   {
    "duration": 125,
    "start_time": "2021-09-27T17:56:27.593Z"
   },
   {
    "duration": 6,
    "start_time": "2021-09-27T17:58:56.353Z"
   },
   {
    "duration": 26,
    "start_time": "2021-09-27T17:59:10.019Z"
   },
   {
    "duration": 18,
    "start_time": "2021-09-27T18:00:01.118Z"
   },
   {
    "duration": 22,
    "start_time": "2021-09-27T18:00:04.072Z"
   },
   {
    "duration": 842,
    "start_time": "2021-09-27T18:00:08.018Z"
   },
   {
    "duration": 483,
    "start_time": "2021-09-27T18:00:48.223Z"
   },
   {
    "duration": 160,
    "start_time": "2021-09-27T18:00:55.166Z"
   },
   {
    "duration": 1699,
    "start_time": "2021-09-27T18:01:01.712Z"
   },
   {
    "duration": 19,
    "start_time": "2021-09-27T18:01:03.414Z"
   },
   {
    "duration": 22,
    "start_time": "2021-09-27T18:01:03.436Z"
   },
   {
    "duration": 14,
    "start_time": "2021-09-27T18:01:03.461Z"
   },
   {
    "duration": 50,
    "start_time": "2021-09-27T18:01:03.477Z"
   },
   {
    "duration": 12,
    "start_time": "2021-09-27T18:01:03.530Z"
   },
   {
    "duration": 11,
    "start_time": "2021-09-27T18:01:03.545Z"
   },
   {
    "duration": 13,
    "start_time": "2021-09-27T18:01:03.558Z"
   },
   {
    "duration": 10,
    "start_time": "2021-09-27T18:01:03.615Z"
   },
   {
    "duration": 861,
    "start_time": "2021-09-27T18:01:03.629Z"
   },
   {
    "duration": 654,
    "start_time": "2021-09-27T18:01:04.493Z"
   },
   {
    "duration": 42,
    "start_time": "2021-09-27T18:01:05.149Z"
   },
   {
    "duration": 53,
    "start_time": "2021-09-27T18:01:05.194Z"
   },
   {
    "duration": 12,
    "start_time": "2021-09-27T18:01:05.250Z"
   },
   {
    "duration": 64,
    "start_time": "2021-09-27T18:01:05.265Z"
   },
   {
    "duration": 24,
    "start_time": "2021-09-27T18:01:05.332Z"
   },
   {
    "duration": 9,
    "start_time": "2021-09-27T18:01:05.359Z"
   },
   {
    "duration": 46,
    "start_time": "2021-09-27T18:01:05.370Z"
   },
   {
    "duration": 39,
    "start_time": "2021-09-27T18:01:05.419Z"
   },
   {
    "duration": 12,
    "start_time": "2021-09-27T18:01:05.461Z"
   },
   {
    "duration": 43,
    "start_time": "2021-09-27T18:01:05.475Z"
   },
   {
    "duration": 23,
    "start_time": "2021-09-27T18:01:05.521Z"
   },
   {
    "duration": 22,
    "start_time": "2021-09-27T18:01:05.546Z"
   },
   {
    "duration": 1261,
    "start_time": "2021-09-27T18:01:05.571Z"
   },
   {
    "duration": 456,
    "start_time": "2021-09-27T18:01:06.378Z"
   },
   {
    "duration": 453,
    "start_time": "2021-09-27T18:01:06.383Z"
   },
   {
    "duration": 1452,
    "start_time": "2021-09-27T18:01:37.768Z"
   },
   {
    "duration": 1527,
    "start_time": "2021-09-27T18:01:55.727Z"
   },
   {
    "duration": 1046,
    "start_time": "2021-09-27T18:02:07.311Z"
   },
   {
    "duration": 731,
    "start_time": "2021-09-27T18:02:50.975Z"
   },
   {
    "duration": 361,
    "start_time": "2021-09-27T18:03:51.660Z"
   },
   {
    "duration": 37,
    "start_time": "2021-09-27T18:04:24.059Z"
   },
   {
    "duration": 55,
    "start_time": "2021-09-27T18:04:58.449Z"
   },
   {
    "duration": 360,
    "start_time": "2021-09-27T18:07:24.771Z"
   },
   {
    "duration": 10,
    "start_time": "2021-09-27T18:07:52.382Z"
   },
   {
    "duration": 13,
    "start_time": "2021-09-27T18:07:55.781Z"
   },
   {
    "duration": 12,
    "start_time": "2021-09-27T18:08:45.260Z"
   },
   {
    "duration": 359,
    "start_time": "2021-09-27T18:08:54.761Z"
   },
   {
    "duration": 12,
    "start_time": "2021-09-27T18:09:02.773Z"
   },
   {
    "duration": 9,
    "start_time": "2021-09-27T18:09:11.433Z"
   },
   {
    "duration": 12,
    "start_time": "2021-09-27T18:09:14.175Z"
   },
   {
    "duration": 9,
    "start_time": "2021-09-27T18:09:33.796Z"
   },
   {
    "duration": 11,
    "start_time": "2021-09-27T18:09:47.842Z"
   },
   {
    "duration": 11,
    "start_time": "2021-09-27T18:10:00.736Z"
   },
   {
    "duration": 386,
    "start_time": "2021-09-27T18:11:40.582Z"
   },
   {
    "duration": 555,
    "start_time": "2021-09-27T18:18:41.253Z"
   },
   {
    "duration": 357,
    "start_time": "2021-09-27T18:18:51.860Z"
   },
   {
    "duration": 8,
    "start_time": "2021-09-27T18:19:21.122Z"
   },
   {
    "duration": 9,
    "start_time": "2021-09-27T18:19:31.951Z"
   },
   {
    "duration": 10,
    "start_time": "2021-09-27T18:19:33.856Z"
   },
   {
    "duration": 1950,
    "start_time": "2021-09-27T18:21:11.606Z"
   },
   {
    "duration": 19,
    "start_time": "2021-09-27T18:21:13.559Z"
   },
   {
    "duration": 43,
    "start_time": "2021-09-27T18:21:13.582Z"
   },
   {
    "duration": 14,
    "start_time": "2021-09-27T18:21:13.628Z"
   },
   {
    "duration": 16,
    "start_time": "2021-09-27T18:21:13.644Z"
   },
   {
    "duration": 19,
    "start_time": "2021-09-27T18:21:13.663Z"
   },
   {
    "duration": 38,
    "start_time": "2021-09-27T18:21:13.684Z"
   },
   {
    "duration": 12,
    "start_time": "2021-09-27T18:21:13.724Z"
   },
   {
    "duration": 14,
    "start_time": "2021-09-27T18:21:13.740Z"
   },
   {
    "duration": 624,
    "start_time": "2021-09-27T18:21:13.757Z"
   },
   {
    "duration": 589,
    "start_time": "2021-09-27T18:21:14.383Z"
   },
   {
    "duration": 51,
    "start_time": "2021-09-27T18:21:14.975Z"
   },
   {
    "duration": 39,
    "start_time": "2021-09-27T18:21:15.029Z"
   },
   {
    "duration": 12,
    "start_time": "2021-09-27T18:21:15.071Z"
   },
   {
    "duration": 56,
    "start_time": "2021-09-27T18:21:15.086Z"
   },
   {
    "duration": 21,
    "start_time": "2021-09-27T18:21:15.145Z"
   },
   {
    "duration": 9,
    "start_time": "2021-09-27T18:21:15.168Z"
   },
   {
    "duration": 47,
    "start_time": "2021-09-27T18:21:15.180Z"
   },
   {
    "duration": 40,
    "start_time": "2021-09-27T18:21:15.229Z"
   },
   {
    "duration": 16,
    "start_time": "2021-09-27T18:21:15.272Z"
   },
   {
    "duration": 10,
    "start_time": "2021-09-27T18:21:15.316Z"
   },
   {
    "duration": 473,
    "start_time": "2021-09-27T18:21:15.328Z"
   },
   {
    "duration": 462,
    "start_time": "2021-09-27T18:21:15.342Z"
   },
   {
    "duration": 459,
    "start_time": "2021-09-27T18:21:15.346Z"
   },
   {
    "duration": 458,
    "start_time": "2021-09-27T18:21:15.349Z"
   },
   {
    "duration": 458,
    "start_time": "2021-09-27T18:21:15.350Z"
   },
   {
    "duration": 459,
    "start_time": "2021-09-27T18:21:15.351Z"
   },
   {
    "duration": 15,
    "start_time": "2021-09-27T18:21:31.274Z"
   },
   {
    "duration": 404,
    "start_time": "2021-09-27T18:21:46.332Z"
   },
   {
    "duration": 17,
    "start_time": "2021-09-27T18:21:52.727Z"
   },
   {
    "duration": 12,
    "start_time": "2021-09-27T18:22:06.969Z"
   },
   {
    "duration": 1666,
    "start_time": "2021-09-27T18:22:20.551Z"
   },
   {
    "duration": 18,
    "start_time": "2021-09-27T18:22:22.219Z"
   },
   {
    "duration": 31,
    "start_time": "2021-09-27T18:22:22.240Z"
   },
   {
    "duration": 48,
    "start_time": "2021-09-27T18:22:22.275Z"
   },
   {
    "duration": 14,
    "start_time": "2021-09-27T18:22:22.325Z"
   },
   {
    "duration": 12,
    "start_time": "2021-09-27T18:22:22.341Z"
   },
   {
    "duration": 11,
    "start_time": "2021-09-27T18:22:22.356Z"
   },
   {
    "duration": 56,
    "start_time": "2021-09-27T18:22:22.369Z"
   },
   {
    "duration": 9,
    "start_time": "2021-09-27T18:22:22.429Z"
   },
   {
    "duration": 599,
    "start_time": "2021-09-27T18:22:22.441Z"
   },
   {
    "duration": 577,
    "start_time": "2021-09-27T18:22:23.042Z"
   },
   {
    "duration": 41,
    "start_time": "2021-09-27T18:22:23.621Z"
   },
   {
    "duration": 63,
    "start_time": "2021-09-27T18:22:23.665Z"
   },
   {
    "duration": 10,
    "start_time": "2021-09-27T18:22:23.730Z"
   },
   {
    "duration": 33,
    "start_time": "2021-09-27T18:22:23.742Z"
   },
   {
    "duration": 46,
    "start_time": "2021-09-27T18:22:23.777Z"
   },
   {
    "duration": 9,
    "start_time": "2021-09-27T18:22:23.826Z"
   },
   {
    "duration": 14,
    "start_time": "2021-09-27T18:22:23.838Z"
   },
   {
    "duration": 63,
    "start_time": "2021-09-27T18:22:23.855Z"
   },
   {
    "duration": 12,
    "start_time": "2021-09-27T18:22:23.921Z"
   },
   {
    "duration": 7,
    "start_time": "2021-09-27T18:22:23.936Z"
   },
   {
    "duration": 18,
    "start_time": "2021-09-27T18:22:23.945Z"
   },
   {
    "duration": 63,
    "start_time": "2021-09-27T18:22:23.965Z"
   },
   {
    "duration": 60,
    "start_time": "2021-09-27T18:22:24.031Z"
   },
   {
    "duration": 757,
    "start_time": "2021-09-27T18:22:24.117Z"
   },
   {
    "duration": 363,
    "start_time": "2021-09-27T18:22:24.876Z"
   },
   {
    "duration": 173,
    "start_time": "2021-09-27T18:22:25.244Z"
   },
   {
    "duration": 866,
    "start_time": "2021-09-27T18:27:15.984Z"
   },
   {
    "duration": 703,
    "start_time": "2021-09-27T18:27:21.285Z"
   },
   {
    "duration": 806,
    "start_time": "2021-09-27T18:27:26.437Z"
   },
   {
    "duration": 755,
    "start_time": "2021-09-27T18:27:32.841Z"
   },
   {
    "duration": 256,
    "start_time": "2021-09-27T19:27:20.733Z"
   },
   {
    "duration": 1872,
    "start_time": "2021-09-27T19:27:30.026Z"
   },
   {
    "duration": 18,
    "start_time": "2021-09-27T19:27:31.902Z"
   },
   {
    "duration": 22,
    "start_time": "2021-09-27T19:27:31.926Z"
   },
   {
    "duration": 15,
    "start_time": "2021-09-27T19:27:31.950Z"
   },
   {
    "duration": 58,
    "start_time": "2021-09-27T19:27:31.968Z"
   },
   {
    "duration": 13,
    "start_time": "2021-09-27T19:27:32.028Z"
   },
   {
    "duration": 11,
    "start_time": "2021-09-27T19:27:32.044Z"
   },
   {
    "duration": 15,
    "start_time": "2021-09-27T19:27:32.060Z"
   },
   {
    "duration": 10,
    "start_time": "2021-09-27T19:27:32.118Z"
   },
   {
    "duration": 584,
    "start_time": "2021-09-27T19:27:32.131Z"
   },
   {
    "duration": 671,
    "start_time": "2021-09-27T19:27:32.717Z"
   },
   {
    "duration": 54,
    "start_time": "2021-09-27T19:27:33.390Z"
   },
   {
    "duration": 37,
    "start_time": "2021-09-27T19:27:33.447Z"
   },
   {
    "duration": 31,
    "start_time": "2021-09-27T19:27:33.486Z"
   },
   {
    "duration": 29,
    "start_time": "2021-09-27T19:27:33.520Z"
   },
   {
    "duration": 21,
    "start_time": "2021-09-27T19:27:33.552Z"
   },
   {
    "duration": 43,
    "start_time": "2021-09-27T19:27:33.575Z"
   },
   {
    "duration": 14,
    "start_time": "2021-09-27T19:27:33.620Z"
   },
   {
    "duration": 57,
    "start_time": "2021-09-27T19:27:33.636Z"
   },
   {
    "duration": 28,
    "start_time": "2021-09-27T19:27:33.696Z"
   },
   {
    "duration": 7,
    "start_time": "2021-09-27T19:27:33.727Z"
   },
   {
    "duration": 18,
    "start_time": "2021-09-27T19:27:33.736Z"
   },
   {
    "duration": 1080,
    "start_time": "2021-09-27T19:27:33.757Z"
   },
   {
    "duration": 383,
    "start_time": "2021-09-27T19:27:34.840Z"
   },
   {
    "duration": 95,
    "start_time": "2021-09-27T19:27:35.226Z"
   },
   {
    "duration": 350,
    "start_time": "2021-09-27T19:27:45.585Z"
   },
   {
    "duration": 88,
    "start_time": "2021-09-27T19:27:47.137Z"
   },
   {
    "duration": 470,
    "start_time": "2021-09-27T19:28:42.738Z"
   },
   {
    "duration": 484,
    "start_time": "2021-09-27T19:29:07.232Z"
   },
   {
    "duration": 125,
    "start_time": "2021-09-27T19:29:51.262Z"
   },
   {
    "duration": 928,
    "start_time": "2021-09-27T19:29:55.077Z"
   },
   {
    "duration": 1618,
    "start_time": "2021-09-27T19:30:04.328Z"
   },
   {
    "duration": 1710,
    "start_time": "2021-09-27T19:30:11.591Z"
   },
   {
    "duration": 2058,
    "start_time": "2021-09-27T19:30:17.665Z"
   },
   {
    "duration": 1514,
    "start_time": "2021-09-27T19:33:08.806Z"
   },
   {
    "duration": 38779,
    "start_time": "2021-09-27T19:33:31.191Z"
   },
   {
    "duration": 38115,
    "start_time": "2021-09-27T19:34:14.422Z"
   },
   {
    "duration": 38165,
    "start_time": "2021-09-27T19:35:16.345Z"
   },
   {
    "duration": 33593,
    "start_time": "2021-09-27T19:38:17.052Z"
   },
   {
    "duration": 1974,
    "start_time": "2021-09-27T19:39:43.330Z"
   },
   {
    "duration": 3418,
    "start_time": "2021-09-27T19:39:54.142Z"
   },
   {
    "duration": 1141,
    "start_time": "2021-09-27T19:40:03.431Z"
   },
   {
    "duration": 875,
    "start_time": "2021-09-27T19:40:12.564Z"
   },
   {
    "duration": 32867,
    "start_time": "2021-09-27T19:40:56.462Z"
   },
   {
    "duration": 6619,
    "start_time": "2021-09-27T19:41:51.440Z"
   },
   {
    "duration": 19,
    "start_time": "2021-09-27T19:42:45.751Z"
   },
   {
    "duration": 1807,
    "start_time": "2021-09-27T19:42:56.704Z"
   },
   {
    "duration": 17,
    "start_time": "2021-09-27T19:42:58.514Z"
   },
   {
    "duration": 22,
    "start_time": "2021-09-27T19:42:58.534Z"
   },
   {
    "duration": 14,
    "start_time": "2021-09-27T19:42:58.559Z"
   },
   {
    "duration": 46,
    "start_time": "2021-09-27T19:42:58.576Z"
   },
   {
    "duration": 12,
    "start_time": "2021-09-27T19:42:58.625Z"
   },
   {
    "duration": 10,
    "start_time": "2021-09-27T19:42:58.640Z"
   },
   {
    "duration": 11,
    "start_time": "2021-09-27T19:42:58.653Z"
   },
   {
    "duration": 50,
    "start_time": "2021-09-27T19:42:58.668Z"
   },
   {
    "duration": 577,
    "start_time": "2021-09-27T19:42:58.721Z"
   },
   {
    "duration": 565,
    "start_time": "2021-09-27T19:42:59.301Z"
   },
   {
    "duration": 52,
    "start_time": "2021-09-27T19:42:59.868Z"
   },
   {
    "duration": 38,
    "start_time": "2021-09-27T19:42:59.923Z"
   },
   {
    "duration": 10,
    "start_time": "2021-09-27T19:42:59.963Z"
   },
   {
    "duration": 62,
    "start_time": "2021-09-27T19:42:59.976Z"
   },
   {
    "duration": 21,
    "start_time": "2021-09-27T19:43:00.041Z"
   },
   {
    "duration": 10,
    "start_time": "2021-09-27T19:43:00.064Z"
   },
   {
    "duration": 47,
    "start_time": "2021-09-27T19:43:00.077Z"
   },
   {
    "duration": 42,
    "start_time": "2021-09-27T19:43:00.127Z"
   },
   {
    "duration": 12,
    "start_time": "2021-09-27T19:43:00.172Z"
   },
   {
    "duration": 34,
    "start_time": "2021-09-27T19:43:00.186Z"
   },
   {
    "duration": 25,
    "start_time": "2021-09-27T19:43:00.223Z"
   },
   {
    "duration": 844,
    "start_time": "2021-09-27T19:43:00.250Z"
   },
   {
    "duration": 414,
    "start_time": "2021-09-27T19:43:01.096Z"
   },
   {
    "duration": 108,
    "start_time": "2021-09-27T19:43:01.512Z"
   },
   {
    "duration": 1010,
    "start_time": "2021-09-27T19:43:01.623Z"
   },
   {
    "duration": 34062,
    "start_time": "2021-09-27T19:43:02.637Z"
   },
   {
    "duration": 6858,
    "start_time": "2021-09-27T19:43:36.701Z"
   },
   {
    "duration": 176,
    "start_time": "2021-09-27T19:46:18.888Z"
   },
   {
    "duration": 179,
    "start_time": "2021-09-27T19:46:25.345Z"
   },
   {
    "duration": 1281,
    "start_time": "2021-09-27T19:46:31.347Z"
   },
   {
    "duration": 179,
    "start_time": "2021-09-27T19:46:36.289Z"
   },
   {
    "duration": 242,
    "start_time": "2021-09-27T19:50:27.103Z"
   },
   {
    "duration": 2089,
    "start_time": "2021-09-27T19:50:31.965Z"
   },
   {
    "duration": 541,
    "start_time": "2021-09-27T19:50:39.229Z"
   },
   {
    "duration": 354,
    "start_time": "2021-09-27T19:50:46.156Z"
   },
   {
    "duration": 296,
    "start_time": "2021-09-27T19:50:50.160Z"
   },
   {
    "duration": 294,
    "start_time": "2021-09-27T19:50:54.903Z"
   },
   {
    "duration": 184,
    "start_time": "2021-09-27T19:51:02.307Z"
   },
   {
    "duration": 16790,
    "start_time": "2021-09-27T19:53:44.458Z"
   },
   {
    "duration": 29028,
    "start_time": "2021-09-27T19:54:38.946Z"
   },
   {
    "duration": 28582,
    "start_time": "2021-09-27T19:55:23.725Z"
   },
   {
    "duration": 18800,
    "start_time": "2021-09-27T19:56:23.192Z"
   },
   {
    "duration": 22943,
    "start_time": "2021-09-27T19:57:16.788Z"
   },
   {
    "duration": 42,
    "start_time": "2021-09-27T20:00:58.893Z"
   },
   {
    "duration": 23,
    "start_time": "2021-09-27T20:01:15.922Z"
   },
   {
    "duration": 21,
    "start_time": "2021-09-27T20:01:47.262Z"
   },
   {
    "duration": 22,
    "start_time": "2021-09-27T20:01:50.430Z"
   },
   {
    "duration": 57,
    "start_time": "2021-09-27T20:01:55.455Z"
   },
   {
    "duration": 25,
    "start_time": "2021-09-27T20:09:59.409Z"
   },
   {
    "duration": 1947,
    "start_time": "2021-09-27T20:10:06.297Z"
   },
   {
    "duration": 18,
    "start_time": "2021-09-27T20:10:08.246Z"
   },
   {
    "duration": 62,
    "start_time": "2021-09-27T20:10:08.267Z"
   },
   {
    "duration": 16,
    "start_time": "2021-09-27T20:10:08.334Z"
   },
   {
    "duration": 24,
    "start_time": "2021-09-27T20:10:08.352Z"
   },
   {
    "duration": 39,
    "start_time": "2021-09-27T20:10:08.379Z"
   },
   {
    "duration": 16,
    "start_time": "2021-09-27T20:10:08.423Z"
   },
   {
    "duration": 23,
    "start_time": "2021-09-27T20:10:08.441Z"
   },
   {
    "duration": 15,
    "start_time": "2021-09-27T20:10:08.469Z"
   },
   {
    "duration": 637,
    "start_time": "2021-09-27T20:10:08.488Z"
   },
   {
    "duration": 693,
    "start_time": "2021-09-27T20:10:09.129Z"
   },
   {
    "duration": 46,
    "start_time": "2021-09-27T20:10:09.825Z"
   },
   {
    "duration": 71,
    "start_time": "2021-09-27T20:10:09.874Z"
   },
   {
    "duration": 11,
    "start_time": "2021-09-27T20:10:09.947Z"
   },
   {
    "duration": 62,
    "start_time": "2021-09-27T20:10:09.960Z"
   },
   {
    "duration": 33,
    "start_time": "2021-09-27T20:10:10.026Z"
   },
   {
    "duration": 10,
    "start_time": "2021-09-27T20:10:10.062Z"
   },
   {
    "duration": 23,
    "start_time": "2021-09-27T20:10:10.074Z"
   },
   {
    "duration": 51,
    "start_time": "2021-09-27T20:10:10.118Z"
   },
   {
    "duration": 15,
    "start_time": "2021-09-27T20:10:10.173Z"
   },
   {
    "duration": 61,
    "start_time": "2021-09-27T20:10:10.218Z"
   },
   {
    "duration": 50,
    "start_time": "2021-09-27T20:10:10.282Z"
   },
   {
    "duration": 924,
    "start_time": "2021-09-27T20:10:10.335Z"
   },
   {
    "duration": 378,
    "start_time": "2021-09-27T20:10:11.262Z"
   },
   {
    "duration": 81,
    "start_time": "2021-09-27T20:10:11.643Z"
   },
   {
    "duration": 1056,
    "start_time": "2021-09-27T20:10:11.726Z"
   },
   {
    "duration": 170,
    "start_time": "2021-09-27T20:10:12.787Z"
   },
   {
    "duration": 171,
    "start_time": "2021-09-27T20:10:12.960Z"
   },
   {
    "duration": 33344,
    "start_time": "2021-09-27T20:10:13.134Z"
   },
   {
    "duration": 6758,
    "start_time": "2021-09-27T20:10:46.482Z"
   },
   {
    "duration": 22168,
    "start_time": "2021-09-27T20:10:53.242Z"
   },
   {
    "duration": 13792,
    "start_time": "2021-09-27T20:18:55.876Z"
   },
   {
    "duration": 15316,
    "start_time": "2021-09-27T20:19:17.390Z"
   },
   {
    "duration": 5578,
    "start_time": "2021-09-27T20:22:24.292Z"
   },
   {
    "duration": 5404,
    "start_time": "2021-09-27T20:23:38.997Z"
   },
   {
    "duration": 4952,
    "start_time": "2021-09-27T20:26:24.767Z"
   },
   {
    "duration": 5405,
    "start_time": "2021-09-27T20:26:43.878Z"
   },
   {
    "duration": 5877,
    "start_time": "2021-09-27T20:27:20.728Z"
   },
   {
    "duration": 106,
    "start_time": "2021-09-27T20:27:53.720Z"
   },
   {
    "duration": 4800,
    "start_time": "2021-09-27T20:27:56.552Z"
   },
   {
    "duration": 368,
    "start_time": "2021-09-27T20:30:25.118Z"
   },
   {
    "duration": 4941,
    "start_time": "2021-09-27T20:30:33.007Z"
   },
   {
    "duration": 4502,
    "start_time": "2021-09-27T20:32:27.287Z"
   },
   {
    "duration": 8499,
    "start_time": "2021-09-27T20:32:37.233Z"
   },
   {
    "duration": 19854,
    "start_time": "2021-09-27T20:32:54.565Z"
   },
   {
    "duration": 4865,
    "start_time": "2021-09-27T20:34:42.629Z"
   },
   {
    "duration": 529,
    "start_time": "2021-09-27T20:35:04.957Z"
   },
   {
    "duration": 29129,
    "start_time": "2021-09-27T20:35:20.129Z"
   },
   {
    "duration": 21627,
    "start_time": "2021-09-27T20:36:00.418Z"
   },
   {
    "duration": 1728,
    "start_time": "2021-09-27T20:36:50.169Z"
   },
   {
    "duration": 19,
    "start_time": "2021-09-27T20:36:51.900Z"
   },
   {
    "duration": 32,
    "start_time": "2021-09-27T20:36:51.923Z"
   },
   {
    "duration": 20,
    "start_time": "2021-09-27T20:36:51.959Z"
   },
   {
    "duration": 49,
    "start_time": "2021-09-27T20:36:51.982Z"
   },
   {
    "duration": 28,
    "start_time": "2021-09-27T20:36:52.034Z"
   },
   {
    "duration": 21,
    "start_time": "2021-09-27T20:36:52.065Z"
   },
   {
    "duration": 23,
    "start_time": "2021-09-27T20:36:52.089Z"
   },
   {
    "duration": 8,
    "start_time": "2021-09-27T20:36:52.120Z"
   },
   {
    "duration": 596,
    "start_time": "2021-09-27T20:36:52.133Z"
   },
   {
    "duration": 582,
    "start_time": "2021-09-27T20:36:52.732Z"
   },
   {
    "duration": 45,
    "start_time": "2021-09-27T20:36:53.316Z"
   },
   {
    "duration": 46,
    "start_time": "2021-09-27T20:36:53.363Z"
   },
   {
    "duration": 10,
    "start_time": "2021-09-27T20:36:53.417Z"
   },
   {
    "duration": 44,
    "start_time": "2021-09-27T20:36:53.430Z"
   },
   {
    "duration": 20,
    "start_time": "2021-09-27T20:36:53.476Z"
   },
   {
    "duration": 12,
    "start_time": "2021-09-27T20:36:53.498Z"
   },
   {
    "duration": 47,
    "start_time": "2021-09-27T20:36:53.513Z"
   },
   {
    "duration": 56,
    "start_time": "2021-09-27T20:36:53.562Z"
   },
   {
    "duration": 11,
    "start_time": "2021-09-27T20:36:53.621Z"
   },
   {
    "duration": 75,
    "start_time": "2021-09-27T20:36:53.634Z"
   },
   {
    "duration": 18,
    "start_time": "2021-09-27T20:36:53.711Z"
   },
   {
    "duration": 899,
    "start_time": "2021-09-27T20:36:53.732Z"
   },
   {
    "duration": 640,
    "start_time": "2021-09-27T20:36:54.633Z"
   },
   {
    "duration": 67,
    "start_time": "2021-09-27T20:36:55.276Z"
   },
   {
    "duration": 982,
    "start_time": "2021-09-27T20:36:55.420Z"
   },
   {
    "duration": 161,
    "start_time": "2021-09-27T20:36:56.415Z"
   },
   {
    "duration": 16962,
    "start_time": "2021-09-27T20:36:56.579Z"
   },
   {
    "duration": 34402,
    "start_time": "2021-09-27T20:37:13.544Z"
   },
   {
    "duration": 6904,
    "start_time": "2021-09-27T20:37:47.948Z"
   },
   {
    "duration": 23181,
    "start_time": "2021-09-27T20:37:54.854Z"
   },
   {
    "duration": 10,
    "start_time": "2021-09-27T20:40:03.726Z"
   },
   {
    "duration": 22,
    "start_time": "2021-09-27T20:40:18.441Z"
   },
   {
    "duration": 1646,
    "start_time": "2021-09-27T20:42:46.821Z"
   },
   {
    "duration": 17,
    "start_time": "2021-09-27T20:42:48.470Z"
   },
   {
    "duration": 39,
    "start_time": "2021-09-27T20:42:48.490Z"
   },
   {
    "duration": 15,
    "start_time": "2021-09-27T20:42:48.532Z"
   },
   {
    "duration": 14,
    "start_time": "2021-09-27T20:42:48.550Z"
   },
   {
    "duration": 59,
    "start_time": "2021-09-27T20:42:48.567Z"
   },
   {
    "duration": 11,
    "start_time": "2021-09-27T20:42:48.629Z"
   },
   {
    "duration": 13,
    "start_time": "2021-09-27T20:42:48.643Z"
   },
   {
    "duration": 9,
    "start_time": "2021-09-27T20:42:48.660Z"
   },
   {
    "duration": 579,
    "start_time": "2021-09-27T20:42:48.717Z"
   },
   {
    "duration": 572,
    "start_time": "2021-09-27T20:42:49.298Z"
   },
   {
    "duration": 54,
    "start_time": "2021-09-27T20:42:49.872Z"
   },
   {
    "duration": 39,
    "start_time": "2021-09-27T20:42:49.928Z"
   },
   {
    "duration": 11,
    "start_time": "2021-09-27T20:42:49.969Z"
   },
   {
    "duration": 56,
    "start_time": "2021-09-27T20:42:49.982Z"
   },
   {
    "duration": 11,
    "start_time": "2021-09-27T20:42:50.040Z"
   },
   {
    "duration": 18,
    "start_time": "2021-09-27T20:42:50.053Z"
   },
   {
    "duration": 42,
    "start_time": "2021-09-27T20:42:50.074Z"
   },
   {
    "duration": 39,
    "start_time": "2021-09-27T20:42:50.119Z"
   },
   {
    "duration": 11,
    "start_time": "2021-09-27T20:42:50.161Z"
   },
   {
    "duration": 83,
    "start_time": "2021-09-27T20:42:50.174Z"
   },
   {
    "duration": 19,
    "start_time": "2021-09-27T20:42:50.259Z"
   },
   {
    "duration": 23514,
    "start_time": "2021-09-27T20:42:50.281Z"
   },
   {
    "duration": 33789,
    "start_time": "2021-09-27T20:43:13.797Z"
   },
   {
    "duration": 6845,
    "start_time": "2021-09-27T20:43:47.589Z"
   },
   {
    "duration": 18224,
    "start_time": "2021-09-27T20:43:54.437Z"
   },
   {
    "duration": 835,
    "start_time": "2021-09-27T20:44:12.666Z"
   },
   {
    "duration": 120,
    "start_time": "2021-09-27T20:44:13.503Z"
   },
   {
    "duration": 824,
    "start_time": "2021-09-27T20:44:13.626Z"
   },
   {
    "duration": 170,
    "start_time": "2021-09-27T20:44:14.452Z"
   },
   {
    "duration": 32,
    "start_time": "2021-09-27T20:44:14.625Z"
   },
   {
    "duration": 20,
    "start_time": "2021-09-27T20:48:16.078Z"
   },
   {
    "duration": 59,
    "start_time": "2021-09-27T20:49:45.480Z"
   },
   {
    "duration": 7524,
    "start_time": "2021-09-27T20:51:01.919Z"
   },
   {
    "duration": 15,
    "start_time": "2021-09-27T20:52:38.820Z"
   },
   {
    "duration": 24,
    "start_time": "2021-09-27T20:54:20.445Z"
   },
   {
    "duration": 15,
    "start_time": "2021-09-27T20:54:25.944Z"
   },
   {
    "duration": 1760,
    "start_time": "2021-09-27T20:54:43.330Z"
   },
   {
    "duration": 18,
    "start_time": "2021-09-27T20:54:45.093Z"
   },
   {
    "duration": 22,
    "start_time": "2021-09-27T20:54:45.117Z"
   },
   {
    "duration": 14,
    "start_time": "2021-09-27T20:54:45.141Z"
   },
   {
    "duration": 12,
    "start_time": "2021-09-27T20:54:45.157Z"
   },
   {
    "duration": 55,
    "start_time": "2021-09-27T20:54:45.171Z"
   },
   {
    "duration": 11,
    "start_time": "2021-09-27T20:54:45.228Z"
   },
   {
    "duration": 12,
    "start_time": "2021-09-27T20:54:45.241Z"
   },
   {
    "duration": 7,
    "start_time": "2021-09-27T20:54:45.258Z"
   },
   {
    "duration": 603,
    "start_time": "2021-09-27T20:54:45.268Z"
   },
   {
    "duration": 595,
    "start_time": "2021-09-27T20:54:45.875Z"
   },
   {
    "duration": 57,
    "start_time": "2021-09-27T20:54:46.473Z"
   },
   {
    "duration": 37,
    "start_time": "2021-09-27T20:54:46.533Z"
   },
   {
    "duration": 10,
    "start_time": "2021-09-27T20:54:46.573Z"
   },
   {
    "duration": 60,
    "start_time": "2021-09-27T20:54:46.585Z"
   },
   {
    "duration": 12,
    "start_time": "2021-09-27T20:54:46.647Z"
   },
   {
    "duration": 18,
    "start_time": "2021-09-27T20:54:46.662Z"
   },
   {
    "duration": 42,
    "start_time": "2021-09-27T20:54:46.683Z"
   },
   {
    "duration": 41,
    "start_time": "2021-09-27T20:54:46.727Z"
   },
   {
    "duration": 13,
    "start_time": "2021-09-27T20:54:46.770Z"
   },
   {
    "duration": 82,
    "start_time": "2021-09-27T20:54:46.785Z"
   },
   {
    "duration": 27,
    "start_time": "2021-09-27T20:54:46.870Z"
   },
   {
    "duration": 23025,
    "start_time": "2021-09-27T20:54:46.916Z"
   },
   {
    "duration": 34173,
    "start_time": "2021-09-27T20:55:09.943Z"
   },
   {
    "duration": 6691,
    "start_time": "2021-09-27T20:55:44.119Z"
   },
   {
    "duration": 17236,
    "start_time": "2021-09-27T20:55:50.816Z"
   },
   {
    "duration": 846,
    "start_time": "2021-09-27T20:56:08.057Z"
   },
   {
    "duration": 114,
    "start_time": "2021-09-27T20:56:08.906Z"
   },
   {
    "duration": 843,
    "start_time": "2021-09-27T20:56:09.024Z"
   },
   {
    "duration": 175,
    "start_time": "2021-09-27T20:56:09.869Z"
   },
   {
    "duration": 28,
    "start_time": "2021-09-27T20:56:10.047Z"
   },
   {
    "duration": 45,
    "start_time": "2021-09-27T20:56:10.077Z"
   },
   {
    "duration": 519,
    "start_time": "2021-09-27T20:56:10.125Z"
   },
   {
    "duration": 5968,
    "start_time": "2021-09-27T20:56:54.649Z"
   },
   {
    "duration": 19478,
    "start_time": "2021-09-27T20:57:21.150Z"
   },
   {
    "duration": 16821,
    "start_time": "2021-09-27T20:57:46.957Z"
   },
   {
    "duration": 360,
    "start_time": "2021-09-27T21:04:26.635Z"
   },
   {
    "duration": 12254,
    "start_time": "2021-09-27T21:05:00.394Z"
   },
   {
    "duration": 24,
    "start_time": "2021-09-27T21:07:00.382Z"
   },
   {
    "duration": 15615,
    "start_time": "2021-09-27T21:07:02.826Z"
   },
   {
    "duration": 1771,
    "start_time": "2021-09-27T21:08:42.356Z"
   },
   {
    "duration": 18,
    "start_time": "2021-09-27T21:08:44.130Z"
   },
   {
    "duration": 30,
    "start_time": "2021-09-27T21:08:44.150Z"
   },
   {
    "duration": 34,
    "start_time": "2021-09-27T21:08:44.183Z"
   },
   {
    "duration": 12,
    "start_time": "2021-09-27T21:08:44.220Z"
   },
   {
    "duration": 31,
    "start_time": "2021-09-27T21:08:44.234Z"
   },
   {
    "duration": 28,
    "start_time": "2021-09-27T21:08:44.267Z"
   },
   {
    "duration": 19,
    "start_time": "2021-09-27T21:08:44.297Z"
   },
   {
    "duration": 7,
    "start_time": "2021-09-27T21:08:44.321Z"
   },
   {
    "duration": 567,
    "start_time": "2021-09-27T21:08:44.331Z"
   },
   {
    "duration": 553,
    "start_time": "2021-09-27T21:08:44.901Z"
   },
   {
    "duration": 42,
    "start_time": "2021-09-27T21:08:45.457Z"
   },
   {
    "duration": 50,
    "start_time": "2021-09-27T21:08:45.501Z"
   },
   {
    "duration": 20,
    "start_time": "2021-09-27T21:08:45.553Z"
   },
   {
    "duration": 50,
    "start_time": "2021-09-27T21:08:45.575Z"
   },
   {
    "duration": 11,
    "start_time": "2021-09-27T21:08:45.627Z"
   },
   {
    "duration": 30,
    "start_time": "2021-09-27T21:08:45.640Z"
   },
   {
    "duration": 27,
    "start_time": "2021-09-27T21:08:45.673Z"
   },
   {
    "duration": 46,
    "start_time": "2021-09-27T21:08:45.703Z"
   },
   {
    "duration": 11,
    "start_time": "2021-09-27T21:08:45.752Z"
   },
   {
    "duration": 28,
    "start_time": "2021-09-27T21:08:45.765Z"
   },
   {
    "duration": 23362,
    "start_time": "2021-09-27T21:08:45.795Z"
   },
   {
    "duration": 34078,
    "start_time": "2021-09-27T21:09:09.160Z"
   },
   {
    "duration": 6746,
    "start_time": "2021-09-27T21:09:43.240Z"
   },
   {
    "duration": 12497,
    "start_time": "2021-09-27T21:09:49.989Z"
   },
   {
    "duration": 834,
    "start_time": "2021-09-27T21:10:02.488Z"
   },
   {
    "duration": 99,
    "start_time": "2021-09-27T21:10:03.326Z"
   },
   {
    "duration": 813,
    "start_time": "2021-09-27T21:10:03.518Z"
   },
   {
    "duration": 169,
    "start_time": "2021-09-27T21:10:04.334Z"
   },
   {
    "duration": 29,
    "start_time": "2021-09-27T21:10:04.505Z"
   },
   {
    "duration": 496,
    "start_time": "2021-09-27T21:10:04.537Z"
   },
   {
    "duration": 13997,
    "start_time": "2021-09-27T21:10:22.236Z"
   },
   {
    "duration": 12512,
    "start_time": "2021-09-27T21:11:55.782Z"
   },
   {
    "duration": 321,
    "start_time": "2021-09-27T21:13:17.301Z"
   },
   {
    "duration": 397,
    "start_time": "2021-09-27T21:13:35.701Z"
   },
   {
    "duration": 349,
    "start_time": "2021-09-27T21:13:56.909Z"
   },
   {
    "duration": 365,
    "start_time": "2021-09-27T21:14:06.695Z"
   },
   {
    "duration": 340,
    "start_time": "2021-09-27T21:14:22.671Z"
   },
   {
    "duration": 344,
    "start_time": "2021-09-27T21:15:22.065Z"
   },
   {
    "duration": 388,
    "start_time": "2021-09-27T21:15:35.795Z"
   },
   {
    "duration": 23493,
    "start_time": "2021-09-27T21:15:48.325Z"
   },
   {
    "duration": 10947,
    "start_time": "2021-09-27T21:16:18.957Z"
   },
   {
    "duration": 344,
    "start_time": "2021-09-27T21:17:30.803Z"
   },
   {
    "duration": 24,
    "start_time": "2021-09-27T21:18:09.435Z"
   },
   {
    "duration": 1853,
    "start_time": "2021-09-27T21:20:21.206Z"
   },
   {
    "duration": 18,
    "start_time": "2021-09-27T21:20:23.062Z"
   },
   {
    "duration": 46,
    "start_time": "2021-09-27T21:20:23.087Z"
   },
   {
    "duration": 15,
    "start_time": "2021-09-27T21:20:23.135Z"
   },
   {
    "duration": 13,
    "start_time": "2021-09-27T21:20:23.152Z"
   },
   {
    "duration": 54,
    "start_time": "2021-09-27T21:20:23.167Z"
   },
   {
    "duration": 11,
    "start_time": "2021-09-27T21:20:23.223Z"
   },
   {
    "duration": 12,
    "start_time": "2021-09-27T21:20:23.238Z"
   },
   {
    "duration": 8,
    "start_time": "2021-09-27T21:20:23.253Z"
   },
   {
    "duration": 600,
    "start_time": "2021-09-27T21:20:23.263Z"
   },
   {
    "duration": 559,
    "start_time": "2021-09-27T21:20:23.865Z"
   },
   {
    "duration": 42,
    "start_time": "2021-09-27T21:20:24.427Z"
   },
   {
    "duration": 57,
    "start_time": "2021-09-27T21:20:24.472Z"
   },
   {
    "duration": 11,
    "start_time": "2021-09-27T21:20:24.532Z"
   },
   {
    "duration": 30,
    "start_time": "2021-09-27T21:20:24.546Z"
   },
   {
    "duration": 41,
    "start_time": "2021-09-27T21:20:24.578Z"
   },
   {
    "duration": 20,
    "start_time": "2021-09-27T21:20:24.621Z"
   },
   {
    "duration": 22,
    "start_time": "2021-09-27T21:20:24.644Z"
   },
   {
    "duration": 62,
    "start_time": "2021-09-27T21:20:24.669Z"
   },
   {
    "duration": 12,
    "start_time": "2021-09-27T21:20:24.733Z"
   },
   {
    "duration": 21,
    "start_time": "2021-09-27T21:20:24.748Z"
   },
   {
    "duration": 23125,
    "start_time": "2021-09-27T21:20:24.771Z"
   },
   {
    "duration": 33382,
    "start_time": "2021-09-27T21:20:47.898Z"
   },
   {
    "duration": 6714,
    "start_time": "2021-09-27T21:21:21.282Z"
   },
   {
    "duration": 11043,
    "start_time": "2021-09-27T21:21:27.999Z"
   },
   {
    "duration": 851,
    "start_time": "2021-09-27T21:21:39.047Z"
   },
   {
    "duration": 118,
    "start_time": "2021-09-27T21:21:39.900Z"
   },
   {
    "duration": 929,
    "start_time": "2021-09-27T21:21:40.028Z"
   },
   {
    "duration": 186,
    "start_time": "2021-09-27T21:21:40.961Z"
   },
   {
    "duration": 193,
    "start_time": "2021-09-27T21:21:41.150Z"
   },
   {
    "duration": 195,
    "start_time": "2021-09-27T21:21:41.345Z"
   },
   {
    "duration": 23,
    "start_time": "2021-09-27T21:21:41.542Z"
   },
   {
    "duration": 594,
    "start_time": "2021-09-27T21:21:41.568Z"
   },
   {
    "duration": 454,
    "start_time": "2021-09-27T21:23:49.908Z"
   },
   {
    "duration": 935,
    "start_time": "2021-09-27T21:24:45.434Z"
   },
   {
    "duration": 53,
    "start_time": "2021-09-27T21:26:09.972Z"
   },
   {
    "duration": 55,
    "start_time": "2021-09-27T21:26:25.565Z"
   },
   {
    "duration": 1757,
    "start_time": "2021-09-27T21:27:36.038Z"
   },
   {
    "duration": 18,
    "start_time": "2021-09-27T21:27:37.798Z"
   },
   {
    "duration": 24,
    "start_time": "2021-09-27T21:27:37.825Z"
   },
   {
    "duration": 16,
    "start_time": "2021-09-27T21:27:37.851Z"
   },
   {
    "duration": 51,
    "start_time": "2021-09-27T21:27:37.870Z"
   },
   {
    "duration": 16,
    "start_time": "2021-09-27T21:27:37.924Z"
   },
   {
    "duration": 15,
    "start_time": "2021-09-27T21:27:37.942Z"
   },
   {
    "duration": 17,
    "start_time": "2021-09-27T21:27:37.961Z"
   },
   {
    "duration": 8,
    "start_time": "2021-09-27T21:27:37.981Z"
   },
   {
    "duration": 563,
    "start_time": "2021-09-27T21:27:38.017Z"
   },
   {
    "duration": 563,
    "start_time": "2021-09-27T21:27:38.583Z"
   },
   {
    "duration": 41,
    "start_time": "2021-09-27T21:27:39.149Z"
   },
   {
    "duration": 53,
    "start_time": "2021-09-27T21:27:39.193Z"
   },
   {
    "duration": 17,
    "start_time": "2021-09-27T21:27:39.248Z"
   },
   {
    "duration": 50,
    "start_time": "2021-09-27T21:27:39.267Z"
   },
   {
    "duration": 12,
    "start_time": "2021-09-27T21:27:39.319Z"
   },
   {
    "duration": 25,
    "start_time": "2021-09-27T21:27:39.333Z"
   },
   {
    "duration": 22,
    "start_time": "2021-09-27T21:27:39.361Z"
   },
   {
    "duration": 56,
    "start_time": "2021-09-27T21:27:39.386Z"
   },
   {
    "duration": 12,
    "start_time": "2021-09-27T21:27:39.444Z"
   },
   {
    "duration": 27,
    "start_time": "2021-09-27T21:27:39.459Z"
   },
   {
    "duration": 23329,
    "start_time": "2021-09-27T21:27:39.488Z"
   },
   {
    "duration": 33166,
    "start_time": "2021-09-27T21:28:02.820Z"
   },
   {
    "duration": 7049,
    "start_time": "2021-09-27T21:28:35.989Z"
   },
   {
    "duration": 10748,
    "start_time": "2021-09-27T21:28:43.041Z"
   },
   {
    "duration": 885,
    "start_time": "2021-09-27T21:28:53.794Z"
   },
   {
    "duration": 138,
    "start_time": "2021-09-27T21:28:54.682Z"
   },
   {
    "duration": 1011,
    "start_time": "2021-09-27T21:28:54.823Z"
   },
   {
    "duration": 169,
    "start_time": "2021-09-27T21:28:55.836Z"
   },
   {
    "duration": 210,
    "start_time": "2021-09-27T21:28:56.008Z"
   },
   {
    "duration": 112,
    "start_time": "2021-09-27T21:28:56.222Z"
   },
   {
    "duration": 565,
    "start_time": "2021-09-27T21:28:56.337Z"
   },
   {
    "duration": 361,
    "start_time": "2021-09-27T21:30:37.829Z"
   },
   {
    "duration": 12,
    "start_time": "2021-09-27T21:30:43.950Z"
   },
   {
    "duration": 42,
    "start_time": "2021-09-27T21:30:50.002Z"
   },
   {
    "duration": 14,
    "start_time": "2021-09-27T21:31:03.331Z"
   },
   {
    "duration": 1744,
    "start_time": "2021-09-27T21:31:19.646Z"
   },
   {
    "duration": 22,
    "start_time": "2021-09-27T21:31:21.394Z"
   },
   {
    "duration": 23,
    "start_time": "2021-09-27T21:31:21.422Z"
   },
   {
    "duration": 13,
    "start_time": "2021-09-27T21:31:21.447Z"
   },
   {
    "duration": 11,
    "start_time": "2021-09-27T21:31:21.463Z"
   },
   {
    "duration": 12,
    "start_time": "2021-09-27T21:31:21.517Z"
   },
   {
    "duration": 10,
    "start_time": "2021-09-27T21:31:21.532Z"
   },
   {
    "duration": 11,
    "start_time": "2021-09-27T21:31:21.546Z"
   },
   {
    "duration": 10,
    "start_time": "2021-09-27T21:31:21.561Z"
   },
   {
    "duration": 586,
    "start_time": "2021-09-27T21:31:21.618Z"
   },
   {
    "duration": 562,
    "start_time": "2021-09-27T21:31:22.207Z"
   },
   {
    "duration": 62,
    "start_time": "2021-09-27T21:31:22.772Z"
   },
   {
    "duration": 38,
    "start_time": "2021-09-27T21:31:22.837Z"
   },
   {
    "duration": 41,
    "start_time": "2021-09-27T21:31:22.879Z"
   },
   {
    "duration": 32,
    "start_time": "2021-09-27T21:31:22.923Z"
   },
   {
    "duration": 13,
    "start_time": "2021-09-27T21:31:22.957Z"
   },
   {
    "duration": 49,
    "start_time": "2021-09-27T21:31:22.972Z"
   },
   {
    "duration": 14,
    "start_time": "2021-09-27T21:31:23.023Z"
   },
   {
    "duration": 37,
    "start_time": "2021-09-27T21:31:23.039Z"
   },
   {
    "duration": 40,
    "start_time": "2021-09-27T21:31:23.078Z"
   },
   {
    "duration": 17,
    "start_time": "2021-09-27T21:31:23.120Z"
   },
   {
    "duration": 22677,
    "start_time": "2021-09-27T21:31:23.139Z"
   },
   {
    "duration": 33653,
    "start_time": "2021-09-27T21:31:45.819Z"
   },
   {
    "duration": 6762,
    "start_time": "2021-09-27T21:32:19.474Z"
   },
   {
    "duration": 11212,
    "start_time": "2021-09-27T21:32:26.239Z"
   },
   {
    "duration": 877,
    "start_time": "2021-09-27T21:32:37.456Z"
   },
   {
    "duration": 90,
    "start_time": "2021-09-27T21:32:38.335Z"
   },
   {
    "duration": 898,
    "start_time": "2021-09-27T21:32:38.428Z"
   },
   {
    "duration": 163,
    "start_time": "2021-09-27T21:32:39.328Z"
   },
   {
    "duration": 125,
    "start_time": "2021-09-27T21:32:39.493Z"
   },
   {
    "duration": 110,
    "start_time": "2021-09-27T21:32:39.621Z"
   },
   {
    "duration": 543,
    "start_time": "2021-09-27T21:32:39.734Z"
   },
   {
    "duration": 49,
    "start_time": "2021-09-27T21:32:55.870Z"
   },
   {
    "duration": 22,
    "start_time": "2021-09-27T21:33:24.543Z"
   },
   {
    "duration": 15634,
    "start_time": "2021-09-27T21:33:27.144Z"
   },
   {
    "duration": 15292,
    "start_time": "2021-09-27T21:34:23.103Z"
   },
   {
    "duration": 161,
    "start_time": "2021-09-27T21:41:29.528Z"
   },
   {
    "duration": 159,
    "start_time": "2021-09-27T21:41:41.816Z"
   },
   {
    "duration": 160,
    "start_time": "2021-09-27T21:41:44.115Z"
   },
   {
    "duration": 6869,
    "start_time": "2021-09-27T21:42:11.403Z"
   },
   {
    "duration": 33719,
    "start_time": "2021-09-27T21:42:23.616Z"
   },
   {
    "duration": 28865,
    "start_time": "2021-09-27T21:43:15.096Z"
   },
   {
    "duration": 11916,
    "start_time": "2021-09-27T21:44:06.490Z"
   },
   {
    "duration": 4909,
    "start_time": "2021-09-27T21:44:34.120Z"
   },
   {
    "duration": 155,
    "start_time": "2021-09-27T21:46:17.287Z"
   },
   {
    "duration": 360,
    "start_time": "2021-09-27T21:46:29.889Z"
   },
   {
    "duration": 355,
    "start_time": "2021-09-27T21:47:00.008Z"
   },
   {
    "duration": 630,
    "start_time": "2021-09-27T21:52:19.592Z"
   },
   {
    "duration": 1304,
    "start_time": "2021-09-27T21:52:55.774Z"
   },
   {
    "duration": 1140,
    "start_time": "2021-09-27T21:53:09.578Z"
   },
   {
    "duration": 872,
    "start_time": "2021-09-27T21:53:33.153Z"
   },
   {
    "duration": 1761,
    "start_time": "2021-09-27T21:54:29.996Z"
   },
   {
    "duration": 1671,
    "start_time": "2021-09-27T21:54:45.786Z"
   },
   {
    "duration": 1371,
    "start_time": "2021-09-27T21:54:56.490Z"
   },
   {
    "duration": 1470,
    "start_time": "2021-09-27T21:55:08.580Z"
   },
   {
    "duration": 342,
    "start_time": "2021-09-27T21:55:42.845Z"
   },
   {
    "duration": 1368,
    "start_time": "2021-09-27T21:56:12.660Z"
   },
   {
    "duration": 15193,
    "start_time": "2021-09-27T21:57:04.451Z"
   },
   {
    "duration": 14648,
    "start_time": "2021-09-27T21:57:30.387Z"
   },
   {
    "duration": 333,
    "start_time": "2021-09-27T21:59:59.263Z"
   },
   {
    "duration": 10289,
    "start_time": "2021-09-27T22:00:07.073Z"
   },
   {
    "duration": 16,
    "start_time": "2021-09-27T22:00:22.625Z"
   },
   {
    "duration": 8314,
    "start_time": "2021-09-27T22:00:56.870Z"
   },
   {
    "duration": 18,
    "start_time": "2021-09-27T22:01:12.658Z"
   },
   {
    "duration": 10399,
    "start_time": "2021-09-27T22:05:24.022Z"
   },
   {
    "duration": 1434,
    "start_time": "2021-09-27T22:09:14.360Z"
   },
   {
    "duration": 216,
    "start_time": "2021-09-27T22:11:30.241Z"
   },
   {
    "duration": 1344,
    "start_time": "2021-09-27T22:16:28.673Z"
   },
   {
    "duration": 1498,
    "start_time": "2021-09-27T22:16:53.980Z"
   },
   {
    "duration": 14633,
    "start_time": "2021-09-27T22:17:11.053Z"
   },
   {
    "duration": 16,
    "start_time": "2021-09-27T22:18:26.723Z"
   },
   {
    "duration": 352,
    "start_time": "2021-09-27T22:18:46.833Z"
   },
   {
    "duration": 791,
    "start_time": "2021-09-27T22:19:18.207Z"
   },
   {
    "duration": 15124,
    "start_time": "2021-09-27T22:20:59.017Z"
   },
   {
    "duration": 15373,
    "start_time": "2021-09-27T22:23:46.250Z"
   },
   {
    "duration": 22,
    "start_time": "2021-09-27T22:25:18.664Z"
   },
   {
    "duration": 1114,
    "start_time": "2021-09-27T22:30:32.463Z"
   },
   {
    "duration": 1722,
    "start_time": "2021-09-27T22:35:57.766Z"
   },
   {
    "duration": 25,
    "start_time": "2021-09-27T22:35:59.491Z"
   },
   {
    "duration": 23,
    "start_time": "2021-09-27T22:35:59.519Z"
   },
   {
    "duration": 15,
    "start_time": "2021-09-27T22:35:59.545Z"
   },
   {
    "duration": 12,
    "start_time": "2021-09-27T22:35:59.563Z"
   },
   {
    "duration": 13,
    "start_time": "2021-09-27T22:35:59.617Z"
   },
   {
    "duration": 12,
    "start_time": "2021-09-27T22:35:59.632Z"
   },
   {
    "duration": 15,
    "start_time": "2021-09-27T22:35:59.647Z"
   },
   {
    "duration": 48,
    "start_time": "2021-09-27T22:35:59.668Z"
   },
   {
    "duration": 562,
    "start_time": "2021-09-27T22:35:59.719Z"
   },
   {
    "duration": 552,
    "start_time": "2021-09-27T22:36:00.283Z"
   },
   {
    "duration": 41,
    "start_time": "2021-09-27T22:36:00.838Z"
   },
   {
    "duration": 56,
    "start_time": "2021-09-27T22:36:00.882Z"
   },
   {
    "duration": 11,
    "start_time": "2021-09-27T22:36:00.941Z"
   },
   {
    "duration": 41,
    "start_time": "2021-09-27T22:36:00.954Z"
   },
   {
    "duration": 29,
    "start_time": "2021-09-27T22:36:00.997Z"
   },
   {
    "duration": 30,
    "start_time": "2021-09-27T22:36:01.029Z"
   },
   {
    "duration": 22,
    "start_time": "2021-09-27T22:36:01.062Z"
   },
   {
    "duration": 43,
    "start_time": "2021-09-27T22:36:01.087Z"
   },
   {
    "duration": 12,
    "start_time": "2021-09-27T22:36:01.133Z"
   },
   {
    "duration": 20,
    "start_time": "2021-09-27T22:36:01.147Z"
   },
   {
    "duration": 22175,
    "start_time": "2021-09-27T22:36:01.170Z"
   },
   {
    "duration": 4833,
    "start_time": "2021-09-27T22:36:23.348Z"
   },
   {
    "duration": 6837,
    "start_time": "2021-09-27T22:36:28.183Z"
   },
   {
    "duration": 10819,
    "start_time": "2021-09-27T22:36:35.022Z"
   },
   {
    "duration": 823,
    "start_time": "2021-09-27T22:36:45.844Z"
   },
   {
    "duration": 145,
    "start_time": "2021-09-27T22:36:46.672Z"
   },
   {
    "duration": 810,
    "start_time": "2021-09-27T22:36:46.821Z"
   },
   {
    "duration": 218,
    "start_time": "2021-09-27T22:36:47.633Z"
   },
   {
    "duration": 69,
    "start_time": "2021-09-27T22:36:47.853Z"
   },
   {
    "duration": 1471,
    "start_time": "2021-09-27T22:36:48.017Z"
   },
   {
    "duration": 34,
    "start_time": "2021-09-27T22:36:49.491Z"
   },
   {
    "duration": 16028,
    "start_time": "2021-09-27T22:36:49.527Z"
   },
   {
    "duration": 23,
    "start_time": "2021-09-27T22:37:05.558Z"
   },
   {
    "duration": 1386,
    "start_time": "2021-09-27T22:37:05.617Z"
   },
   {
    "duration": 361,
    "start_time": "2021-09-27T22:37:07.006Z"
   },
   {
    "duration": 785,
    "start_time": "2021-09-27T22:37:07.370Z"
   },
   {
    "duration": 1404,
    "start_time": "2021-09-28T05:30:56.057Z"
   },
   {
    "duration": 15,
    "start_time": "2021-09-28T05:30:57.463Z"
   },
   {
    "duration": 14,
    "start_time": "2021-09-28T05:30:58.213Z"
   },
   {
    "duration": 10,
    "start_time": "2021-09-28T05:30:58.434Z"
   },
   {
    "duration": 9,
    "start_time": "2021-09-28T05:30:58.791Z"
   },
   {
    "duration": 8,
    "start_time": "2021-09-28T05:30:58.943Z"
   },
   {
    "duration": 8,
    "start_time": "2021-09-28T05:30:59.101Z"
   },
   {
    "duration": 8,
    "start_time": "2021-09-28T05:30:59.268Z"
   },
   {
    "duration": 5,
    "start_time": "2021-09-28T05:30:59.858Z"
   },
   {
    "duration": 333,
    "start_time": "2021-09-28T05:31:00.190Z"
   },
   {
    "duration": 323,
    "start_time": "2021-09-28T05:31:00.555Z"
   },
   {
    "duration": 27,
    "start_time": "2021-09-28T05:31:01.245Z"
   },
   {
    "duration": 24,
    "start_time": "2021-09-28T05:31:01.406Z"
   },
   {
    "duration": 8,
    "start_time": "2021-09-28T05:31:01.730Z"
   },
   {
    "duration": 20,
    "start_time": "2021-09-28T05:31:02.047Z"
   },
   {
    "duration": 9,
    "start_time": "2021-09-28T05:31:02.373Z"
   },
   {
    "duration": 13,
    "start_time": "2021-09-28T05:31:02.548Z"
   },
   {
    "duration": 11,
    "start_time": "2021-09-28T05:31:02.876Z"
   },
   {
    "duration": 26,
    "start_time": "2021-09-28T05:31:03.360Z"
   },
   {
    "duration": 9,
    "start_time": "2021-09-28T05:31:03.660Z"
   },
   {
    "duration": 13,
    "start_time": "2021-09-28T05:31:04.320Z"
   },
   {
    "duration": 14717,
    "start_time": "2021-09-28T05:31:04.488Z"
   },
   {
    "duration": 3213,
    "start_time": "2021-09-28T05:31:19.207Z"
   },
   {
    "duration": 4649,
    "start_time": "2021-09-28T05:31:22.422Z"
   },
   {
    "duration": 8743,
    "start_time": "2021-09-28T05:31:27.077Z"
   },
   {
    "duration": 535,
    "start_time": "2021-09-28T05:31:35.822Z"
   },
   {
    "duration": 45,
    "start_time": "2021-09-28T05:31:36.359Z"
   },
   {
    "duration": 651,
    "start_time": "2021-09-28T05:31:36.406Z"
   },
   {
    "duration": 155,
    "start_time": "2021-09-28T05:31:37.059Z"
   },
   {
    "duration": 67,
    "start_time": "2021-09-28T05:31:37.216Z"
   },
   {
    "duration": 1173,
    "start_time": "2021-09-28T05:31:37.285Z"
   },
   {
    "duration": 18,
    "start_time": "2021-09-28T05:31:38.460Z"
   },
   {
    "duration": 11581,
    "start_time": "2021-09-28T05:31:38.480Z"
   },
   {
    "duration": 15,
    "start_time": "2021-09-28T05:31:50.063Z"
   },
   {
    "duration": 897,
    "start_time": "2021-09-28T05:31:50.080Z"
   },
   {
    "duration": 245,
    "start_time": "2021-09-28T05:31:50.980Z"
   },
   {
    "duration": 520,
    "start_time": "2021-09-28T05:31:51.227Z"
   },
   {
    "duration": 18,
    "start_time": "2021-09-28T06:24:59.989Z"
   },
   {
    "duration": 5,
    "start_time": "2021-09-28T06:25:24.997Z"
   },
   {
    "duration": 459,
    "start_time": "2021-09-28T07:49:31.056Z"
   },
   {
    "duration": 368,
    "start_time": "2021-09-28T07:50:13.822Z"
   },
   {
    "duration": 1655,
    "start_time": "2021-09-28T07:50:20.475Z"
   },
   {
    "duration": 18,
    "start_time": "2021-09-28T07:50:22.133Z"
   },
   {
    "duration": 49,
    "start_time": "2021-09-28T07:50:22.154Z"
   },
   {
    "duration": 14,
    "start_time": "2021-09-28T07:50:22.206Z"
   },
   {
    "duration": 12,
    "start_time": "2021-09-28T07:50:22.222Z"
   },
   {
    "duration": 51,
    "start_time": "2021-09-28T07:50:22.236Z"
   },
   {
    "duration": 14,
    "start_time": "2021-09-28T07:50:22.290Z"
   },
   {
    "duration": 15,
    "start_time": "2021-09-28T07:50:22.307Z"
   },
   {
    "duration": 8,
    "start_time": "2021-09-28T07:50:22.327Z"
   },
   {
    "duration": 585,
    "start_time": "2021-09-28T07:50:22.338Z"
   },
   {
    "duration": 531,
    "start_time": "2021-09-28T07:50:22.925Z"
   },
   {
    "duration": 53,
    "start_time": "2021-09-28T07:50:23.459Z"
   },
   {
    "duration": 34,
    "start_time": "2021-09-28T07:50:23.515Z"
   },
   {
    "duration": 31,
    "start_time": "2021-09-28T07:50:23.551Z"
   },
   {
    "duration": 28,
    "start_time": "2021-09-28T07:50:23.585Z"
   },
   {
    "duration": 13,
    "start_time": "2021-09-28T07:50:23.615Z"
   },
   {
    "duration": 52,
    "start_time": "2021-09-28T07:50:23.630Z"
   },
   {
    "duration": 16,
    "start_time": "2021-09-28T07:50:23.685Z"
   },
   {
    "duration": 37,
    "start_time": "2021-09-28T07:50:23.704Z"
   },
   {
    "duration": 43,
    "start_time": "2021-09-28T07:50:23.745Z"
   },
   {
    "duration": 17,
    "start_time": "2021-09-28T07:50:23.791Z"
   },
   {
    "duration": 19,
    "start_time": "2021-09-28T07:50:23.811Z"
   },
   {
    "duration": 49,
    "start_time": "2021-09-28T07:50:23.833Z"
   },
   {
    "duration": 27,
    "start_time": "2021-09-28T07:50:23.885Z"
   },
   {
    "duration": 22314,
    "start_time": "2021-09-28T07:50:23.916Z"
   },
   {
    "duration": 4680,
    "start_time": "2021-09-28T07:50:46.233Z"
   },
   {
    "duration": 6482,
    "start_time": "2021-09-28T07:50:50.918Z"
   },
   {
    "duration": 10774,
    "start_time": "2021-09-28T07:50:57.402Z"
   },
   {
    "duration": 825,
    "start_time": "2021-09-28T07:51:08.179Z"
   },
   {
    "duration": 175,
    "start_time": "2021-09-28T07:51:09.007Z"
   },
   {
    "duration": 800,
    "start_time": "2021-09-28T07:51:09.186Z"
   },
   {
    "duration": 225,
    "start_time": "2021-09-28T07:51:09.989Z"
   },
   {
    "duration": 76,
    "start_time": "2021-09-28T07:51:10.216Z"
   },
   {
    "duration": 1458,
    "start_time": "2021-09-28T07:51:10.384Z"
   },
   {
    "duration": 23,
    "start_time": "2021-09-28T07:51:11.845Z"
   },
   {
    "duration": 15608,
    "start_time": "2021-09-28T07:51:11.883Z"
   },
   {
    "duration": 19,
    "start_time": "2021-09-28T07:51:27.494Z"
   },
   {
    "duration": 1426,
    "start_time": "2021-09-28T07:51:27.516Z"
   },
   {
    "duration": 346,
    "start_time": "2021-09-28T07:51:28.944Z"
   },
   {
    "duration": 768,
    "start_time": "2021-09-28T07:51:29.293Z"
   },
   {
    "duration": 1625,
    "start_time": "2021-09-28T07:52:42.901Z"
   },
   {
    "duration": 18,
    "start_time": "2021-09-28T07:52:44.528Z"
   },
   {
    "duration": 47,
    "start_time": "2021-09-28T07:52:44.553Z"
   },
   {
    "duration": 14,
    "start_time": "2021-09-28T07:52:44.602Z"
   },
   {
    "duration": 13,
    "start_time": "2021-09-28T07:52:44.619Z"
   },
   {
    "duration": 48,
    "start_time": "2021-09-28T07:52:44.634Z"
   },
   {
    "duration": 11,
    "start_time": "2021-09-28T07:52:44.686Z"
   },
   {
    "duration": 11,
    "start_time": "2021-09-28T07:52:44.700Z"
   },
   {
    "duration": 7,
    "start_time": "2021-09-28T07:52:44.714Z"
   },
   {
    "duration": 607,
    "start_time": "2021-09-28T07:52:44.723Z"
   },
   {
    "duration": 549,
    "start_time": "2021-09-28T07:52:45.333Z"
   },
   {
    "duration": 41,
    "start_time": "2021-09-28T07:52:45.884Z"
   },
   {
    "duration": 56,
    "start_time": "2021-09-28T07:52:45.928Z"
   },
   {
    "duration": 10,
    "start_time": "2021-09-28T07:52:45.986Z"
   },
   {
    "duration": 30,
    "start_time": "2021-09-28T07:52:45.999Z"
   },
   {
    "duration": 12,
    "start_time": "2021-09-28T07:52:46.031Z"
   },
   {
    "duration": 52,
    "start_time": "2021-09-28T07:52:46.045Z"
   },
   {
    "duration": 13,
    "start_time": "2021-09-28T07:52:46.099Z"
   },
   {
    "duration": 36,
    "start_time": "2021-09-28T07:52:46.114Z"
   },
   {
    "duration": 36,
    "start_time": "2021-09-28T07:52:46.152Z"
   },
   {
    "duration": 14,
    "start_time": "2021-09-28T07:52:46.190Z"
   },
   {
    "duration": 16,
    "start_time": "2021-09-28T07:52:46.209Z"
   },
   {
    "duration": 5,
    "start_time": "2021-09-28T07:52:46.228Z"
   },
   {
    "duration": 69,
    "start_time": "2021-09-28T07:52:46.235Z"
   },
   {
    "duration": 21782,
    "start_time": "2021-09-28T07:52:46.306Z"
   },
   {
    "duration": 4964,
    "start_time": "2021-09-28T07:53:08.091Z"
   },
   {
    "duration": 7278,
    "start_time": "2021-09-28T07:53:13.057Z"
   },
   {
    "duration": 16232,
    "start_time": "2021-09-28T07:53:20.337Z"
   },
   {
    "duration": 844,
    "start_time": "2021-09-28T07:53:36.571Z"
   },
   {
    "duration": 74,
    "start_time": "2021-09-28T07:53:37.417Z"
   },
   {
    "duration": 891,
    "start_time": "2021-09-28T07:53:37.494Z"
   },
   {
    "duration": 221,
    "start_time": "2021-09-28T07:53:38.387Z"
   },
   {
    "duration": 81,
    "start_time": "2021-09-28T07:53:38.611Z"
   },
   {
    "duration": 1581,
    "start_time": "2021-09-28T07:53:38.698Z"
   },
   {
    "duration": 23,
    "start_time": "2021-09-28T07:53:40.283Z"
   },
   {
    "duration": 19610,
    "start_time": "2021-09-28T07:53:40.308Z"
   },
   {
    "duration": 18,
    "start_time": "2021-09-28T07:53:59.921Z"
   },
   {
    "duration": 1299,
    "start_time": "2021-09-28T07:53:59.941Z"
   },
   {
    "duration": 330,
    "start_time": "2021-09-28T07:54:01.242Z"
   },
   {
    "duration": 733,
    "start_time": "2021-09-28T07:54:01.575Z"
   },
   {
    "duration": 1600,
    "start_time": "2021-09-28T08:02:06.216Z"
   },
   {
    "duration": 18,
    "start_time": "2021-09-28T08:02:07.819Z"
   },
   {
    "duration": 46,
    "start_time": "2021-09-28T08:02:07.844Z"
   },
   {
    "duration": 14,
    "start_time": "2021-09-28T08:02:07.892Z"
   },
   {
    "duration": 13,
    "start_time": "2021-09-28T08:02:07.909Z"
   },
   {
    "duration": 14,
    "start_time": "2021-09-28T08:02:07.924Z"
   },
   {
    "duration": 46,
    "start_time": "2021-09-28T08:02:07.941Z"
   },
   {
    "duration": 11,
    "start_time": "2021-09-28T08:02:07.992Z"
   },
   {
    "duration": 7,
    "start_time": "2021-09-28T08:02:08.007Z"
   },
   {
    "duration": 593,
    "start_time": "2021-09-28T08:02:08.016Z"
   },
   {
    "duration": 571,
    "start_time": "2021-09-28T08:02:08.611Z"
   },
   {
    "duration": 42,
    "start_time": "2021-09-28T08:02:09.184Z"
   },
   {
    "duration": 56,
    "start_time": "2021-09-28T08:02:09.228Z"
   },
   {
    "duration": 12,
    "start_time": "2021-09-28T08:02:09.286Z"
   },
   {
    "duration": 28,
    "start_time": "2021-09-28T08:02:09.300Z"
   },
   {
    "duration": 11,
    "start_time": "2021-09-28T08:02:09.331Z"
   },
   {
    "duration": 49,
    "start_time": "2021-09-28T08:02:09.345Z"
   },
   {
    "duration": 14,
    "start_time": "2021-09-28T08:02:09.396Z"
   },
   {
    "duration": 36,
    "start_time": "2021-09-28T08:02:09.412Z"
   },
   {
    "duration": 37,
    "start_time": "2021-09-28T08:02:09.451Z"
   },
   {
    "duration": 15,
    "start_time": "2021-09-28T08:02:09.491Z"
   },
   {
    "duration": 17,
    "start_time": "2021-09-28T08:02:09.508Z"
   },
   {
    "duration": 7,
    "start_time": "2021-09-28T08:02:09.528Z"
   },
   {
    "duration": 67,
    "start_time": "2021-09-28T08:02:09.537Z"
   },
   {
    "duration": 22091,
    "start_time": "2021-09-28T08:02:09.607Z"
   },
   {
    "duration": 4694,
    "start_time": "2021-09-28T08:02:31.705Z"
   },
   {
    "duration": 6635,
    "start_time": "2021-09-28T08:02:36.403Z"
   },
   {
    "duration": 10177,
    "start_time": "2021-09-28T08:02:43.041Z"
   },
   {
    "duration": 826,
    "start_time": "2021-09-28T08:02:53.220Z"
   },
   {
    "duration": 135,
    "start_time": "2021-09-28T08:02:54.049Z"
   },
   {
    "duration": 836,
    "start_time": "2021-09-28T08:02:54.187Z"
   },
   {
    "duration": 226,
    "start_time": "2021-09-28T08:02:55.025Z"
   },
   {
    "duration": 131,
    "start_time": "2021-09-28T08:02:55.254Z"
   },
   {
    "duration": 1455,
    "start_time": "2021-09-28T08:02:55.388Z"
   },
   {
    "duration": 36,
    "start_time": "2021-09-28T08:02:56.846Z"
   },
   {
    "duration": 15217,
    "start_time": "2021-09-28T08:02:56.885Z"
   },
   {
    "duration": 20,
    "start_time": "2021-09-28T08:03:12.104Z"
   },
   {
    "duration": 1384,
    "start_time": "2021-09-28T08:03:12.127Z"
   },
   {
    "duration": 348,
    "start_time": "2021-09-28T08:03:13.513Z"
   },
   {
    "duration": 782,
    "start_time": "2021-09-28T08:03:13.864Z"
   },
   {
    "duration": 571,
    "start_time": "2021-09-28T08:16:20.560Z"
   },
   {
    "duration": 87,
    "start_time": "2021-09-28T08:18:54.001Z"
   },
   {
    "duration": 122,
    "start_time": "2021-09-28T08:19:03.263Z"
   },
   {
    "duration": 190,
    "start_time": "2021-09-28T08:19:22.796Z"
   },
   {
    "duration": 1082,
    "start_time": "2021-09-28T08:20:41.007Z"
   },
   {
    "duration": 1416,
    "start_time": "2021-09-28T15:47:04.570Z"
   },
   {
    "duration": 1292,
    "start_time": "2021-09-28T15:47:50.822Z"
   },
   {
    "duration": 1187,
    "start_time": "2021-09-28T15:48:05.712Z"
   },
   {
    "duration": 91,
    "start_time": "2021-09-28T15:48:38.693Z"
   },
   {
    "duration": 1250,
    "start_time": "2021-09-28T15:48:40.935Z"
   },
   {
    "duration": 1272,
    "start_time": "2021-09-28T15:48:53.443Z"
   },
   {
    "duration": 1517,
    "start_time": "2021-09-28T15:49:57.362Z"
   },
   {
    "duration": 1489,
    "start_time": "2021-09-28T15:56:47.877Z"
   },
   {
    "duration": 1470,
    "start_time": "2021-09-28T15:56:58.370Z"
   },
   {
    "duration": 957,
    "start_time": "2021-09-28T15:58:06.557Z"
   },
   {
    "duration": 1476,
    "start_time": "2021-09-28T16:01:49.489Z"
   },
   {
    "duration": 1615,
    "start_time": "2021-09-28T16:02:44.021Z"
   },
   {
    "duration": 1836,
    "start_time": "2021-09-28T16:16:10.738Z"
   },
   {
    "duration": 2095,
    "start_time": "2021-09-28T16:16:29.951Z"
   },
   {
    "duration": 1498,
    "start_time": "2021-09-28T16:17:39.328Z"
   },
   {
    "duration": 1139,
    "start_time": "2021-09-28T16:18:44.697Z"
   },
   {
    "duration": 1625,
    "start_time": "2021-09-28T16:19:11.655Z"
   },
   {
    "duration": 1301,
    "start_time": "2021-09-28T16:19:24.742Z"
   },
   {
    "duration": 1528,
    "start_time": "2021-09-28T16:19:34.510Z"
   },
   {
    "duration": 794,
    "start_time": "2021-09-28T16:21:22.542Z"
   },
   {
    "duration": 1617,
    "start_time": "2021-09-28T16:32:40.499Z"
   },
   {
    "duration": 17,
    "start_time": "2021-09-28T16:32:42.118Z"
   },
   {
    "duration": 48,
    "start_time": "2021-09-28T16:32:42.138Z"
   },
   {
    "duration": 12,
    "start_time": "2021-09-28T16:32:42.189Z"
   },
   {
    "duration": 10,
    "start_time": "2021-09-28T16:32:42.204Z"
   },
   {
    "duration": 11,
    "start_time": "2021-09-28T16:32:42.217Z"
   },
   {
    "duration": 52,
    "start_time": "2021-09-28T16:32:42.230Z"
   },
   {
    "duration": 12,
    "start_time": "2021-09-28T16:32:42.286Z"
   },
   {
    "duration": 7,
    "start_time": "2021-09-28T16:32:42.301Z"
   },
   {
    "duration": 576,
    "start_time": "2021-09-28T16:32:42.310Z"
   },
   {
    "duration": 566,
    "start_time": "2021-09-28T16:32:42.888Z"
   },
   {
    "duration": 52,
    "start_time": "2021-09-28T16:32:43.457Z"
   },
   {
    "duration": 36,
    "start_time": "2021-09-28T16:32:43.511Z"
   },
   {
    "duration": 125,
    "start_time": "2021-09-28T16:32:43.550Z"
   },
   {
    "duration": 1010,
    "start_time": "2021-09-28T16:32:42.669Z"
   },
   {
    "duration": 993,
    "start_time": "2021-09-28T16:32:42.687Z"
   },
   {
    "duration": 986,
    "start_time": "2021-09-28T16:32:42.695Z"
   },
   {
    "duration": 980,
    "start_time": "2021-09-28T16:32:42.703Z"
   },
   {
    "duration": 971,
    "start_time": "2021-09-28T16:32:42.713Z"
   },
   {
    "duration": 964,
    "start_time": "2021-09-28T16:32:42.722Z"
   },
   {
    "duration": 957,
    "start_time": "2021-09-28T16:32:42.730Z"
   },
   {
    "duration": 952,
    "start_time": "2021-09-28T16:32:42.737Z"
   },
   {
    "duration": 946,
    "start_time": "2021-09-28T16:32:42.744Z"
   },
   {
    "duration": 936,
    "start_time": "2021-09-28T16:32:42.755Z"
   },
   {
    "duration": 931,
    "start_time": "2021-09-28T16:32:42.762Z"
   },
   {
    "duration": 923,
    "start_time": "2021-09-28T16:32:42.771Z"
   },
   {
    "duration": 917,
    "start_time": "2021-09-28T16:32:42.779Z"
   },
   {
    "duration": 908,
    "start_time": "2021-09-28T16:32:42.789Z"
   },
   {
    "duration": 903,
    "start_time": "2021-09-28T16:32:42.796Z"
   },
   {
    "duration": 894,
    "start_time": "2021-09-28T16:32:42.806Z"
   },
   {
    "duration": 889,
    "start_time": "2021-09-28T16:32:42.813Z"
   },
   {
    "duration": 876,
    "start_time": "2021-09-28T16:32:42.827Z"
   },
   {
    "duration": 861,
    "start_time": "2021-09-28T16:32:42.844Z"
   },
   {
    "duration": 848,
    "start_time": "2021-09-28T16:32:42.858Z"
   },
   {
    "duration": 846,
    "start_time": "2021-09-28T16:32:42.862Z"
   },
   {
    "duration": 844,
    "start_time": "2021-09-28T16:32:42.865Z"
   },
   {
    "duration": 842,
    "start_time": "2021-09-28T16:32:42.869Z"
   },
   {
    "duration": 841,
    "start_time": "2021-09-28T16:32:42.871Z"
   },
   {
    "duration": 841,
    "start_time": "2021-09-28T16:32:42.873Z"
   },
   {
    "duration": 838,
    "start_time": "2021-09-28T16:32:42.877Z"
   },
   {
    "duration": 15,
    "start_time": "2021-09-28T16:33:03.136Z"
   },
   {
    "duration": 14,
    "start_time": "2021-09-28T16:33:28.854Z"
   },
   {
    "duration": 14,
    "start_time": "2021-09-28T16:33:38.102Z"
   },
   {
    "duration": 119,
    "start_time": "2021-09-28T16:33:55.482Z"
   },
   {
    "duration": 499,
    "start_time": "2021-09-28T16:33:59.376Z"
   },
   {
    "duration": 282,
    "start_time": "2021-09-28T16:34:04.104Z"
   },
   {
    "duration": 15,
    "start_time": "2021-09-28T16:35:04.942Z"
   },
   {
    "duration": 16,
    "start_time": "2021-09-28T16:35:16.341Z"
   },
   {
    "duration": 1742,
    "start_time": "2021-09-28T16:36:46.570Z"
   },
   {
    "duration": 17,
    "start_time": "2021-09-28T16:36:48.315Z"
   },
   {
    "duration": 48,
    "start_time": "2021-09-28T16:36:48.338Z"
   },
   {
    "duration": 13,
    "start_time": "2021-09-28T16:36:48.389Z"
   },
   {
    "duration": 12,
    "start_time": "2021-09-28T16:36:48.405Z"
   },
   {
    "duration": 12,
    "start_time": "2021-09-28T16:36:48.419Z"
   },
   {
    "duration": 54,
    "start_time": "2021-09-28T16:36:48.433Z"
   },
   {
    "duration": 11,
    "start_time": "2021-09-28T16:36:48.491Z"
   },
   {
    "duration": 7,
    "start_time": "2021-09-28T16:36:48.506Z"
   },
   {
    "duration": 583,
    "start_time": "2021-09-28T16:36:48.516Z"
   },
   {
    "duration": 526,
    "start_time": "2021-09-28T16:36:49.102Z"
   },
   {
    "duration": 52,
    "start_time": "2021-09-28T16:36:49.630Z"
   },
   {
    "duration": 37,
    "start_time": "2021-09-28T16:36:49.684Z"
   },
   {
    "duration": 13,
    "start_time": "2021-09-28T16:36:49.723Z"
   },
   {
    "duration": 57,
    "start_time": "2021-09-28T16:36:49.739Z"
   },
   {
    "duration": 13,
    "start_time": "2021-09-28T16:36:49.798Z"
   },
   {
    "duration": 17,
    "start_time": "2021-09-28T16:36:49.814Z"
   },
   {
    "duration": 12,
    "start_time": "2021-09-28T16:36:49.833Z"
   },
   {
    "duration": 69,
    "start_time": "2021-09-28T16:36:49.847Z"
   },
   {
    "duration": 10,
    "start_time": "2021-09-28T16:36:49.919Z"
   },
   {
    "duration": 14,
    "start_time": "2021-09-28T16:36:49.931Z"
   },
   {
    "duration": 44,
    "start_time": "2021-09-28T16:36:49.948Z"
   },
   {
    "duration": 6,
    "start_time": "2021-09-28T16:36:49.995Z"
   },
   {
    "duration": 35,
    "start_time": "2021-09-28T16:36:50.004Z"
   },
   {
    "duration": 22161,
    "start_time": "2021-09-28T16:36:50.042Z"
   },
   {
    "duration": 4798,
    "start_time": "2021-09-28T16:37:12.210Z"
   },
   {
    "duration": 6995,
    "start_time": "2021-09-28T16:37:17.011Z"
   },
   {
    "duration": 10735,
    "start_time": "2021-09-28T16:37:24.008Z"
   },
   {
    "duration": 820,
    "start_time": "2021-09-28T16:37:34.745Z"
   },
   {
    "duration": 117,
    "start_time": "2021-09-28T16:37:35.568Z"
   },
   {
    "duration": 821,
    "start_time": "2021-09-28T16:37:35.689Z"
   },
   {
    "duration": 223,
    "start_time": "2021-09-28T16:37:36.512Z"
   },
   {
    "duration": 72,
    "start_time": "2021-09-28T16:37:36.737Z"
   },
   {
    "duration": 1434,
    "start_time": "2021-09-28T16:37:36.885Z"
   },
   {
    "duration": 21,
    "start_time": "2021-09-28T16:37:38.321Z"
   },
   {
    "duration": 15203,
    "start_time": "2021-09-28T16:37:38.344Z"
   },
   {
    "duration": 750,
    "start_time": "2021-09-28T16:37:53.550Z"
   },
   {
    "duration": 1379,
    "start_time": "2021-09-28T16:37:54.303Z"
   },
   {
    "duration": 1072,
    "start_time": "2021-09-28T16:37:55.684Z"
   },
   {
    "duration": 1505,
    "start_time": "2021-09-28T16:37:56.758Z"
   },
   {
    "duration": 19,
    "start_time": "2021-09-28T16:39:54.750Z"
   },
   {
    "duration": 488,
    "start_time": "2021-09-28T16:40:07.571Z"
   },
   {
    "duration": 437,
    "start_time": "2021-09-28T16:40:10.439Z"
   },
   {
    "duration": 371,
    "start_time": "2021-09-28T16:40:23.158Z"
   },
   {
    "duration": 6,
    "start_time": "2021-09-28T16:40:37.033Z"
   },
   {
    "duration": 368,
    "start_time": "2021-09-28T16:42:35.103Z"
   },
   {
    "duration": 1002,
    "start_time": "2021-09-28T16:44:01.285Z"
   },
   {
    "duration": 1125,
    "start_time": "2021-09-28T16:44:16.185Z"
   },
   {
    "duration": 1076,
    "start_time": "2021-09-28T16:44:22.394Z"
   },
   {
    "duration": 384,
    "start_time": "2021-09-28T16:44:59.587Z"
   },
   {
    "duration": 387,
    "start_time": "2021-09-28T16:45:15.001Z"
   },
   {
    "duration": 1121,
    "start_time": "2021-09-28T16:45:29.996Z"
   },
   {
    "duration": 459,
    "start_time": "2021-09-28T16:47:19.639Z"
   },
   {
    "duration": 546,
    "start_time": "2021-09-28T16:47:26.847Z"
   },
   {
    "duration": 661,
    "start_time": "2021-09-28T16:47:32.185Z"
   },
   {
    "duration": 750,
    "start_time": "2021-09-28T16:47:39.274Z"
   },
   {
    "duration": 653,
    "start_time": "2021-09-28T16:47:45.643Z"
   },
   {
    "duration": 739,
    "start_time": "2021-09-28T16:48:04.361Z"
   },
   {
    "duration": 800,
    "start_time": "2021-09-28T16:48:13.737Z"
   },
   {
    "duration": 895,
    "start_time": "2021-09-28T16:48:20.130Z"
   },
   {
    "duration": 991,
    "start_time": "2021-09-28T16:48:30.899Z"
   },
   {
    "duration": 1138,
    "start_time": "2021-09-28T16:48:37.738Z"
   },
   {
    "duration": 1386,
    "start_time": "2021-09-28T16:48:59.069Z"
   },
   {
    "duration": 1292,
    "start_time": "2021-09-28T16:49:05.513Z"
   },
   {
    "duration": 1220,
    "start_time": "2021-09-28T16:49:11.749Z"
   },
   {
    "duration": 1159,
    "start_time": "2021-09-28T16:49:17.181Z"
   },
   {
    "duration": 1187,
    "start_time": "2021-09-28T16:49:32.718Z"
   },
   {
    "duration": 1362,
    "start_time": "2021-09-28T16:49:40.855Z"
   },
   {
    "duration": 1284,
    "start_time": "2021-09-28T16:49:48.775Z"
   },
   {
    "duration": 1205,
    "start_time": "2021-09-28T16:49:55.105Z"
   },
   {
    "duration": 266,
    "start_time": "2021-09-28T16:50:29.366Z"
   },
   {
    "duration": 662,
    "start_time": "2021-09-28T16:51:42.549Z"
   },
   {
    "duration": 610,
    "start_time": "2021-09-28T16:51:49.104Z"
   },
   {
    "duration": 257,
    "start_time": "2021-09-28T16:53:24.315Z"
   },
   {
    "duration": 368,
    "start_time": "2021-09-28T16:55:31.681Z"
   },
   {
    "duration": 383,
    "start_time": "2021-09-28T16:55:37.601Z"
   },
   {
    "duration": 382,
    "start_time": "2021-09-28T16:55:42.220Z"
   },
   {
    "duration": 375,
    "start_time": "2021-09-28T16:55:46.032Z"
   },
   {
    "duration": 384,
    "start_time": "2021-09-28T16:55:49.901Z"
   },
   {
    "duration": 349,
    "start_time": "2021-09-28T16:55:55.563Z"
   },
   {
    "duration": 318,
    "start_time": "2021-09-28T16:56:00.095Z"
   },
   {
    "duration": 318,
    "start_time": "2021-09-28T16:56:04.947Z"
   },
   {
    "duration": 317,
    "start_time": "2021-09-28T16:56:12.037Z"
   },
   {
    "duration": 329,
    "start_time": "2021-09-28T16:56:15.629Z"
   },
   {
    "duration": 311,
    "start_time": "2021-09-28T16:56:19.749Z"
   },
   {
    "duration": 323,
    "start_time": "2021-09-28T16:56:23.870Z"
   },
   {
    "duration": 1620,
    "start_time": "2021-09-28T17:06:31.432Z"
   },
   {
    "duration": 18,
    "start_time": "2021-09-28T17:06:33.055Z"
   },
   {
    "duration": 23,
    "start_time": "2021-09-28T17:06:33.087Z"
   },
   {
    "duration": 14,
    "start_time": "2021-09-28T17:06:33.112Z"
   },
   {
    "duration": 11,
    "start_time": "2021-09-28T17:06:33.129Z"
   },
   {
    "duration": 12,
    "start_time": "2021-09-28T17:06:33.184Z"
   },
   {
    "duration": 13,
    "start_time": "2021-09-28T17:06:33.199Z"
   },
   {
    "duration": 12,
    "start_time": "2021-09-28T17:06:33.216Z"
   },
   {
    "duration": 8,
    "start_time": "2021-09-28T17:06:33.231Z"
   },
   {
    "duration": 579,
    "start_time": "2021-09-28T17:06:33.242Z"
   },
   {
    "duration": 530,
    "start_time": "2021-09-28T17:06:33.824Z"
   },
   {
    "duration": 52,
    "start_time": "2021-09-28T17:06:34.357Z"
   },
   {
    "duration": 36,
    "start_time": "2021-09-28T17:06:34.412Z"
   },
   {
    "duration": 33,
    "start_time": "2021-09-28T17:06:34.451Z"
   },
   {
    "duration": 30,
    "start_time": "2021-09-28T17:06:34.487Z"
   },
   {
    "duration": 14,
    "start_time": "2021-09-28T17:06:34.519Z"
   },
   {
    "duration": 54,
    "start_time": "2021-09-28T17:06:34.536Z"
   },
   {
    "duration": 19,
    "start_time": "2021-09-28T17:06:34.592Z"
   },
   {
    "duration": 35,
    "start_time": "2021-09-28T17:06:34.613Z"
   },
   {
    "duration": 37,
    "start_time": "2021-09-28T17:06:34.651Z"
   },
   {
    "duration": 15,
    "start_time": "2021-09-28T17:06:34.690Z"
   },
   {
    "duration": 17,
    "start_time": "2021-09-28T17:06:34.707Z"
   },
   {
    "duration": 6,
    "start_time": "2021-09-28T17:06:34.726Z"
   },
   {
    "duration": 67,
    "start_time": "2021-09-28T17:06:34.734Z"
   },
   {
    "duration": 21935,
    "start_time": "2021-09-28T17:06:34.803Z"
   },
   {
    "duration": 4742,
    "start_time": "2021-09-28T17:06:56.745Z"
   },
   {
    "duration": 6767,
    "start_time": "2021-09-28T17:07:01.491Z"
   },
   {
    "duration": 12740,
    "start_time": "2021-09-28T17:07:08.260Z"
   },
   {
    "duration": 843,
    "start_time": "2021-09-28T17:07:21.002Z"
   },
   {
    "duration": 137,
    "start_time": "2021-09-28T17:07:21.847Z"
   },
   {
    "duration": 802,
    "start_time": "2021-09-28T17:07:21.988Z"
   },
   {
    "duration": 216,
    "start_time": "2021-09-28T17:07:22.792Z"
   },
   {
    "duration": 170,
    "start_time": "2021-09-28T17:07:23.011Z"
   },
   {
    "duration": 1444,
    "start_time": "2021-09-28T17:07:23.190Z"
   },
   {
    "duration": 22,
    "start_time": "2021-09-28T17:07:24.637Z"
   },
   {
    "duration": 15445,
    "start_time": "2021-09-28T17:07:24.661Z"
   },
   {
    "duration": 793,
    "start_time": "2021-09-28T17:07:40.109Z"
   },
   {
    "duration": 1326,
    "start_time": "2021-09-28T17:07:40.904Z"
   },
   {
    "duration": 1177,
    "start_time": "2021-09-28T17:07:42.233Z"
   },
   {
    "duration": 1545,
    "start_time": "2021-09-28T17:07:43.413Z"
   },
   {
    "duration": 27,
    "start_time": "2021-09-28T17:07:44.960Z"
   },
   {
    "duration": 6,
    "start_time": "2021-09-28T17:07:44.989Z"
   },
   {
    "duration": 1164,
    "start_time": "2021-09-28T17:07:44.997Z"
   },
   {
    "duration": 1266,
    "start_time": "2021-09-28T17:07:46.164Z"
   },
   {
    "duration": 338,
    "start_time": "2021-09-28T17:07:47.433Z"
   },
   {
    "duration": 460,
    "start_time": "2021-09-29T11:23:43.226Z"
   },
   {
    "duration": 1692,
    "start_time": "2021-09-29T11:23:53.440Z"
   },
   {
    "duration": 20,
    "start_time": "2021-09-29T11:23:55.135Z"
   },
   {
    "duration": 21,
    "start_time": "2021-09-29T11:23:55.182Z"
   },
   {
    "duration": 13,
    "start_time": "2021-09-29T11:23:55.205Z"
   },
   {
    "duration": 11,
    "start_time": "2021-09-29T11:23:55.221Z"
   },
   {
    "duration": 51,
    "start_time": "2021-09-29T11:23:55.235Z"
   },
   {
    "duration": 10,
    "start_time": "2021-09-29T11:23:55.288Z"
   },
   {
    "duration": 11,
    "start_time": "2021-09-29T11:23:55.303Z"
   },
   {
    "duration": 8,
    "start_time": "2021-09-29T11:23:55.317Z"
   },
   {
    "duration": 584,
    "start_time": "2021-09-29T11:23:55.327Z"
   },
   {
    "duration": 529,
    "start_time": "2021-09-29T11:23:55.913Z"
   },
   {
    "duration": 53,
    "start_time": "2021-09-29T11:23:56.445Z"
   },
   {
    "duration": 39,
    "start_time": "2021-09-29T11:23:56.500Z"
   },
   {
    "duration": 12,
    "start_time": "2021-09-29T11:23:56.541Z"
   },
   {
    "duration": 54,
    "start_time": "2021-09-29T11:23:56.555Z"
   },
   {
    "duration": 13,
    "start_time": "2021-09-29T11:23:56.611Z"
   },
   {
    "duration": 18,
    "start_time": "2021-09-29T11:23:56.627Z"
   },
   {
    "duration": 46,
    "start_time": "2021-09-29T11:23:56.647Z"
   },
   {
    "duration": 40,
    "start_time": "2021-09-29T11:23:56.695Z"
   },
   {
    "duration": 12,
    "start_time": "2021-09-29T11:23:56.737Z"
   },
   {
    "duration": 36,
    "start_time": "2021-09-29T11:23:56.752Z"
   },
   {
    "duration": 17,
    "start_time": "2021-09-29T11:23:56.791Z"
   },
   {
    "duration": 6,
    "start_time": "2021-09-29T11:23:56.813Z"
   },
   {
    "duration": 65,
    "start_time": "2021-09-29T11:23:56.821Z"
   },
   {
    "duration": 20736,
    "start_time": "2021-09-29T11:23:56.888Z"
   },
   {
    "duration": 4279,
    "start_time": "2021-09-29T11:24:17.626Z"
   },
   {
    "duration": 6461,
    "start_time": "2021-09-29T11:24:21.908Z"
   },
   {
    "duration": 10446,
    "start_time": "2021-09-29T11:24:28.371Z"
   },
   {
    "duration": 765,
    "start_time": "2021-09-29T11:24:38.820Z"
   },
   {
    "duration": 99,
    "start_time": "2021-09-29T11:24:39.587Z"
   },
   {
    "duration": 748,
    "start_time": "2021-09-29T11:24:39.691Z"
   },
   {
    "duration": 223,
    "start_time": "2021-09-29T11:24:40.442Z"
   },
   {
    "duration": 116,
    "start_time": "2021-09-29T11:24:40.668Z"
   },
   {
    "duration": 1364,
    "start_time": "2021-09-29T11:24:40.788Z"
   },
   {
    "duration": 35,
    "start_time": "2021-09-29T11:24:42.155Z"
   },
   {
    "duration": 14946,
    "start_time": "2021-09-29T11:24:42.193Z"
   },
   {
    "duration": 697,
    "start_time": "2021-09-29T11:24:57.142Z"
   },
   {
    "duration": 1246,
    "start_time": "2021-09-29T11:24:57.841Z"
   },
   {
    "duration": 1024,
    "start_time": "2021-09-29T11:24:59.090Z"
   },
   {
    "duration": 1450,
    "start_time": "2021-09-29T11:25:00.117Z"
   },
   {
    "duration": 31,
    "start_time": "2021-09-29T11:25:01.569Z"
   },
   {
    "duration": 19,
    "start_time": "2021-09-29T11:25:01.603Z"
   },
   {
    "duration": 1063,
    "start_time": "2021-09-29T11:25:01.625Z"
   },
   {
    "duration": 1184,
    "start_time": "2021-09-29T11:25:02.690Z"
   },
   {
    "duration": 326,
    "start_time": "2021-09-29T11:25:03.883Z"
   },
   {
    "duration": 1212,
    "start_time": "2021-09-29T11:26:14.672Z"
   },
   {
    "duration": 875,
    "start_time": "2021-09-29T11:26:20.544Z"
   },
   {
    "duration": 1162,
    "start_time": "2021-09-29T11:26:25.479Z"
   },
   {
    "duration": 952,
    "start_time": "2021-09-29T11:26:30.062Z"
   },
   {
    "duration": 1095,
    "start_time": "2021-09-29T11:26:34.777Z"
   },
   {
    "duration": 953,
    "start_time": "2021-09-29T11:26:40.919Z"
   },
   {
    "duration": 1305,
    "start_time": "2021-09-29T11:26:54.872Z"
   },
   {
    "duration": 1110,
    "start_time": "2021-09-29T11:26:58.784Z"
   },
   {
    "duration": 1189,
    "start_time": "2021-09-29T11:27:03.313Z"
   },
   {
    "duration": 984,
    "start_time": "2021-09-29T11:27:09.440Z"
   },
   {
    "duration": 1179,
    "start_time": "2021-09-29T11:27:13.335Z"
   },
   {
    "duration": 1254,
    "start_time": "2021-09-29T11:27:16.970Z"
   },
   {
    "duration": 1197,
    "start_time": "2021-09-29T11:27:22.322Z"
   },
   {
    "duration": 22,
    "start_time": "2021-09-29T11:29:10.703Z"
   },
   {
    "duration": 14704,
    "start_time": "2021-09-29T11:29:13.084Z"
   },
   {
    "duration": 775,
    "start_time": "2021-09-29T11:29:31.060Z"
   },
   {
    "duration": 322,
    "start_time": "2021-09-29T11:33:36.991Z"
   },
   {
    "duration": 345,
    "start_time": "2021-09-29T11:33:42.098Z"
   },
   {
    "duration": 361,
    "start_time": "2021-09-29T11:33:46.939Z"
   },
   {
    "duration": 386,
    "start_time": "2021-09-29T11:33:50.762Z"
   },
   {
    "duration": 20,
    "start_time": "2021-09-29T11:35:24.449Z"
   },
   {
    "duration": 979,
    "start_time": "2021-09-29T11:37:01.644Z"
   },
   {
    "duration": 885,
    "start_time": "2021-09-29T11:37:07.844Z"
   },
   {
    "duration": 863,
    "start_time": "2021-09-29T11:37:11.802Z"
   },
   {
    "duration": 1033,
    "start_time": "2021-09-29T11:37:16.330Z"
   },
   {
    "duration": 1005,
    "start_time": "2021-09-29T11:37:33.262Z"
   },
   {
    "duration": 19,
    "start_time": "2021-09-29T11:43:55.890Z"
   },
   {
    "duration": 1669,
    "start_time": "2021-09-29T11:44:08.347Z"
   },
   {
    "duration": 18,
    "start_time": "2021-09-29T11:44:10.018Z"
   },
   {
    "duration": 48,
    "start_time": "2021-09-29T11:44:10.042Z"
   },
   {
    "duration": 14,
    "start_time": "2021-09-29T11:44:10.093Z"
   },
   {
    "duration": 12,
    "start_time": "2021-09-29T11:44:10.110Z"
   },
   {
    "duration": 12,
    "start_time": "2021-09-29T11:44:10.124Z"
   },
   {
    "duration": 11,
    "start_time": "2021-09-29T11:44:10.182Z"
   },
   {
    "duration": 10,
    "start_time": "2021-09-29T11:44:10.198Z"
   },
   {
    "duration": 10,
    "start_time": "2021-09-29T11:44:10.211Z"
   },
   {
    "duration": 638,
    "start_time": "2021-09-29T11:44:10.223Z"
   },
   {
    "duration": 918,
    "start_time": "2021-09-29T11:44:10.864Z"
   },
   {
    "duration": 41,
    "start_time": "2021-09-29T11:44:11.785Z"
   },
   {
    "duration": 56,
    "start_time": "2021-09-29T11:44:11.828Z"
   },
   {
    "duration": 14,
    "start_time": "2021-09-29T11:44:11.887Z"
   },
   {
    "duration": 30,
    "start_time": "2021-09-29T11:44:11.904Z"
   },
   {
    "duration": 47,
    "start_time": "2021-09-29T11:44:11.937Z"
   },
   {
    "duration": 18,
    "start_time": "2021-09-29T11:44:11.987Z"
   },
   {
    "duration": 13,
    "start_time": "2021-09-29T11:44:12.007Z"
   },
   {
    "duration": 66,
    "start_time": "2021-09-29T11:44:12.022Z"
   },
   {
    "duration": 11,
    "start_time": "2021-09-29T11:44:12.091Z"
   },
   {
    "duration": 15,
    "start_time": "2021-09-29T11:44:12.104Z"
   },
   {
    "duration": 17,
    "start_time": "2021-09-29T11:44:12.121Z"
   },
   {
    "duration": 45,
    "start_time": "2021-09-29T11:44:12.140Z"
   },
   {
    "duration": 26,
    "start_time": "2021-09-29T11:44:12.187Z"
   },
   {
    "duration": 21200,
    "start_time": "2021-09-29T11:44:12.216Z"
   },
   {
    "duration": 4154,
    "start_time": "2021-09-29T11:44:33.421Z"
   },
   {
    "duration": 6490,
    "start_time": "2021-09-29T11:44:37.582Z"
   },
   {
    "duration": 14702,
    "start_time": "2021-09-29T11:44:44.081Z"
   },
   {
    "duration": 792,
    "start_time": "2021-09-29T11:44:58.785Z"
   },
   {
    "duration": 105,
    "start_time": "2021-09-29T11:44:59.583Z"
   },
   {
    "duration": 744,
    "start_time": "2021-09-29T11:44:59.694Z"
   },
   {
    "duration": 215,
    "start_time": "2021-09-29T11:45:00.440Z"
   },
   {
    "duration": 138,
    "start_time": "2021-09-29T11:45:00.659Z"
   },
   {
    "duration": 1652,
    "start_time": "2021-09-29T11:45:00.883Z"
   },
   {
    "duration": 26,
    "start_time": "2021-09-29T11:45:02.538Z"
   },
   {
    "duration": 15614,
    "start_time": "2021-09-29T11:45:02.566Z"
   },
   {
    "duration": 716,
    "start_time": "2021-09-29T11:45:18.182Z"
   },
   {
    "duration": 1351,
    "start_time": "2021-09-29T11:45:18.900Z"
   },
   {
    "duration": 1134,
    "start_time": "2021-09-29T11:45:20.254Z"
   },
   {
    "duration": 1427,
    "start_time": "2021-09-29T11:45:21.390Z"
   },
   {
    "duration": 16,
    "start_time": "2021-09-29T11:45:22.820Z"
   },
   {
    "duration": 26,
    "start_time": "2021-09-29T11:45:22.839Z"
   },
   {
    "duration": 1207,
    "start_time": "2021-09-29T11:45:22.867Z"
   },
   {
    "duration": 1185,
    "start_time": "2021-09-29T11:45:24.076Z"
   },
   {
    "duration": 431,
    "start_time": "2021-09-29T11:45:25.264Z"
   },
   {
    "duration": 287,
    "start_time": "2021-09-29T11:47:32.030Z"
   },
   {
    "duration": 240,
    "start_time": "2021-09-29T11:47:37.573Z"
   },
   {
    "duration": 183,
    "start_time": "2021-09-29T11:47:41.715Z"
   },
   {
    "duration": 296,
    "start_time": "2021-09-29T11:47:45.113Z"
   },
   {
    "duration": 7138,
    "start_time": "2021-09-29T11:48:30.890Z"
   },
   {
    "duration": 9322,
    "start_time": "2021-09-29T11:48:58.260Z"
   },
   {
    "duration": 24402,
    "start_time": "2021-09-29T11:50:26.953Z"
   },
   {
    "duration": 17860,
    "start_time": "2021-09-29T11:51:01.466Z"
   },
   {
    "duration": 27456,
    "start_time": "2021-09-29T11:51:44.518Z"
   },
   {
    "duration": 222,
    "start_time": "2021-09-29T11:53:13.850Z"
   },
   {
    "duration": 1032,
    "start_time": "2021-09-29T11:53:33.879Z"
   },
   {
    "duration": 1771,
    "start_time": "2021-09-29T11:53:55.287Z"
   },
   {
    "duration": 1113,
    "start_time": "2021-09-29T11:54:46.130Z"
   },
   {
    "duration": 1014,
    "start_time": "2021-09-29T11:54:52.640Z"
   },
   {
    "duration": 1756,
    "start_time": "2021-09-29T11:55:13.462Z"
   },
   {
    "duration": 1771,
    "start_time": "2021-09-29T11:56:09.600Z"
   },
   {
    "duration": 1830,
    "start_time": "2021-09-29T11:57:00.699Z"
   },
   {
    "duration": 940,
    "start_time": "2021-09-29T12:00:49.611Z"
   },
   {
    "duration": 955,
    "start_time": "2021-09-29T12:00:54.855Z"
   },
   {
    "duration": 1055,
    "start_time": "2021-09-29T12:00:59.302Z"
   },
   {
    "duration": 926,
    "start_time": "2021-09-29T12:01:06.161Z"
   },
   {
    "duration": 901,
    "start_time": "2021-09-29T12:01:09.646Z"
   },
   {
    "duration": 1035,
    "start_time": "2021-09-29T12:01:16.213Z"
   },
   {
    "duration": 933,
    "start_time": "2021-09-29T12:01:20.904Z"
   },
   {
    "duration": 1762,
    "start_time": "2021-09-29T12:01:46.751Z"
   },
   {
    "duration": 23,
    "start_time": "2021-09-29T12:01:48.516Z"
   },
   {
    "duration": 52,
    "start_time": "2021-09-29T12:01:48.543Z"
   },
   {
    "duration": 16,
    "start_time": "2021-09-29T12:01:48.599Z"
   },
   {
    "duration": 17,
    "start_time": "2021-09-29T12:01:48.619Z"
   },
   {
    "duration": 48,
    "start_time": "2021-09-29T12:01:48.639Z"
   },
   {
    "duration": 14,
    "start_time": "2021-09-29T12:01:48.689Z"
   },
   {
    "duration": 17,
    "start_time": "2021-09-29T12:01:48.707Z"
   },
   {
    "duration": 55,
    "start_time": "2021-09-29T12:01:48.728Z"
   },
   {
    "duration": 640,
    "start_time": "2021-09-29T12:01:48.786Z"
   },
   {
    "duration": 641,
    "start_time": "2021-09-29T12:01:49.429Z"
   },
   {
    "duration": 50,
    "start_time": "2021-09-29T12:01:50.073Z"
   },
   {
    "duration": 70,
    "start_time": "2021-09-29T12:01:50.126Z"
   },
   {
    "duration": 19,
    "start_time": "2021-09-29T12:01:50.199Z"
   },
   {
    "duration": 100,
    "start_time": "2021-09-29T12:01:50.221Z"
   },
   {
    "duration": 61,
    "start_time": "2021-09-29T12:01:50.324Z"
   },
   {
    "duration": 25,
    "start_time": "2021-09-29T12:01:50.388Z"
   },
   {
    "duration": 13,
    "start_time": "2021-09-29T12:01:50.415Z"
   },
   {
    "duration": 53,
    "start_time": "2021-09-29T12:01:50.430Z"
   },
   {
    "duration": 16,
    "start_time": "2021-09-29T12:01:50.486Z"
   },
   {
    "duration": 17,
    "start_time": "2021-09-29T12:01:50.505Z"
   },
   {
    "duration": 67,
    "start_time": "2021-09-29T12:01:50.524Z"
   },
   {
    "duration": 8,
    "start_time": "2021-09-29T12:01:50.600Z"
   },
   {
    "duration": 94,
    "start_time": "2021-09-29T12:01:50.613Z"
   },
   {
    "duration": 26005,
    "start_time": "2021-09-29T12:01:50.710Z"
   },
   {
    "duration": 26335,
    "start_time": "2021-09-29T12:02:16.718Z"
   },
   {
    "duration": 9569,
    "start_time": "2021-09-29T12:02:43.056Z"
   },
   {
    "duration": 13541,
    "start_time": "2021-09-29T12:02:52.627Z"
   },
   {
    "duration": 794,
    "start_time": "2021-09-29T12:03:06.171Z"
   },
   {
    "duration": 121,
    "start_time": "2021-09-29T12:03:06.968Z"
   },
   {
    "duration": 1058,
    "start_time": "2021-09-29T12:03:07.092Z"
   },
   {
    "duration": 231,
    "start_time": "2021-09-29T12:03:08.152Z"
   },
   {
    "duration": 99,
    "start_time": "2021-09-29T12:03:08.386Z"
   },
   {
    "duration": 2021,
    "start_time": "2021-09-29T12:03:08.490Z"
   },
   {
    "duration": 26,
    "start_time": "2021-09-29T12:03:10.514Z"
   },
   {
    "duration": 20883,
    "start_time": "2021-09-29T12:03:10.543Z"
   },
   {
    "duration": 809,
    "start_time": "2021-09-29T12:03:31.429Z"
   },
   {
    "duration": 1927,
    "start_time": "2021-09-29T12:03:32.241Z"
   },
   {
    "duration": 1685,
    "start_time": "2021-09-29T12:03:34.171Z"
   },
   {
    "duration": 931,
    "start_time": "2021-09-29T12:03:35.859Z"
   },
   {
    "duration": 1583,
    "start_time": "2021-09-29T12:03:36.793Z"
   },
   {
    "duration": 20,
    "start_time": "2021-09-29T12:03:38.378Z"
   },
   {
    "duration": 7,
    "start_time": "2021-09-29T12:03:38.401Z"
   },
   {
    "duration": 1260,
    "start_time": "2021-09-29T12:03:38.411Z"
   },
   {
    "duration": 1265,
    "start_time": "2021-09-29T12:03:39.673Z"
   },
   {
    "duration": 427,
    "start_time": "2021-09-29T12:03:40.941Z"
   },
   {
    "duration": 160,
    "start_time": "2021-09-29T12:06:10.620Z"
   },
   {
    "duration": 18,
    "start_time": "2021-09-29T12:06:20.008Z"
   },
   {
    "duration": 8,
    "start_time": "2021-09-29T12:06:27.284Z"
   },
   {
    "duration": 1205,
    "start_time": "2021-09-29T12:07:17.859Z"
   },
   {
    "duration": 1228,
    "start_time": "2021-09-29T12:08:06.275Z"
   },
   {
    "duration": 461,
    "start_time": "2021-09-29T12:08:33.733Z"
   },
   {
    "duration": 1702,
    "start_time": "2021-09-29T12:08:42.579Z"
   },
   {
    "duration": 20,
    "start_time": "2021-09-29T12:08:44.283Z"
   },
   {
    "duration": 22,
    "start_time": "2021-09-29T12:08:44.306Z"
   },
   {
    "duration": 13,
    "start_time": "2021-09-29T12:08:44.332Z"
   },
   {
    "duration": 12,
    "start_time": "2021-09-29T12:08:44.383Z"
   },
   {
    "duration": 16,
    "start_time": "2021-09-29T12:08:44.398Z"
   },
   {
    "duration": 11,
    "start_time": "2021-09-29T12:08:44.417Z"
   },
   {
    "duration": 12,
    "start_time": "2021-09-29T12:08:44.430Z"
   },
   {
    "duration": 8,
    "start_time": "2021-09-29T12:08:44.482Z"
   },
   {
    "duration": 569,
    "start_time": "2021-09-29T12:08:44.493Z"
   },
   {
    "duration": 586,
    "start_time": "2021-09-29T12:08:45.064Z"
   },
   {
    "duration": 58,
    "start_time": "2021-09-29T12:08:45.653Z"
   },
   {
    "duration": 37,
    "start_time": "2021-09-29T12:08:45.714Z"
   },
   {
    "duration": 36,
    "start_time": "2021-09-29T12:08:45.753Z"
   },
   {
    "duration": 33,
    "start_time": "2021-09-29T12:08:45.792Z"
   },
   {
    "duration": 14,
    "start_time": "2021-09-29T12:08:45.827Z"
   },
   {
    "duration": 49,
    "start_time": "2021-09-29T12:08:45.843Z"
   },
   {
    "duration": 15,
    "start_time": "2021-09-29T12:08:45.895Z"
   },
   {
    "duration": 41,
    "start_time": "2021-09-29T12:08:45.913Z"
   },
   {
    "duration": 38,
    "start_time": "2021-09-29T12:08:45.957Z"
   },
   {
    "duration": 22,
    "start_time": "2021-09-29T12:08:45.998Z"
   },
   {
    "duration": 18,
    "start_time": "2021-09-29T12:08:46.022Z"
   },
   {
    "duration": 41,
    "start_time": "2021-09-29T12:08:46.042Z"
   },
   {
    "duration": 23,
    "start_time": "2021-09-29T12:08:46.086Z"
   },
   {
    "duration": 27176,
    "start_time": "2021-09-29T12:08:46.112Z"
   },
   {
    "duration": 27582,
    "start_time": "2021-09-29T12:09:13.292Z"
   },
   {
    "duration": 10062,
    "start_time": "2021-09-29T12:09:40.879Z"
   },
   {
    "duration": 13496,
    "start_time": "2021-09-29T12:09:50.944Z"
   },
   {
    "duration": 779,
    "start_time": "2021-09-29T12:10:04.443Z"
   },
   {
    "duration": 73,
    "start_time": "2021-09-29T12:10:05.225Z"
   },
   {
    "duration": 1069,
    "start_time": "2021-09-29T12:10:05.384Z"
   },
   {
    "duration": 229,
    "start_time": "2021-09-29T12:10:06.456Z"
   },
   {
    "duration": 103,
    "start_time": "2021-09-29T12:10:06.688Z"
   },
   {
    "duration": 1915,
    "start_time": "2021-09-29T12:10:06.796Z"
   },
   {
    "duration": 21,
    "start_time": "2021-09-29T12:10:08.714Z"
   },
   {
    "duration": 20757,
    "start_time": "2021-09-29T12:10:08.738Z"
   },
   {
    "duration": 767,
    "start_time": "2021-09-29T12:10:29.498Z"
   },
   {
    "duration": 1769,
    "start_time": "2021-09-29T12:10:30.268Z"
   },
   {
    "duration": 1705,
    "start_time": "2021-09-29T12:10:32.040Z"
   },
   {
    "duration": 1035,
    "start_time": "2021-09-29T12:10:33.748Z"
   },
   {
    "duration": 1469,
    "start_time": "2021-09-29T12:10:34.790Z"
   },
   {
    "duration": 30,
    "start_time": "2021-09-29T12:10:36.262Z"
   },
   {
    "duration": 6,
    "start_time": "2021-09-29T12:10:36.295Z"
   },
   {
    "duration": 1259,
    "start_time": "2021-09-29T12:10:36.304Z"
   },
   {
    "duration": 1702,
    "start_time": "2021-09-29T12:10:37.566Z"
   },
   {
    "duration": 93,
    "start_time": "2021-09-29T12:10:39.178Z"
   },
   {
    "duration": 1435,
    "start_time": "2021-09-29T12:13:43.713Z"
   },
   {
    "duration": 451,
    "start_time": "2021-09-29T12:13:50.548Z"
   },
   {
    "duration": 22,
    "start_time": "2021-09-29T12:15:11.122Z"
   },
   {
    "duration": 20640,
    "start_time": "2021-09-29T12:15:12.574Z"
   },
   {
    "duration": 1379,
    "start_time": "2021-09-29T12:15:59.186Z"
   },
   {
    "duration": 1368,
    "start_time": "2021-09-29T12:16:04.685Z"
   },
   {
    "duration": 1193,
    "start_time": "2021-09-29T12:16:13.766Z"
   },
   {
    "duration": 1458,
    "start_time": "2021-09-29T12:16:27.104Z"
   },
   {
    "duration": 1322,
    "start_time": "2021-09-29T12:16:31.652Z"
   },
   {
    "duration": 1605,
    "start_time": "2021-09-29T12:18:37.536Z"
   },
   {
    "duration": 1363,
    "start_time": "2021-09-29T12:18:42.745Z"
   },
   {
    "duration": 1182,
    "start_time": "2021-09-29T12:18:48.734Z"
   },
   {
    "duration": 1000,
    "start_time": "2021-09-29T12:18:54.025Z"
   },
   {
    "duration": 1059,
    "start_time": "2021-09-29T12:18:59.029Z"
   },
   {
    "duration": 931,
    "start_time": "2021-09-29T12:19:03.169Z"
   },
   {
    "duration": 1086,
    "start_time": "2021-09-29T12:19:08.762Z"
   },
   {
    "duration": 1121,
    "start_time": "2021-09-29T12:19:13.152Z"
   },
   {
    "duration": 128,
    "start_time": "2021-09-29T12:19:53.793Z"
   },
   {
    "duration": 1456,
    "start_time": "2021-09-29T12:19:57.948Z"
   },
   {
    "duration": 1242,
    "start_time": "2021-09-29T12:20:03.956Z"
   },
   {
    "duration": 1917,
    "start_time": "2021-09-29T12:20:48.587Z"
   },
   {
    "duration": 1271,
    "start_time": "2021-09-29T12:20:53.298Z"
   },
   {
    "duration": 1118,
    "start_time": "2021-09-29T12:20:58.987Z"
   },
   {
    "duration": 1094,
    "start_time": "2021-09-29T12:21:04.439Z"
   },
   {
    "duration": 1089,
    "start_time": "2021-09-29T12:21:10.895Z"
   },
   {
    "duration": 1912,
    "start_time": "2021-09-29T12:23:32.039Z"
   },
   {
    "duration": 18,
    "start_time": "2021-09-29T12:23:33.954Z"
   },
   {
    "duration": 24,
    "start_time": "2021-09-29T12:23:33.985Z"
   },
   {
    "duration": 16,
    "start_time": "2021-09-29T12:23:34.013Z"
   },
   {
    "duration": 52,
    "start_time": "2021-09-29T12:23:34.032Z"
   },
   {
    "duration": 20,
    "start_time": "2021-09-29T12:23:34.088Z"
   },
   {
    "duration": 12,
    "start_time": "2021-09-29T12:23:34.112Z"
   },
   {
    "duration": 14,
    "start_time": "2021-09-29T12:23:34.128Z"
   },
   {
    "duration": 9,
    "start_time": "2021-09-29T12:23:34.182Z"
   },
   {
    "duration": 584,
    "start_time": "2021-09-29T12:23:34.194Z"
   },
   {
    "duration": 676,
    "start_time": "2021-09-29T12:23:34.781Z"
   },
   {
    "duration": 62,
    "start_time": "2021-09-29T12:23:35.460Z"
   },
   {
    "duration": 66,
    "start_time": "2021-09-29T12:23:35.525Z"
   },
   {
    "duration": 14,
    "start_time": "2021-09-29T12:23:35.594Z"
   },
   {
    "duration": 30,
    "start_time": "2021-09-29T12:23:35.610Z"
   },
   {
    "duration": 42,
    "start_time": "2021-09-29T12:23:35.642Z"
   },
   {
    "duration": 18,
    "start_time": "2021-09-29T12:23:35.686Z"
   },
   {
    "duration": 12,
    "start_time": "2021-09-29T12:23:35.707Z"
   },
   {
    "duration": 63,
    "start_time": "2021-09-29T12:23:35.721Z"
   },
   {
    "duration": 11,
    "start_time": "2021-09-29T12:23:35.787Z"
   },
   {
    "duration": 24,
    "start_time": "2021-09-29T12:23:35.800Z"
   },
   {
    "duration": 17,
    "start_time": "2021-09-29T12:23:35.827Z"
   },
   {
    "duration": 35,
    "start_time": "2021-09-29T12:23:35.849Z"
   },
   {
    "duration": 34,
    "start_time": "2021-09-29T12:23:35.887Z"
   },
   {
    "duration": 25601,
    "start_time": "2021-09-29T12:23:35.923Z"
   },
   {
    "duration": 25594,
    "start_time": "2021-09-29T12:24:01.526Z"
   },
   {
    "duration": 9028,
    "start_time": "2021-09-29T12:24:27.123Z"
   },
   {
    "duration": 10525,
    "start_time": "2021-09-29T12:24:36.154Z"
   },
   {
    "duration": 774,
    "start_time": "2021-09-29T12:24:46.681Z"
   },
   {
    "duration": 126,
    "start_time": "2021-09-29T12:24:47.458Z"
   },
   {
    "duration": 1085,
    "start_time": "2021-09-29T12:24:47.588Z"
   },
   {
    "duration": 210,
    "start_time": "2021-09-29T12:24:48.683Z"
   },
   {
    "duration": 90,
    "start_time": "2021-09-29T12:24:48.896Z"
   },
   {
    "duration": 1817,
    "start_time": "2021-09-29T12:24:48.990Z"
   },
   {
    "duration": 21,
    "start_time": "2021-09-29T12:24:50.810Z"
   },
   {
    "duration": 15749,
    "start_time": "2021-09-29T12:24:50.833Z"
   },
   {
    "duration": 727,
    "start_time": "2021-09-29T12:25:06.584Z"
   },
   {
    "duration": 1872,
    "start_time": "2021-09-29T12:25:07.314Z"
   },
   {
    "duration": 1124,
    "start_time": "2021-09-29T12:25:09.189Z"
   },
   {
    "duration": 976,
    "start_time": "2021-09-29T12:25:10.315Z"
   },
   {
    "duration": 1503,
    "start_time": "2021-09-29T12:25:11.293Z"
   },
   {
    "duration": 19,
    "start_time": "2021-09-29T12:25:12.798Z"
   },
   {
    "duration": 6,
    "start_time": "2021-09-29T12:25:12.819Z"
   },
   {
    "duration": 1319,
    "start_time": "2021-09-29T12:25:12.827Z"
   },
   {
    "duration": 1167,
    "start_time": "2021-09-29T12:25:14.148Z"
   },
   {
    "duration": 398,
    "start_time": "2021-09-29T12:25:15.318Z"
   },
   {
    "duration": 947,
    "start_time": "2021-09-29T12:28:11.304Z"
   },
   {
    "duration": 913,
    "start_time": "2021-09-29T12:28:15.669Z"
   },
   {
    "duration": 857,
    "start_time": "2021-09-29T12:28:21.063Z"
   },
   {
    "duration": 972,
    "start_time": "2021-09-29T12:28:26.051Z"
   },
   {
    "duration": 927,
    "start_time": "2021-09-29T12:28:30.811Z"
   },
   {
    "duration": 852,
    "start_time": "2021-09-29T12:28:40.145Z"
   },
   {
    "duration": 1278,
    "start_time": "2021-09-29T12:29:04.868Z"
   },
   {
    "duration": 1620,
    "start_time": "2021-09-29T12:29:33.093Z"
   },
   {
    "duration": 2208,
    "start_time": "2021-09-29T12:29:38.681Z"
   },
   {
    "duration": 1130,
    "start_time": "2021-09-29T12:29:44.075Z"
   },
   {
    "duration": 1152,
    "start_time": "2021-09-29T12:29:48.202Z"
   },
   {
    "duration": 1014,
    "start_time": "2021-09-29T12:29:54.234Z"
   },
   {
    "duration": 1065,
    "start_time": "2021-09-29T12:30:01.279Z"
   },
   {
    "duration": 1189,
    "start_time": "2021-09-29T12:30:05.971Z"
   },
   {
    "duration": 1317,
    "start_time": "2021-09-29T12:30:10.501Z"
   },
   {
    "duration": 1203,
    "start_time": "2021-09-29T12:30:15.192Z"
   },
   {
    "duration": 1111,
    "start_time": "2021-09-29T12:30:20.062Z"
   },
   {
    "duration": 1646,
    "start_time": "2021-09-29T12:30:24.068Z"
   },
   {
    "duration": 1288,
    "start_time": "2021-09-29T12:30:36.676Z"
   },
   {
    "duration": 1340,
    "start_time": "2021-09-29T12:30:41.192Z"
   },
   {
    "duration": 1067,
    "start_time": "2021-09-29T12:30:46.947Z"
   },
   {
    "duration": 1091,
    "start_time": "2021-09-29T12:32:29.235Z"
   },
   {
    "duration": 1249,
    "start_time": "2021-09-29T12:32:37.112Z"
   },
   {
    "duration": 1116,
    "start_time": "2021-09-29T12:32:41.816Z"
   },
   {
    "duration": 1139,
    "start_time": "2021-09-29T12:32:45.458Z"
   },
   {
    "duration": 1286,
    "start_time": "2021-09-29T12:32:50.520Z"
   },
   {
    "duration": 1649,
    "start_time": "2021-09-29T12:33:22.266Z"
   },
   {
    "duration": 1711,
    "start_time": "2021-09-29T12:33:26.863Z"
   },
   {
    "duration": 1260,
    "start_time": "2021-09-29T12:33:32.857Z"
   },
   {
    "duration": 931,
    "start_time": "2021-09-29T12:33:38.962Z"
   },
   {
    "duration": 893,
    "start_time": "2021-09-29T12:33:42.750Z"
   },
   {
    "duration": 879,
    "start_time": "2021-09-29T12:33:47.911Z"
   },
   {
    "duration": 1666,
    "start_time": "2021-09-29T12:34:51.066Z"
   },
   {
    "duration": 20,
    "start_time": "2021-09-29T12:34:52.735Z"
   },
   {
    "duration": 44,
    "start_time": "2021-09-29T12:34:52.758Z"
   },
   {
    "duration": 21,
    "start_time": "2021-09-29T12:34:52.805Z"
   },
   {
    "duration": 16,
    "start_time": "2021-09-29T12:34:52.829Z"
   },
   {
    "duration": 43,
    "start_time": "2021-09-29T12:34:52.847Z"
   },
   {
    "duration": 13,
    "start_time": "2021-09-29T12:34:52.893Z"
   },
   {
    "duration": 11,
    "start_time": "2021-09-29T12:34:52.909Z"
   },
   {
    "duration": 11,
    "start_time": "2021-09-29T12:34:52.923Z"
   },
   {
    "duration": 587,
    "start_time": "2021-09-29T12:34:52.937Z"
   },
   {
    "duration": 546,
    "start_time": "2021-09-29T12:34:53.526Z"
   },
   {
    "duration": 41,
    "start_time": "2021-09-29T12:34:54.083Z"
   },
   {
    "duration": 35,
    "start_time": "2021-09-29T12:34:54.126Z"
   },
   {
    "duration": 13,
    "start_time": "2021-09-29T12:34:54.183Z"
   },
   {
    "duration": 29,
    "start_time": "2021-09-29T12:34:54.198Z"
   },
   {
    "duration": 12,
    "start_time": "2021-09-29T12:34:54.229Z"
   },
   {
    "duration": 51,
    "start_time": "2021-09-29T12:34:54.244Z"
   },
   {
    "duration": 14,
    "start_time": "2021-09-29T12:34:54.297Z"
   },
   {
    "duration": 37,
    "start_time": "2021-09-29T12:34:54.314Z"
   },
   {
    "duration": 39,
    "start_time": "2021-09-29T12:34:54.353Z"
   },
   {
    "duration": 19,
    "start_time": "2021-09-29T12:34:54.395Z"
   },
   {
    "duration": 15,
    "start_time": "2021-09-29T12:34:54.416Z"
   },
   {
    "duration": 5,
    "start_time": "2021-09-29T12:34:54.436Z"
   },
   {
    "duration": 27,
    "start_time": "2021-09-29T12:34:54.483Z"
   },
   {
    "duration": 24085,
    "start_time": "2021-09-29T12:34:54.513Z"
   },
   {
    "duration": 26262,
    "start_time": "2021-09-29T12:35:18.600Z"
   },
   {
    "duration": 9158,
    "start_time": "2021-09-29T12:35:44.866Z"
   },
   {
    "duration": 10475,
    "start_time": "2021-09-29T12:35:54.028Z"
   },
   {
    "duration": 779,
    "start_time": "2021-09-29T12:36:04.506Z"
   },
   {
    "duration": 98,
    "start_time": "2021-09-29T12:36:05.288Z"
   },
   {
    "duration": 1155,
    "start_time": "2021-09-29T12:36:05.389Z"
   },
   {
    "duration": 214,
    "start_time": "2021-09-29T12:36:06.546Z"
   },
   {
    "duration": 125,
    "start_time": "2021-09-29T12:36:06.763Z"
   },
   {
    "duration": 1987,
    "start_time": "2021-09-29T12:36:06.891Z"
   },
   {
    "duration": 24,
    "start_time": "2021-09-29T12:36:08.881Z"
   },
   {
    "duration": 18041,
    "start_time": "2021-09-29T12:36:08.908Z"
   },
   {
    "duration": 784,
    "start_time": "2021-09-29T12:36:26.951Z"
   },
   {
    "duration": 1954,
    "start_time": "2021-09-29T12:36:27.738Z"
   },
   {
    "duration": 1154,
    "start_time": "2021-09-29T12:36:29.695Z"
   },
   {
    "duration": 904,
    "start_time": "2021-09-29T12:36:30.851Z"
   },
   {
    "duration": 1596,
    "start_time": "2021-09-29T12:36:31.758Z"
   },
   {
    "duration": 32,
    "start_time": "2021-09-29T12:36:33.357Z"
   },
   {
    "duration": 13,
    "start_time": "2021-09-29T12:36:33.391Z"
   },
   {
    "duration": 1286,
    "start_time": "2021-09-29T12:36:33.406Z"
   },
   {
    "duration": 1296,
    "start_time": "2021-09-29T12:36:34.694Z"
   },
   {
    "duration": 510,
    "start_time": "2021-09-29T12:36:35.992Z"
   },
   {
    "duration": 14309,
    "start_time": "2021-09-29T12:42:41.778Z"
   },
   {
    "duration": 82,
    "start_time": "2021-09-29T12:43:19.419Z"
   },
   {
    "duration": 802,
    "start_time": "2021-09-29T12:43:47.837Z"
   },
   {
    "duration": 1284,
    "start_time": "2021-09-29T12:44:20.330Z"
   },
   {
    "duration": 524,
    "start_time": "2021-09-29T12:46:29.327Z"
   },
   {
    "duration": 1228,
    "start_time": "2021-09-29T12:46:49.935Z"
   },
   {
    "duration": 1702,
    "start_time": "2021-09-29T12:47:39.411Z"
   },
   {
    "duration": 1645,
    "start_time": "2021-09-29T12:47:46.277Z"
   },
   {
    "duration": 1687,
    "start_time": "2021-09-29T12:48:14.426Z"
   },
   {
    "duration": 18,
    "start_time": "2021-09-29T12:48:16.116Z"
   },
   {
    "duration": 45,
    "start_time": "2021-09-29T12:48:16.140Z"
   },
   {
    "duration": 13,
    "start_time": "2021-09-29T12:48:16.187Z"
   },
   {
    "duration": 15,
    "start_time": "2021-09-29T12:48:16.202Z"
   },
   {
    "duration": 11,
    "start_time": "2021-09-29T12:48:16.220Z"
   },
   {
    "duration": 54,
    "start_time": "2021-09-29T12:48:16.233Z"
   },
   {
    "duration": 11,
    "start_time": "2021-09-29T12:48:16.291Z"
   },
   {
    "duration": 9,
    "start_time": "2021-09-29T12:48:16.305Z"
   },
   {
    "duration": 577,
    "start_time": "2021-09-29T12:48:16.317Z"
   },
   {
    "duration": 569,
    "start_time": "2021-09-29T12:48:16.896Z"
   },
   {
    "duration": 50,
    "start_time": "2021-09-29T12:48:17.467Z"
   },
   {
    "duration": 36,
    "start_time": "2021-09-29T12:48:17.519Z"
   },
   {
    "duration": 34,
    "start_time": "2021-09-29T12:48:17.558Z"
   },
   {
    "duration": 28,
    "start_time": "2021-09-29T12:48:17.595Z"
   },
   {
    "duration": 13,
    "start_time": "2021-09-29T12:48:17.626Z"
   },
   {
    "duration": 55,
    "start_time": "2021-09-29T12:48:17.642Z"
   },
   {
    "duration": 19,
    "start_time": "2021-09-29T12:48:17.700Z"
   },
   {
    "duration": 70,
    "start_time": "2021-09-29T12:48:17.722Z"
   },
   {
    "duration": 14,
    "start_time": "2021-09-29T12:48:17.795Z"
   },
   {
    "duration": 19,
    "start_time": "2021-09-29T12:48:17.812Z"
   },
   {
    "duration": 55,
    "start_time": "2021-09-29T12:48:17.834Z"
   },
   {
    "duration": 7,
    "start_time": "2021-09-29T12:48:17.892Z"
   },
   {
    "duration": 33,
    "start_time": "2021-09-29T12:48:17.902Z"
   },
   {
    "duration": 24168,
    "start_time": "2021-09-29T12:48:17.938Z"
   },
   {
    "duration": 26129,
    "start_time": "2021-09-29T12:48:42.111Z"
   },
   {
    "duration": 14182,
    "start_time": "2021-09-29T12:49:08.243Z"
   },
   {
    "duration": 11033,
    "start_time": "2021-09-29T12:49:22.427Z"
   },
   {
    "duration": 553,
    "start_time": "2021-09-29T12:49:33.462Z"
   },
   {
    "duration": 77,
    "start_time": "2021-09-29T12:49:34.018Z"
   },
   {
    "duration": 1072,
    "start_time": "2021-09-29T12:49:34.185Z"
   },
   {
    "duration": 80,
    "start_time": "2021-09-29T12:49:35.268Z"
   },
   {
    "duration": 72,
    "start_time": "2021-09-29T12:49:35.350Z"
   },
   {
    "duration": 1760,
    "start_time": "2021-09-29T12:49:35.485Z"
   },
   {
    "duration": 40,
    "start_time": "2021-09-29T12:49:37.248Z"
   },
   {
    "duration": 15348,
    "start_time": "2021-09-29T12:49:37.291Z"
   },
   {
    "duration": 737,
    "start_time": "2021-09-29T12:49:52.642Z"
   },
   {
    "duration": 1561,
    "start_time": "2021-09-29T12:49:53.383Z"
   },
   {
    "duration": 1305,
    "start_time": "2021-09-29T12:49:54.947Z"
   },
   {
    "duration": 804,
    "start_time": "2021-09-29T12:49:56.255Z"
   },
   {
    "duration": 1231,
    "start_time": "2021-09-29T12:49:57.062Z"
   },
   {
    "duration": 18,
    "start_time": "2021-09-29T12:49:58.296Z"
   },
   {
    "duration": 7,
    "start_time": "2021-09-29T12:49:58.316Z"
   },
   {
    "duration": 1247,
    "start_time": "2021-09-29T12:49:58.325Z"
   },
   {
    "duration": 1177,
    "start_time": "2021-09-29T12:49:59.575Z"
   },
   {
    "duration": 404,
    "start_time": "2021-09-29T12:50:00.754Z"
   }
  ],
  "kernelspec": {
   "display_name": "Python 3",
   "language": "python",
   "name": "python3"
  },
  "language_info": {
   "codemirror_mode": {
    "name": "ipython",
    "version": 3
   },
   "file_extension": ".py",
   "mimetype": "text/x-python",
   "name": "python",
   "nbconvert_exporter": "python",
   "pygments_lexer": "ipython3",
   "version": "3.8.5"
  },
  "toc": {
   "base_numbering": 1,
   "nav_menu": {},
   "number_sections": true,
   "sideBar": true,
   "skip_h1_title": true,
   "title_cell": "Table of Contents",
   "title_sidebar": "Contents",
   "toc_cell": false,
   "toc_position": {},
   "toc_section_display": true,
   "toc_window_display": false
  }
 },
 "nbformat": 4,
 "nbformat_minor": 2
}
